{
 "cells": [
  {
   "cell_type": "markdown",
   "metadata": {},
   "source": [
    "# Определение стоимости автомобилей"
   ]
  },
  {
   "cell_type": "markdown",
   "metadata": {},
   "source": [
    "Сервис по продаже автомобилей с пробегом «Не бит, не крашен» разрабатывает приложение для привлечения новых клиентов. В нём можно быстро узнать рыночную стоимость своего автомобиля. В вашем распоряжении исторические данные: технические характеристики, комплектации и цены автомобилей. Вам нужно построить модель для определения стоимости. \n",
    "\n",
    "Заказчику важны:\n",
    "\n",
    "- качество предсказания;\n",
    "- скорость предсказания;\n",
    "- время обучения."
   ]
  },
  {
   "cell_type": "code",
   "execution_count": 1,
   "metadata": {},
   "outputs": [],
   "source": [
    "# блок импорта\n",
    "from datetime import datetime\n",
    "import matplotlib.pyplot as plt\n",
    "import os\n",
    "import time\n",
    "import timeit\n",
    "\n",
    "from catboost import Pool, CatBoostRegressor\n",
    "from lightgbm import LGBMRegressor\n",
    "\n",
    "import numpy as np\n",
    "\n",
    "import pandas as pd\n",
    "\n",
    "from sklearn import svm\n",
    "from sklearn.ensemble import AdaBoostRegressor, BaggingRegressor, GradientBoostingRegressor, RandomForestRegressor\n",
    "from sklearn.linear_model import LinearRegression, RidgeCV\n",
    "from sklearn.model_selection import cross_val_score, GridSearchCV, train_test_split\n",
    "from sklearn.metrics import make_scorer, mean_squared_error\n",
    "from sklearn.preprocessing import OrdinalEncoder, StandardScaler\n",
    "from sklearn.svm import SVC\n",
    "from sklearn.tree import DecisionTreeRegressor, ExtraTreeRegressor"
   ]
  },
  {
   "cell_type": "markdown",
   "metadata": {},
   "source": [
    "## Подготовка данных"
   ]
  },
  {
   "cell_type": "markdown",
   "metadata": {},
   "source": [
    "### Чтение и первичный анализ данных"
   ]
  },
  {
   "cell_type": "code",
   "execution_count": 2,
   "metadata": {},
   "outputs": [
    {
     "name": "stdout",
     "output_type": "stream",
     "text": [
      "True\n"
     ]
    }
   ],
   "source": [
    "# получение информации по наличию директории и файла по указанным адресам\n",
    "print('datasets' in os.listdir(path='/') and 'autos.csv' in os.listdir(path='/datasets/'))"
   ]
  },
  {
   "cell_type": "code",
   "execution_count": 3,
   "metadata": {},
   "outputs": [
    {
     "data": {
      "text/html": [
       "<div>\n",
       "<style scoped>\n",
       "    .dataframe tbody tr th:only-of-type {\n",
       "        vertical-align: middle;\n",
       "    }\n",
       "\n",
       "    .dataframe tbody tr th {\n",
       "        vertical-align: top;\n",
       "    }\n",
       "\n",
       "    .dataframe thead th {\n",
       "        text-align: right;\n",
       "    }\n",
       "</style>\n",
       "<table border=\"1\" class=\"dataframe\">\n",
       "  <thead>\n",
       "    <tr style=\"text-align: right;\">\n",
       "      <th></th>\n",
       "      <th>DateCrawled</th>\n",
       "      <th>Price</th>\n",
       "      <th>VehicleType</th>\n",
       "      <th>RegistrationYear</th>\n",
       "      <th>Gearbox</th>\n",
       "      <th>Power</th>\n",
       "      <th>Model</th>\n",
       "      <th>Kilometer</th>\n",
       "      <th>RegistrationMonth</th>\n",
       "      <th>FuelType</th>\n",
       "      <th>Brand</th>\n",
       "      <th>NotRepaired</th>\n",
       "      <th>DateCreated</th>\n",
       "      <th>NumberOfPictures</th>\n",
       "      <th>PostalCode</th>\n",
       "      <th>LastSeen</th>\n",
       "    </tr>\n",
       "  </thead>\n",
       "  <tbody>\n",
       "    <tr>\n",
       "      <th>0</th>\n",
       "      <td>2016-03-24 11:52:17</td>\n",
       "      <td>480</td>\n",
       "      <td>NaN</td>\n",
       "      <td>1993</td>\n",
       "      <td>manual</td>\n",
       "      <td>0</td>\n",
       "      <td>golf</td>\n",
       "      <td>150000</td>\n",
       "      <td>0</td>\n",
       "      <td>petrol</td>\n",
       "      <td>volkswagen</td>\n",
       "      <td>NaN</td>\n",
       "      <td>2016-03-24</td>\n",
       "      <td>0</td>\n",
       "      <td>70435</td>\n",
       "      <td>2016-04-07 03:16:57</td>\n",
       "    </tr>\n",
       "    <tr>\n",
       "      <th>1</th>\n",
       "      <td>2016-03-24 10:58:45</td>\n",
       "      <td>18300</td>\n",
       "      <td>coupe</td>\n",
       "      <td>2011</td>\n",
       "      <td>manual</td>\n",
       "      <td>190</td>\n",
       "      <td>NaN</td>\n",
       "      <td>125000</td>\n",
       "      <td>5</td>\n",
       "      <td>gasoline</td>\n",
       "      <td>audi</td>\n",
       "      <td>yes</td>\n",
       "      <td>2016-03-24</td>\n",
       "      <td>0</td>\n",
       "      <td>66954</td>\n",
       "      <td>2016-04-07 01:46:50</td>\n",
       "    </tr>\n",
       "    <tr>\n",
       "      <th>2</th>\n",
       "      <td>2016-03-14 12:52:21</td>\n",
       "      <td>9800</td>\n",
       "      <td>suv</td>\n",
       "      <td>2004</td>\n",
       "      <td>auto</td>\n",
       "      <td>163</td>\n",
       "      <td>grand</td>\n",
       "      <td>125000</td>\n",
       "      <td>8</td>\n",
       "      <td>gasoline</td>\n",
       "      <td>jeep</td>\n",
       "      <td>NaN</td>\n",
       "      <td>2016-03-14</td>\n",
       "      <td>0</td>\n",
       "      <td>90480</td>\n",
       "      <td>2016-04-05 12:47:46</td>\n",
       "    </tr>\n",
       "    <tr>\n",
       "      <th>3</th>\n",
       "      <td>2016-03-17 16:54:04</td>\n",
       "      <td>1500</td>\n",
       "      <td>small</td>\n",
       "      <td>2001</td>\n",
       "      <td>manual</td>\n",
       "      <td>75</td>\n",
       "      <td>golf</td>\n",
       "      <td>150000</td>\n",
       "      <td>6</td>\n",
       "      <td>petrol</td>\n",
       "      <td>volkswagen</td>\n",
       "      <td>no</td>\n",
       "      <td>2016-03-17</td>\n",
       "      <td>0</td>\n",
       "      <td>91074</td>\n",
       "      <td>2016-03-17 17:40:17</td>\n",
       "    </tr>\n",
       "    <tr>\n",
       "      <th>4</th>\n",
       "      <td>2016-03-31 17:25:20</td>\n",
       "      <td>3600</td>\n",
       "      <td>small</td>\n",
       "      <td>2008</td>\n",
       "      <td>manual</td>\n",
       "      <td>69</td>\n",
       "      <td>fabia</td>\n",
       "      <td>90000</td>\n",
       "      <td>7</td>\n",
       "      <td>gasoline</td>\n",
       "      <td>skoda</td>\n",
       "      <td>no</td>\n",
       "      <td>2016-03-31</td>\n",
       "      <td>0</td>\n",
       "      <td>60437</td>\n",
       "      <td>2016-04-06 10:17:21</td>\n",
       "    </tr>\n",
       "  </tbody>\n",
       "</table>\n",
       "</div>"
      ],
      "text/plain": [
       "          DateCrawled  Price VehicleType  RegistrationYear Gearbox  Power  \\\n",
       "0 2016-03-24 11:52:17    480         NaN              1993  manual      0   \n",
       "1 2016-03-24 10:58:45  18300       coupe              2011  manual    190   \n",
       "2 2016-03-14 12:52:21   9800         suv              2004    auto    163   \n",
       "3 2016-03-17 16:54:04   1500       small              2001  manual     75   \n",
       "4 2016-03-31 17:25:20   3600       small              2008  manual     69   \n",
       "\n",
       "   Model  Kilometer  RegistrationMonth  FuelType       Brand NotRepaired  \\\n",
       "0   golf     150000                  0    petrol  volkswagen         NaN   \n",
       "1    NaN     125000                  5  gasoline        audi         yes   \n",
       "2  grand     125000                  8  gasoline        jeep         NaN   \n",
       "3   golf     150000                  6    petrol  volkswagen          no   \n",
       "4  fabia      90000                  7  gasoline       skoda          no   \n",
       "\n",
       "  DateCreated  NumberOfPictures  PostalCode            LastSeen  \n",
       "0  2016-03-24                 0       70435 2016-04-07 03:16:57  \n",
       "1  2016-03-24                 0       66954 2016-04-07 01:46:50  \n",
       "2  2016-03-14                 0       90480 2016-04-05 12:47:46  \n",
       "3  2016-03-17                 0       91074 2016-03-17 17:40:17  \n",
       "4  2016-03-31                 0       60437 2016-04-06 10:17:21  "
      ]
     },
     "metadata": {},
     "output_type": "display_data"
    }
   ],
   "source": [
    "# чтение данных и получение информации по датасету в общем виде\n",
    "try:\n",
    "    data = pd.read_csv('/datasets/autos.csv', parse_dates=['DateCrawled', 'DateCreated', 'LastSeen'])\n",
    "    display(data.head())\n",
    "except Exception as FileNotFoundError:\n",
    "    print('Файл не найден')"
   ]
  },
  {
   "cell_type": "code",
   "execution_count": 4,
   "metadata": {},
   "outputs": [
    {
     "name": "stdout",
     "output_type": "stream",
     "text": [
      "<class 'pandas.core.frame.DataFrame'>\n",
      "RangeIndex: 354369 entries, 0 to 354368\n",
      "Data columns (total 16 columns):\n",
      " #   Column             Non-Null Count   Dtype         \n",
      "---  ------             --------------   -----         \n",
      " 0   DateCrawled        354369 non-null  datetime64[ns]\n",
      " 1   Price              354369 non-null  int64         \n",
      " 2   VehicleType        316879 non-null  object        \n",
      " 3   RegistrationYear   354369 non-null  int64         \n",
      " 4   Gearbox            334536 non-null  object        \n",
      " 5   Power              354369 non-null  int64         \n",
      " 6   Model              334664 non-null  object        \n",
      " 7   Kilometer          354369 non-null  int64         \n",
      " 8   RegistrationMonth  354369 non-null  int64         \n",
      " 9   FuelType           321474 non-null  object        \n",
      " 10  Brand              354369 non-null  object        \n",
      " 11  NotRepaired        283215 non-null  object        \n",
      " 12  DateCreated        354369 non-null  datetime64[ns]\n",
      " 13  NumberOfPictures   354369 non-null  int64         \n",
      " 14  PostalCode         354369 non-null  int64         \n",
      " 15  LastSeen           354369 non-null  datetime64[ns]\n",
      "dtypes: datetime64[ns](3), int64(7), object(6)\n",
      "memory usage: 43.3+ MB\n"
     ]
    }
   ],
   "source": [
    "# информация по датасету\n",
    "data.info()"
   ]
  },
  {
   "cell_type": "code",
   "execution_count": 5,
   "metadata": {},
   "outputs": [
    {
     "data": {
      "text/plain": [
       "2016"
      ]
     },
     "execution_count": 5,
     "metadata": {},
     "output_type": "execute_result"
    }
   ],
   "source": [
    "max(data['DateCreated']).year"
   ]
  },
  {
   "cell_type": "markdown",
   "metadata": {},
   "source": [
    "**Вывод по датафрейму:**\n",
    "* Названия признаков сделаны в Camel Style, можно не преобразовывать, пробелов нет, русскоязычных названий нет.\n",
    "* Столбцы с датами при чтении приведены к типу DateTime. Подлежат удалению, т.к. не несут информации об автомобиле, а только об объявлении по продаже\n",
    "* Типы столбцов соответстуют типу информации в них.\n",
    "* Есть пропуски в данных - тип кузова - 'VehicleType', тип коробки передач - 'Gearbox', модель - 'Model', тип топлива - 'FuelType', наличие/отсутствие ремонта - 'NotRepaired'. Все пропущенные данные типа object, т.е. категориальные. Нужно посмотреть по логике задачи, требуется ли заполнение пропусков. \n",
    "* Последнее объявление было создано в 2016 году, т.е. **все даты, начиная с 2017 можно считать выбросами.**"
   ]
  },
  {
   "cell_type": "code",
   "execution_count": 6,
   "metadata": {},
   "outputs": [
    {
     "data": {
      "text/html": [
       "<div>\n",
       "<style scoped>\n",
       "    .dataframe tbody tr th:only-of-type {\n",
       "        vertical-align: middle;\n",
       "    }\n",
       "\n",
       "    .dataframe tbody tr th {\n",
       "        vertical-align: top;\n",
       "    }\n",
       "\n",
       "    .dataframe thead th {\n",
       "        text-align: right;\n",
       "    }\n",
       "</style>\n",
       "<table border=\"1\" class=\"dataframe\">\n",
       "  <thead>\n",
       "    <tr style=\"text-align: right;\">\n",
       "      <th></th>\n",
       "      <th>Price</th>\n",
       "      <th>RegistrationYear</th>\n",
       "      <th>Power</th>\n",
       "      <th>Kilometer</th>\n",
       "      <th>RegistrationMonth</th>\n",
       "      <th>NumberOfPictures</th>\n",
       "      <th>PostalCode</th>\n",
       "    </tr>\n",
       "  </thead>\n",
       "  <tbody>\n",
       "    <tr>\n",
       "      <th>count</th>\n",
       "      <td>354369.000000</td>\n",
       "      <td>354369.000000</td>\n",
       "      <td>354369.000000</td>\n",
       "      <td>354369.000000</td>\n",
       "      <td>354369.000000</td>\n",
       "      <td>354369.0</td>\n",
       "      <td>354369.000000</td>\n",
       "    </tr>\n",
       "    <tr>\n",
       "      <th>mean</th>\n",
       "      <td>4416.656776</td>\n",
       "      <td>2004.234448</td>\n",
       "      <td>110.094337</td>\n",
       "      <td>128211.172535</td>\n",
       "      <td>5.714645</td>\n",
       "      <td>0.0</td>\n",
       "      <td>50508.689087</td>\n",
       "    </tr>\n",
       "    <tr>\n",
       "      <th>std</th>\n",
       "      <td>4514.158514</td>\n",
       "      <td>90.227958</td>\n",
       "      <td>189.850405</td>\n",
       "      <td>37905.341530</td>\n",
       "      <td>3.726421</td>\n",
       "      <td>0.0</td>\n",
       "      <td>25783.096248</td>\n",
       "    </tr>\n",
       "    <tr>\n",
       "      <th>min</th>\n",
       "      <td>0.000000</td>\n",
       "      <td>1000.000000</td>\n",
       "      <td>0.000000</td>\n",
       "      <td>5000.000000</td>\n",
       "      <td>0.000000</td>\n",
       "      <td>0.0</td>\n",
       "      <td>1067.000000</td>\n",
       "    </tr>\n",
       "    <tr>\n",
       "      <th>25%</th>\n",
       "      <td>1050.000000</td>\n",
       "      <td>1999.000000</td>\n",
       "      <td>69.000000</td>\n",
       "      <td>125000.000000</td>\n",
       "      <td>3.000000</td>\n",
       "      <td>0.0</td>\n",
       "      <td>30165.000000</td>\n",
       "    </tr>\n",
       "    <tr>\n",
       "      <th>50%</th>\n",
       "      <td>2700.000000</td>\n",
       "      <td>2003.000000</td>\n",
       "      <td>105.000000</td>\n",
       "      <td>150000.000000</td>\n",
       "      <td>6.000000</td>\n",
       "      <td>0.0</td>\n",
       "      <td>49413.000000</td>\n",
       "    </tr>\n",
       "    <tr>\n",
       "      <th>75%</th>\n",
       "      <td>6400.000000</td>\n",
       "      <td>2008.000000</td>\n",
       "      <td>143.000000</td>\n",
       "      <td>150000.000000</td>\n",
       "      <td>9.000000</td>\n",
       "      <td>0.0</td>\n",
       "      <td>71083.000000</td>\n",
       "    </tr>\n",
       "    <tr>\n",
       "      <th>max</th>\n",
       "      <td>20000.000000</td>\n",
       "      <td>9999.000000</td>\n",
       "      <td>20000.000000</td>\n",
       "      <td>150000.000000</td>\n",
       "      <td>12.000000</td>\n",
       "      <td>0.0</td>\n",
       "      <td>99998.000000</td>\n",
       "    </tr>\n",
       "  </tbody>\n",
       "</table>\n",
       "</div>"
      ],
      "text/plain": [
       "               Price  RegistrationYear          Power      Kilometer  \\\n",
       "count  354369.000000     354369.000000  354369.000000  354369.000000   \n",
       "mean     4416.656776       2004.234448     110.094337  128211.172535   \n",
       "std      4514.158514         90.227958     189.850405   37905.341530   \n",
       "min         0.000000       1000.000000       0.000000    5000.000000   \n",
       "25%      1050.000000       1999.000000      69.000000  125000.000000   \n",
       "50%      2700.000000       2003.000000     105.000000  150000.000000   \n",
       "75%      6400.000000       2008.000000     143.000000  150000.000000   \n",
       "max     20000.000000       9999.000000   20000.000000  150000.000000   \n",
       "\n",
       "       RegistrationMonth  NumberOfPictures     PostalCode  \n",
       "count      354369.000000          354369.0  354369.000000  \n",
       "mean            5.714645               0.0   50508.689087  \n",
       "std             3.726421               0.0   25783.096248  \n",
       "min             0.000000               0.0    1067.000000  \n",
       "25%             3.000000               0.0   30165.000000  \n",
       "50%             6.000000               0.0   49413.000000  \n",
       "75%             9.000000               0.0   71083.000000  \n",
       "max            12.000000               0.0   99998.000000  "
      ]
     },
     "execution_count": 6,
     "metadata": {},
     "output_type": "execute_result"
    }
   ],
   "source": [
    "# сводная таблица по числовым данным для оценки параметров датасета\n",
    "data.describe()"
   ]
  },
  {
   "cell_type": "markdown",
   "metadata": {},
   "source": [
    "**Вывод по числовым данным датасета:**\n",
    "* **Целевой признак - цена в евро**. Среднее значение ценника - 4416,66 евро. Максимальная цена - 20000 евро. Минимальная цена - 0 евро. Медиана - 2700 евро. Стандартное отклонение - 4514 евро, вполне адекватно.\n",
    "* **Год регистрации** - из сводной таблицы ясно, что не все данные адекватны. Минимальное значение - 1000 и максимальное значение - 9999 - за пределами здравого смысла :( Но среднее значение вполне реально - 2004. Медиана - 2003. Стандартное отклонение в 90 лет как раз отражают неадекватность некоторых данных.\n",
    "* **Мощность машин** - средняя составляет 110 лошадиных сил, медианная - 105 лошадиных сил. Минимальное значение = 0, максимальное = 20000 - эти данные наводят на мысль о наличии мусора в датасете. Стандартное отклонение в 189 лашадиных сил подтверждает это.\n",
    "* **Пробег** - среднее значение 128211 км, медианное - 150000 км, причем оно же в третьем квантиле и в максимуме. Наводит на мысль, что при заполнении этого пункта все модели с пробегом от 150000 км отнесены в одну категорию. Минимальное же значение пробега составляет 5000 км, что вполне реально. Среднее отклонение в 37905 км свидетельствует о большом кол-ве авто с небольшим пробегом.\n",
    "* **Месяц регистрации** - чаще всего авто регистрировали в 6 месяце - и среднее значение, и медиана об этом говорят. Но есть минимальное значение 0 :( С максимальным значением все в порядке - 12. Стандартное отклонение - почти 4 месяца - вполне реально на большом кол-ве данных. Проверить влияние на результат, рассмотреть как претендента на удаление.\n",
    "* **Количество фото машины** - по всем фронтам ноль. **Столбец можно без последствий удалять.**\n",
    "* **Почтовый код** - вообще не ясно его назначение. Есть мусор - мин и макс неадекватны. Стандартное отклонение сложно оценить. Проверю корреляцию этого столбца с ценой. Если ее нет, столбец можно удалить."
   ]
  },
  {
   "cell_type": "markdown",
   "metadata": {},
   "source": [
    "### Работа с выбросами"
   ]
  },
  {
   "cell_type": "markdown",
   "metadata": {},
   "source": [
    "**Столбец 'RegistrationYear'**"
   ]
  },
  {
   "cell_type": "code",
   "execution_count": 7,
   "metadata": {},
   "outputs": [
    {
     "data": {
      "text/plain": [
       "count    354369.000000\n",
       "mean       2004.234448\n",
       "std          90.227958\n",
       "min        1000.000000\n",
       "25%        1999.000000\n",
       "50%        2003.000000\n",
       "75%        2008.000000\n",
       "max        9999.000000\n",
       "Name: RegistrationYear, dtype: float64"
      ]
     },
     "execution_count": 7,
     "metadata": {},
     "output_type": "execute_result"
    }
   ],
   "source": [
    "# сводная информация по столбцу 'RegistrationYear'\n",
    "data['RegistrationYear'].describe()"
   ]
  },
  {
   "cell_type": "code",
   "execution_count": 8,
   "metadata": {
    "scrolled": true
   },
   "outputs": [
    {
     "data": {
      "image/png": "[encoded data removed]",
      "text/plain": [
       "<Figure size 360x2160 with 1 Axes>"
      ]
     },
     "metadata": {
      "needs_background": "light"
     },
     "output_type": "display_data"
    }
   ],
   "source": [
    "# визуализация данных по году регистрации - проверка на мусор графиком \"ящик с усами\"\n",
    "plt.ylim(1980, 2020)\n",
    "data['RegistrationYear'].plot(kind='box', figsize=(5, 30))\n",
    "plt.show()"
   ]
  },
  {
   "cell_type": "code",
   "execution_count": 9,
   "metadata": {},
   "outputs": [
    {
     "data": {
      "text/plain": [
       "(19978, 0.05637626316071665)"
      ]
     },
     "execution_count": 9,
     "metadata": {},
     "output_type": "execute_result"
    }
   ],
   "source": [
    "# кол-во мусорных строк по году регистрации авто и их соотношение к размеру датасета\n",
    "x = data.query('RegistrationYear < 1985 or RegistrationYear > 2016')['RegistrationYear'].count()\n",
    "y = len(data)\n",
    "x, x / y"
   ]
  },
  {
   "cell_type": "markdown",
   "metadata": {},
   "source": [
    "Выбросы хорошо видны. Можно считать непригодными для обработки года регистрации до **1985** и от **2017**. Подумать, чем заменить мусорные данные - 19978 строк, которые составляют **5%** от всего датасета. Можно дать медианный год на все пропуски, т.е. 2003. "
   ]
  },
  {
   "cell_type": "code",
   "execution_count": 10,
   "metadata": {},
   "outputs": [
    {
     "data": {
      "text/plain": [
       "count    354369.000000\n",
       "mean       2002.956455\n",
       "std           5.711157\n",
       "min        1985.000000\n",
       "25%        1999.000000\n",
       "50%        2003.000000\n",
       "75%        2007.000000\n",
       "max        2016.000000\n",
       "Name: RegistrationYear, dtype: float64"
      ]
     },
     "execution_count": 10,
     "metadata": {},
     "output_type": "execute_result"
    }
   ],
   "source": [
    "# проверка после обработки выбросов\n",
    "data.loc[(data['RegistrationYear'] < 1985) | (data['RegistrationYear'] > 2016), 'RegistrationYear'] = data['RegistrationYear'].median()\n",
    "data['RegistrationYear'].describe()"
   ]
  },
  {
   "cell_type": "code",
   "execution_count": 11,
   "metadata": {
    "scrolled": true
   },
   "outputs": [
    {
     "data": {
      "image/png": "[encoded data removed]",
      "text/plain": [
       "<Figure size 360x2160 with 1 Axes>"
      ]
     },
     "metadata": {
      "needs_background": "light"
     },
     "output_type": "display_data"
    }
   ],
   "source": [
    "# визуализация данных по году регистрации - проверка на мусор после обработки выбросов\n",
    "plt.ylim(1980, 2017)\n",
    "data['RegistrationYear'].plot(kind='box', figsize=(5, 30))\n",
    "plt.show()"
   ]
  },
  {
   "cell_type": "markdown",
   "metadata": {},
   "source": [
    "**Столбец 'Power'**"
   ]
  },
  {
   "cell_type": "code",
   "execution_count": 12,
   "metadata": {
    "scrolled": true
   },
   "outputs": [
    {
     "data": {
      "image/png": "[encoded data removed]",
      "text/plain": [
       "<Figure size 360x2160 with 1 Axes>"
      ]
     },
     "metadata": {
      "needs_background": "light"
     },
     "output_type": "display_data"
    }
   ],
   "source": [
    "# визуализация данных по мощности авто - проверка на мусор графиком \"ящик с усами\"\n",
    "plt.ylim(-10, 300)\n",
    "data['Power'].plot(kind='box', figsize=(5, 30))\n",
    "plt.show()"
   ]
  },
  {
   "cell_type": "code",
   "execution_count": 13,
   "metadata": {},
   "outputs": [
    {
     "data": {
      "text/plain": [
       "(46964, 0.1325285225287765)"
      ]
     },
     "execution_count": 13,
     "metadata": {},
     "output_type": "execute_result"
    }
   ],
   "source": [
    "# кол-во мусорных строк по мощности авто\n",
    "x = data.query('Power ==0 or Power > 260')['Power'].count()\n",
    "x, x / y"
   ]
  },
  {
   "cell_type": "markdown",
   "metadata": {},
   "source": [
    "В столбце 'Power' мусора гораздо больше - **13%** от всего датасета. Можно посмотреть группировку по бренду и модели, для одинаковых моделей взять медианную мощность."
   ]
  },
  {
   "cell_type": "code",
   "execution_count": 14,
   "metadata": {},
   "outputs": [
    {
     "data": {
      "text/plain": [
       "count    354369.000000\n",
       "mean        112.420528\n",
       "std          39.348640\n",
       "min          30.000000\n",
       "25%          85.000000\n",
       "50%         105.000000\n",
       "75%         140.000000\n",
       "max         230.000000\n",
       "Name: Power, dtype: float64"
      ]
     },
     "execution_count": 14,
     "metadata": {},
     "output_type": "execute_result"
    }
   ],
   "source": [
    "data.loc[((data['Power'] < 30) | (data['Power'] > 230)), 'Power'] = data['Power'].median()\n",
    "data['Power'].describe()"
   ]
  },
  {
   "cell_type": "code",
   "execution_count": 15,
   "metadata": {
    "scrolled": true
   },
   "outputs": [
    {
     "data": {
      "image/png": "[encoded data removed]",
      "text/plain": [
       "<Figure size 360x2160 with 1 Axes>"
      ]
     },
     "metadata": {
      "needs_background": "light"
     },
     "output_type": "display_data"
    }
   ],
   "source": [
    "# визуализация данных по мощности авто - проверка на мусор графиком \"ящик с усами\"\n",
    "plt.ylim(-10, 250)\n",
    "data['Power'].plot(kind='box', figsize=(5, 30))\n",
    "plt.show()"
   ]
  },
  {
   "cell_type": "markdown",
   "metadata": {},
   "source": [
    "### Работа с пропусками"
   ]
  },
  {
   "cell_type": "code",
   "execution_count": 16,
   "metadata": {},
   "outputs": [
    {
     "name": "stdout",
     "output_type": "stream",
     "text": [
      "<class 'pandas.core.frame.DataFrame'>\n",
      "RangeIndex: 354369 entries, 0 to 354368\n",
      "Data columns (total 16 columns):\n",
      " #   Column             Non-Null Count   Dtype         \n",
      "---  ------             --------------   -----         \n",
      " 0   DateCrawled        354369 non-null  datetime64[ns]\n",
      " 1   Price              354369 non-null  int64         \n",
      " 2   VehicleType        316879 non-null  object        \n",
      " 3   RegistrationYear   354369 non-null  float64       \n",
      " 4   Gearbox            334536 non-null  object        \n",
      " 5   Power              354369 non-null  float64       \n",
      " 6   Model              334664 non-null  object        \n",
      " 7   Kilometer          354369 non-null  int64         \n",
      " 8   RegistrationMonth  354369 non-null  int64         \n",
      " 9   FuelType           321474 non-null  object        \n",
      " 10  Brand              354369 non-null  object        \n",
      " 11  NotRepaired        283215 non-null  object        \n",
      " 12  DateCreated        354369 non-null  datetime64[ns]\n",
      " 13  NumberOfPictures   354369 non-null  int64         \n",
      " 14  PostalCode         354369 non-null  int64         \n",
      " 15  LastSeen           354369 non-null  datetime64[ns]\n",
      "dtypes: datetime64[ns](3), float64(2), int64(5), object(6)\n",
      "memory usage: 43.3+ MB\n"
     ]
    }
   ],
   "source": [
    "data.info()"
   ]
  },
  {
   "cell_type": "markdown",
   "metadata": {},
   "source": [
    "Видим пропуски в категориальных данных - 'VehicleType', 'Gearbox', 'Model', 'FuelType'. Посмотрим, можно ли сделать замену на ближайшего соседа. Для этого отсортируем датасет по бренду и модели."
   ]
  },
  {
   "cell_type": "code",
   "execution_count": 17,
   "metadata": {},
   "outputs": [
    {
     "data": {
      "text/plain": [
       "manual    268251\n",
       "auto       66285\n",
       "Name: Gearbox, dtype: int64"
      ]
     },
     "execution_count": 17,
     "metadata": {},
     "output_type": "execute_result"
    }
   ],
   "source": [
    "# просмотр соотношения типов коробки передач\n",
    "data['Gearbox'].value_counts()"
   ]
  },
  {
   "cell_type": "markdown",
   "metadata": {},
   "source": [
    "Бесспорным лидером является тип manual"
   ]
  },
  {
   "cell_type": "code",
   "execution_count": 18,
   "metadata": {},
   "outputs": [
    {
     "data": {
      "text/plain": [
       "0"
      ]
     },
     "execution_count": 18,
     "metadata": {},
     "output_type": "execute_result"
    }
   ],
   "source": [
    "data.Gearbox = data['Gearbox'].fillna('manual')\n",
    "data.Gearbox.isna().sum()"
   ]
  },
  {
   "cell_type": "code",
   "execution_count": 19,
   "metadata": {},
   "outputs": [
    {
     "data": {
      "text/plain": [
       "sedan          91457\n",
       "small          79831\n",
       "wagon          65166\n",
       "bus            28775\n",
       "convertible    20203\n",
       "coupe          16163\n",
       "suv            11996\n",
       "other           3288\n",
       "Name: VehicleType, dtype: int64"
      ]
     },
     "execution_count": 19,
     "metadata": {},
     "output_type": "execute_result"
    }
   ],
   "source": [
    "# просмотр соотношения типов кузова\n",
    "data['VehicleType'].value_counts()"
   ]
  },
  {
   "cell_type": "code",
   "execution_count": 20,
   "metadata": {},
   "outputs": [
    {
     "data": {
      "text/plain": [
       "0.1057936783409384"
      ]
     },
     "execution_count": 20,
     "metadata": {},
     "output_type": "execute_result"
    }
   ],
   "source": [
    "# соотношение пропусков по типу кузова к общему числу записей\n",
    "data['VehicleType'].isna().sum() / y"
   ]
  },
  {
   "cell_type": "markdown",
   "metadata": {},
   "source": [
    "Пропусков много - 10,6%, здесь нужно поработать по бренду и модели - если они совпадают, то скорее всего совпадает и тип кузова"
   ]
  },
  {
   "cell_type": "code",
   "execution_count": 21,
   "metadata": {},
   "outputs": [
    {
     "data": {
      "text/plain": [
       "81300             NaN\n",
       "150642          sedan\n",
       "199960            NaN\n",
       "42272           wagon\n",
       "4251      convertible\n",
       "243228          sedan\n",
       "305443          other\n",
       "334389            suv\n",
       "115968    convertible\n",
       "50831     convertible\n",
       "313774          small\n",
       "54707           sedan\n",
       "56058           sedan\n",
       "80155           sedan\n",
       "106860          sedan\n",
       "44608           sedan\n",
       "6210            small\n",
       "6144            small\n",
       "279788          small\n",
       "222780          sedan\n",
       "Name: VehicleType, dtype: object"
      ]
     },
     "execution_count": 21,
     "metadata": {},
     "output_type": "execute_result"
    }
   ],
   "source": [
    "data['VehicleType'].sample(20)"
   ]
  },
  {
   "cell_type": "code",
   "execution_count": 22,
   "metadata": {},
   "outputs": [
    {
     "data": {
      "text/html": [
       "<div>\n",
       "<style scoped>\n",
       "    .dataframe tbody tr th:only-of-type {\n",
       "        vertical-align: middle;\n",
       "    }\n",
       "\n",
       "    .dataframe tbody tr th {\n",
       "        vertical-align: top;\n",
       "    }\n",
       "\n",
       "    .dataframe thead th {\n",
       "        text-align: right;\n",
       "    }\n",
       "</style>\n",
       "<table border=\"1\" class=\"dataframe\">\n",
       "  <thead>\n",
       "    <tr style=\"text-align: right;\">\n",
       "      <th></th>\n",
       "      <th>DateCrawled</th>\n",
       "      <th>Price</th>\n",
       "      <th>VehicleType</th>\n",
       "      <th>RegistrationYear</th>\n",
       "      <th>Gearbox</th>\n",
       "      <th>Power</th>\n",
       "      <th>Model</th>\n",
       "      <th>Kilometer</th>\n",
       "      <th>RegistrationMonth</th>\n",
       "      <th>FuelType</th>\n",
       "      <th>Brand</th>\n",
       "      <th>NotRepaired</th>\n",
       "      <th>DateCreated</th>\n",
       "      <th>NumberOfPictures</th>\n",
       "      <th>PostalCode</th>\n",
       "      <th>LastSeen</th>\n",
       "    </tr>\n",
       "  </thead>\n",
       "  <tbody>\n",
       "    <tr>\n",
       "      <th>0</th>\n",
       "      <td>2016-03-24 11:52:17</td>\n",
       "      <td>480</td>\n",
       "      <td>NaN</td>\n",
       "      <td>1993.0</td>\n",
       "      <td>manual</td>\n",
       "      <td>105.0</td>\n",
       "      <td>golf</td>\n",
       "      <td>150000</td>\n",
       "      <td>0</td>\n",
       "      <td>petrol</td>\n",
       "      <td>volkswagen</td>\n",
       "      <td>NaN</td>\n",
       "      <td>2016-03-24</td>\n",
       "      <td>0</td>\n",
       "      <td>70435</td>\n",
       "      <td>2016-04-07 03:16:57</td>\n",
       "    </tr>\n",
       "    <tr>\n",
       "      <th>16</th>\n",
       "      <td>2016-04-01 12:46:46</td>\n",
       "      <td>300</td>\n",
       "      <td>NaN</td>\n",
       "      <td>2016.0</td>\n",
       "      <td>manual</td>\n",
       "      <td>60.0</td>\n",
       "      <td>polo</td>\n",
       "      <td>150000</td>\n",
       "      <td>0</td>\n",
       "      <td>petrol</td>\n",
       "      <td>volkswagen</td>\n",
       "      <td>NaN</td>\n",
       "      <td>2016-04-01</td>\n",
       "      <td>0</td>\n",
       "      <td>38871</td>\n",
       "      <td>2016-04-01 12:46:46</td>\n",
       "    </tr>\n",
       "    <tr>\n",
       "      <th>22</th>\n",
       "      <td>2016-03-23 14:52:51</td>\n",
       "      <td>2900</td>\n",
       "      <td>NaN</td>\n",
       "      <td>2003.0</td>\n",
       "      <td>manual</td>\n",
       "      <td>90.0</td>\n",
       "      <td>meriva</td>\n",
       "      <td>150000</td>\n",
       "      <td>5</td>\n",
       "      <td>petrol</td>\n",
       "      <td>opel</td>\n",
       "      <td>no</td>\n",
       "      <td>2016-03-23</td>\n",
       "      <td>0</td>\n",
       "      <td>49716</td>\n",
       "      <td>2016-03-31 01:16:33</td>\n",
       "    </tr>\n",
       "    <tr>\n",
       "      <th>26</th>\n",
       "      <td>2016-03-10 19:38:18</td>\n",
       "      <td>5555</td>\n",
       "      <td>NaN</td>\n",
       "      <td>2003.0</td>\n",
       "      <td>manual</td>\n",
       "      <td>125.0</td>\n",
       "      <td>c4</td>\n",
       "      <td>125000</td>\n",
       "      <td>4</td>\n",
       "      <td>NaN</td>\n",
       "      <td>citroen</td>\n",
       "      <td>no</td>\n",
       "      <td>2016-03-10</td>\n",
       "      <td>0</td>\n",
       "      <td>31139</td>\n",
       "      <td>2016-03-16 09:16:46</td>\n",
       "    </tr>\n",
       "    <tr>\n",
       "      <th>31</th>\n",
       "      <td>2016-03-29 16:57:02</td>\n",
       "      <td>899</td>\n",
       "      <td>NaN</td>\n",
       "      <td>2016.0</td>\n",
       "      <td>manual</td>\n",
       "      <td>60.0</td>\n",
       "      <td>clio</td>\n",
       "      <td>150000</td>\n",
       "      <td>6</td>\n",
       "      <td>petrol</td>\n",
       "      <td>renault</td>\n",
       "      <td>NaN</td>\n",
       "      <td>2016-03-29</td>\n",
       "      <td>0</td>\n",
       "      <td>37075</td>\n",
       "      <td>2016-03-29 17:43:07</td>\n",
       "    </tr>\n",
       "    <tr>\n",
       "      <th>...</th>\n",
       "      <td>...</td>\n",
       "      <td>...</td>\n",
       "      <td>...</td>\n",
       "      <td>...</td>\n",
       "      <td>...</td>\n",
       "      <td>...</td>\n",
       "      <td>...</td>\n",
       "      <td>...</td>\n",
       "      <td>...</td>\n",
       "      <td>...</td>\n",
       "      <td>...</td>\n",
       "      <td>...</td>\n",
       "      <td>...</td>\n",
       "      <td>...</td>\n",
       "      <td>...</td>\n",
       "      <td>...</td>\n",
       "    </tr>\n",
       "    <tr>\n",
       "      <th>354346</th>\n",
       "      <td>2016-03-07 17:06:35</td>\n",
       "      <td>2600</td>\n",
       "      <td>NaN</td>\n",
       "      <td>2005.0</td>\n",
       "      <td>auto</td>\n",
       "      <td>105.0</td>\n",
       "      <td>c_klasse</td>\n",
       "      <td>150000</td>\n",
       "      <td>9</td>\n",
       "      <td>NaN</td>\n",
       "      <td>mercedes_benz</td>\n",
       "      <td>NaN</td>\n",
       "      <td>2016-03-07</td>\n",
       "      <td>0</td>\n",
       "      <td>61169</td>\n",
       "      <td>2016-03-08 21:28:38</td>\n",
       "    </tr>\n",
       "    <tr>\n",
       "      <th>354351</th>\n",
       "      <td>2016-03-11 23:40:32</td>\n",
       "      <td>1900</td>\n",
       "      <td>NaN</td>\n",
       "      <td>2000.0</td>\n",
       "      <td>manual</td>\n",
       "      <td>110.0</td>\n",
       "      <td>NaN</td>\n",
       "      <td>150000</td>\n",
       "      <td>7</td>\n",
       "      <td>NaN</td>\n",
       "      <td>volkswagen</td>\n",
       "      <td>no</td>\n",
       "      <td>2016-03-11</td>\n",
       "      <td>0</td>\n",
       "      <td>87700</td>\n",
       "      <td>2016-03-12 14:16:51</td>\n",
       "    </tr>\n",
       "    <tr>\n",
       "      <th>354361</th>\n",
       "      <td>2016-03-09 13:37:43</td>\n",
       "      <td>5250</td>\n",
       "      <td>NaN</td>\n",
       "      <td>2016.0</td>\n",
       "      <td>auto</td>\n",
       "      <td>150.0</td>\n",
       "      <td>159</td>\n",
       "      <td>150000</td>\n",
       "      <td>12</td>\n",
       "      <td>NaN</td>\n",
       "      <td>alfa_romeo</td>\n",
       "      <td>no</td>\n",
       "      <td>2016-03-09</td>\n",
       "      <td>0</td>\n",
       "      <td>51371</td>\n",
       "      <td>2016-03-13 01:44:13</td>\n",
       "    </tr>\n",
       "    <tr>\n",
       "      <th>354364</th>\n",
       "      <td>2016-03-21 09:50:58</td>\n",
       "      <td>0</td>\n",
       "      <td>NaN</td>\n",
       "      <td>2005.0</td>\n",
       "      <td>manual</td>\n",
       "      <td>105.0</td>\n",
       "      <td>colt</td>\n",
       "      <td>150000</td>\n",
       "      <td>7</td>\n",
       "      <td>petrol</td>\n",
       "      <td>mitsubishi</td>\n",
       "      <td>yes</td>\n",
       "      <td>2016-03-21</td>\n",
       "      <td>0</td>\n",
       "      <td>2694</td>\n",
       "      <td>2016-03-21 10:42:49</td>\n",
       "    </tr>\n",
       "    <tr>\n",
       "      <th>354365</th>\n",
       "      <td>2016-03-14 17:48:27</td>\n",
       "      <td>2200</td>\n",
       "      <td>NaN</td>\n",
       "      <td>2005.0</td>\n",
       "      <td>manual</td>\n",
       "      <td>105.0</td>\n",
       "      <td>NaN</td>\n",
       "      <td>20000</td>\n",
       "      <td>1</td>\n",
       "      <td>NaN</td>\n",
       "      <td>sonstige_autos</td>\n",
       "      <td>NaN</td>\n",
       "      <td>2016-03-14</td>\n",
       "      <td>0</td>\n",
       "      <td>39576</td>\n",
       "      <td>2016-04-06 00:46:52</td>\n",
       "    </tr>\n",
       "  </tbody>\n",
       "</table>\n",
       "<p>37490 rows × 16 columns</p>\n",
       "</div>"
      ],
      "text/plain": [
       "               DateCrawled  Price VehicleType  RegistrationYear Gearbox  \\\n",
       "0      2016-03-24 11:52:17    480         NaN            1993.0  manual   \n",
       "16     2016-04-01 12:46:46    300         NaN            2016.0  manual   \n",
       "22     2016-03-23 14:52:51   2900         NaN            2003.0  manual   \n",
       "26     2016-03-10 19:38:18   5555         NaN            2003.0  manual   \n",
       "31     2016-03-29 16:57:02    899         NaN            2016.0  manual   \n",
       "...                    ...    ...         ...               ...     ...   \n",
       "354346 2016-03-07 17:06:35   2600         NaN            2005.0    auto   \n",
       "354351 2016-03-11 23:40:32   1900         NaN            2000.0  manual   \n",
       "354361 2016-03-09 13:37:43   5250         NaN            2016.0    auto   \n",
       "354364 2016-03-21 09:50:58      0         NaN            2005.0  manual   \n",
       "354365 2016-03-14 17:48:27   2200         NaN            2005.0  manual   \n",
       "\n",
       "        Power     Model  Kilometer  RegistrationMonth FuelType  \\\n",
       "0       105.0      golf     150000                  0   petrol   \n",
       "16       60.0      polo     150000                  0   petrol   \n",
       "22       90.0    meriva     150000                  5   petrol   \n",
       "26      125.0        c4     125000                  4      NaN   \n",
       "31       60.0      clio     150000                  6   petrol   \n",
       "...       ...       ...        ...                ...      ...   \n",
       "354346  105.0  c_klasse     150000                  9      NaN   \n",
       "354351  110.0       NaN     150000                  7      NaN   \n",
       "354361  150.0       159     150000                 12      NaN   \n",
       "354364  105.0      colt     150000                  7   petrol   \n",
       "354365  105.0       NaN      20000                  1      NaN   \n",
       "\n",
       "                 Brand NotRepaired DateCreated  NumberOfPictures  PostalCode  \\\n",
       "0           volkswagen         NaN  2016-03-24                 0       70435   \n",
       "16          volkswagen         NaN  2016-04-01                 0       38871   \n",
       "22                opel          no  2016-03-23                 0       49716   \n",
       "26             citroen          no  2016-03-10                 0       31139   \n",
       "31             renault         NaN  2016-03-29                 0       37075   \n",
       "...                ...         ...         ...               ...         ...   \n",
       "354346   mercedes_benz         NaN  2016-03-07                 0       61169   \n",
       "354351      volkswagen          no  2016-03-11                 0       87700   \n",
       "354361      alfa_romeo          no  2016-03-09                 0       51371   \n",
       "354364      mitsubishi         yes  2016-03-21                 0        2694   \n",
       "354365  sonstige_autos         NaN  2016-03-14                 0       39576   \n",
       "\n",
       "                  LastSeen  \n",
       "0      2016-04-07 03:16:57  \n",
       "16     2016-04-01 12:46:46  \n",
       "22     2016-03-31 01:16:33  \n",
       "26     2016-03-16 09:16:46  \n",
       "31     2016-03-29 17:43:07  \n",
       "...                    ...  \n",
       "354346 2016-03-08 21:28:38  \n",
       "354351 2016-03-12 14:16:51  \n",
       "354361 2016-03-13 01:44:13  \n",
       "354364 2016-03-21 10:42:49  \n",
       "354365 2016-04-06 00:46:52  \n",
       "\n",
       "[37490 rows x 16 columns]"
      ]
     },
     "execution_count": 22,
     "metadata": {},
     "output_type": "execute_result"
    }
   ],
   "source": [
    "data[data['VehicleType'].isna()]"
   ]
  },
  {
   "cell_type": "code",
   "execution_count": 23,
   "metadata": {},
   "outputs": [],
   "source": [
    "# замена по бренду-модели пропусков на 'other'\n",
    "data['VehicleType'] = data['VehicleType'].fillna('other')\n",
    "data['Model'] = data['Model'].fillna('other')\n",
    "data['FuelType'] = data['FuelType'].fillna('other')"
   ]
  },
  {
   "cell_type": "code",
   "execution_count": 24,
   "metadata": {},
   "outputs": [
    {
     "data": {
      "text/plain": [
       "no     247161\n",
       "yes     36054\n",
       "Name: NotRepaired, dtype: int64"
      ]
     },
     "execution_count": 24,
     "metadata": {},
     "output_type": "execute_result"
    }
   ],
   "source": [
    "# просмотр соотношения типов кузова\n",
    "data['NotRepaired'].value_counts()"
   ]
  },
  {
   "cell_type": "code",
   "execution_count": 25,
   "metadata": {},
   "outputs": [],
   "source": [
    "data['NotRepaired'] = data['NotRepaired'].fillna('other')"
   ]
  },
  {
   "cell_type": "code",
   "execution_count": 26,
   "metadata": {},
   "outputs": [
    {
     "name": "stdout",
     "output_type": "stream",
     "text": [
      "<class 'pandas.core.frame.DataFrame'>\n",
      "RangeIndex: 354369 entries, 0 to 354368\n",
      "Data columns (total 16 columns):\n",
      " #   Column             Non-Null Count   Dtype         \n",
      "---  ------             --------------   -----         \n",
      " 0   DateCrawled        354369 non-null  datetime64[ns]\n",
      " 1   Price              354369 non-null  int64         \n",
      " 2   VehicleType        354369 non-null  object        \n",
      " 3   RegistrationYear   354369 non-null  float64       \n",
      " 4   Gearbox            354369 non-null  object        \n",
      " 5   Power              354369 non-null  float64       \n",
      " 6   Model              354369 non-null  object        \n",
      " 7   Kilometer          354369 non-null  int64         \n",
      " 8   RegistrationMonth  354369 non-null  int64         \n",
      " 9   FuelType           354369 non-null  object        \n",
      " 10  Brand              354369 non-null  object        \n",
      " 11  NotRepaired        354369 non-null  object        \n",
      " 12  DateCreated        354369 non-null  datetime64[ns]\n",
      " 13  NumberOfPictures   354369 non-null  int64         \n",
      " 14  PostalCode         354369 non-null  int64         \n",
      " 15  LastSeen           354369 non-null  datetime64[ns]\n",
      "dtypes: datetime64[ns](3), float64(2), int64(5), object(6)\n",
      "memory usage: 43.3+ MB\n"
     ]
    }
   ],
   "source": [
    "data.info()"
   ]
  },
  {
   "cell_type": "markdown",
   "metadata": {},
   "source": [
    "### Удаление лишних столбцов"
   ]
  },
  {
   "cell_type": "code",
   "execution_count": 27,
   "metadata": {},
   "outputs": [
    {
     "data": {
      "text/plain": [
       "0.11058102775308226"
      ]
     },
     "execution_count": 27,
     "metadata": {},
     "output_type": "execute_result"
    }
   ],
   "source": [
    "# корреляция Пирсона по цене-месяце регистрации\n",
    "data['Price'].corr(data['RegistrationMonth'])"
   ]
  },
  {
   "cell_type": "code",
   "execution_count": 28,
   "metadata": {},
   "outputs": [
    {
     "data": {
      "text/plain": [
       "0.07605507545049496"
      ]
     },
     "execution_count": 28,
     "metadata": {},
     "output_type": "execute_result"
    }
   ],
   "source": [
    "# корреляция Пирсона по цене-почтовому индексу\n",
    "data['Price'].corr(data['PostalCode'])"
   ]
  },
  {
   "cell_type": "code",
   "execution_count": 29,
   "metadata": {},
   "outputs": [
    {
     "data": {
      "text/plain": [
       "-0.3331994894861043"
      ]
     },
     "execution_count": 29,
     "metadata": {},
     "output_type": "execute_result"
    }
   ],
   "source": [
    "# корреляция Пирсона по цене-пробегу\n",
    "data['Price'].corr(data['Kilometer'])"
   ]
  },
  {
   "cell_type": "code",
   "execution_count": 30,
   "metadata": {},
   "outputs": [
    {
     "data": {
      "text/html": [
       "<div>\n",
       "<style scoped>\n",
       "    .dataframe tbody tr th:only-of-type {\n",
       "        vertical-align: middle;\n",
       "    }\n",
       "\n",
       "    .dataframe tbody tr th {\n",
       "        vertical-align: top;\n",
       "    }\n",
       "\n",
       "    .dataframe thead th {\n",
       "        text-align: right;\n",
       "    }\n",
       "</style>\n",
       "<table border=\"1\" class=\"dataframe\">\n",
       "  <thead>\n",
       "    <tr style=\"text-align: right;\">\n",
       "      <th></th>\n",
       "      <th>Price</th>\n",
       "      <th>VehicleType</th>\n",
       "      <th>RegistrationYear</th>\n",
       "      <th>Gearbox</th>\n",
       "      <th>Power</th>\n",
       "      <th>Model</th>\n",
       "      <th>Kilometer</th>\n",
       "      <th>FuelType</th>\n",
       "      <th>Brand</th>\n",
       "      <th>NotRepaired</th>\n",
       "    </tr>\n",
       "  </thead>\n",
       "  <tbody>\n",
       "    <tr>\n",
       "      <th>0</th>\n",
       "      <td>480</td>\n",
       "      <td>other</td>\n",
       "      <td>1993.0</td>\n",
       "      <td>manual</td>\n",
       "      <td>105.0</td>\n",
       "      <td>golf</td>\n",
       "      <td>150000</td>\n",
       "      <td>petrol</td>\n",
       "      <td>volkswagen</td>\n",
       "      <td>other</td>\n",
       "    </tr>\n",
       "    <tr>\n",
       "      <th>1</th>\n",
       "      <td>18300</td>\n",
       "      <td>coupe</td>\n",
       "      <td>2011.0</td>\n",
       "      <td>manual</td>\n",
       "      <td>190.0</td>\n",
       "      <td>other</td>\n",
       "      <td>125000</td>\n",
       "      <td>gasoline</td>\n",
       "      <td>audi</td>\n",
       "      <td>yes</td>\n",
       "    </tr>\n",
       "    <tr>\n",
       "      <th>2</th>\n",
       "      <td>9800</td>\n",
       "      <td>suv</td>\n",
       "      <td>2004.0</td>\n",
       "      <td>auto</td>\n",
       "      <td>163.0</td>\n",
       "      <td>grand</td>\n",
       "      <td>125000</td>\n",
       "      <td>gasoline</td>\n",
       "      <td>jeep</td>\n",
       "      <td>other</td>\n",
       "    </tr>\n",
       "    <tr>\n",
       "      <th>3</th>\n",
       "      <td>1500</td>\n",
       "      <td>small</td>\n",
       "      <td>2001.0</td>\n",
       "      <td>manual</td>\n",
       "      <td>75.0</td>\n",
       "      <td>golf</td>\n",
       "      <td>150000</td>\n",
       "      <td>petrol</td>\n",
       "      <td>volkswagen</td>\n",
       "      <td>no</td>\n",
       "    </tr>\n",
       "    <tr>\n",
       "      <th>4</th>\n",
       "      <td>3600</td>\n",
       "      <td>small</td>\n",
       "      <td>2008.0</td>\n",
       "      <td>manual</td>\n",
       "      <td>69.0</td>\n",
       "      <td>fabia</td>\n",
       "      <td>90000</td>\n",
       "      <td>gasoline</td>\n",
       "      <td>skoda</td>\n",
       "      <td>no</td>\n",
       "    </tr>\n",
       "    <tr>\n",
       "      <th>...</th>\n",
       "      <td>...</td>\n",
       "      <td>...</td>\n",
       "      <td>...</td>\n",
       "      <td>...</td>\n",
       "      <td>...</td>\n",
       "      <td>...</td>\n",
       "      <td>...</td>\n",
       "      <td>...</td>\n",
       "      <td>...</td>\n",
       "      <td>...</td>\n",
       "    </tr>\n",
       "    <tr>\n",
       "      <th>354364</th>\n",
       "      <td>0</td>\n",
       "      <td>other</td>\n",
       "      <td>2005.0</td>\n",
       "      <td>manual</td>\n",
       "      <td>105.0</td>\n",
       "      <td>colt</td>\n",
       "      <td>150000</td>\n",
       "      <td>petrol</td>\n",
       "      <td>mitsubishi</td>\n",
       "      <td>yes</td>\n",
       "    </tr>\n",
       "    <tr>\n",
       "      <th>354365</th>\n",
       "      <td>2200</td>\n",
       "      <td>other</td>\n",
       "      <td>2005.0</td>\n",
       "      <td>manual</td>\n",
       "      <td>105.0</td>\n",
       "      <td>other</td>\n",
       "      <td>20000</td>\n",
       "      <td>other</td>\n",
       "      <td>sonstige_autos</td>\n",
       "      <td>other</td>\n",
       "    </tr>\n",
       "    <tr>\n",
       "      <th>354366</th>\n",
       "      <td>1199</td>\n",
       "      <td>convertible</td>\n",
       "      <td>2000.0</td>\n",
       "      <td>auto</td>\n",
       "      <td>101.0</td>\n",
       "      <td>fortwo</td>\n",
       "      <td>125000</td>\n",
       "      <td>petrol</td>\n",
       "      <td>smart</td>\n",
       "      <td>no</td>\n",
       "    </tr>\n",
       "    <tr>\n",
       "      <th>354367</th>\n",
       "      <td>9200</td>\n",
       "      <td>bus</td>\n",
       "      <td>1996.0</td>\n",
       "      <td>manual</td>\n",
       "      <td>102.0</td>\n",
       "      <td>transporter</td>\n",
       "      <td>150000</td>\n",
       "      <td>gasoline</td>\n",
       "      <td>volkswagen</td>\n",
       "      <td>no</td>\n",
       "    </tr>\n",
       "    <tr>\n",
       "      <th>354368</th>\n",
       "      <td>3400</td>\n",
       "      <td>wagon</td>\n",
       "      <td>2002.0</td>\n",
       "      <td>manual</td>\n",
       "      <td>100.0</td>\n",
       "      <td>golf</td>\n",
       "      <td>150000</td>\n",
       "      <td>gasoline</td>\n",
       "      <td>volkswagen</td>\n",
       "      <td>other</td>\n",
       "    </tr>\n",
       "  </tbody>\n",
       "</table>\n",
       "<p>354369 rows × 10 columns</p>\n",
       "</div>"
      ],
      "text/plain": [
       "        Price  VehicleType  RegistrationYear Gearbox  Power        Model  \\\n",
       "0         480        other            1993.0  manual  105.0         golf   \n",
       "1       18300        coupe            2011.0  manual  190.0        other   \n",
       "2        9800          suv            2004.0    auto  163.0        grand   \n",
       "3        1500        small            2001.0  manual   75.0         golf   \n",
       "4        3600        small            2008.0  manual   69.0        fabia   \n",
       "...       ...          ...               ...     ...    ...          ...   \n",
       "354364      0        other            2005.0  manual  105.0         colt   \n",
       "354365   2200        other            2005.0  manual  105.0        other   \n",
       "354366   1199  convertible            2000.0    auto  101.0       fortwo   \n",
       "354367   9200          bus            1996.0  manual  102.0  transporter   \n",
       "354368   3400        wagon            2002.0  manual  100.0         golf   \n",
       "\n",
       "        Kilometer  FuelType           Brand NotRepaired  \n",
       "0          150000    petrol      volkswagen       other  \n",
       "1          125000  gasoline            audi         yes  \n",
       "2          125000  gasoline            jeep       other  \n",
       "3          150000    petrol      volkswagen          no  \n",
       "4           90000  gasoline           skoda          no  \n",
       "...           ...       ...             ...         ...  \n",
       "354364     150000    petrol      mitsubishi         yes  \n",
       "354365      20000     other  sonstige_autos       other  \n",
       "354366     125000    petrol           smart          no  \n",
       "354367     150000  gasoline      volkswagen          no  \n",
       "354368     150000  gasoline      volkswagen       other  \n",
       "\n",
       "[354369 rows x 10 columns]"
      ]
     },
     "execution_count": 30,
     "metadata": {},
     "output_type": "execute_result"
    }
   ],
   "source": [
    "# удаление лишних столбцов, не несущих полезной для предсказания цены информации\n",
    "columns = ['PostalCode', 'NumberOfPictures', 'DateCrawled', 'DateCreated', 'LastSeen', 'RegistrationMonth']\n",
    "data = data.drop(columns, axis=1)\n",
    "data"
   ]
  },
  {
   "cell_type": "markdown",
   "metadata": {},
   "source": [
    "**Вывод по проверке на корреляцию:**\n",
    "* Столбцы 'RegistrationMonth' и 'PostalCode' дают мальенькую корреляцию с нашим целевым признаком, по идее, могут быть удалены из датасета без вреда для результата предсказания. \n",
    "* Для сравнения приведена корреляция со столбцом пробега - видим, что чем больше пробег, тем меньше цена, хотя зависимость не так явно выражена, как хотелось бы. \n",
    "* Глядя на полученные значения, можно удалить столбец месяца регистрации. "
   ]
  },
  {
   "cell_type": "markdown",
   "metadata": {},
   "source": [
    "### Работа с дубликатами"
   ]
  },
  {
   "cell_type": "code",
   "execution_count": 31,
   "metadata": {},
   "outputs": [
    {
     "data": {
      "text/plain": [
       "46967"
      ]
     },
     "execution_count": 31,
     "metadata": {},
     "output_type": "execute_result"
    }
   ],
   "source": [
    "# поиск явных дубликатов\n",
    "data.duplicated().sum()"
   ]
  },
  {
   "cell_type": "markdown",
   "metadata": {},
   "source": [
    "Большая цифра по полному совпадению!"
   ]
  },
  {
   "cell_type": "code",
   "execution_count": 32,
   "metadata": {},
   "outputs": [
    {
     "data": {
      "text/html": [
       "<div>\n",
       "<style scoped>\n",
       "    .dataframe tbody tr th:only-of-type {\n",
       "        vertical-align: middle;\n",
       "    }\n",
       "\n",
       "    .dataframe tbody tr th {\n",
       "        vertical-align: top;\n",
       "    }\n",
       "\n",
       "    .dataframe thead th {\n",
       "        text-align: right;\n",
       "    }\n",
       "</style>\n",
       "<table border=\"1\" class=\"dataframe\">\n",
       "  <thead>\n",
       "    <tr style=\"text-align: right;\">\n",
       "      <th></th>\n",
       "      <th>Price</th>\n",
       "      <th>VehicleType</th>\n",
       "      <th>RegistrationYear</th>\n",
       "      <th>Gearbox</th>\n",
       "      <th>Power</th>\n",
       "      <th>Model</th>\n",
       "      <th>Kilometer</th>\n",
       "      <th>FuelType</th>\n",
       "      <th>Brand</th>\n",
       "      <th>NotRepaired</th>\n",
       "    </tr>\n",
       "  </thead>\n",
       "  <tbody>\n",
       "    <tr>\n",
       "      <th>140089</th>\n",
       "      <td>480</td>\n",
       "      <td>wagon</td>\n",
       "      <td>1996.0</td>\n",
       "      <td>manual</td>\n",
       "      <td>101.0</td>\n",
       "      <td>astra</td>\n",
       "      <td>150000</td>\n",
       "      <td>petrol</td>\n",
       "      <td>opel</td>\n",
       "      <td>other</td>\n",
       "    </tr>\n",
       "    <tr>\n",
       "      <th>157317</th>\n",
       "      <td>480</td>\n",
       "      <td>wagon</td>\n",
       "      <td>1996.0</td>\n",
       "      <td>manual</td>\n",
       "      <td>101.0</td>\n",
       "      <td>astra</td>\n",
       "      <td>150000</td>\n",
       "      <td>petrol</td>\n",
       "      <td>opel</td>\n",
       "      <td>other</td>\n",
       "    </tr>\n",
       "    <tr>\n",
       "      <th>353055</th>\n",
       "      <td>480</td>\n",
       "      <td>sedan</td>\n",
       "      <td>1996.0</td>\n",
       "      <td>manual</td>\n",
       "      <td>101.0</td>\n",
       "      <td>vectra</td>\n",
       "      <td>150000</td>\n",
       "      <td>petrol</td>\n",
       "      <td>opel</td>\n",
       "      <td>no</td>\n",
       "    </tr>\n",
       "  </tbody>\n",
       "</table>\n",
       "</div>"
      ],
      "text/plain": [
       "        Price VehicleType  RegistrationYear Gearbox  Power   Model  Kilometer  \\\n",
       "140089    480       wagon            1996.0  manual  101.0   astra     150000   \n",
       "157317    480       wagon            1996.0  manual  101.0   astra     150000   \n",
       "353055    480       sedan            1996.0  manual  101.0  vectra     150000   \n",
       "\n",
       "       FuelType Brand NotRepaired  \n",
       "140089   petrol  opel       other  \n",
       "157317   petrol  opel       other  \n",
       "353055   petrol  opel          no  "
      ]
     },
     "execution_count": 32,
     "metadata": {},
     "output_type": "execute_result"
    }
   ],
   "source": [
    "data.query('Price == 480 and RegistrationYear == 1996 and Power == 101 and Brand == \"opel\"')"
   ]
  },
  {
   "cell_type": "markdown",
   "metadata": {},
   "source": [
    "Пример полного совпадения записей без учета дат найден и наглядно представлен. Имеет смысл избавиться от таких дублей. Сначала удалим столбцы с датами работы с объявлением и другие лишние столбцы."
   ]
  },
  {
   "cell_type": "code",
   "execution_count": 33,
   "metadata": {},
   "outputs": [
    {
     "name": "stdout",
     "output_type": "stream",
     "text": [
      "<class 'pandas.core.frame.DataFrame'>\n",
      "RangeIndex: 307402 entries, 0 to 307401\n",
      "Data columns (total 10 columns):\n",
      " #   Column            Non-Null Count   Dtype  \n",
      "---  ------            --------------   -----  \n",
      " 0   Price             307402 non-null  int64  \n",
      " 1   VehicleType       307402 non-null  object \n",
      " 2   RegistrationYear  307402 non-null  float64\n",
      " 3   Gearbox           307402 non-null  object \n",
      " 4   Power             307402 non-null  float64\n",
      " 5   Model             307402 non-null  object \n",
      " 6   Kilometer         307402 non-null  int64  \n",
      " 7   FuelType          307402 non-null  object \n",
      " 8   Brand             307402 non-null  object \n",
      " 9   NotRepaired       307402 non-null  object \n",
      "dtypes: float64(2), int64(2), object(6)\n",
      "memory usage: 23.5+ MB\n"
     ]
    }
   ],
   "source": [
    "# удаление явных дубликатов\n",
    "data = data.drop_duplicates().reset_index(drop=True)\n",
    "data.info()"
   ]
  },
  {
   "cell_type": "markdown",
   "metadata": {},
   "source": [
    "Приведем к здравому смыслу ценник. Посмотрим на распределение значений в нашем датасете."
   ]
  },
  {
   "cell_type": "markdown",
   "metadata": {},
   "source": [
    "### Коррекция данных по цене"
   ]
  },
  {
   "cell_type": "code",
   "execution_count": 34,
   "metadata": {},
   "outputs": [
    {
     "data": {
      "text/plain": [
       "<AxesSubplot:>"
      ]
     },
     "execution_count": 34,
     "metadata": {},
     "output_type": "execute_result"
    },
    {
     "data": {
      "image/png": "[encoded data removed]",
      "text/plain": [
       "<Figure size 432x288 with 1 Axes>"
      ]
     },
     "metadata": {
      "needs_background": "light"
     },
     "output_type": "display_data"
    }
   ],
   "source": [
    "data['Price'].hist(bins=1000)"
   ]
  },
  {
   "cell_type": "markdown",
   "metadata": {},
   "source": [
    "На гистограмме видно, что цена б/у авто в основном лежит в диапазоне от значений близких к нулю и до, грубо говоря, 10000 евро. Остальные значения цен, особенно после 15000, думаю, можно отбросить без ущерба для датасета и с улучшением показателей метрики."
   ]
  },
  {
   "cell_type": "code",
   "execution_count": 35,
   "metadata": {},
   "outputs": [
    {
     "data": {
      "text/html": [
       "<div>\n",
       "<style scoped>\n",
       "    .dataframe tbody tr th:only-of-type {\n",
       "        vertical-align: middle;\n",
       "    }\n",
       "\n",
       "    .dataframe tbody tr th {\n",
       "        vertical-align: top;\n",
       "    }\n",
       "\n",
       "    .dataframe thead th {\n",
       "        text-align: right;\n",
       "    }\n",
       "</style>\n",
       "<table border=\"1\" class=\"dataframe\">\n",
       "  <thead>\n",
       "    <tr style=\"text-align: right;\">\n",
       "      <th></th>\n",
       "      <th>Price</th>\n",
       "      <th>VehicleType</th>\n",
       "      <th>RegistrationYear</th>\n",
       "      <th>Gearbox</th>\n",
       "      <th>Power</th>\n",
       "      <th>Model</th>\n",
       "      <th>Kilometer</th>\n",
       "      <th>FuelType</th>\n",
       "      <th>Brand</th>\n",
       "      <th>NotRepaired</th>\n",
       "    </tr>\n",
       "  </thead>\n",
       "  <tbody>\n",
       "    <tr>\n",
       "      <th>0</th>\n",
       "      <td>480</td>\n",
       "      <td>other</td>\n",
       "      <td>1993.0</td>\n",
       "      <td>manual</td>\n",
       "      <td>105.0</td>\n",
       "      <td>golf</td>\n",
       "      <td>150000</td>\n",
       "      <td>petrol</td>\n",
       "      <td>volkswagen</td>\n",
       "      <td>other</td>\n",
       "    </tr>\n",
       "    <tr>\n",
       "      <th>1</th>\n",
       "      <td>9800</td>\n",
       "      <td>suv</td>\n",
       "      <td>2004.0</td>\n",
       "      <td>auto</td>\n",
       "      <td>163.0</td>\n",
       "      <td>grand</td>\n",
       "      <td>125000</td>\n",
       "      <td>gasoline</td>\n",
       "      <td>jeep</td>\n",
       "      <td>other</td>\n",
       "    </tr>\n",
       "    <tr>\n",
       "      <th>2</th>\n",
       "      <td>1500</td>\n",
       "      <td>small</td>\n",
       "      <td>2001.0</td>\n",
       "      <td>manual</td>\n",
       "      <td>75.0</td>\n",
       "      <td>golf</td>\n",
       "      <td>150000</td>\n",
       "      <td>petrol</td>\n",
       "      <td>volkswagen</td>\n",
       "      <td>no</td>\n",
       "    </tr>\n",
       "    <tr>\n",
       "      <th>3</th>\n",
       "      <td>3600</td>\n",
       "      <td>small</td>\n",
       "      <td>2008.0</td>\n",
       "      <td>manual</td>\n",
       "      <td>69.0</td>\n",
       "      <td>fabia</td>\n",
       "      <td>90000</td>\n",
       "      <td>gasoline</td>\n",
       "      <td>skoda</td>\n",
       "      <td>no</td>\n",
       "    </tr>\n",
       "    <tr>\n",
       "      <th>4</th>\n",
       "      <td>650</td>\n",
       "      <td>sedan</td>\n",
       "      <td>1995.0</td>\n",
       "      <td>manual</td>\n",
       "      <td>102.0</td>\n",
       "      <td>3er</td>\n",
       "      <td>150000</td>\n",
       "      <td>petrol</td>\n",
       "      <td>bmw</td>\n",
       "      <td>yes</td>\n",
       "    </tr>\n",
       "    <tr>\n",
       "      <th>...</th>\n",
       "      <td>...</td>\n",
       "      <td>...</td>\n",
       "      <td>...</td>\n",
       "      <td>...</td>\n",
       "      <td>...</td>\n",
       "      <td>...</td>\n",
       "      <td>...</td>\n",
       "      <td>...</td>\n",
       "      <td>...</td>\n",
       "      <td>...</td>\n",
       "    </tr>\n",
       "    <tr>\n",
       "      <th>284680</th>\n",
       "      <td>3200</td>\n",
       "      <td>sedan</td>\n",
       "      <td>2004.0</td>\n",
       "      <td>manual</td>\n",
       "      <td>225.0</td>\n",
       "      <td>leon</td>\n",
       "      <td>150000</td>\n",
       "      <td>petrol</td>\n",
       "      <td>seat</td>\n",
       "      <td>yes</td>\n",
       "    </tr>\n",
       "    <tr>\n",
       "      <th>284681</th>\n",
       "      <td>2200</td>\n",
       "      <td>other</td>\n",
       "      <td>2005.0</td>\n",
       "      <td>manual</td>\n",
       "      <td>105.0</td>\n",
       "      <td>other</td>\n",
       "      <td>20000</td>\n",
       "      <td>other</td>\n",
       "      <td>sonstige_autos</td>\n",
       "      <td>other</td>\n",
       "    </tr>\n",
       "    <tr>\n",
       "      <th>284682</th>\n",
       "      <td>1199</td>\n",
       "      <td>convertible</td>\n",
       "      <td>2000.0</td>\n",
       "      <td>auto</td>\n",
       "      <td>101.0</td>\n",
       "      <td>fortwo</td>\n",
       "      <td>125000</td>\n",
       "      <td>petrol</td>\n",
       "      <td>smart</td>\n",
       "      <td>no</td>\n",
       "    </tr>\n",
       "    <tr>\n",
       "      <th>284683</th>\n",
       "      <td>9200</td>\n",
       "      <td>bus</td>\n",
       "      <td>1996.0</td>\n",
       "      <td>manual</td>\n",
       "      <td>102.0</td>\n",
       "      <td>transporter</td>\n",
       "      <td>150000</td>\n",
       "      <td>gasoline</td>\n",
       "      <td>volkswagen</td>\n",
       "      <td>no</td>\n",
       "    </tr>\n",
       "    <tr>\n",
       "      <th>284684</th>\n",
       "      <td>3400</td>\n",
       "      <td>wagon</td>\n",
       "      <td>2002.0</td>\n",
       "      <td>manual</td>\n",
       "      <td>100.0</td>\n",
       "      <td>golf</td>\n",
       "      <td>150000</td>\n",
       "      <td>gasoline</td>\n",
       "      <td>volkswagen</td>\n",
       "      <td>other</td>\n",
       "    </tr>\n",
       "  </tbody>\n",
       "</table>\n",
       "<p>284685 rows × 10 columns</p>\n",
       "</div>"
      ],
      "text/plain": [
       "        Price  VehicleType  RegistrationYear Gearbox  Power        Model  \\\n",
       "0         480        other            1993.0  manual  105.0         golf   \n",
       "1        9800          suv            2004.0    auto  163.0        grand   \n",
       "2        1500        small            2001.0  manual   75.0         golf   \n",
       "3        3600        small            2008.0  manual   69.0        fabia   \n",
       "4         650        sedan            1995.0  manual  102.0          3er   \n",
       "...       ...          ...               ...     ...    ...          ...   \n",
       "284680   3200        sedan            2004.0  manual  225.0         leon   \n",
       "284681   2200        other            2005.0  manual  105.0        other   \n",
       "284682   1199  convertible            2000.0    auto  101.0       fortwo   \n",
       "284683   9200          bus            1996.0  manual  102.0  transporter   \n",
       "284684   3400        wagon            2002.0  manual  100.0         golf   \n",
       "\n",
       "        Kilometer  FuelType           Brand NotRepaired  \n",
       "0          150000    petrol      volkswagen       other  \n",
       "1          125000  gasoline            jeep       other  \n",
       "2          150000    petrol      volkswagen          no  \n",
       "3           90000  gasoline           skoda          no  \n",
       "4          150000    petrol             bmw         yes  \n",
       "...           ...       ...             ...         ...  \n",
       "284680     150000    petrol            seat         yes  \n",
       "284681      20000     other  sonstige_autos       other  \n",
       "284682     125000    petrol           smart          no  \n",
       "284683     150000  gasoline      volkswagen          no  \n",
       "284684     150000  gasoline      volkswagen       other  \n",
       "\n",
       "[284685 rows x 10 columns]"
      ]
     },
     "execution_count": 35,
     "metadata": {},
     "output_type": "execute_result"
    }
   ],
   "source": [
    "data = data.query('Price > 0 and Price < 15000').reset_index(drop=True)\n",
    "data"
   ]
  },
  {
   "cell_type": "markdown",
   "metadata": {},
   "source": [
    "### Кодирование категориальных данных"
   ]
  },
  {
   "cell_type": "markdown",
   "metadata": {},
   "source": [
    "Может показаться проблемой наличие категориальных данных, не преобразованных к числовым типам. Но очень хочется проверить, действительно ли библиотеки **LightGBM и CatBoost работают с категориальными данными без их преобразования**. Оставим датасет для них в таком виде, а для обычных моделей, не использующих бустинг, возьмем датасет с полностью числовыми данными. Используем метод OHE."
   ]
  },
  {
   "cell_type": "code",
   "execution_count": 36,
   "metadata": {},
   "outputs": [
    {
     "data": {
      "text/plain": [
       "Price                      0\n",
       "RegistrationYear           0\n",
       "Power                      0\n",
       "Kilometer                  0\n",
       "VehicleType_convertible    0\n",
       "                          ..\n",
       "Brand_trabant              0\n",
       "Brand_volkswagen           0\n",
       "Brand_volvo                0\n",
       "NotRepaired_other          0\n",
       "NotRepaired_yes            0\n",
       "Length: 308, dtype: int64"
      ]
     },
     "execution_count": 36,
     "metadata": {},
     "output_type": "execute_result"
    }
   ],
   "source": [
    "# преобразование категориальных столбцов к числовым с помощью ОНЕ-кодирования - подходит для всех моделей\n",
    "\n",
    "data_ohe = pd.get_dummies(data, drop_first=True)\n",
    "data_ohe.isna().sum()"
   ]
  },
  {
   "cell_type": "markdown",
   "metadata": {},
   "source": [
    "**Главный недостаток ОНЕ** - плодит огромное количество признаков, т.к. каждое уникальное значение признаков в таблице в итоге превращается в отдельный столбец.  \n",
    "**Главное достоинство ОНЕ** - подходит для всех моделей - и регрессий, и деревьев."
   ]
  },
  {
   "cell_type": "markdown",
   "metadata": {},
   "source": [
    "### Деление данных на обучающую и тестовую выборки"
   ]
  },
  {
   "cell_type": "markdown",
   "metadata": {},
   "source": [
    "#### ОНЕ с масштабированием обучающей выборки"
   ]
  },
  {
   "cell_type": "code",
   "execution_count": 37,
   "metadata": {},
   "outputs": [
    {
     "data": {
      "text/plain": [
       "((284685, 307), (284685,))"
      ]
     },
     "execution_count": 37,
     "metadata": {},
     "output_type": "execute_result"
    }
   ],
   "source": [
    "# деление данных для обычных моделей\n",
    "features_ohe = data_ohe.drop(['Price'], axis=1)\n",
    "target_ohe = data_ohe['Price']\n",
    "features_ohe.shape, target_ohe.shape"
   ]
  },
  {
   "cell_type": "code",
   "execution_count": 38,
   "metadata": {},
   "outputs": [
    {
     "data": {
      "text/plain": [
       "((213513, 307), (71172, 307), (213513,), (71172,))"
      ]
     },
     "execution_count": 38,
     "metadata": {},
     "output_type": "execute_result"
    }
   ],
   "source": [
    "# деление данных на масштабированные обучающую и тестовую выборки для обычных моделей\n",
    "features_ohe_train, features_ohe_test, target_ohe_train, target_ohe_test = train_test_split(features_ohe, target_ohe, test_size=.25, random_state=12345)\n",
    "features_ohe_train.shape, features_ohe_test.shape, target_ohe_train.shape, target_ohe_test.shape"
   ]
  },
  {
   "cell_type": "code",
   "execution_count": 39,
   "metadata": {},
   "outputs": [
    {
     "data": {
      "text/plain": [
       "array(['RegistrationYear', 'Power', 'Kilometer'], dtype=object)"
      ]
     },
     "execution_count": 39,
     "metadata": {},
     "output_type": "execute_result"
    }
   ],
   "source": [
    "# список столбцов датасета\n",
    "columns = np.array(features_ohe_train.columns)\n",
    "columns[:3]"
   ]
  },
  {
   "cell_type": "code",
   "execution_count": 40,
   "metadata": {},
   "outputs": [
    {
     "data": {
      "text/html": [
       "<div>\n",
       "<style scoped>\n",
       "    .dataframe tbody tr th:only-of-type {\n",
       "        vertical-align: middle;\n",
       "    }\n",
       "\n",
       "    .dataframe tbody tr th {\n",
       "        vertical-align: top;\n",
       "    }\n",
       "\n",
       "    .dataframe thead th {\n",
       "        text-align: right;\n",
       "    }\n",
       "</style>\n",
       "<table border=\"1\" class=\"dataframe\">\n",
       "  <thead>\n",
       "    <tr style=\"text-align: right;\">\n",
       "      <th></th>\n",
       "      <th>RegistrationYear</th>\n",
       "      <th>Power</th>\n",
       "      <th>Kilometer</th>\n",
       "    </tr>\n",
       "  </thead>\n",
       "  <tbody>\n",
       "    <tr>\n",
       "      <th>0</th>\n",
       "      <td>0.218091</td>\n",
       "      <td>0.499614</td>\n",
       "      <td>0.568590</td>\n",
       "    </tr>\n",
       "    <tr>\n",
       "      <th>1</th>\n",
       "      <td>-0.136445</td>\n",
       "      <td>-0.170403</td>\n",
       "      <td>0.568590</td>\n",
       "    </tr>\n",
       "    <tr>\n",
       "      <th>2</th>\n",
       "      <td>0.040823</td>\n",
       "      <td>-0.273483</td>\n",
       "      <td>-0.785789</td>\n",
       "    </tr>\n",
       "    <tr>\n",
       "      <th>3</th>\n",
       "      <td>1.281697</td>\n",
       "      <td>-0.170403</td>\n",
       "      <td>-0.108599</td>\n",
       "    </tr>\n",
       "    <tr>\n",
       "      <th>4</th>\n",
       "      <td>0.040823</td>\n",
       "      <td>0.808853</td>\n",
       "      <td>0.568590</td>\n",
       "    </tr>\n",
       "    <tr>\n",
       "      <th>...</th>\n",
       "      <td>...</td>\n",
       "      <td>...</td>\n",
       "      <td>...</td>\n",
       "    </tr>\n",
       "    <tr>\n",
       "      <th>213508</th>\n",
       "      <td>-1.022783</td>\n",
       "      <td>-0.943500</td>\n",
       "      <td>0.568590</td>\n",
       "    </tr>\n",
       "    <tr>\n",
       "      <th>213509</th>\n",
       "      <td>-1.022783</td>\n",
       "      <td>0.525384</td>\n",
       "      <td>0.568590</td>\n",
       "    </tr>\n",
       "    <tr>\n",
       "      <th>213510</th>\n",
       "      <td>1.104429</td>\n",
       "      <td>-1.330048</td>\n",
       "      <td>-2.411045</td>\n",
       "    </tr>\n",
       "    <tr>\n",
       "      <th>213511</th>\n",
       "      <td>-0.490980</td>\n",
       "      <td>-1.381588</td>\n",
       "      <td>0.568590</td>\n",
       "    </tr>\n",
       "    <tr>\n",
       "      <th>213512</th>\n",
       "      <td>2.345304</td>\n",
       "      <td>-0.118863</td>\n",
       "      <td>0.568590</td>\n",
       "    </tr>\n",
       "  </tbody>\n",
       "</table>\n",
       "<p>213513 rows × 3 columns</p>\n",
       "</div>"
      ],
      "text/plain": [
       "        RegistrationYear     Power  Kilometer\n",
       "0               0.218091  0.499614   0.568590\n",
       "1              -0.136445 -0.170403   0.568590\n",
       "2               0.040823 -0.273483  -0.785789\n",
       "3               1.281697 -0.170403  -0.108599\n",
       "4               0.040823  0.808853   0.568590\n",
       "...                  ...       ...        ...\n",
       "213508         -1.022783 -0.943500   0.568590\n",
       "213509         -1.022783  0.525384   0.568590\n",
       "213510          1.104429 -1.330048  -2.411045\n",
       "213511         -0.490980 -1.381588   0.568590\n",
       "213512          2.345304 -0.118863   0.568590\n",
       "\n",
       "[213513 rows x 3 columns]"
      ]
     },
     "execution_count": 40,
     "metadata": {},
     "output_type": "execute_result"
    }
   ],
   "source": [
    "# масштабирование данных количественных признаков\n",
    "columns_scaler = columns[:3]\n",
    "scaler = StandardScaler()\n",
    "scaler.fit(features_ohe_train[columns_scaler])\n",
    "features_scaler = pd.DataFrame(scaler.transform(features_ohe_train[columns_scaler]), columns=columns_scaler)\n",
    "features_scaler"
   ]
  },
  {
   "cell_type": "code",
   "execution_count": 41,
   "metadata": {},
   "outputs": [
    {
     "data": {
      "text/html": [
       "<div>\n",
       "<style scoped>\n",
       "    .dataframe tbody tr th:only-of-type {\n",
       "        vertical-align: middle;\n",
       "    }\n",
       "\n",
       "    .dataframe tbody tr th {\n",
       "        vertical-align: top;\n",
       "    }\n",
       "\n",
       "    .dataframe thead th {\n",
       "        text-align: right;\n",
       "    }\n",
       "</style>\n",
       "<table border=\"1\" class=\"dataframe\">\n",
       "  <thead>\n",
       "    <tr style=\"text-align: right;\">\n",
       "      <th></th>\n",
       "      <th>key_0</th>\n",
       "      <th>RegistrationYear</th>\n",
       "      <th>Power</th>\n",
       "      <th>Kilometer</th>\n",
       "      <th>VehicleType_convertible</th>\n",
       "      <th>VehicleType_coupe</th>\n",
       "      <th>VehicleType_other</th>\n",
       "      <th>VehicleType_sedan</th>\n",
       "      <th>VehicleType_small</th>\n",
       "      <th>VehicleType_suv</th>\n",
       "      <th>...</th>\n",
       "      <th>Brand_smart</th>\n",
       "      <th>Brand_sonstige_autos</th>\n",
       "      <th>Brand_subaru</th>\n",
       "      <th>Brand_suzuki</th>\n",
       "      <th>Brand_toyota</th>\n",
       "      <th>Brand_trabant</th>\n",
       "      <th>Brand_volkswagen</th>\n",
       "      <th>Brand_volvo</th>\n",
       "      <th>NotRepaired_other</th>\n",
       "      <th>NotRepaired_yes</th>\n",
       "    </tr>\n",
       "  </thead>\n",
       "  <tbody>\n",
       "    <tr>\n",
       "      <th>0</th>\n",
       "      <td>142977</td>\n",
       "      <td>0.218091</td>\n",
       "      <td>0.499614</td>\n",
       "      <td>0.568590</td>\n",
       "      <td>0</td>\n",
       "      <td>0</td>\n",
       "      <td>0</td>\n",
       "      <td>0</td>\n",
       "      <td>0</td>\n",
       "      <td>0</td>\n",
       "      <td>...</td>\n",
       "      <td>0</td>\n",
       "      <td>0</td>\n",
       "      <td>0</td>\n",
       "      <td>0</td>\n",
       "      <td>0</td>\n",
       "      <td>0</td>\n",
       "      <td>1</td>\n",
       "      <td>0</td>\n",
       "      <td>0</td>\n",
       "      <td>0</td>\n",
       "    </tr>\n",
       "    <tr>\n",
       "      <th>1</th>\n",
       "      <td>126056</td>\n",
       "      <td>-0.136445</td>\n",
       "      <td>-0.170403</td>\n",
       "      <td>0.568590</td>\n",
       "      <td>0</td>\n",
       "      <td>0</td>\n",
       "      <td>0</td>\n",
       "      <td>1</td>\n",
       "      <td>0</td>\n",
       "      <td>0</td>\n",
       "      <td>...</td>\n",
       "      <td>0</td>\n",
       "      <td>0</td>\n",
       "      <td>0</td>\n",
       "      <td>0</td>\n",
       "      <td>0</td>\n",
       "      <td>0</td>\n",
       "      <td>0</td>\n",
       "      <td>0</td>\n",
       "      <td>0</td>\n",
       "      <td>0</td>\n",
       "    </tr>\n",
       "    <tr>\n",
       "      <th>2</th>\n",
       "      <td>20126</td>\n",
       "      <td>0.040823</td>\n",
       "      <td>-0.273483</td>\n",
       "      <td>-0.785789</td>\n",
       "      <td>0</td>\n",
       "      <td>0</td>\n",
       "      <td>0</td>\n",
       "      <td>0</td>\n",
       "      <td>0</td>\n",
       "      <td>0</td>\n",
       "      <td>...</td>\n",
       "      <td>0</td>\n",
       "      <td>0</td>\n",
       "      <td>0</td>\n",
       "      <td>0</td>\n",
       "      <td>0</td>\n",
       "      <td>0</td>\n",
       "      <td>0</td>\n",
       "      <td>0</td>\n",
       "      <td>0</td>\n",
       "      <td>0</td>\n",
       "    </tr>\n",
       "    <tr>\n",
       "      <th>3</th>\n",
       "      <td>163076</td>\n",
       "      <td>1.281697</td>\n",
       "      <td>-0.170403</td>\n",
       "      <td>-0.108599</td>\n",
       "      <td>0</td>\n",
       "      <td>0</td>\n",
       "      <td>0</td>\n",
       "      <td>0</td>\n",
       "      <td>0</td>\n",
       "      <td>0</td>\n",
       "      <td>...</td>\n",
       "      <td>0</td>\n",
       "      <td>0</td>\n",
       "      <td>0</td>\n",
       "      <td>0</td>\n",
       "      <td>0</td>\n",
       "      <td>0</td>\n",
       "      <td>0</td>\n",
       "      <td>0</td>\n",
       "      <td>1</td>\n",
       "      <td>0</td>\n",
       "    </tr>\n",
       "    <tr>\n",
       "      <th>4</th>\n",
       "      <td>239323</td>\n",
       "      <td>0.040823</td>\n",
       "      <td>0.808853</td>\n",
       "      <td>0.568590</td>\n",
       "      <td>0</td>\n",
       "      <td>0</td>\n",
       "      <td>0</td>\n",
       "      <td>1</td>\n",
       "      <td>0</td>\n",
       "      <td>0</td>\n",
       "      <td>...</td>\n",
       "      <td>0</td>\n",
       "      <td>0</td>\n",
       "      <td>0</td>\n",
       "      <td>0</td>\n",
       "      <td>0</td>\n",
       "      <td>0</td>\n",
       "      <td>0</td>\n",
       "      <td>0</td>\n",
       "      <td>0</td>\n",
       "      <td>0</td>\n",
       "    </tr>\n",
       "    <tr>\n",
       "      <th>...</th>\n",
       "      <td>...</td>\n",
       "      <td>...</td>\n",
       "      <td>...</td>\n",
       "      <td>...</td>\n",
       "      <td>...</td>\n",
       "      <td>...</td>\n",
       "      <td>...</td>\n",
       "      <td>...</td>\n",
       "      <td>...</td>\n",
       "      <td>...</td>\n",
       "      <td>...</td>\n",
       "      <td>...</td>\n",
       "      <td>...</td>\n",
       "      <td>...</td>\n",
       "      <td>...</td>\n",
       "      <td>...</td>\n",
       "      <td>...</td>\n",
       "      <td>...</td>\n",
       "      <td>...</td>\n",
       "      <td>...</td>\n",
       "      <td>...</td>\n",
       "    </tr>\n",
       "    <tr>\n",
       "      <th>213508</th>\n",
       "      <td>158838</td>\n",
       "      <td>-1.022783</td>\n",
       "      <td>-0.943500</td>\n",
       "      <td>0.568590</td>\n",
       "      <td>0</td>\n",
       "      <td>0</td>\n",
       "      <td>0</td>\n",
       "      <td>1</td>\n",
       "      <td>0</td>\n",
       "      <td>0</td>\n",
       "      <td>...</td>\n",
       "      <td>0</td>\n",
       "      <td>0</td>\n",
       "      <td>0</td>\n",
       "      <td>0</td>\n",
       "      <td>0</td>\n",
       "      <td>0</td>\n",
       "      <td>0</td>\n",
       "      <td>0</td>\n",
       "      <td>1</td>\n",
       "      <td>0</td>\n",
       "    </tr>\n",
       "    <tr>\n",
       "      <th>213509</th>\n",
       "      <td>47873</td>\n",
       "      <td>-1.022783</td>\n",
       "      <td>0.525384</td>\n",
       "      <td>0.568590</td>\n",
       "      <td>0</td>\n",
       "      <td>1</td>\n",
       "      <td>0</td>\n",
       "      <td>0</td>\n",
       "      <td>0</td>\n",
       "      <td>0</td>\n",
       "      <td>...</td>\n",
       "      <td>0</td>\n",
       "      <td>0</td>\n",
       "      <td>0</td>\n",
       "      <td>0</td>\n",
       "      <td>0</td>\n",
       "      <td>0</td>\n",
       "      <td>0</td>\n",
       "      <td>0</td>\n",
       "      <td>1</td>\n",
       "      <td>0</td>\n",
       "    </tr>\n",
       "    <tr>\n",
       "      <th>213510</th>\n",
       "      <td>86398</td>\n",
       "      <td>1.104429</td>\n",
       "      <td>-1.330048</td>\n",
       "      <td>-2.411045</td>\n",
       "      <td>0</td>\n",
       "      <td>0</td>\n",
       "      <td>0</td>\n",
       "      <td>0</td>\n",
       "      <td>1</td>\n",
       "      <td>0</td>\n",
       "      <td>...</td>\n",
       "      <td>0</td>\n",
       "      <td>0</td>\n",
       "      <td>0</td>\n",
       "      <td>0</td>\n",
       "      <td>0</td>\n",
       "      <td>0</td>\n",
       "      <td>0</td>\n",
       "      <td>0</td>\n",
       "      <td>0</td>\n",
       "      <td>0</td>\n",
       "    </tr>\n",
       "    <tr>\n",
       "      <th>213511</th>\n",
       "      <td>77285</td>\n",
       "      <td>-0.490980</td>\n",
       "      <td>-1.381588</td>\n",
       "      <td>0.568590</td>\n",
       "      <td>0</td>\n",
       "      <td>0</td>\n",
       "      <td>0</td>\n",
       "      <td>0</td>\n",
       "      <td>1</td>\n",
       "      <td>0</td>\n",
       "      <td>...</td>\n",
       "      <td>0</td>\n",
       "      <td>0</td>\n",
       "      <td>0</td>\n",
       "      <td>0</td>\n",
       "      <td>0</td>\n",
       "      <td>0</td>\n",
       "      <td>0</td>\n",
       "      <td>0</td>\n",
       "      <td>0</td>\n",
       "      <td>0</td>\n",
       "    </tr>\n",
       "    <tr>\n",
       "      <th>213512</th>\n",
       "      <td>217570</td>\n",
       "      <td>2.345304</td>\n",
       "      <td>-0.118863</td>\n",
       "      <td>0.568590</td>\n",
       "      <td>0</td>\n",
       "      <td>0</td>\n",
       "      <td>1</td>\n",
       "      <td>0</td>\n",
       "      <td>0</td>\n",
       "      <td>0</td>\n",
       "      <td>...</td>\n",
       "      <td>0</td>\n",
       "      <td>0</td>\n",
       "      <td>0</td>\n",
       "      <td>0</td>\n",
       "      <td>0</td>\n",
       "      <td>0</td>\n",
       "      <td>0</td>\n",
       "      <td>0</td>\n",
       "      <td>1</td>\n",
       "      <td>0</td>\n",
       "    </tr>\n",
       "  </tbody>\n",
       "</table>\n",
       "<p>213513 rows × 308 columns</p>\n",
       "</div>"
      ],
      "text/plain": [
       "         key_0  RegistrationYear     Power  Kilometer  \\\n",
       "0       142977          0.218091  0.499614   0.568590   \n",
       "1       126056         -0.136445 -0.170403   0.568590   \n",
       "2        20126          0.040823 -0.273483  -0.785789   \n",
       "3       163076          1.281697 -0.170403  -0.108599   \n",
       "4       239323          0.040823  0.808853   0.568590   \n",
       "...        ...               ...       ...        ...   \n",
       "213508  158838         -1.022783 -0.943500   0.568590   \n",
       "213509   47873         -1.022783  0.525384   0.568590   \n",
       "213510   86398          1.104429 -1.330048  -2.411045   \n",
       "213511   77285         -0.490980 -1.381588   0.568590   \n",
       "213512  217570          2.345304 -0.118863   0.568590   \n",
       "\n",
       "        VehicleType_convertible  VehicleType_coupe  VehicleType_other  \\\n",
       "0                             0                  0                  0   \n",
       "1                             0                  0                  0   \n",
       "2                             0                  0                  0   \n",
       "3                             0                  0                  0   \n",
       "4                             0                  0                  0   \n",
       "...                         ...                ...                ...   \n",
       "213508                        0                  0                  0   \n",
       "213509                        0                  1                  0   \n",
       "213510                        0                  0                  0   \n",
       "213511                        0                  0                  0   \n",
       "213512                        0                  0                  1   \n",
       "\n",
       "        VehicleType_sedan  VehicleType_small  VehicleType_suv  ...  \\\n",
       "0                       0                  0                0  ...   \n",
       "1                       1                  0                0  ...   \n",
       "2                       0                  0                0  ...   \n",
       "3                       0                  0                0  ...   \n",
       "4                       1                  0                0  ...   \n",
       "...                   ...                ...              ...  ...   \n",
       "213508                  1                  0                0  ...   \n",
       "213509                  0                  0                0  ...   \n",
       "213510                  0                  1                0  ...   \n",
       "213511                  0                  1                0  ...   \n",
       "213512                  0                  0                0  ...   \n",
       "\n",
       "        Brand_smart  Brand_sonstige_autos  Brand_subaru  Brand_suzuki  \\\n",
       "0                 0                     0             0             0   \n",
       "1                 0                     0             0             0   \n",
       "2                 0                     0             0             0   \n",
       "3                 0                     0             0             0   \n",
       "4                 0                     0             0             0   \n",
       "...             ...                   ...           ...           ...   \n",
       "213508            0                     0             0             0   \n",
       "213509            0                     0             0             0   \n",
       "213510            0                     0             0             0   \n",
       "213511            0                     0             0             0   \n",
       "213512            0                     0             0             0   \n",
       "\n",
       "        Brand_toyota  Brand_trabant  Brand_volkswagen  Brand_volvo  \\\n",
       "0                  0              0                 1            0   \n",
       "1                  0              0                 0            0   \n",
       "2                  0              0                 0            0   \n",
       "3                  0              0                 0            0   \n",
       "4                  0              0                 0            0   \n",
       "...              ...            ...               ...          ...   \n",
       "213508             0              0                 0            0   \n",
       "213509             0              0                 0            0   \n",
       "213510             0              0                 0            0   \n",
       "213511             0              0                 0            0   \n",
       "213512             0              0                 0            0   \n",
       "\n",
       "        NotRepaired_other  NotRepaired_yes  \n",
       "0                       0                0  \n",
       "1                       0                0  \n",
       "2                       0                0  \n",
       "3                       1                0  \n",
       "4                       0                0  \n",
       "...                   ...              ...  \n",
       "213508                  1                0  \n",
       "213509                  1                0  \n",
       "213510                  0                0  \n",
       "213511                  0                0  \n",
       "213512                  1                0  \n",
       "\n",
       "[213513 rows x 308 columns]"
      ]
     },
     "execution_count": 41,
     "metadata": {},
     "output_type": "execute_result"
    }
   ],
   "source": [
    "# проверка на пустые строки\n",
    "features_ohe_scaler_train = features_scaler.merge(features_ohe_train[columns[3:]], on=features_ohe_train.index, how='outer')\n",
    "features_ohe_scaler_train"
   ]
  },
  {
   "cell_type": "code",
   "execution_count": 42,
   "metadata": {},
   "outputs": [
    {
     "data": {
      "text/plain": [
       "((213513, 308), (213513,))"
      ]
     },
     "execution_count": 42,
     "metadata": {},
     "output_type": "execute_result"
    }
   ],
   "source": [
    "# проверка на размерность признаков и цели\n",
    "features_ohe_scaler_train.shape, target_ohe_train.shape"
   ]
  },
  {
   "cell_type": "code",
   "execution_count": 43,
   "metadata": {},
   "outputs": [
    {
     "data": {
      "text/plain": [
       "key_0                      0\n",
       "RegistrationYear           0\n",
       "Power                      0\n",
       "Kilometer                  0\n",
       "VehicleType_convertible    0\n",
       "                          ..\n",
       "Brand_trabant              0\n",
       "Brand_volkswagen           0\n",
       "Brand_volvo                0\n",
       "NotRepaired_other          0\n",
       "NotRepaired_yes            0\n",
       "Length: 308, dtype: int64"
      ]
     },
     "execution_count": 43,
     "metadata": {},
     "output_type": "execute_result"
    }
   ],
   "source": [
    "# проверка на пустые значения после соединения таблиц\n",
    "features_ohe_scaler_train.isna().sum()"
   ]
  },
  {
   "cell_type": "markdown",
   "metadata": {},
   "source": [
    "Датасет с маштабированием и ОНЕ-кодированием для обучения всех видов моделей готов. При этом тестовая выборка не маштабировалась."
   ]
  },
  {
   "cell_type": "markdown",
   "metadata": {},
   "source": [
    "#### ОНЕ с НЕ масштабированной обучающей выборкой"
   ]
  },
  {
   "cell_type": "code",
   "execution_count": 44,
   "metadata": {},
   "outputs": [
    {
     "data": {
      "text/plain": [
       "((213513, 307), (71172, 307), (213513,), (71172,))"
      ]
     },
     "execution_count": 44,
     "metadata": {},
     "output_type": "execute_result"
    }
   ],
   "source": [
    "# деление данных на НЕмасштабированные обучающую и тестовую выборки для обычных моделей\n",
    "features_ohe_NE_train, features_ohe_NE_test, target_ohe_NE_train, target_ohe_NE_test = train_test_split(features_ohe, target_ohe, test_size=.25, random_state=12345)\n",
    "features_ohe_NE_train.shape, features_ohe_NE_test.shape, target_ohe_NE_train.shape, target_ohe_NE_test.shape"
   ]
  },
  {
   "cell_type": "code",
   "execution_count": 45,
   "metadata": {},
   "outputs": [
    {
     "data": {
      "text/plain": [
       "(RegistrationYear           0\n",
       " Power                      0\n",
       " Kilometer                  0\n",
       " VehicleType_convertible    0\n",
       " VehicleType_coupe          0\n",
       "                           ..\n",
       " Brand_trabant              0\n",
       " Brand_volkswagen           0\n",
       " Brand_volvo                0\n",
       " NotRepaired_other          0\n",
       " NotRepaired_yes            0\n",
       " Length: 307, dtype: int64,\n",
       " RegistrationYear           0\n",
       " Power                      0\n",
       " Kilometer                  0\n",
       " VehicleType_convertible    0\n",
       " VehicleType_coupe          0\n",
       "                           ..\n",
       " Brand_trabant              0\n",
       " Brand_volkswagen           0\n",
       " Brand_volvo                0\n",
       " NotRepaired_other          0\n",
       " NotRepaired_yes            0\n",
       " Length: 307, dtype: int64,\n",
       " 0,\n",
       " 0)"
      ]
     },
     "execution_count": 45,
     "metadata": {},
     "output_type": "execute_result"
    }
   ],
   "source": [
    "features_ohe_NE_train.isna().sum(), features_ohe_NE_test.isna().sum(), target_ohe_NE_train.isna().sum(), target_ohe_NE_test.isna().sum()"
   ]
  },
  {
   "cell_type": "markdown",
   "metadata": {},
   "source": [
    "#### Выборки с Ordinal-кодированием для \"деревянных\" моделей"
   ]
  },
  {
   "cell_type": "code",
   "execution_count": 46,
   "metadata": {},
   "outputs": [
    {
     "data": {
      "text/html": [
       "<div>\n",
       "<style scoped>\n",
       "    .dataframe tbody tr th:only-of-type {\n",
       "        vertical-align: middle;\n",
       "    }\n",
       "\n",
       "    .dataframe tbody tr th {\n",
       "        vertical-align: top;\n",
       "    }\n",
       "\n",
       "    .dataframe thead th {\n",
       "        text-align: right;\n",
       "    }\n",
       "</style>\n",
       "<table border=\"1\" class=\"dataframe\">\n",
       "  <thead>\n",
       "    <tr style=\"text-align: right;\">\n",
       "      <th></th>\n",
       "      <th>Price</th>\n",
       "      <th>VehicleType</th>\n",
       "      <th>RegistrationYear</th>\n",
       "      <th>Gearbox</th>\n",
       "      <th>Power</th>\n",
       "      <th>Model</th>\n",
       "      <th>Kilometer</th>\n",
       "      <th>FuelType</th>\n",
       "      <th>Brand</th>\n",
       "      <th>NotRepaired</th>\n",
       "    </tr>\n",
       "  </thead>\n",
       "  <tbody>\n",
       "    <tr>\n",
       "      <th>0</th>\n",
       "      <td>255.0</td>\n",
       "      <td>3.0</td>\n",
       "      <td>8.0</td>\n",
       "      <td>1.0</td>\n",
       "      <td>75.0</td>\n",
       "      <td>116.0</td>\n",
       "      <td>12.0</td>\n",
       "      <td>6.0</td>\n",
       "      <td>38.0</td>\n",
       "      <td>1.0</td>\n",
       "    </tr>\n",
       "    <tr>\n",
       "      <th>1</th>\n",
       "      <td>2589.0</td>\n",
       "      <td>6.0</td>\n",
       "      <td>19.0</td>\n",
       "      <td>0.0</td>\n",
       "      <td>133.0</td>\n",
       "      <td>117.0</td>\n",
       "      <td>11.0</td>\n",
       "      <td>2.0</td>\n",
       "      <td>14.0</td>\n",
       "      <td>1.0</td>\n",
       "    </tr>\n",
       "    <tr>\n",
       "      <th>2</th>\n",
       "      <td>695.0</td>\n",
       "      <td>5.0</td>\n",
       "      <td>16.0</td>\n",
       "      <td>1.0</td>\n",
       "      <td>45.0</td>\n",
       "      <td>116.0</td>\n",
       "      <td>12.0</td>\n",
       "      <td>6.0</td>\n",
       "      <td>38.0</td>\n",
       "      <td>0.0</td>\n",
       "    </tr>\n",
       "    <tr>\n",
       "      <th>3</th>\n",
       "      <td>1332.0</td>\n",
       "      <td>5.0</td>\n",
       "      <td>23.0</td>\n",
       "      <td>1.0</td>\n",
       "      <td>39.0</td>\n",
       "      <td>101.0</td>\n",
       "      <td>9.0</td>\n",
       "      <td>2.0</td>\n",
       "      <td>31.0</td>\n",
       "      <td>0.0</td>\n",
       "    </tr>\n",
       "    <tr>\n",
       "      <th>4</th>\n",
       "      <td>338.0</td>\n",
       "      <td>4.0</td>\n",
       "      <td>10.0</td>\n",
       "      <td>1.0</td>\n",
       "      <td>72.0</td>\n",
       "      <td>11.0</td>\n",
       "      <td>12.0</td>\n",
       "      <td>6.0</td>\n",
       "      <td>2.0</td>\n",
       "      <td>2.0</td>\n",
       "    </tr>\n",
       "    <tr>\n",
       "      <th>...</th>\n",
       "      <td>...</td>\n",
       "      <td>...</td>\n",
       "      <td>...</td>\n",
       "      <td>...</td>\n",
       "      <td>...</td>\n",
       "      <td>...</td>\n",
       "      <td>...</td>\n",
       "      <td>...</td>\n",
       "      <td>...</td>\n",
       "      <td>...</td>\n",
       "    </tr>\n",
       "    <tr>\n",
       "      <th>284680</th>\n",
       "      <td>1225.0</td>\n",
       "      <td>4.0</td>\n",
       "      <td>19.0</td>\n",
       "      <td>1.0</td>\n",
       "      <td>195.0</td>\n",
       "      <td>140.0</td>\n",
       "      <td>12.0</td>\n",
       "      <td>6.0</td>\n",
       "      <td>30.0</td>\n",
       "      <td>2.0</td>\n",
       "    </tr>\n",
       "    <tr>\n",
       "      <th>284681</th>\n",
       "      <td>922.0</td>\n",
       "      <td>3.0</td>\n",
       "      <td>20.0</td>\n",
       "      <td>1.0</td>\n",
       "      <td>75.0</td>\n",
       "      <td>166.0</td>\n",
       "      <td>2.0</td>\n",
       "      <td>5.0</td>\n",
       "      <td>33.0</td>\n",
       "      <td>1.0</td>\n",
       "    </tr>\n",
       "    <tr>\n",
       "      <th>284682</th>\n",
       "      <td>567.0</td>\n",
       "      <td>1.0</td>\n",
       "      <td>15.0</td>\n",
       "      <td>0.0</td>\n",
       "      <td>71.0</td>\n",
       "      <td>106.0</td>\n",
       "      <td>11.0</td>\n",
       "      <td>6.0</td>\n",
       "      <td>32.0</td>\n",
       "      <td>0.0</td>\n",
       "    </tr>\n",
       "    <tr>\n",
       "      <th>284683</th>\n",
       "      <td>2491.0</td>\n",
       "      <td>0.0</td>\n",
       "      <td>11.0</td>\n",
       "      <td>1.0</td>\n",
       "      <td>72.0</td>\n",
       "      <td>224.0</td>\n",
       "      <td>12.0</td>\n",
       "      <td>2.0</td>\n",
       "      <td>38.0</td>\n",
       "      <td>0.0</td>\n",
       "    </tr>\n",
       "    <tr>\n",
       "      <th>284684</th>\n",
       "      <td>1273.0</td>\n",
       "      <td>7.0</td>\n",
       "      <td>17.0</td>\n",
       "      <td>1.0</td>\n",
       "      <td>70.0</td>\n",
       "      <td>116.0</td>\n",
       "      <td>12.0</td>\n",
       "      <td>2.0</td>\n",
       "      <td>38.0</td>\n",
       "      <td>1.0</td>\n",
       "    </tr>\n",
       "  </tbody>\n",
       "</table>\n",
       "<p>284685 rows × 10 columns</p>\n",
       "</div>"
      ],
      "text/plain": [
       "         Price  VehicleType  RegistrationYear  Gearbox  Power  Model  \\\n",
       "0        255.0          3.0               8.0      1.0   75.0  116.0   \n",
       "1       2589.0          6.0              19.0      0.0  133.0  117.0   \n",
       "2        695.0          5.0              16.0      1.0   45.0  116.0   \n",
       "3       1332.0          5.0              23.0      1.0   39.0  101.0   \n",
       "4        338.0          4.0              10.0      1.0   72.0   11.0   \n",
       "...        ...          ...               ...      ...    ...    ...   \n",
       "284680  1225.0          4.0              19.0      1.0  195.0  140.0   \n",
       "284681   922.0          3.0              20.0      1.0   75.0  166.0   \n",
       "284682   567.0          1.0              15.0      0.0   71.0  106.0   \n",
       "284683  2491.0          0.0              11.0      1.0   72.0  224.0   \n",
       "284684  1273.0          7.0              17.0      1.0   70.0  116.0   \n",
       "\n",
       "        Kilometer  FuelType  Brand  NotRepaired  \n",
       "0            12.0       6.0   38.0          1.0  \n",
       "1            11.0       2.0   14.0          1.0  \n",
       "2            12.0       6.0   38.0          0.0  \n",
       "3             9.0       2.0   31.0          0.0  \n",
       "4            12.0       6.0    2.0          2.0  \n",
       "...           ...       ...    ...          ...  \n",
       "284680       12.0       6.0   30.0          2.0  \n",
       "284681        2.0       5.0   33.0          1.0  \n",
       "284682       11.0       6.0   32.0          0.0  \n",
       "284683       12.0       2.0   38.0          0.0  \n",
       "284684       12.0       2.0   38.0          1.0  \n",
       "\n",
       "[284685 rows x 10 columns]"
      ]
     },
     "execution_count": 46,
     "metadata": {},
     "output_type": "execute_result"
    }
   ],
   "source": [
    "# выборка с Ordinal-кодированием для деревьев\n",
    "encoder = OrdinalEncoder()\n",
    "encoder.fit(data)\n",
    "data_ordinal = pd.DataFrame(encoder.transform(data), columns=data.columns)\n",
    "data_ordinal"
   ]
  },
  {
   "cell_type": "code",
   "execution_count": 47,
   "metadata": {},
   "outputs": [
    {
     "data": {
      "text/plain": [
       "((284685, 9), (284685,))"
      ]
     },
     "execution_count": 47,
     "metadata": {},
     "output_type": "execute_result"
    }
   ],
   "source": [
    "# деление данных\n",
    "features_ordinal = data_ordinal.drop(['Price'], axis=1)\n",
    "target_ordinal = data_ordinal['Price']\n",
    "features_ordinal.shape, target_ordinal.shape"
   ]
  },
  {
   "cell_type": "code",
   "execution_count": 48,
   "metadata": {},
   "outputs": [
    {
     "data": {
      "text/plain": [
       "((213513, 9), (71172, 9), (213513,), (71172,))"
      ]
     },
     "execution_count": 48,
     "metadata": {},
     "output_type": "execute_result"
    }
   ],
   "source": [
    "# деление данных на обучающую и тестовую выборки для \"дерявянных\" моделей\n",
    "features_ordinal_train, features_ordinal_test, target_ordinal_train, target_ordinal_test = train_test_split(features_ordinal, target_ordinal, test_size=.25, random_state=12345)\n",
    "features_ordinal_train.shape, features_ordinal_test.shape, target_ordinal_train.shape, target_ordinal_test.shape"
   ]
  },
  {
   "cell_type": "markdown",
   "metadata": {},
   "source": [
    "#### Выборки без кодирования"
   ]
  },
  {
   "cell_type": "code",
   "execution_count": 49,
   "metadata": {},
   "outputs": [
    {
     "data": {
      "text/plain": [
       "((284685, 9), (284685,))"
      ]
     },
     "execution_count": 49,
     "metadata": {},
     "output_type": "execute_result"
    }
   ],
   "source": [
    "# деление данных для библиотек CatBoost и LightGBM\n",
    "features = data.drop(['Price'], axis=1)\n",
    "target = data_ohe['Price']\n",
    "features.shape, target.shape"
   ]
  },
  {
   "cell_type": "code",
   "execution_count": 50,
   "metadata": {},
   "outputs": [
    {
     "data": {
      "text/plain": [
       "((213513, 9), (71172, 9), (213513,), (71172,))"
      ]
     },
     "execution_count": 50,
     "metadata": {},
     "output_type": "execute_result"
    }
   ],
   "source": [
    "# деление данных на обучающую и тестовую выборки для библиотек CatBoost и LightGBM\n",
    "features_train, features_test, target_train, target_test = train_test_split(features, target, test_size=.25, random_state=12345)\n",
    "features_train.shape, features_test.shape, target_train.shape, target_test.shape"
   ]
  },
  {
   "cell_type": "markdown",
   "metadata": {},
   "source": [
    "**Вывод по разделу Подготовка данных:**\n",
    "* подготовлено **четыре датафрейма** - для использования библиотек, которые могут работать с категориальными признаками без их преобразования к числовому типу, и для работы с обычными регрессиями, где все данные масштабированы и в числовом типе, получен датасет для \"деревянных моделей\".\n",
    "* датасет немного меньше по количеству записей - из него были удалены явные **дубли**, отличающиеся только датами работы с объявлениями.\n",
    "* **удалено** также **несколько признаков**, которые, по моему мнению, не имеют прямого отношения к целевому признаку - цене авто.\n",
    "* данные поделены на **обучающую и тестовую выборки** с выделением целевого признака для обоих случаев, а также с учетом масштабирования только обучающего датасета при ОНЕ-кодировании признаков.  \n",
    "Данные готовы к работе по обучению моделей."
   ]
  },
  {
   "cell_type": "markdown",
   "metadata": {},
   "source": [
    "## Обучение моделей"
   ]
  },
  {
   "cell_type": "code",
   "execution_count": 51,
   "metadata": {},
   "outputs": [],
   "source": [
    "# словарь по моделям и их результатам для создания сводной таблицы\n",
    "answer = {}"
   ]
  },
  {
   "cell_type": "markdown",
   "metadata": {},
   "source": [
    "### Линейные регрессии"
   ]
  },
  {
   "cell_type": "markdown",
   "metadata": {},
   "source": [
    "Предположу, что линейные регрессии не чувствительны к масштабу выборок. Проверю это на примере работы моделей на масштабированной и НЕмасштабированной выборках."
   ]
  },
  {
   "cell_type": "markdown",
   "metadata": {},
   "source": [
    "#### Линейные регрессии на масштабированной обучающей выборке"
   ]
  },
  {
   "cell_type": "markdown",
   "metadata": {},
   "source": [
    "**LinearRegression()**"
   ]
  },
  {
   "cell_type": "code",
   "execution_count": 52,
   "metadata": {},
   "outputs": [
    {
     "name": "stdout",
     "output_type": "stream",
     "text": [
      "LinearRegression() 2218.935660134106 0:00:50.024770\n"
     ]
    }
   ],
   "source": [
    "# обучение линейной регрессии на масштабированной тренировочной выборке, поиск лучшего результата\n",
    "model = LinearRegression() \n",
    "start_time = datetime.now()\n",
    "score = make_scorer(mean_squared_error, greater_is_better=False)\n",
    "result = abs(cross_val_score(model, features_ohe_scaler_train, target_ohe_train, scoring='neg_root_mean_squared_error', cv=2).mean())\n",
    "t = datetime.now() - start_time\n",
    "print(model, result, t)"
   ]
  },
  {
   "cell_type": "code",
   "execution_count": 53,
   "metadata": {},
   "outputs": [
    {
     "name": "stdout",
     "output_type": "stream",
     "text": [
      "LinearRegression() 2212.601838062381 0:00:36.792246 0:00:00.487126\n"
     ]
    }
   ],
   "source": [
    "# замеры времени обучения и предсказания модели\n",
    "start_time = datetime.now()\n",
    "model.fit(features_ohe_scaler_train, target_ohe_train)\n",
    "t_learn = datetime.now() - start_time\n",
    "\n",
    "start_time = datetime.now()\n",
    "predictions = model.predict(features_ohe_scaler_train)\n",
    "t_predict = datetime.now() - start_time\n",
    "\n",
    "result1 = mean_squared_error(target_ohe_train, predictions) ** .5\n",
    "print(model, result1, t_learn, t_predict)"
   ]
  },
  {
   "cell_type": "code",
   "execution_count": 54,
   "metadata": {},
   "outputs": [],
   "source": [
    "# занесение результатов в словарь\n",
    "name = str(type(model)).split('.')[-1][:-2]\n",
    "answer[name] = (result, float(f'{t.seconds}.{t.microseconds}'))"
   ]
  },
  {
   "cell_type": "markdown",
   "metadata": {},
   "source": [
    "Странный результат метрики на кросс-валидации. Видим, что время предсказания при работе с LinearRegressor без кросс-валидации практически нулевое. Таким образом, основное внимание можно уделить времени обучения моделей - именно оно показательно. Или его можно экстраполировать до **общего времени работы совмещенной метрики** при реализации библиотечной кросс-валидации."
   ]
  },
  {
   "cell_type": "markdown",
   "metadata": {},
   "source": [
    "**RidgeCV()**"
   ]
  },
  {
   "cell_type": "markdown",
   "metadata": {},
   "source": [
    "**RidgeCV** реализует регрессию со встроенной перекрестной проверкой альфа-параметра. Объект работает так же, как GridSearchCV, за исключением того, что по умолчанию используется перекрестная проверка Leave-One-Out."
   ]
  },
  {
   "cell_type": "code",
   "execution_count": 55,
   "metadata": {},
   "outputs": [
    {
     "name": "stdout",
     "output_type": "stream",
     "text": [
      "RidgeCV(alphas=array([ 0.1,  1. , 10. ]), cv=5,\n",
      "        scoring='neg_root_mean_squared_error') 2212.675060899399 0:01:50.356452\n"
     ]
    }
   ],
   "source": [
    "model = RidgeCV(scoring='neg_root_mean_squared_error', cv=5)\n",
    "# замер времени\n",
    "start_time = datetime.now()\n",
    "model.fit(features_ohe_train, target_ohe_train)\n",
    "predictions = model.predict(features_ohe_train)\n",
    "t = datetime.now() - start_time\n",
    "# вывод результата по модели\n",
    "result = mean_squared_error(target_train, predictions) ** .5\n",
    "print(model, result, t)"
   ]
  },
  {
   "cell_type": "code",
   "execution_count": 56,
   "metadata": {},
   "outputs": [],
   "source": [
    "# занесение результатов в словарь\n",
    "name = str(type(model)).split('.')[-1][:-2]\n",
    "answer[name] = (result, float(f'{t.seconds}.{t.microseconds}'))"
   ]
  },
  {
   "cell_type": "markdown",
   "metadata": {},
   "source": [
    "#### Линейные регрессии на НЕмасштабированной обучающей выборке"
   ]
  },
  {
   "cell_type": "markdown",
   "metadata": {},
   "source": [
    "**LinearRegression()**"
   ]
  },
  {
   "cell_type": "code",
   "execution_count": 57,
   "metadata": {},
   "outputs": [
    {
     "name": "stdout",
     "output_type": "stream",
     "text": [
      "LinearRegression() 2216.839244950796\n"
     ]
    }
   ],
   "source": [
    "# обучение линейных регрессий на НЕмасштабированной тренировочной выборке, поиск лучшего результата\n",
    "model = LinearRegression() \n",
    "LR_model = model\n",
    "score = make_scorer(mean_squared_error, greater_is_better=False)\n",
    "result = abs(cross_val_score(LR_model, X=features_ohe_NE_train, y=target_ohe_NE_train, scoring='neg_root_mean_squared_error', cv=5).mean())\n",
    "print(model, result)"
   ]
  },
  {
   "cell_type": "code",
   "execution_count": 58,
   "metadata": {},
   "outputs": [
    {
     "name": "stdout",
     "output_type": "stream",
     "text": [
      "LinearRegression() 2212.620276567153 0:00:46.372638\n"
     ]
    }
   ],
   "source": [
    "# замеры времени обучения и времени предсказания модели\n",
    "start_time = datetime.now()\n",
    "LR_model.fit(features_ohe_NE_train, target_ohe_NE_train)\n",
    "predictions = LR_model.predict(features_ohe_NE_train)\n",
    "t = datetime.now() - start_time\n",
    "# вывод результата по модели\n",
    "result = mean_squared_error(target_ohe_NE_train, predictions) ** .5\n",
    "print(LR_model, result, t)"
   ]
  },
  {
   "cell_type": "markdown",
   "metadata": {},
   "source": [
    "В таблицу занесла результат на НЕмасштабированной выборки и без кросс-валидации, т.к. он и по метрике лучше, а время на кросс-валидации явно проигрывает, однако, сохраняется возможность переучивания модели :("
   ]
  },
  {
   "cell_type": "code",
   "execution_count": 59,
   "metadata": {},
   "outputs": [],
   "source": [
    "# занесение результатов в словарь\n",
    "name = str(type(model)).split('.')[-1][:-2]\n",
    "answer[name] = min(answer[name], (result, float(f'{t.seconds}.{t.microseconds}')))"
   ]
  },
  {
   "cell_type": "markdown",
   "metadata": {},
   "source": [
    "**Вывод:** Линейная регрессия выдает на данном датасете лучший результат без кросс-валидации и масштабирования. Но без кросс-валидации можно заподозрить модель в переучивании. Проверим дальше, на тестовой выборке - переучилась ли модель."
   ]
  },
  {
   "cell_type": "markdown",
   "metadata": {},
   "source": [
    "**RidgeCV()**"
   ]
  },
  {
   "cell_type": "code",
   "execution_count": 60,
   "metadata": {},
   "outputs": [
    {
     "name": "stdout",
     "output_type": "stream",
     "text": [
      "RidgeCV(alphas=array([ 0.1,  1. , 10. ]), cv=5,\n",
      "        scoring='neg_root_mean_squared_error') 2212.675060899399 0:01:41.329274\n"
     ]
    }
   ],
   "source": [
    "model = RidgeCV(scoring='neg_root_mean_squared_error', cv=5)\n",
    "ridge_model = model\n",
    "# замер времени\n",
    "start_time = datetime.now()\n",
    "ridge_model.fit(features_ohe_train, target_ohe_train)\n",
    "predictions = ridge_model.predict(features_ohe_train)\n",
    "t = datetime.now() - start_time\n",
    "# вывод результата по модели\n",
    "result = mean_squared_error(target_train, predictions) ** .5\n",
    "print(model, result, t)"
   ]
  },
  {
   "cell_type": "code",
   "execution_count": 61,
   "metadata": {},
   "outputs": [],
   "source": [
    "# занесение результатов в словарь\n",
    "name = str(type(model)).split('.')[-1][:-2]\n",
    "answer[name] = min(answer[name], (result, float(f'{t.seconds}.{t.microseconds}')))"
   ]
  },
  {
   "cell_type": "markdown",
   "metadata": {},
   "source": [
    "RidgeCV() с кроссвалидацией показала себя одинаково и на масштабированной, и на НЕмасштабированной выборках, но время на масштабированной выборке лучше. Это будет отражено в таблице."
   ]
  },
  {
   "cell_type": "markdown",
   "metadata": {},
   "source": [
    "**Вывод:**\n",
    "* Немасштабированные данные значительно улучшили **метрику** только LinearRegression(). Гипотеза о нечувствительности моделей к масштабу не оправдала себя.\n",
    "* **Время обучения** на НЕмасштабированной выборке оказалось **другим** - то больше, то меньше, в зависмости от выборок, т.е. отличается от времени на масштабированной выборке!"
   ]
  },
  {
   "cell_type": "markdown",
   "metadata": {},
   "source": [
    "### \"Деревянные\" регрессии на Ordinal-выборке"
   ]
  },
  {
   "cell_type": "code",
   "execution_count": 62,
   "metadata": {},
   "outputs": [
    {
     "data": {
      "text/plain": [
       "DecisionTreeRegressor(max_depth=13, random_state=12345)"
      ]
     },
     "execution_count": 62,
     "metadata": {},
     "output_type": "execute_result"
    }
   ],
   "source": [
    "# подбор оптимальных параметров решающего дерева на Ordinal-кодированной тренировочной выборке\n",
    "model = DecisionTreeRegressor(random_state=12345)\n",
    "params = {'max_depth': range(2, 20)}\n",
    "grid = GridSearchCV(model, params, cv=2)\n",
    "grid.fit(features_ordinal_train, target_ordinal_train)\n",
    "DTR_model = grid.best_estimator_\n",
    "DTR_model"
   ]
  },
  {
   "cell_type": "code",
   "execution_count": 63,
   "metadata": {},
   "outputs": [
    {
     "name": "stdout",
     "output_type": "stream",
     "text": [
      "DecisionTreeRegressor(max_depth=13, random_state=12345) 411.30664316563923 0:00:02.000845\n"
     ]
    }
   ],
   "source": [
    "# обучение решающего дерева на Ordinal-кодированной тренировочной выборке, поиск лучшего результата\n",
    "model = DTR_model\n",
    "score = make_scorer(mean_squared_error, greater_is_better=False)\n",
    "start_time = datetime.now()\n",
    "result = abs(cross_val_score(model, X=features_ordinal_train, y=target_ordinal_train, scoring='neg_root_mean_squared_error', cv=5).mean())\n",
    "t = datetime.now() - start_time\n",
    "print(model, result, t)"
   ]
  },
  {
   "cell_type": "code",
   "execution_count": 64,
   "metadata": {},
   "outputs": [],
   "source": [
    "# занесение результатов в словарь\n",
    "name = str(type(model)).split('.')[-1][:-2]\n",
    "answer[name] = (result, float(f'{t.seconds}.{t.microseconds}'))"
   ]
  },
  {
   "cell_type": "code",
   "execution_count": 65,
   "metadata": {},
   "outputs": [
    {
     "data": {
      "text/plain": [
       "ExtraTreeRegressor(max_depth=14, random_state=12345)"
      ]
     },
     "execution_count": 65,
     "metadata": {},
     "output_type": "execute_result"
    }
   ],
   "source": [
    "# подбор оптимальных параметров ExtraTree() на Ordinal-кодированной тренировочной выборке\n",
    "model = ExtraTreeRegressor(random_state=12345)\n",
    "grid = GridSearchCV(model, params, cv=2)\n",
    "grid.fit(features_ordinal_train, target_ordinal_train)\n",
    "ETR_model = grid.best_estimator_\n",
    "ETR_model"
   ]
  },
  {
   "cell_type": "code",
   "execution_count": 66,
   "metadata": {},
   "outputs": [
    {
     "name": "stdout",
     "output_type": "stream",
     "text": [
      "ExtraTreeRegressor(max_depth=14, random_state=12345) 440.36896569341206 0:00:01.051638\n"
     ]
    }
   ],
   "source": [
    "# обучение решающего дерева на Ordinal-кодированной тренировочной выборке, поиск лучшего результата\n",
    "model = ETR_model\n",
    "score = make_scorer(mean_squared_error, greater_is_better=False)\n",
    "start_time = datetime.now()\n",
    "result = abs(cross_val_score(model, X=features_ordinal_train, y=target_ordinal_train, scoring='neg_root_mean_squared_error', cv=5).mean())\n",
    "t = datetime.now() - start_time\n",
    "print(model, result, t)"
   ]
  },
  {
   "cell_type": "code",
   "execution_count": 67,
   "metadata": {},
   "outputs": [],
   "source": [
    "# занесение результатов в словарь\n",
    "name = str(type(model)).split('.')[-1][:-2]\n",
    "answer[name] = (result, float(f'{t.seconds}.{t.microseconds}'))"
   ]
  },
  {
   "cell_type": "code",
   "execution_count": 68,
   "metadata": {},
   "outputs": [
    {
     "data": {
      "text/plain": [
       "{'LinearRegression': (2212.620276567153, 46.372638),\n",
       " 'RidgeCV': (2212.675060899399, 101.329274),\n",
       " 'DecisionTreeRegressor': (411.30664316563923, 2.845),\n",
       " 'ExtraTreeRegressor': (440.36896569341206, 1.51638)}"
      ]
     },
     "execution_count": 68,
     "metadata": {},
     "output_type": "execute_result"
    }
   ],
   "source": [
    "# контроль текущего состояния словаря\n",
    "answer"
   ]
  },
  {
   "cell_type": "markdown",
   "metadata": {},
   "source": [
    "**Вывод:**\n",
    "Деревянные регрессии с оптимальными параметрами и крассвалидацией дают результаты гораздо лучше, чем линейные регрессии - и по метрике, и по времени. Интересно, как поведут себя ансамбли деревьев?"
   ]
  },
  {
   "cell_type": "markdown",
   "metadata": {},
   "source": [
    "### Ансамбли из sklearn на Ordinal-выборке"
   ]
  },
  {
   "cell_type": "code",
   "execution_count": 69,
   "metadata": {},
   "outputs": [
    {
     "data": {
      "text/plain": [
       "[AdaBoostRegressor(n_estimators=4, random_state=12345),\n",
       " BaggingRegressor(n_estimators=48, random_state=12345)]"
      ]
     },
     "execution_count": 69,
     "metadata": {},
     "output_type": "execute_result"
    }
   ],
   "source": [
    "# автоподбор параметров для двух первых ансамблей - их параметры отличаются от двух оставшихся моделей\n",
    "models = [AdaBoostRegressor(random_state=12345), \n",
    "          BaggingRegressor(random_state=12345), \n",
    "          GradientBoostingRegressor(random_state=12345), \n",
    "          RandomForestRegressor(random_state=12345)]\n",
    "best_models = []\n",
    "for modell in models[:2]:\n",
    "    model = modell\n",
    "    params = {'n_estimators': range(2, 50, 2)}\n",
    "    grid = GridSearchCV(model, params, cv=2)\n",
    "    grid.fit(features_ordinal_train, target_ordinal_train)\n",
    "    best_models.append(grid.best_estimator_)\n",
    "best_models"
   ]
  },
  {
   "cell_type": "markdown",
   "metadata": {},
   "source": [
    "Делала для двух первых ансамблей перебор параметра - дерево в основе ансамбля, - но во всех случаях получила **решающее дерево** в качестве оптимального. Оно же задано по умолчанию, поэтому убрала этот параметр из подбора для улучшения времени работы подборного алгоритма.  \n",
    "По глубине - не превосходила 100, но это сильно растягивает время подбора. Думаю, что можно уменьшить до 50. "
   ]
  },
  {
   "cell_type": "code",
   "execution_count": 70,
   "metadata": {},
   "outputs": [
    {
     "data": {
      "text/plain": [
       "[AdaBoostRegressor(n_estimators=4, random_state=12345),\n",
       " BaggingRegressor(n_estimators=48, random_state=12345),\n",
       " GradientBoostingRegressor(max_depth=12, n_estimators=28, random_state=12345),\n",
       " RandomForestRegressor(max_depth=16, n_estimators=28, random_state=12345)]"
      ]
     },
     "execution_count": 70,
     "metadata": {},
     "output_type": "execute_result"
    }
   ],
   "source": [
    "# добавим автоподбор параметров для двух оставшихся ансамблей\n",
    "for modell in models[2:]:\n",
    "    model = modell\n",
    "    params = {'n_estimators': range(2, 30, 2),\n",
    "              'max_depth': range(2, 20, 2)}\n",
    "    grid = GridSearchCV(model, params, cv=2)\n",
    "    grid.fit(features_ordinal_train, target_ordinal_train)\n",
    "    best_models.append(grid.best_estimator_)\n",
    "best_models"
   ]
  },
  {
   "cell_type": "markdown",
   "metadata": {},
   "source": [
    "Работа автоподбора на этом датасете слишком затратна по времени. Перебрала только количество деревьев и макимальную глубину дерева в ансамбле. Судя по результату, по ранее выданным мною значениям,  параметров {'n_estimators': range(2, 30, 2), 'max_depth': range(2, 20, 2)} достаточно."
   ]
  },
  {
   "cell_type": "code",
   "execution_count": 71,
   "metadata": {},
   "outputs": [
    {
     "name": "stdout",
     "output_type": "stream",
     "text": [
      "AdaBoostRegressor(n_estimators=4, random_state=12345) 555.6134674950933 0:00:03.562801\n",
      "BaggingRegressor(n_estimators=48, random_state=12345) 368.01562705453154 0:01:44.474251\n",
      "GradientBoostingRegressor(max_depth=12, n_estimators=28, random_state=12345) 360.99342812402665 0:00:58.025613\n",
      "RandomForestRegressor(max_depth=16, n_estimators=28, random_state=12345) 364.43530725482844 0:00:45.173562\n"
     ]
    }
   ],
   "source": [
    "# обучение и предсказания по лучшим моделям\n",
    "for modell in best_models:\n",
    "    model = modell\n",
    "    score = make_scorer(mean_squared_error, greater_is_better=False)\n",
    "    start_time = datetime.now()\n",
    "    result = abs(cross_val_score(model, X=features_ordinal_train, y=target_ordinal_train, scoring='neg_root_mean_squared_error', cv=5).mean())\n",
    "    t = datetime.now() - start_time\n",
    "    print(model, result, t)\n",
    "    # занесение результатов в словарь\n",
    "    name = str(type(model)).split('.')[-1][:-2]\n",
    "    answer[name] = (result, float(f'{t.seconds}.{t.microseconds}'))"
   ]
  },
  {
   "cell_type": "code",
   "execution_count": 72,
   "metadata": {},
   "outputs": [
    {
     "data": {
      "text/plain": [
       "{'LinearRegression': (2212.620276567153, 46.372638),\n",
       " 'RidgeCV': (2212.675060899399, 101.329274),\n",
       " 'DecisionTreeRegressor': (411.30664316563923, 2.845),\n",
       " 'ExtraTreeRegressor': (440.36896569341206, 1.51638),\n",
       " 'AdaBoostRegressor': (555.6134674950933, 3.562801),\n",
       " 'BaggingRegressor': (368.01562705453154, 104.474251),\n",
       " 'GradientBoostingRegressor': (360.99342812402665, 58.25613),\n",
       " 'RandomForestRegressor': (364.43530725482844, 45.173562)}"
      ]
     },
     "execution_count": 72,
     "metadata": {},
     "output_type": "execute_result"
    }
   ],
   "source": [
    "# контроль наполнения словаря\n",
    "answer"
   ]
  },
  {
   "cell_type": "markdown",
   "metadata": {},
   "source": [
    "### Бустинг из библиотеки CatBoost"
   ]
  },
  {
   "cell_type": "code",
   "execution_count": 73,
   "metadata": {},
   "outputs": [
    {
     "name": "stdout",
     "output_type": "stream",
     "text": [
      "<class 'pandas.core.frame.DataFrame'>\n",
      "RangeIndex: 284685 entries, 0 to 284684\n",
      "Data columns (total 9 columns):\n",
      " #   Column            Non-Null Count   Dtype  \n",
      "---  ------            --------------   -----  \n",
      " 0   VehicleType       284685 non-null  object \n",
      " 1   RegistrationYear  284685 non-null  float64\n",
      " 2   Gearbox           284685 non-null  object \n",
      " 3   Power             284685 non-null  float64\n",
      " 4   Model             284685 non-null  object \n",
      " 5   Kilometer         284685 non-null  int64  \n",
      " 6   FuelType          284685 non-null  object \n",
      " 7   Brand             284685 non-null  object \n",
      " 8   NotRepaired       284685 non-null  object \n",
      "dtypes: float64(2), int64(1), object(6)\n",
      "memory usage: 19.5+ MB\n"
     ]
    }
   ],
   "source": [
    "# вспоминаем набор признаков и их типы из датасета без кодирования категориальных признаков\n",
    "features.info()"
   ]
  },
  {
   "cell_type": "code",
   "execution_count": 74,
   "metadata": {},
   "outputs": [],
   "source": [
    "# объявляем список категориальных признаков\n",
    "cat_features = ['VehicleType', 'Gearbox', 'Model', 'FuelType', 'Brand', 'NotRepaired']"
   ]
  },
  {
   "cell_type": "markdown",
   "metadata": {},
   "source": [
    "Библиотека позволяет получить отличные результаты с параметрами по умолчанию, что сокращает время, необходимое для настройки гиперпараметров. Изучила материал из оригинальной библиотеки и некоторым статьям на Хабре. Вот эта помогла больше остальных в понимании: https://habr.com/ru/company/otus/blog/527554/"
   ]
  },
  {
   "cell_type": "code",
   "execution_count": 75,
   "metadata": {},
   "outputs": [
    {
     "data": {
      "application/vnd.jupyter.widget-view+json": {
       "model_id": "ef88f9273f8048a1a3f7e65307c64523",
       "version_major": 2,
       "version_minor": 0
      },
      "text/plain": [
       "MetricVisualizer(layout=Layout(align_self='stretch', height='500px'))"
      ]
     },
     "metadata": {},
     "output_type": "display_data"
    },
    {
     "name": "stdout",
     "output_type": "stream",
     "text": [
      "CatBoostRegressor(cat_features=cat_features) 1470.671313567986 0:03:16.134072\n"
     ]
    }
   ],
   "source": [
    "# обучение модели и предсказание на обычных данных, без перевода категориальных данных в числовой формат, эксперимент с визуализацией\n",
    "start_time = datetime.now()\n",
    "model = CatBoostRegressor(cat_features=cat_features)\n",
    "model.fit(features_train, target_train, verbose=False, plot=True)\n",
    "predictions = model.predict(features_train)\n",
    "result = mean_squared_error(predictions, target_train) ** .5\n",
    "time.sleep(5)\n",
    "t = datetime.now() - start_time\n",
    "print('CatBoostRegressor(cat_features=cat_features)', result, t)"
   ]
  },
  {
   "cell_type": "code",
   "execution_count": 76,
   "metadata": {},
   "outputs": [],
   "source": [
    "# добавление характеристик модели к словарю\n",
    "answer['CatBoostRegressor'] = (result, float(f'{t.seconds}.{t.microseconds}'))"
   ]
  },
  {
   "cell_type": "markdown",
   "metadata": {},
   "source": [
    "### Бустинг из библиотеки LightGBM"
   ]
  },
  {
   "cell_type": "raw",
   "metadata": {},
   "source": [
    "Изучила доступную информацию о библиотеке, а также рекомендации по настройкам из понятной для меня статьи на Хабре: https://habr.com/ru/company/skillfactory/blog/530594/\n",
    "Параметры для начала подстройки модели взяла оттуда, как лучшие на их наборе. Посмотрю на свой результат.  \n",
    "Также меняю категориальные данные на Ordinal, т.к. со списком категориальных данных как для CatBoost выдавал ошибку :( Просил только int, float или bool данные в этих столбцах :("
   ]
  },
  {
   "cell_type": "code",
   "execution_count": 77,
   "metadata": {},
   "outputs": [
    {
     "name": "stdout",
     "output_type": "stream",
     "text": [
      "LGBMRegressor(n_estimators=50, max_depth=5, learning_rate=1, boosting_type='gbdt') 364.1735711250847 0:00:21.256274\n"
     ]
    }
   ],
   "source": [
    "# обучение модели и предсказание на Ordinal-данных\n",
    "start_time = datetime.now()\n",
    "model = LGBMRegressor(n_estimators=50, max_depth=5, learning_rate=1, boosting_type='gbdt')\n",
    "model.fit(features_ordinal_train, target_ordinal_train)\n",
    "predictions = model.predict(features_ordinal_train)\n",
    "result = mean_squared_error(predictions, target_ordinal_train) ** .5\n",
    "t = datetime.now() - start_time\n",
    "print(\"LGBMRegressor(n_estimators=50, max_depth=5, learning_rate=1, boosting_type='gbdt')\", result, t)"
   ]
  },
  {
   "cell_type": "code",
   "execution_count": 78,
   "metadata": {},
   "outputs": [
    {
     "name": "stdout",
     "output_type": "stream",
     "text": [
      "LGBMRegressor(n_estimators=100, max_depth=20, learning_rate=1, boosting_type='gbdt') 338.9956015270831 0:00:05.994476\n"
     ]
    }
   ],
   "source": [
    "# обучение модели и предсказание на масштабированных Ordinal-данных с другим набором параметров\n",
    "start_time = datetime.now()\n",
    "model1 = LGBMRegressor(n_estimators=100, max_depth=20, learning_rate=1, boosting_type='gbdt')\n",
    "model1.fit(features_ordinal_train, target_ordinal_train)\n",
    "predictions = model1.predict(features_ordinal_train)\n",
    "result1 = mean_squared_error(predictions, target_ordinal_train) ** .5\n",
    "t1 = datetime.now() - start_time\n",
    "print(\"LGBMRegressor(n_estimators=100, max_depth=20, learning_rate=1, boosting_type='gbdt')\", result1, t1)"
   ]
  },
  {
   "cell_type": "markdown",
   "metadata": {},
   "source": [
    "Запускала и на 200 деревьев, и глубину меняла до 50, но 338 - это плато. Лучше уже не получилось. Оставила минимальные параметры, когда удалось получить первый раз такой результат. Подбирать автоматически не стала, т.к. это съедает очень много времени."
   ]
  },
  {
   "cell_type": "code",
   "execution_count": 79,
   "metadata": {},
   "outputs": [
    {
     "data": {
      "text/plain": [
       "{'LinearRegression': (2212.620276567153, 46.372638),\n",
       " 'RidgeCV': (2212.675060899399, 101.329274),\n",
       " 'DecisionTreeRegressor': (411.30664316563923, 2.845),\n",
       " 'ExtraTreeRegressor': (440.36896569341206, 1.51638),\n",
       " 'AdaBoostRegressor': (555.6134674950933, 3.562801),\n",
       " 'BaggingRegressor': (368.01562705453154, 104.474251),\n",
       " 'GradientBoostingRegressor': (360.99342812402665, 58.25613),\n",
       " 'RandomForestRegressor': (364.43530725482844, 45.173562),\n",
       " 'CatBoostRegressor': (1470.671313567986, 196.134072),\n",
       " 'LGBMRegressor': (338.9956015270831, 5.994476)}"
      ]
     },
     "execution_count": 79,
     "metadata": {},
     "output_type": "execute_result"
    }
   ],
   "source": [
    "# добавление данных о работе модели в словарь для сводной таблицы\n",
    "answer['LGBMRegressor'] =(result1, float(f'{t1.seconds}.{t1.microseconds}'))\n",
    "answer"
   ]
  },
  {
   "cell_type": "code",
   "execution_count": 80,
   "metadata": {},
   "outputs": [
    {
     "data": {
      "text/plain": [
       "[('LGBMRegressor', 338.9956015270831, 5.994476),\n",
       " ('GradientBoostingRegressor', 360.99342812402665, 58.25613),\n",
       " ('RandomForestRegressor', 364.43530725482844, 45.173562),\n",
       " ('BaggingRegressor', 368.01562705453154, 104.474251),\n",
       " ('DecisionTreeRegressor', 411.30664316563923, 2.845),\n",
       " ('ExtraTreeRegressor', 440.36896569341206, 1.51638),\n",
       " ('AdaBoostRegressor', 555.6134674950933, 3.562801),\n",
       " ('CatBoostRegressor', 1470.671313567986, 196.134072),\n",
       " ('LinearRegression', 2212.620276567153, 46.372638),\n",
       " ('RidgeCV', 2212.675060899399, 101.329274)]"
      ]
     },
     "execution_count": 80,
     "metadata": {},
     "output_type": "execute_result"
    }
   ],
   "source": [
    "# сортировка словаря (списка кортежей по RMSE)\n",
    "answer_RMSE = []\n",
    "for x in answer.keys():\n",
    "    answer_RMSE.append((x, *answer[x]))\n",
    "answer_RMSE.sort(key=lambda x: x[1])\n",
    "answer_RMSE"
   ]
  },
  {
   "cell_type": "code",
   "execution_count": 81,
   "metadata": {},
   "outputs": [
    {
     "data": {
      "text/plain": [
       "{'LGBMRegressor': (338.9956015270831, 5.994476),\n",
       " 'GradientBoostingRegressor': (360.99342812402665, 58.25613),\n",
       " 'RandomForestRegressor': (364.43530725482844, 45.173562),\n",
       " 'BaggingRegressor': (368.01562705453154, 104.474251),\n",
       " 'DecisionTreeRegressor': (411.30664316563923, 2.845),\n",
       " 'ExtraTreeRegressor': (440.36896569341206, 1.51638),\n",
       " 'AdaBoostRegressor': (555.6134674950933, 3.562801),\n",
       " 'CatBoostRegressor': (1470.671313567986, 196.134072),\n",
       " 'LinearRegression': (2212.620276567153, 46.372638),\n",
       " 'RidgeCV': (2212.675060899399, 101.329274)}"
      ]
     },
     "execution_count": 81,
     "metadata": {},
     "output_type": "execute_result"
    }
   ],
   "source": [
    "# словарь, отсортированный по RMSE\n",
    "ans_RMSE = {}\n",
    "for x in answer_RMSE:\n",
    "    ans_RMSE[x[0]] = tuple(x[1:])\n",
    "ans_RMSE"
   ]
  },
  {
   "cell_type": "code",
   "execution_count": 82,
   "metadata": {},
   "outputs": [
    {
     "data": {
      "text/plain": [
       "[('ExtraTreeRegressor', 440.36896569341206, 1.51638),\n",
       " ('DecisionTreeRegressor', 411.30664316563923, 2.845),\n",
       " ('AdaBoostRegressor', 555.6134674950933, 3.562801),\n",
       " ('LGBMRegressor', 338.9956015270831, 5.994476),\n",
       " ('RandomForestRegressor', 364.43530725482844, 45.173562),\n",
       " ('LinearRegression', 2212.620276567153, 46.372638),\n",
       " ('GradientBoostingRegressor', 360.99342812402665, 58.25613),\n",
       " ('RidgeCV', 2212.675060899399, 101.329274),\n",
       " ('BaggingRegressor', 368.01562705453154, 104.474251),\n",
       " ('CatBoostRegressor', 1470.671313567986, 196.134072)]"
      ]
     },
     "execution_count": 82,
     "metadata": {},
     "output_type": "execute_result"
    }
   ],
   "source": [
    "# сортировка списка кортежей по времени\n",
    "answer_time = sorted(answer_RMSE, key=lambda x: (x[2], x[0]))\n",
    "answer_time"
   ]
  },
  {
   "cell_type": "code",
   "execution_count": 83,
   "metadata": {},
   "outputs": [
    {
     "data": {
      "text/plain": [
       "{'ExtraTreeRegressor': (440.36896569341206, 1.51638),\n",
       " 'DecisionTreeRegressor': (411.30664316563923, 2.845),\n",
       " 'AdaBoostRegressor': (555.6134674950933, 3.562801),\n",
       " 'LGBMRegressor': (338.9956015270831, 5.994476),\n",
       " 'RandomForestRegressor': (364.43530725482844, 45.173562),\n",
       " 'LinearRegression': (2212.620276567153, 46.372638),\n",
       " 'GradientBoostingRegressor': (360.99342812402665, 58.25613),\n",
       " 'RidgeCV': (2212.675060899399, 101.329274),\n",
       " 'BaggingRegressor': (368.01562705453154, 104.474251),\n",
       " 'CatBoostRegressor': (1470.671313567986, 196.134072)}"
      ]
     },
     "execution_count": 83,
     "metadata": {},
     "output_type": "execute_result"
    }
   ],
   "source": [
    "# словарь, отсортированный по time\n",
    "ans_time = {}\n",
    "for x in answer_time:\n",
    "    ans_time[x[0]] = tuple(x[1:])\n",
    "ans_time"
   ]
  },
  {
   "cell_type": "markdown",
   "metadata": {},
   "source": [
    "### Сводная таблица по результатам обучения моделей"
   ]
  },
  {
   "cell_type": "code",
   "execution_count": 84,
   "metadata": {},
   "outputs": [
    {
     "data": {
      "text/html": [
       "<div>\n",
       "<style scoped>\n",
       "    .dataframe tbody tr th:only-of-type {\n",
       "        vertical-align: middle;\n",
       "    }\n",
       "\n",
       "    .dataframe tbody tr th {\n",
       "        vertical-align: top;\n",
       "    }\n",
       "\n",
       "    .dataframe thead th {\n",
       "        text-align: right;\n",
       "    }\n",
       "</style>\n",
       "<table border=\"1\" class=\"dataframe\">\n",
       "  <thead>\n",
       "    <tr style=\"text-align: right;\">\n",
       "      <th></th>\n",
       "      <th>LGBMRegressor</th>\n",
       "      <th>GradientBoostingRegressor</th>\n",
       "      <th>RandomForestRegressor</th>\n",
       "      <th>BaggingRegressor</th>\n",
       "      <th>DecisionTreeRegressor</th>\n",
       "      <th>ExtraTreeRegressor</th>\n",
       "      <th>AdaBoostRegressor</th>\n",
       "      <th>CatBoostRegressor</th>\n",
       "      <th>LinearRegression</th>\n",
       "      <th>RidgeCV</th>\n",
       "    </tr>\n",
       "  </thead>\n",
       "  <tbody>\n",
       "    <tr>\n",
       "      <th>RMSE</th>\n",
       "      <td>338.995602</td>\n",
       "      <td>360.993428</td>\n",
       "      <td>364.435307</td>\n",
       "      <td>368.015627</td>\n",
       "      <td>411.306643</td>\n",
       "      <td>440.368966</td>\n",
       "      <td>555.613467</td>\n",
       "      <td>1470.671314</td>\n",
       "      <td>2212.620277</td>\n",
       "      <td>2212.675061</td>\n",
       "    </tr>\n",
       "    <tr>\n",
       "      <th>time</th>\n",
       "      <td>5.994476</td>\n",
       "      <td>58.256130</td>\n",
       "      <td>45.173562</td>\n",
       "      <td>104.474251</td>\n",
       "      <td>2.845000</td>\n",
       "      <td>1.516380</td>\n",
       "      <td>3.562801</td>\n",
       "      <td>196.134072</td>\n",
       "      <td>46.372638</td>\n",
       "      <td>101.329274</td>\n",
       "    </tr>\n",
       "  </tbody>\n",
       "</table>\n",
       "</div>"
      ],
      "text/plain": [
       "      LGBMRegressor  GradientBoostingRegressor  RandomForestRegressor  \\\n",
       "RMSE     338.995602                 360.993428             364.435307   \n",
       "time       5.994476                  58.256130              45.173562   \n",
       "\n",
       "      BaggingRegressor  DecisionTreeRegressor  ExtraTreeRegressor  \\\n",
       "RMSE        368.015627             411.306643          440.368966   \n",
       "time        104.474251               2.845000            1.516380   \n",
       "\n",
       "      AdaBoostRegressor  CatBoostRegressor  LinearRegression      RidgeCV  \n",
       "RMSE         555.613467        1470.671314       2212.620277  2212.675061  \n",
       "time           3.562801         196.134072         46.372638   101.329274  "
      ]
     },
     "execution_count": 84,
     "metadata": {},
     "output_type": "execute_result"
    }
   ],
   "source": [
    "# сводная таблица по результату обучения линеных и \"деревянных\" регрессий на \n",
    "table_RMSE = pd.DataFrame(ans_RMSE, index=['RMSE', 'time'])\n",
    "table_RMSE"
   ]
  },
  {
   "cell_type": "code",
   "execution_count": 85,
   "metadata": {},
   "outputs": [
    {
     "data": {
      "text/plain": [
       "<AxesSubplot:title={'center':'Значения метрики RMSE'}>"
      ]
     },
     "execution_count": 85,
     "metadata": {},
     "output_type": "execute_result"
    },
    {
     "data": {
      "image/png": "[encoded data removed]",
      "text/plain": [
       "<Figure size 864x504 with 1 Axes>"
      ]
     },
     "metadata": {
      "needs_background": "light"
     },
     "output_type": "display_data"
    }
   ],
   "source": [
    "# визуализация значений сводной таблицы по метрике\n",
    "table_RMSE.loc[['RMSE']].plot(title='Значения метрики RMSE', figsize=(12, 7), kind='bar', alpha=0.7)"
   ]
  },
  {
   "cell_type": "markdown",
   "metadata": {},
   "source": [
    "Выберем **ТОП-5** моделей **по метрике** для анализа на тестовой выборке. Эта характеристика первая в приоритете у заказчика.  "
   ]
  },
  {
   "cell_type": "code",
   "execution_count": 86,
   "metadata": {},
   "outputs": [
    {
     "data": {
      "text/plain": [
       "[('LGBMRegressor', 338.9956015270831, 5.994476),\n",
       " ('GradientBoostingRegressor', 360.99342812402665, 58.25613),\n",
       " ('RandomForestRegressor', 364.43530725482844, 45.173562),\n",
       " ('BaggingRegressor', 368.01562705453154, 104.474251),\n",
       " ('DecisionTreeRegressor', 411.30664316563923, 2.845)]"
      ]
     },
     "execution_count": 86,
     "metadata": {},
     "output_type": "execute_result"
    }
   ],
   "source": [
    "answer_RMSE[:5]"
   ]
  },
  {
   "cell_type": "markdown",
   "metadata": {},
   "source": [
    "Две модели из ТОП-5 являются **ансамблями**! Еще две - **простыми деревьями**. И алгоритм **LGBMRegressor**! Интересный результат! Причем при разных запусках первые дава алгоритма градиентного бустинга меняются местами в зависимости от выбранного случайно набора обучающего датасета."
   ]
  },
  {
   "cell_type": "code",
   "execution_count": 87,
   "metadata": {},
   "outputs": [
    {
     "data": {
      "text/plain": [
       "<AxesSubplot:title={'center':'Время работы моделей'}>"
      ]
     },
     "execution_count": 87,
     "metadata": {},
     "output_type": "execute_result"
    },
    {
     "data": {
      "image/png": "[encoded data removed]",
      "text/plain": [
       "<Figure size 864x504 with 1 Axes>"
      ]
     },
     "metadata": {
      "needs_background": "light"
     },
     "output_type": "display_data"
    }
   ],
   "source": [
    "# визуализация значений сводной таблицы по времени работы модели\n",
    "table_time = pd.DataFrame(ans_time, index=['RMSE', 'time'])\n",
    "table_time.loc[['time']].plot(title='Время работы моделей', figsize=(12, 7), kind='bar', alpha=0.7)"
   ]
  },
  {
   "cell_type": "markdown",
   "metadata": {},
   "source": [
    "Интересный результат - деревья и ансамбли на деревьях с оптимальными характеристиками показали лучшее время обучения-предсказания!"
   ]
  },
  {
   "cell_type": "markdown",
   "metadata": {},
   "source": [
    "**Вывод:**\n",
    "* ансамбли GradientBoostingRegressor, BaggingRegressor и решающее дерево - очевидные лидеры по критерию RMSE-time"
   ]
  },
  {
   "cell_type": "markdown",
   "metadata": {},
   "source": [
    "## Анализ моделей"
   ]
  },
  {
   "cell_type": "markdown",
   "metadata": {},
   "source": [
    "Итак, список ТОП-5 по метрике готов, проверим результаты этих моделей на тестовой выборке.  \n",
    "Т.к. CatBoostRegressor не вошел в этот список, а остальные модели продемонстрировали независимость от масштаба данных, проверять будет на масштабированной тестовой ОНE-выборке."
   ]
  },
  {
   "cell_type": "code",
   "execution_count": 88,
   "metadata": {},
   "outputs": [],
   "source": [
    "# список лучших моделей\n",
    "best_models.append(DTR_model)"
   ]
  },
  {
   "cell_type": "code",
   "execution_count": 89,
   "metadata": {},
   "outputs": [
    {
     "data": {
      "text/plain": [
       "[BaggingRegressor(n_estimators=48, random_state=12345),\n",
       " GradientBoostingRegressor(max_depth=12, n_estimators=28, random_state=12345),\n",
       " RandomForestRegressor(max_depth=16, n_estimators=28, random_state=12345),\n",
       " DecisionTreeRegressor(max_depth=13, random_state=12345)]"
      ]
     },
     "execution_count": 89,
     "metadata": {},
     "output_type": "execute_result"
    }
   ],
   "source": [
    "# список моделей c оптимальными параметрами после обучения для анализа на тестовой выборке\n",
    "best_models = best_models[1:]\n",
    "best_models"
   ]
  },
  {
   "cell_type": "markdown",
   "metadata": {},
   "source": [
    "Все лучшие модели - это ансамбли деревьев или простое решающее дерево. Поэтому для теста берем Ordinal-кодированную выборку"
   ]
  },
  {
   "cell_type": "code",
   "execution_count": 90,
   "metadata": {},
   "outputs": [],
   "source": [
    "# итоговый словарь по результатам работы лучших моделей на тестовой выборке\n",
    "answer_final = {}"
   ]
  },
  {
   "cell_type": "code",
   "execution_count": 91,
   "metadata": {},
   "outputs": [
    {
     "name": "stdout",
     "output_type": "stream",
     "text": [
      "BaggingRegressor(n_estimators=48, random_state=12345) 391.8374562735623 0:00:31.694033\n",
      "GradientBoostingRegressor(max_depth=12, n_estimators=28, random_state=12345) 380.8513947166954 0:00:17.903112\n",
      "RandomForestRegressor(max_depth=16, n_estimators=28, random_state=12345) 385.6653840624328 0:00:17.131587\n",
      "DecisionTreeRegressor(max_depth=13, random_state=12345) 448.40395875534375 0:00:00.642827\n"
     ]
    }
   ],
   "source": [
    "# обучение моделей из ТОП-5 и предсказания на тестовой масштабированной выборке\n",
    "for modell in best_models:\n",
    "    model = modell\n",
    "    score = make_scorer(mean_squared_error, greater_is_better=False)\n",
    "    start_time = datetime.now()\n",
    "    result = abs(cross_val_score(model, X=features_ordinal_test, y=target_ordinal_test, scoring='neg_root_mean_squared_error', cv=5).mean())\n",
    "    t = datetime.now() - start_time\n",
    "    print(model, result, t)\n",
    "    # занесение результатов в словарь\n",
    "    name = str(type(model)).split('.')[-1][:-2]\n",
    "    answer_final[name] = (result, float(f'{t.seconds}.{t.microseconds}'))"
   ]
  },
  {
   "cell_type": "code",
   "execution_count": 92,
   "metadata": {},
   "outputs": [
    {
     "data": {
      "text/plain": [
       "{'BaggingRegressor': (391.8374562735623, 31.694033),\n",
       " 'GradientBoostingRegressor': (380.8513947166954, 17.903112),\n",
       " 'RandomForestRegressor': (385.6653840624328, 17.131587),\n",
       " 'DecisionTreeRegressor': (448.40395875534375, 0.642827)}"
      ]
     },
     "execution_count": 92,
     "metadata": {},
     "output_type": "execute_result"
    }
   ],
   "source": [
    "# проверим содержимое словаря\n",
    "answer_final"
   ]
  },
  {
   "cell_type": "code",
   "execution_count": 93,
   "metadata": {},
   "outputs": [
    {
     "data": {
      "text/html": [
       "<div>\n",
       "<style scoped>\n",
       "    .dataframe tbody tr th:only-of-type {\n",
       "        vertical-align: middle;\n",
       "    }\n",
       "\n",
       "    .dataframe tbody tr th {\n",
       "        vertical-align: top;\n",
       "    }\n",
       "\n",
       "    .dataframe thead th {\n",
       "        text-align: right;\n",
       "    }\n",
       "</style>\n",
       "<table border=\"1\" class=\"dataframe\">\n",
       "  <thead>\n",
       "    <tr style=\"text-align: right;\">\n",
       "      <th></th>\n",
       "      <th>BaggingRegressor</th>\n",
       "      <th>GradientBoostingRegressor</th>\n",
       "      <th>RandomForestRegressor</th>\n",
       "      <th>DecisionTreeRegressor</th>\n",
       "    </tr>\n",
       "  </thead>\n",
       "  <tbody>\n",
       "    <tr>\n",
       "      <th>RMSE</th>\n",
       "      <td>391.837456</td>\n",
       "      <td>380.851395</td>\n",
       "      <td>385.665384</td>\n",
       "      <td>448.403959</td>\n",
       "    </tr>\n",
       "    <tr>\n",
       "      <th>time</th>\n",
       "      <td>31.694033</td>\n",
       "      <td>17.903112</td>\n",
       "      <td>17.131587</td>\n",
       "      <td>0.642827</td>\n",
       "    </tr>\n",
       "  </tbody>\n",
       "</table>\n",
       "</div>"
      ],
      "text/plain": [
       "      BaggingRegressor  GradientBoostingRegressor  RandomForestRegressor  \\\n",
       "RMSE        391.837456                 380.851395             385.665384   \n",
       "time         31.694033                  17.903112              17.131587   \n",
       "\n",
       "      DecisionTreeRegressor  \n",
       "RMSE             448.403959  \n",
       "time               0.642827  "
      ]
     },
     "execution_count": 93,
     "metadata": {},
     "output_type": "execute_result"
    }
   ],
   "source": [
    "# сводная таблица по результату обучения и предсказания на тестовой выборке ТОП-5 моделей\n",
    "table_top = pd.DataFrame(answer_final, index=['RMSE', 'time'])\n",
    "table_top"
   ]
  },
  {
   "cell_type": "code",
   "execution_count": 94,
   "metadata": {
    "scrolled": false
   },
   "outputs": [
    {
     "data": {
      "text/plain": [
       "<AxesSubplot:title={'center':'Значения метрики RMSE'}>"
      ]
     },
     "execution_count": 94,
     "metadata": {},
     "output_type": "execute_result"
    },
    {
     "data": {
      "image/png": "[encoded data removed]",
      "text/plain": [
       "<Figure size 720x360 with 1 Axes>"
      ]
     },
     "metadata": {
      "needs_background": "light"
     },
     "output_type": "display_data"
    }
   ],
   "source": [
    "# визуализация результата проверки ТОП-5 моделей по метрике\n",
    "table_top.loc[['RMSE']].plot(title='Значения метрики RMSE', figsize=(10, 5), kind='bar', alpha=0.7)"
   ]
  },
  {
   "cell_type": "markdown",
   "metadata": {},
   "source": [
    "**Вывод по метрике:**\n",
    "* победитель - **GradientBoostingRegressor** - регрессор из библиотеки ансамблей.\n",
    "* на втором месте снова ансамбль - **RandomForestRegressor**.\n",
    "* третье место - **BaggingRegressor**.\n",
    "* четвертое место у решающего дерева - **DecisionTreeRegressor**.\n",
    "Все-таки победитель по метрике, имеющий явное превосходство по точности предсказания, является ансамблем! Но в основе всех ансаблей как раз решающее дерево! Модели работали с оптимальными параметрами, подобранными на этапе обучения."
   ]
  },
  {
   "cell_type": "code",
   "execution_count": 95,
   "metadata": {
    "scrolled": true
   },
   "outputs": [
    {
     "data": {
      "text/plain": [
       "<AxesSubplot:title={'center':'Время работы модели'}>"
      ]
     },
     "execution_count": 95,
     "metadata": {},
     "output_type": "execute_result"
    },
    {
     "data": {
      "image/png": "[encoded data removed]",
      "text/plain": [
       "<Figure size 720x360 with 1 Axes>"
      ]
     },
     "metadata": {
      "needs_background": "light"
     },
     "output_type": "display_data"
    }
   ],
   "source": [
    "# визуализация результата проверки ТОП-5 моделей по времени работы\n",
    "table_top.loc[['time']].plot(title='Время работы модели', figsize=(10, 5), kind='bar', alpha=0.7)"
   ]
  },
  {
   "cell_type": "markdown",
   "metadata": {},
   "source": [
    "**Вывод по времени работы:**\n",
    "* победителя два - **градиентный спуск** и **случайный лес** из библиотеки ансамблей SKLearn, их время и метрика одинаково хороши и можно признать их победителями! А главное - время меньше, при отличной точности предсказания!\n",
    "* третий результат у дерева решений - быстро, хоть и не так точно, как ансамбли. Зато время - улет.\n",
    "* **BaggingRegressor** на кросс-валидации показал самое плохое время.  \n",
    "При оптимальных параметрах ансамбли проигрывают деревьям по времени, но не так уж и сильно! Это удивительно. "
   ]
  },
  {
   "cell_type": "markdown",
   "metadata": {},
   "source": [
    "Посмотрим на наши топовые модели - **GranientBoostingRegressor** и **RandomForestRegressor** - визулизируем важные факторы в их работе:"
   ]
  },
  {
   "cell_type": "markdown",
   "metadata": {},
   "source": [
    "**GranientBoostingRegressor**"
   ]
  },
  {
   "cell_type": "code",
   "execution_count": 96,
   "metadata": {},
   "outputs": [
    {
     "data": {
      "image/png": "[encoded data removed]",
      "text/plain": [
       "<Figure size 720x504 with 1 Axes>"
      ]
     },
     "metadata": {
      "needs_background": "light"
     },
     "output_type": "display_data"
    }
   ],
   "source": [
    "# разберемся, какие признаки максимально повлияли на результат предсказания\n",
    "feature_names = features_ordinal_test.columns \n",
    "model = GradientBoostingRegressor(max_depth=12, n_estimators=28, random_state=12345)\n",
    "model.fit(features_ordinal_test, target_ordinal_test)\n",
    "pred = model.predict(features_ordinal_test)\n",
    "importances = model.feature_importances_\n",
    "model_importances = pd.Series(importances, index=feature_names)\n",
    "\n",
    "std = np.std([model.feature_importances_ for tree in str(1000)], axis=0)\n",
    "\n",
    "fig, ax = plt.subplots(figsize=(10,7))\n",
    "model_importances.plot.bar(yerr=std, ax=ax)\n",
    "ax.set_title(\"Feature importances\")\n",
    "ax.set_ylabel(\"Mean decrease in impurity\")\n",
    "fig.tight_layout()"
   ]
  },
  {
   "cell_type": "markdown",
   "metadata": {},
   "source": [
    "**RandomForestRegressor**"
   ]
  },
  {
   "cell_type": "code",
   "execution_count": 97,
   "metadata": {},
   "outputs": [
    {
     "data": {
      "image/png": "[encoded data removed]",
      "text/plain": [
       "<Figure size 720x504 with 1 Axes>"
      ]
     },
     "metadata": {
      "needs_background": "light"
     },
     "output_type": "display_data"
    }
   ],
   "source": [
    "# разберемся, какие признаки максимально повлияли на результат предсказания\n",
    "feature_names = features_ordinal_test.columns \n",
    "model = RandomForestRegressor(max_depth=16, n_estimators=28, random_state=12345)\n",
    "model.fit(features_ordinal_test, target_ordinal_test)\n",
    "pred = model.predict(features_ordinal_test)\n",
    "importances = model.feature_importances_\n",
    "model_importances = pd.Series(importances, index=feature_names)\n",
    "\n",
    "std = np.std([model.feature_importances_ for tree in str(1000)], axis=0)\n",
    "\n",
    "fig, ax = plt.subplots(figsize=(10,7))\n",
    "model_importances.plot.bar(yerr=std, ax=ax)\n",
    "ax.set_title(\"Feature importances\")\n",
    "ax.set_ylabel(\"Mean decrease in impurity\")\n",
    "fig.tight_layout()"
   ]
  },
  {
   "cell_type": "markdown",
   "metadata": {},
   "source": [
    "**Вывод:**\n",
    "Лучшие модели видят максимальный вклад в предсказание \n",
    "* года выпуска автомобиля, \n",
    "* мощности и \n",
    "* бренда,   \n",
    "* тип кузова, пробег, модель и отсутствие ремонта тоже оказывают свое воздействие. \n",
    "* И минимальное влияние имеют тип коробки передач и вид топлива."
   ]
  },
  {
   "cell_type": "code",
   "execution_count": null,
   "metadata": {},
   "outputs": [],
   "source": []
  }
 ],
 "metadata": {
  "ExecuteTimeLog": [
   {
    "duration": 1321,
    "start_time": "2022-05-21T15:15:33.719Z"
   },
   {
    "duration": 2644,
    "start_time": "2022-05-21T15:15:57.608Z"
   },
   {
    "duration": 113,
    "start_time": "2022-05-21T15:18:01.312Z"
   },
   {
    "duration": 974,
    "start_time": "2022-05-21T15:18:16.732Z"
   },
   {
    "duration": 1167,
    "start_time": "2022-05-21T15:18:32.532Z"
   },
   {
    "duration": 943,
    "start_time": "2022-05-21T15:22:35.107Z"
   },
   {
    "duration": 979,
    "start_time": "2022-05-21T15:23:43.426Z"
   },
   {
    "duration": 86,
    "start_time": "2022-05-21T15:30:08.924Z"
   },
   {
    "duration": 2,
    "start_time": "2022-05-21T15:31:20.331Z"
   },
   {
    "duration": 1058,
    "start_time": "2022-05-21T15:31:23.188Z"
   },
   {
    "duration": 88,
    "start_time": "2022-05-21T15:31:29.796Z"
   },
   {
    "duration": 455,
    "start_time": "2022-05-21T15:50:36.429Z"
   },
   {
    "duration": 10,
    "start_time": "2022-05-21T15:50:44.390Z"
   },
   {
    "duration": 14,
    "start_time": "2022-05-21T15:51:57.057Z"
   },
   {
    "duration": 11,
    "start_time": "2022-05-21T15:52:57.173Z"
   },
   {
    "duration": 10,
    "start_time": "2022-05-21T15:55:16.471Z"
   },
   {
    "duration": 10,
    "start_time": "2022-05-21T15:55:38.773Z"
   },
   {
    "duration": 9,
    "start_time": "2022-05-21T15:56:05.315Z"
   },
   {
    "duration": 9,
    "start_time": "2022-05-21T15:56:24.403Z"
   },
   {
    "duration": 17,
    "start_time": "2022-05-21T16:01:11.937Z"
   },
   {
    "duration": 20,
    "start_time": "2022-05-21T16:01:17.940Z"
   },
   {
    "duration": 951,
    "start_time": "2022-05-21T16:02:03.883Z"
   },
   {
    "duration": 1096,
    "start_time": "2022-05-21T16:02:04.836Z"
   },
   {
    "duration": 107,
    "start_time": "2022-05-21T16:02:05.934Z"
   },
   {
    "duration": 12,
    "start_time": "2022-05-21T16:02:06.043Z"
   },
   {
    "duration": 10,
    "start_time": "2022-05-21T16:02:06.056Z"
   },
   {
    "duration": 8,
    "start_time": "2022-05-21T16:02:06.067Z"
   },
   {
    "duration": 72,
    "start_time": "2022-05-21T16:02:06.076Z"
   },
   {
    "duration": 843,
    "start_time": "2022-05-21T16:03:44.873Z"
   },
   {
    "duration": 1064,
    "start_time": "2022-05-21T16:03:45.718Z"
   },
   {
    "duration": 103,
    "start_time": "2022-05-21T16:03:46.784Z"
   },
   {
    "duration": 9,
    "start_time": "2022-05-21T16:03:46.889Z"
   },
   {
    "duration": 19,
    "start_time": "2022-05-21T16:03:46.900Z"
   },
   {
    "duration": 9,
    "start_time": "2022-05-21T16:03:46.921Z"
   },
   {
    "duration": 38,
    "start_time": "2022-05-21T16:03:46.932Z"
   },
   {
    "duration": 928,
    "start_time": "2022-05-21T16:04:46.311Z"
   },
   {
    "duration": 1124,
    "start_time": "2022-05-21T16:04:47.241Z"
   },
   {
    "duration": 114,
    "start_time": "2022-05-21T16:04:48.366Z"
   },
   {
    "duration": 14,
    "start_time": "2022-05-21T16:04:48.482Z"
   },
   {
    "duration": 29,
    "start_time": "2022-05-21T16:04:48.497Z"
   },
   {
    "duration": 11,
    "start_time": "2022-05-21T16:04:48.529Z"
   },
   {
    "duration": 44,
    "start_time": "2022-05-21T16:04:48.542Z"
   },
   {
    "duration": 948,
    "start_time": "2022-05-21T16:06:34.009Z"
   },
   {
    "duration": 1168,
    "start_time": "2022-05-21T16:06:34.959Z"
   },
   {
    "duration": 100,
    "start_time": "2022-05-21T16:06:36.129Z"
   },
   {
    "duration": 12,
    "start_time": "2022-05-21T16:06:36.231Z"
   },
   {
    "duration": 9,
    "start_time": "2022-05-21T16:06:36.245Z"
   },
   {
    "duration": 9,
    "start_time": "2022-05-21T16:06:36.256Z"
   },
   {
    "duration": 67,
    "start_time": "2022-05-21T16:06:36.266Z"
   },
   {
    "duration": 202,
    "start_time": "2022-05-21T16:08:53.261Z"
   },
   {
    "duration": 223,
    "start_time": "2022-05-21T16:09:41.180Z"
   },
   {
    "duration": 220,
    "start_time": "2022-05-21T16:10:03.310Z"
   },
   {
    "duration": 10,
    "start_time": "2022-05-21T16:11:30.479Z"
   },
   {
    "duration": 116,
    "start_time": "2022-05-21T16:29:54.793Z"
   },
   {
    "duration": 37,
    "start_time": "2022-05-21T16:30:09.389Z"
   },
   {
    "duration": 478,
    "start_time": "2022-05-21T16:30:16.026Z"
   },
   {
    "duration": 18,
    "start_time": "2022-05-21T16:30:30.264Z"
   },
   {
    "duration": 9,
    "start_time": "2022-05-21T16:31:06.233Z"
   },
   {
    "duration": 307,
    "start_time": "2022-05-21T16:31:19.193Z"
   },
   {
    "duration": 29,
    "start_time": "2022-05-21T16:32:13.322Z"
   },
   {
    "duration": 29,
    "start_time": "2022-05-21T16:33:16.948Z"
   },
   {
    "duration": 23,
    "start_time": "2022-05-21T16:33:31.503Z"
   },
   {
    "duration": 18,
    "start_time": "2022-05-21T16:34:18.965Z"
   },
   {
    "duration": 31,
    "start_time": "2022-05-21T16:35:05.381Z"
   },
   {
    "duration": 20,
    "start_time": "2022-05-21T16:35:39.531Z"
   },
   {
    "duration": 33,
    "start_time": "2022-05-21T16:36:00.232Z"
   },
   {
    "duration": 27,
    "start_time": "2022-05-21T16:36:25.887Z"
   },
   {
    "duration": 911,
    "start_time": "2022-05-21T16:36:53.141Z"
   },
   {
    "duration": 1093,
    "start_time": "2022-05-21T16:36:54.054Z"
   },
   {
    "duration": 107,
    "start_time": "2022-05-21T16:36:55.149Z"
   },
   {
    "duration": 9,
    "start_time": "2022-05-21T16:36:55.258Z"
   },
   {
    "duration": 8,
    "start_time": "2022-05-21T16:36:55.268Z"
   },
   {
    "duration": 9,
    "start_time": "2022-05-21T16:36:55.277Z"
   },
   {
    "duration": 314,
    "start_time": "2022-05-21T16:36:55.288Z"
   },
   {
    "duration": 42,
    "start_time": "2022-05-21T16:36:55.603Z"
   },
   {
    "duration": 43,
    "start_time": "2022-05-21T16:36:55.647Z"
   },
   {
    "duration": 347,
    "start_time": "2022-05-21T16:39:31.499Z"
   },
   {
    "duration": 863,
    "start_time": "2022-05-21T16:39:49.900Z"
   },
   {
    "duration": 1127,
    "start_time": "2022-05-21T16:39:50.765Z"
   },
   {
    "duration": 107,
    "start_time": "2022-05-21T16:39:51.893Z"
   },
   {
    "duration": 19,
    "start_time": "2022-05-21T16:39:52.002Z"
   },
   {
    "duration": 10,
    "start_time": "2022-05-21T16:39:52.023Z"
   },
   {
    "duration": 9,
    "start_time": "2022-05-21T16:39:52.034Z"
   },
   {
    "duration": 303,
    "start_time": "2022-05-21T16:39:52.045Z"
   },
   {
    "duration": 27,
    "start_time": "2022-05-21T16:39:52.349Z"
   },
   {
    "duration": 4,
    "start_time": "2022-05-21T16:39:52.378Z"
   },
   {
    "duration": 0,
    "start_time": "2022-05-21T16:39:52.383Z"
   },
   {
    "duration": 0,
    "start_time": "2022-05-21T16:39:52.385Z"
   },
   {
    "duration": 413,
    "start_time": "2022-05-21T16:40:16.295Z"
   },
   {
    "duration": 32,
    "start_time": "2022-05-21T16:42:58.045Z"
   },
   {
    "duration": 234,
    "start_time": "2022-05-21T16:43:11.361Z"
   },
   {
    "duration": 386,
    "start_time": "2022-05-21T16:43:34.846Z"
   },
   {
    "duration": 103,
    "start_time": "2022-05-21T16:45:07.602Z"
   },
   {
    "duration": 222,
    "start_time": "2022-05-21T16:45:24.862Z"
   },
   {
    "duration": 130,
    "start_time": "2022-05-21T16:45:54.250Z"
   },
   {
    "duration": 212,
    "start_time": "2022-05-21T16:46:23.222Z"
   },
   {
    "duration": 242,
    "start_time": "2022-05-21T16:46:36.592Z"
   },
   {
    "duration": 152,
    "start_time": "2022-05-21T16:48:46.589Z"
   },
   {
    "duration": 107,
    "start_time": "2022-05-21T16:54:34.181Z"
   },
   {
    "duration": 780,
    "start_time": "2022-05-21T16:55:23.487Z"
   },
   {
    "duration": 15,
    "start_time": "2022-05-21T16:59:42.585Z"
   },
   {
    "duration": 3,
    "start_time": "2022-05-21T16:59:57.506Z"
   },
   {
    "duration": 4488,
    "start_time": "2022-05-21T17:04:00.699Z"
   },
   {
    "duration": 5119,
    "start_time": "2022-05-21T17:04:30.131Z"
   },
   {
    "duration": 4157,
    "start_time": "2022-05-21T17:05:03.308Z"
   },
   {
    "duration": 56,
    "start_time": "2022-05-21T17:06:26.107Z"
   },
   {
    "duration": 982,
    "start_time": "2022-05-21T17:06:35.582Z"
   },
   {
    "duration": 3119,
    "start_time": "2022-05-21T17:06:36.566Z"
   },
   {
    "duration": 119,
    "start_time": "2022-05-21T17:06:39.687Z"
   },
   {
    "duration": 10,
    "start_time": "2022-05-21T17:06:39.811Z"
   },
   {
    "duration": 9,
    "start_time": "2022-05-21T17:06:39.822Z"
   },
   {
    "duration": 9,
    "start_time": "2022-05-21T17:06:39.832Z"
   },
   {
    "duration": 340,
    "start_time": "2022-05-21T17:06:39.843Z"
   },
   {
    "duration": 43,
    "start_time": "2022-05-21T17:06:40.185Z"
   },
   {
    "duration": 34,
    "start_time": "2022-05-21T17:06:40.230Z"
   },
   {
    "duration": 247,
    "start_time": "2022-05-21T17:06:40.267Z"
   },
   {
    "duration": 285,
    "start_time": "2022-05-21T17:06:40.516Z"
   },
   {
    "duration": 171,
    "start_time": "2022-05-21T17:06:40.803Z"
   },
   {
    "duration": 473,
    "start_time": "2022-05-21T17:06:40.975Z"
   },
   {
    "duration": 2602,
    "start_time": "2022-05-21T17:06:41.450Z"
   },
   {
    "duration": 10,
    "start_time": "2022-05-21T17:14:29.160Z"
   },
   {
    "duration": 11,
    "start_time": "2022-05-21T17:18:28.447Z"
   },
   {
    "duration": 60,
    "start_time": "2022-05-21T17:18:30.594Z"
   },
   {
    "duration": 29,
    "start_time": "2022-05-21T17:19:23.398Z"
   },
   {
    "duration": 22,
    "start_time": "2022-05-21T17:19:40.012Z"
   },
   {
    "duration": 82,
    "start_time": "2022-05-21T17:20:13.677Z"
   },
   {
    "duration": 55,
    "start_time": "2022-05-21T17:21:40.464Z"
   },
   {
    "duration": 660,
    "start_time": "2022-05-21T17:22:16.189Z"
   },
   {
    "duration": 844,
    "start_time": "2022-05-21T20:34:30.273Z"
   },
   {
    "duration": 2865,
    "start_time": "2022-05-21T20:34:31.120Z"
   },
   {
    "duration": 113,
    "start_time": "2022-05-21T20:34:33.987Z"
   },
   {
    "duration": 13,
    "start_time": "2022-05-21T20:34:34.101Z"
   },
   {
    "duration": 10,
    "start_time": "2022-05-21T20:34:34.116Z"
   },
   {
    "duration": 9,
    "start_time": "2022-05-21T20:34:34.127Z"
   },
   {
    "duration": 329,
    "start_time": "2022-05-21T20:34:34.138Z"
   },
   {
    "duration": 28,
    "start_time": "2022-05-21T20:34:34.469Z"
   },
   {
    "duration": 48,
    "start_time": "2022-05-21T20:34:34.499Z"
   },
   {
    "duration": 205,
    "start_time": "2022-05-21T20:34:34.549Z"
   },
   {
    "duration": 289,
    "start_time": "2022-05-21T20:34:34.756Z"
   },
   {
    "duration": 140,
    "start_time": "2022-05-21T20:34:35.047Z"
   },
   {
    "duration": 441,
    "start_time": "2022-05-21T20:34:35.188Z"
   },
   {
    "duration": 140,
    "start_time": "2022-05-21T20:34:35.631Z"
   },
   {
    "duration": 2390,
    "start_time": "2022-05-21T20:34:35.772Z"
   },
   {
    "duration": 623,
    "start_time": "2022-05-21T20:34:38.164Z"
   },
   {
    "duration": 13,
    "start_time": "2022-05-21T20:34:38.788Z"
   },
   {
    "duration": 55,
    "start_time": "2022-05-21T20:34:38.802Z"
   },
   {
    "duration": 2,
    "start_time": "2022-05-21T20:39:00.689Z"
   },
   {
    "duration": 4,
    "start_time": "2022-05-21T20:40:05.203Z"
   },
   {
    "duration": 2,
    "start_time": "2022-05-21T20:41:10.709Z"
   },
   {
    "duration": 3,
    "start_time": "2022-05-21T20:44:33.482Z"
   },
   {
    "duration": 3,
    "start_time": "2022-05-21T20:46:21.652Z"
   },
   {
    "duration": 95,
    "start_time": "2022-05-21T20:51:09.218Z"
   },
   {
    "duration": 107,
    "start_time": "2022-05-21T20:51:15.570Z"
   },
   {
    "duration": 9,
    "start_time": "2022-05-21T20:52:32.912Z"
   },
   {
    "duration": 10,
    "start_time": "2022-05-21T20:53:22.079Z"
   },
   {
    "duration": 3,
    "start_time": "2022-05-21T20:54:02.214Z"
   },
   {
    "duration": 454002,
    "start_time": "2022-05-21T21:00:44.910Z"
   },
   {
    "duration": 362383,
    "start_time": "2022-05-21T21:10:28.230Z"
   },
   {
    "duration": 22,
    "start_time": "2022-05-21T21:22:46.931Z"
   },
   {
    "duration": 17,
    "start_time": "2022-05-21T21:22:55.704Z"
   },
   {
    "duration": 16,
    "start_time": "2022-05-21T21:23:19.918Z"
   },
   {
    "duration": 47583,
    "start_time": "2022-05-21T21:24:44.229Z"
   },
   {
    "duration": 14867,
    "start_time": "2022-05-21T21:25:53.951Z"
   },
   {
    "duration": 68330,
    "start_time": "2022-05-21T21:26:18.985Z"
   },
   {
    "duration": 49806,
    "start_time": "2022-05-21T21:33:54.608Z"
   },
   {
    "duration": 90492,
    "start_time": "2022-05-21T21:43:01.825Z"
   },
   {
    "duration": 151276,
    "start_time": "2022-05-21T21:45:29.237Z"
   },
   {
    "duration": 279497,
    "start_time": "2022-05-21T22:02:43.116Z"
   },
   {
    "duration": 4,
    "start_time": "2022-05-21T22:07:52.231Z"
   },
   {
    "duration": 2,
    "start_time": "2022-05-21T22:09:27.117Z"
   },
   {
    "duration": 12,
    "start_time": "2022-05-21T22:11:26.885Z"
   },
   {
    "duration": 24,
    "start_time": "2022-05-21T22:11:50.662Z"
   },
   {
    "duration": 24,
    "start_time": "2022-05-21T22:12:26.073Z"
   },
   {
    "duration": 17,
    "start_time": "2022-05-21T22:12:53.087Z"
   },
   {
    "duration": 49,
    "start_time": "2022-05-21T22:13:34.430Z"
   },
   {
    "duration": 3,
    "start_time": "2022-05-21T22:14:12.146Z"
   },
   {
    "duration": 17,
    "start_time": "2022-05-21T22:14:17.282Z"
   },
   {
    "duration": 26,
    "start_time": "2022-05-21T22:15:21.307Z"
   },
   {
    "duration": 3,
    "start_time": "2022-05-21T22:15:53.820Z"
   },
   {
    "duration": 329298,
    "start_time": "2022-05-21T22:16:42.921Z"
   },
   {
    "duration": 1030,
    "start_time": "2022-05-22T19:22:38.115Z"
   },
   {
    "duration": 1525,
    "start_time": "2022-05-22T19:22:39.148Z"
   },
   {
    "duration": 113,
    "start_time": "2022-05-22T19:22:40.677Z"
   },
   {
    "duration": 9,
    "start_time": "2022-05-22T19:22:40.791Z"
   },
   {
    "duration": 25,
    "start_time": "2022-05-22T19:22:40.802Z"
   },
   {
    "duration": 33,
    "start_time": "2022-05-22T19:22:40.828Z"
   },
   {
    "duration": 411,
    "start_time": "2022-05-22T19:22:40.863Z"
   },
   {
    "duration": 34,
    "start_time": "2022-05-22T19:22:41.276Z"
   },
   {
    "duration": 45,
    "start_time": "2022-05-22T19:22:41.327Z"
   },
   {
    "duration": 204,
    "start_time": "2022-05-22T19:22:41.374Z"
   },
   {
    "duration": 340,
    "start_time": "2022-05-22T19:22:41.579Z"
   },
   {
    "duration": 160,
    "start_time": "2022-05-22T19:22:41.921Z"
   },
   {
    "duration": 453,
    "start_time": "2022-05-22T19:22:42.082Z"
   },
   {
    "duration": 151,
    "start_time": "2022-05-22T19:22:42.538Z"
   },
   {
    "duration": 2417,
    "start_time": "2022-05-22T19:22:42.691Z"
   },
   {
    "duration": 659,
    "start_time": "2022-05-22T19:22:45.110Z"
   },
   {
    "duration": 12,
    "start_time": "2022-05-22T19:22:45.771Z"
   },
   {
    "duration": 76,
    "start_time": "2022-05-22T19:22:45.785Z"
   },
   {
    "duration": 235473,
    "start_time": "2022-05-22T19:22:45.863Z"
   },
   {
    "duration": 201,
    "start_time": "2022-05-22T19:26:41.339Z"
   },
   {
    "duration": 0,
    "start_time": "2022-05-22T19:26:41.543Z"
   },
   {
    "duration": 938,
    "start_time": "2022-05-22T19:26:46.076Z"
   },
   {
    "duration": 239,
    "start_time": "2022-05-22T19:26:58.059Z"
   },
   {
    "duration": 1368,
    "start_time": "2022-05-22T19:27:07.152Z"
   },
   {
    "duration": 19,
    "start_time": "2022-05-22T19:28:15.307Z"
   },
   {
    "duration": 182,
    "start_time": "2022-05-22T19:29:46.944Z"
   },
   {
    "duration": 1518,
    "start_time": "2022-05-22T19:30:17.095Z"
   },
   {
    "duration": 48,
    "start_time": "2022-05-22T19:34:23.624Z"
   },
   {
    "duration": 444,
    "start_time": "2022-05-22T19:34:37.419Z"
   },
   {
    "duration": 133,
    "start_time": "2022-05-22T19:34:41.404Z"
   },
   {
    "duration": 5143,
    "start_time": "2022-05-22T19:34:46.246Z"
   },
   {
    "duration": 625,
    "start_time": "2022-05-22T19:34:54.690Z"
   },
   {
    "duration": 14,
    "start_time": "2022-05-22T19:34:58.400Z"
   },
   {
    "duration": 62,
    "start_time": "2022-05-22T19:34:59.131Z"
   },
   {
    "duration": 461294,
    "start_time": "2022-05-22T19:35:03.339Z"
   },
   {
    "duration": 14,
    "start_time": "2022-05-22T20:04:31.794Z"
   },
   {
    "duration": 402,
    "start_time": "2022-05-22T20:04:43.005Z"
   },
   {
    "duration": 5,
    "start_time": "2022-05-22T20:04:50.720Z"
   },
   {
    "duration": 57166,
    "start_time": "2022-05-22T20:04:57.694Z"
   },
   {
    "duration": 52578,
    "start_time": "2022-05-22T20:06:24.559Z"
   },
   {
    "duration": 52919,
    "start_time": "2022-05-22T20:07:45.847Z"
   },
   {
    "duration": 50267,
    "start_time": "2022-05-22T20:08:49.322Z"
   },
   {
    "duration": 50032,
    "start_time": "2022-05-22T20:09:59.422Z"
   },
   {
    "duration": 51307,
    "start_time": "2022-05-22T20:11:09.693Z"
   },
   {
    "duration": 42275,
    "start_time": "2022-05-22T20:13:27.673Z"
   },
   {
    "duration": 199,
    "start_time": "2022-05-22T20:19:38.729Z"
   },
   {
    "duration": 18,
    "start_time": "2022-05-22T20:19:45.224Z"
   },
   {
    "duration": 50,
    "start_time": "2022-05-22T20:19:50.035Z"
   },
   {
    "duration": 30517,
    "start_time": "2022-05-22T20:20:42.615Z"
   },
   {
    "duration": 62,
    "start_time": "2022-05-22T20:49:35.482Z"
   },
   {
    "duration": 983,
    "start_time": "2022-05-22T20:49:44.857Z"
   },
   {
    "duration": 1339,
    "start_time": "2022-05-22T20:49:45.843Z"
   },
   {
    "duration": 108,
    "start_time": "2022-05-22T20:49:47.184Z"
   },
   {
    "duration": 13,
    "start_time": "2022-05-22T20:49:47.295Z"
   },
   {
    "duration": 21,
    "start_time": "2022-05-22T20:49:47.309Z"
   },
   {
    "duration": 9,
    "start_time": "2022-05-22T20:49:47.331Z"
   },
   {
    "duration": 315,
    "start_time": "2022-05-22T20:49:47.341Z"
   },
   {
    "duration": 27,
    "start_time": "2022-05-22T20:49:47.658Z"
   },
   {
    "duration": 49,
    "start_time": "2022-05-22T20:49:47.687Z"
   },
   {
    "duration": 213,
    "start_time": "2022-05-22T20:49:47.739Z"
   },
   {
    "duration": 334,
    "start_time": "2022-05-22T20:49:47.954Z"
   },
   {
    "duration": 141,
    "start_time": "2022-05-22T20:49:48.290Z"
   },
   {
    "duration": 1899,
    "start_time": "2022-05-22T20:49:48.433Z"
   },
   {
    "duration": 36,
    "start_time": "2022-05-22T20:49:50.334Z"
   },
   {
    "duration": 431,
    "start_time": "2022-05-22T20:49:50.372Z"
   },
   {
    "duration": 140,
    "start_time": "2022-05-22T20:49:50.804Z"
   },
   {
    "duration": 2372,
    "start_time": "2022-05-22T20:49:50.946Z"
   },
   {
    "duration": 559,
    "start_time": "2022-05-22T20:49:53.320Z"
   },
   {
    "duration": 214,
    "start_time": "2022-05-22T20:49:53.880Z"
   },
   {
    "duration": 14,
    "start_time": "2022-05-22T20:49:54.096Z"
   },
   {
    "duration": 67,
    "start_time": "2022-05-22T20:49:54.111Z"
   },
   {
    "duration": 26454,
    "start_time": "2022-05-22T20:49:54.179Z"
   },
   {
    "duration": 26606,
    "start_time": "2022-05-22T20:50:20.635Z"
   },
   {
    "duration": 1124,
    "start_time": "2022-05-23T17:04:02.131Z"
   },
   {
    "duration": 1406,
    "start_time": "2022-05-23T17:04:03.257Z"
   },
   {
    "duration": 107,
    "start_time": "2022-05-23T17:04:04.664Z"
   },
   {
    "duration": 11,
    "start_time": "2022-05-23T17:04:04.773Z"
   },
   {
    "duration": 10,
    "start_time": "2022-05-23T17:04:04.786Z"
   },
   {
    "duration": 27,
    "start_time": "2022-05-23T17:04:04.797Z"
   },
   {
    "duration": 305,
    "start_time": "2022-05-23T17:04:04.826Z"
   },
   {
    "duration": 28,
    "start_time": "2022-05-23T17:04:05.132Z"
   },
   {
    "duration": 61,
    "start_time": "2022-05-23T17:04:05.162Z"
   },
   {
    "duration": 211,
    "start_time": "2022-05-23T17:04:05.227Z"
   },
   {
    "duration": 298,
    "start_time": "2022-05-23T17:04:05.439Z"
   },
   {
    "duration": 163,
    "start_time": "2022-05-23T17:04:05.739Z"
   },
   {
    "duration": 1820,
    "start_time": "2022-05-23T17:04:05.903Z"
   },
   {
    "duration": 40,
    "start_time": "2022-05-23T17:04:07.725Z"
   },
   {
    "duration": 490,
    "start_time": "2022-05-23T17:04:07.767Z"
   },
   {
    "duration": 153,
    "start_time": "2022-05-23T17:04:08.259Z"
   },
   {
    "duration": 2489,
    "start_time": "2022-05-23T17:04:08.414Z"
   },
   {
    "duration": 577,
    "start_time": "2022-05-23T17:04:10.904Z"
   },
   {
    "duration": 235,
    "start_time": "2022-05-23T17:04:11.483Z"
   },
   {
    "duration": 15,
    "start_time": "2022-05-23T17:04:11.720Z"
   },
   {
    "duration": 56,
    "start_time": "2022-05-23T17:04:11.736Z"
   },
   {
    "duration": 33544,
    "start_time": "2022-05-23T17:04:11.794Z"
   },
   {
    "duration": 32491,
    "start_time": "2022-05-23T17:04:45.339Z"
   },
   {
    "duration": 9869,
    "start_time": "2022-05-23T17:05:17.832Z"
   },
   {
    "duration": 19628,
    "start_time": "2022-05-23T17:06:22.577Z"
   },
   {
    "duration": 19795,
    "start_time": "2022-05-23T17:06:57.117Z"
   },
   {
    "duration": 20198,
    "start_time": "2022-05-23T17:09:38.512Z"
   },
   {
    "duration": 10,
    "start_time": "2022-05-23T17:17:49.102Z"
   },
   {
    "duration": 17,
    "start_time": "2022-05-23T17:18:05.649Z"
   },
   {
    "duration": 14,
    "start_time": "2022-05-23T17:19:42.299Z"
   },
   {
    "duration": 16,
    "start_time": "2022-05-23T17:20:26.190Z"
   },
   {
    "duration": 10,
    "start_time": "2022-05-23T17:24:10.619Z"
   },
   {
    "duration": 11,
    "start_time": "2022-05-23T17:24:32.172Z"
   },
   {
    "duration": 12,
    "start_time": "2022-05-23T17:25:10.347Z"
   },
   {
    "duration": 21,
    "start_time": "2022-05-23T17:27:16.230Z"
   },
   {
    "duration": 13,
    "start_time": "2022-05-23T17:28:05.171Z"
   },
   {
    "duration": 15,
    "start_time": "2022-05-23T17:28:11.081Z"
   },
   {
    "duration": 22,
    "start_time": "2022-05-23T17:29:02.719Z"
   },
   {
    "duration": 351,
    "start_time": "2022-05-23T17:29:31.678Z"
   },
   {
    "duration": 568,
    "start_time": "2022-05-23T17:30:06.272Z"
   },
   {
    "duration": 24,
    "start_time": "2022-05-23T17:30:31.717Z"
   },
   {
    "duration": 16,
    "start_time": "2022-05-23T17:30:43.200Z"
   },
   {
    "duration": 15,
    "start_time": "2022-05-23T17:30:54.351Z"
   },
   {
    "duration": 158,
    "start_time": "2022-05-23T17:32:24.558Z"
   },
   {
    "duration": 13,
    "start_time": "2022-05-23T17:32:59.488Z"
   },
   {
    "duration": 643,
    "start_time": "2022-05-23T17:33:26.104Z"
   },
   {
    "duration": 13,
    "start_time": "2022-05-23T17:33:40.214Z"
   },
   {
    "duration": 10,
    "start_time": "2022-05-23T17:33:47.370Z"
   },
   {
    "duration": 385,
    "start_time": "2022-05-23T17:33:57.422Z"
   },
   {
    "duration": 257,
    "start_time": "2022-05-23T17:35:16.979Z"
   },
   {
    "duration": 242,
    "start_time": "2022-05-23T17:35:46.883Z"
   },
   {
    "duration": 258,
    "start_time": "2022-05-23T17:35:58.111Z"
   },
   {
    "duration": 247,
    "start_time": "2022-05-23T17:36:06.220Z"
   },
   {
    "duration": 148,
    "start_time": "2022-05-23T17:37:11.550Z"
   },
   {
    "duration": 170,
    "start_time": "2022-05-23T17:38:09.321Z"
   },
   {
    "duration": 157510,
    "start_time": "2022-05-23T17:42:52.176Z"
   },
   {
    "duration": 19,
    "start_time": "2022-05-23T17:48:07.112Z"
   },
   {
    "duration": 154,
    "start_time": "2022-05-23T17:48:09.605Z"
   },
   {
    "duration": 126326,
    "start_time": "2022-05-23T17:48:13.452Z"
   },
   {
    "duration": 990,
    "start_time": "2022-05-23T17:51:12.902Z"
   },
   {
    "duration": 1076,
    "start_time": "2022-05-23T17:51:13.894Z"
   },
   {
    "duration": 109,
    "start_time": "2022-05-23T17:51:14.972Z"
   },
   {
    "duration": 10,
    "start_time": "2022-05-23T17:51:15.085Z"
   },
   {
    "duration": 10,
    "start_time": "2022-05-23T17:51:15.096Z"
   },
   {
    "duration": 10,
    "start_time": "2022-05-23T17:51:15.122Z"
   },
   {
    "duration": 312,
    "start_time": "2022-05-23T17:51:15.133Z"
   },
   {
    "duration": 30,
    "start_time": "2022-05-23T17:51:15.447Z"
   },
   {
    "duration": 56,
    "start_time": "2022-05-23T17:51:15.479Z"
   },
   {
    "duration": 213,
    "start_time": "2022-05-23T17:51:15.538Z"
   },
   {
    "duration": 351,
    "start_time": "2022-05-23T17:51:15.753Z"
   },
   {
    "duration": 152,
    "start_time": "2022-05-23T17:51:16.105Z"
   },
   {
    "duration": 1798,
    "start_time": "2022-05-23T17:51:16.259Z"
   },
   {
    "duration": 35,
    "start_time": "2022-05-23T17:51:18.059Z"
   },
   {
    "duration": 428,
    "start_time": "2022-05-23T17:51:18.096Z"
   },
   {
    "duration": 135,
    "start_time": "2022-05-23T17:51:18.525Z"
   },
   {
    "duration": 2374,
    "start_time": "2022-05-23T17:51:18.662Z"
   },
   {
    "duration": 552,
    "start_time": "2022-05-23T17:51:21.038Z"
   },
   {
    "duration": 209,
    "start_time": "2022-05-23T17:51:21.592Z"
   },
   {
    "duration": 27,
    "start_time": "2022-05-23T17:51:21.803Z"
   },
   {
    "duration": 49,
    "start_time": "2022-05-23T17:51:21.832Z"
   },
   {
    "duration": 26653,
    "start_time": "2022-05-23T17:51:21.883Z"
   },
   {
    "duration": 28691,
    "start_time": "2022-05-23T17:51:48.538Z"
   },
   {
    "duration": 19277,
    "start_time": "2022-05-23T17:52:17.231Z"
   },
   {
    "duration": 19845,
    "start_time": "2022-05-23T17:52:36.510Z"
   },
   {
    "duration": 15,
    "start_time": "2022-05-23T17:52:56.356Z"
   },
   {
    "duration": 204,
    "start_time": "2022-05-23T17:52:56.373Z"
   },
   {
    "duration": 34,
    "start_time": "2022-05-23T18:02:34.285Z"
   },
   {
    "duration": 686789,
    "start_time": "2022-05-23T18:04:15.252Z"
   },
   {
    "duration": 466,
    "start_time": "2022-05-23T18:15:42.043Z"
   },
   {
    "duration": 685646,
    "start_time": "2022-05-23T18:17:42.275Z"
   },
   {
    "duration": 64,
    "start_time": "2022-05-23T18:29:07.923Z"
   },
   {
    "duration": 3,
    "start_time": "2022-05-23T18:34:23.130Z"
   },
   {
    "duration": 124225,
    "start_time": "2022-05-23T18:34:27.571Z"
   },
   {
    "duration": 123760,
    "start_time": "2022-05-23T18:38:23.280Z"
   },
   {
    "duration": 1083,
    "start_time": "2022-05-23T19:01:28.515Z"
   },
   {
    "duration": 1188,
    "start_time": "2022-05-23T19:01:29.600Z"
   },
   {
    "duration": 126,
    "start_time": "2022-05-23T19:01:30.790Z"
   },
   {
    "duration": 16,
    "start_time": "2022-05-23T19:01:30.918Z"
   },
   {
    "duration": 28,
    "start_time": "2022-05-23T19:01:30.937Z"
   },
   {
    "duration": 28,
    "start_time": "2022-05-23T19:01:30.968Z"
   },
   {
    "duration": 334,
    "start_time": "2022-05-23T19:01:30.998Z"
   },
   {
    "duration": 29,
    "start_time": "2022-05-23T19:01:31.334Z"
   },
   {
    "duration": 65,
    "start_time": "2022-05-23T19:01:31.365Z"
   },
   {
    "duration": 291,
    "start_time": "2022-05-23T19:01:31.433Z"
   },
   {
    "duration": 330,
    "start_time": "2022-05-23T19:01:31.726Z"
   },
   {
    "duration": 158,
    "start_time": "2022-05-23T19:01:32.058Z"
   },
   {
    "duration": 1899,
    "start_time": "2022-05-23T19:01:32.217Z"
   },
   {
    "duration": 38,
    "start_time": "2022-05-23T19:01:34.123Z"
   },
   {
    "duration": 475,
    "start_time": "2022-05-23T19:01:34.164Z"
   },
   {
    "duration": 148,
    "start_time": "2022-05-23T19:01:34.641Z"
   },
   {
    "duration": 2504,
    "start_time": "2022-05-23T19:01:34.790Z"
   },
   {
    "duration": 587,
    "start_time": "2022-05-23T19:01:37.296Z"
   },
   {
    "duration": 267,
    "start_time": "2022-05-23T19:01:37.885Z"
   },
   {
    "duration": 14,
    "start_time": "2022-05-23T19:01:38.154Z"
   },
   {
    "duration": 91,
    "start_time": "2022-05-23T19:01:38.170Z"
   },
   {
    "duration": 29381,
    "start_time": "2022-05-23T19:01:38.263Z"
   },
   {
    "duration": 36404,
    "start_time": "2022-05-23T19:02:07.646Z"
   },
   {
    "duration": 20959,
    "start_time": "2022-05-23T19:02:44.052Z"
   },
   {
    "duration": 20212,
    "start_time": "2022-05-23T19:03:05.013Z"
   },
   {
    "duration": 13,
    "start_time": "2022-05-23T19:03:25.227Z"
   },
   {
    "duration": 183,
    "start_time": "2022-05-23T19:03:25.241Z"
   },
   {
    "duration": 689148,
    "start_time": "2022-05-23T19:03:25.425Z"
   },
   {
    "duration": 62,
    "start_time": "2022-05-23T19:14:54.575Z"
   },
   {
    "duration": 3,
    "start_time": "2022-05-23T19:14:54.638Z"
   },
   {
    "duration": 125415,
    "start_time": "2022-05-23T19:14:54.642Z"
   },
   {
    "duration": 3,
    "start_time": "2022-05-23T19:31:08.964Z"
   },
   {
    "duration": 1119,
    "start_time": "2022-05-23T19:31:51.966Z"
   },
   {
    "duration": 1091,
    "start_time": "2022-05-23T19:31:53.087Z"
   },
   {
    "duration": 116,
    "start_time": "2022-05-23T19:31:54.179Z"
   },
   {
    "duration": 12,
    "start_time": "2022-05-23T19:31:54.296Z"
   },
   {
    "duration": 17,
    "start_time": "2022-05-23T19:31:54.310Z"
   },
   {
    "duration": 8,
    "start_time": "2022-05-23T19:31:54.329Z"
   },
   {
    "duration": 343,
    "start_time": "2022-05-23T19:31:54.339Z"
   },
   {
    "duration": 40,
    "start_time": "2022-05-23T19:31:54.684Z"
   },
   {
    "duration": 46,
    "start_time": "2022-05-23T19:31:54.725Z"
   },
   {
    "duration": 220,
    "start_time": "2022-05-23T19:31:54.774Z"
   },
   {
    "duration": 347,
    "start_time": "2022-05-23T19:31:54.996Z"
   },
   {
    "duration": 148,
    "start_time": "2022-05-23T19:31:55.345Z"
   },
   {
    "duration": 1780,
    "start_time": "2022-05-23T19:31:55.494Z"
   },
   {
    "duration": 36,
    "start_time": "2022-05-23T19:31:57.276Z"
   },
   {
    "duration": 447,
    "start_time": "2022-05-23T19:31:57.324Z"
   },
   {
    "duration": 138,
    "start_time": "2022-05-23T19:31:57.773Z"
   },
   {
    "duration": 2442,
    "start_time": "2022-05-23T19:31:57.913Z"
   },
   {
    "duration": 597,
    "start_time": "2022-05-23T19:32:00.357Z"
   },
   {
    "duration": 220,
    "start_time": "2022-05-23T19:32:00.955Z"
   },
   {
    "duration": 14,
    "start_time": "2022-05-23T19:32:01.177Z"
   },
   {
    "duration": 69,
    "start_time": "2022-05-23T19:32:01.192Z"
   },
   {
    "duration": 2,
    "start_time": "2022-05-23T19:32:01.263Z"
   },
   {
    "duration": 33266,
    "start_time": "2022-05-23T19:32:01.267Z"
   },
   {
    "duration": 32405,
    "start_time": "2022-05-23T19:32:34.535Z"
   },
   {
    "duration": 19053,
    "start_time": "2022-05-23T19:33:06.942Z"
   },
   {
    "duration": 19566,
    "start_time": "2022-05-23T19:33:25.997Z"
   },
   {
    "duration": 688844,
    "start_time": "2022-05-23T19:33:45.565Z"
   },
   {
    "duration": 57,
    "start_time": "2022-05-23T19:45:14.413Z"
   },
   {
    "duration": 3,
    "start_time": "2022-05-23T19:45:14.472Z"
   },
   {
    "duration": 127657,
    "start_time": "2022-05-23T19:45:14.477Z"
   },
   {
    "duration": 0,
    "start_time": "2022-05-23T19:47:22.135Z"
   },
   {
    "duration": 0,
    "start_time": "2022-05-23T19:47:22.137Z"
   },
   {
    "duration": 0,
    "start_time": "2022-05-23T19:47:22.138Z"
   },
   {
    "duration": 132929,
    "start_time": "2022-05-23T19:51:17.784Z"
   },
   {
    "duration": 10,
    "start_time": "2022-05-23T19:55:26.948Z"
   },
   {
    "duration": 3,
    "start_time": "2022-05-23T19:56:06.883Z"
   },
   {
    "duration": 7,
    "start_time": "2022-05-23T19:56:10.864Z"
   },
   {
    "duration": 3,
    "start_time": "2022-05-23T19:58:05.219Z"
   },
   {
    "duration": 7,
    "start_time": "2022-05-23T19:58:11.914Z"
   },
   {
    "duration": 3,
    "start_time": "2022-05-23T19:59:09.986Z"
   },
   {
    "duration": 7,
    "start_time": "2022-05-23T19:59:17.650Z"
   },
   {
    "duration": 11,
    "start_time": "2022-05-23T19:59:43.348Z"
   },
   {
    "duration": 3,
    "start_time": "2022-05-23T19:59:51.546Z"
   },
   {
    "duration": 7,
    "start_time": "2022-05-23T19:59:55.128Z"
   },
   {
    "duration": 4,
    "start_time": "2022-05-23T20:00:20.460Z"
   },
   {
    "duration": 10,
    "start_time": "2022-05-23T20:00:28.721Z"
   },
   {
    "duration": 23,
    "start_time": "2022-05-23T20:00:37.323Z"
   },
   {
    "duration": 183,
    "start_time": "2022-05-23T20:02:40.010Z"
   },
   {
    "duration": 1076,
    "start_time": "2022-05-23T20:05:28.817Z"
   },
   {
    "duration": 1135,
    "start_time": "2022-05-23T20:05:29.895Z"
   },
   {
    "duration": 113,
    "start_time": "2022-05-23T20:05:31.031Z"
   },
   {
    "duration": 13,
    "start_time": "2022-05-23T20:05:31.146Z"
   },
   {
    "duration": 11,
    "start_time": "2022-05-23T20:05:31.162Z"
   },
   {
    "duration": 11,
    "start_time": "2022-05-23T20:05:31.176Z"
   },
   {
    "duration": 335,
    "start_time": "2022-05-23T20:05:31.189Z"
   },
   {
    "duration": 30,
    "start_time": "2022-05-23T20:05:31.526Z"
   },
   {
    "duration": 65,
    "start_time": "2022-05-23T20:05:31.558Z"
   },
   {
    "duration": 203,
    "start_time": "2022-05-23T20:05:31.626Z"
   },
   {
    "duration": 377,
    "start_time": "2022-05-23T20:05:31.831Z"
   },
   {
    "duration": 154,
    "start_time": "2022-05-23T20:05:32.210Z"
   },
   {
    "duration": 1790,
    "start_time": "2022-05-23T20:05:32.366Z"
   },
   {
    "duration": 34,
    "start_time": "2022-05-23T20:05:34.159Z"
   },
   {
    "duration": 423,
    "start_time": "2022-05-23T20:05:34.195Z"
   },
   {
    "duration": 137,
    "start_time": "2022-05-23T20:05:34.619Z"
   },
   {
    "duration": 2345,
    "start_time": "2022-05-23T20:05:34.757Z"
   },
   {
    "duration": 565,
    "start_time": "2022-05-23T20:05:37.103Z"
   },
   {
    "duration": 204,
    "start_time": "2022-05-23T20:05:37.670Z"
   },
   {
    "duration": 13,
    "start_time": "2022-05-23T20:05:37.876Z"
   },
   {
    "duration": 82,
    "start_time": "2022-05-23T20:05:37.890Z"
   },
   {
    "duration": 3,
    "start_time": "2022-05-23T20:05:37.974Z"
   },
   {
    "duration": 14,
    "start_time": "2022-05-23T20:05:37.979Z"
   },
   {
    "duration": 0,
    "start_time": "2022-05-23T20:05:37.995Z"
   },
   {
    "duration": 0,
    "start_time": "2022-05-23T20:05:37.996Z"
   },
   {
    "duration": 0,
    "start_time": "2022-05-23T20:05:37.996Z"
   },
   {
    "duration": 0,
    "start_time": "2022-05-23T20:05:37.997Z"
   },
   {
    "duration": 0,
    "start_time": "2022-05-23T20:05:37.998Z"
   },
   {
    "duration": 0,
    "start_time": "2022-05-23T20:05:37.999Z"
   },
   {
    "duration": 0,
    "start_time": "2022-05-23T20:05:38.001Z"
   },
   {
    "duration": 0,
    "start_time": "2022-05-23T20:05:38.002Z"
   },
   {
    "duration": 0,
    "start_time": "2022-05-23T20:05:38.023Z"
   },
   {
    "duration": 0,
    "start_time": "2022-05-23T20:05:38.024Z"
   },
   {
    "duration": 0,
    "start_time": "2022-05-23T20:05:38.026Z"
   },
   {
    "duration": 6,
    "start_time": "2022-05-23T20:05:59.393Z"
   },
   {
    "duration": 27452,
    "start_time": "2022-05-23T20:06:08.480Z"
   },
   {
    "duration": 26800,
    "start_time": "2022-05-23T20:07:09.130Z"
   },
   {
    "duration": 18865,
    "start_time": "2022-05-23T20:07:43.213Z"
   },
   {
    "duration": 19549,
    "start_time": "2022-05-23T20:08:08.281Z"
   },
   {
    "duration": 701940,
    "start_time": "2022-05-23T20:08:32.468Z"
   },
   {
    "duration": 53,
    "start_time": "2022-05-23T20:20:51.188Z"
   },
   {
    "duration": 2,
    "start_time": "2022-05-23T20:20:51.694Z"
   },
   {
    "duration": 123246,
    "start_time": "2022-05-23T20:20:54.785Z"
   },
   {
    "duration": 2,
    "start_time": "2022-05-23T20:22:58.034Z"
   },
   {
    "duration": 15,
    "start_time": "2022-05-23T20:22:58.038Z"
   },
   {
    "duration": 156,
    "start_time": "2022-05-23T20:22:58.055Z"
   },
   {
    "duration": 983,
    "start_time": "2022-05-23T20:52:48.978Z"
   },
   {
    "duration": 1105,
    "start_time": "2022-05-23T20:52:49.964Z"
   },
   {
    "duration": 111,
    "start_time": "2022-05-23T20:52:51.071Z"
   },
   {
    "duration": 11,
    "start_time": "2022-05-23T20:52:51.184Z"
   },
   {
    "duration": 27,
    "start_time": "2022-05-23T20:52:51.197Z"
   },
   {
    "duration": 10,
    "start_time": "2022-05-23T20:52:51.225Z"
   },
   {
    "duration": 305,
    "start_time": "2022-05-23T20:52:51.236Z"
   },
   {
    "duration": 30,
    "start_time": "2022-05-23T20:52:51.543Z"
   },
   {
    "duration": 63,
    "start_time": "2022-05-23T20:52:51.575Z"
   },
   {
    "duration": 203,
    "start_time": "2022-05-23T20:52:51.640Z"
   },
   {
    "duration": 346,
    "start_time": "2022-05-23T20:52:51.845Z"
   },
   {
    "duration": 161,
    "start_time": "2022-05-23T20:52:52.193Z"
   },
   {
    "duration": 1807,
    "start_time": "2022-05-23T20:52:52.356Z"
   },
   {
    "duration": 34,
    "start_time": "2022-05-23T20:52:54.166Z"
   },
   {
    "duration": 437,
    "start_time": "2022-05-23T20:52:54.201Z"
   },
   {
    "duration": 139,
    "start_time": "2022-05-23T20:52:54.640Z"
   },
   {
    "duration": 2343,
    "start_time": "2022-05-23T20:52:54.781Z"
   },
   {
    "duration": 575,
    "start_time": "2022-05-23T20:52:57.126Z"
   },
   {
    "duration": 221,
    "start_time": "2022-05-23T20:52:57.703Z"
   },
   {
    "duration": 14,
    "start_time": "2022-05-23T20:52:57.926Z"
   },
   {
    "duration": 57,
    "start_time": "2022-05-23T20:52:57.941Z"
   },
   {
    "duration": 25,
    "start_time": "2022-05-23T20:52:58.000Z"
   },
   {
    "duration": 28502,
    "start_time": "2022-05-23T20:52:58.027Z"
   },
   {
    "duration": 5,
    "start_time": "2022-05-23T20:53:26.530Z"
   },
   {
    "duration": 22010,
    "start_time": "2022-05-23T20:53:26.536Z"
   },
   {
    "duration": 0,
    "start_time": "2022-05-23T20:53:48.548Z"
   },
   {
    "duration": 0,
    "start_time": "2022-05-23T20:53:48.549Z"
   },
   {
    "duration": 0,
    "start_time": "2022-05-23T20:53:48.551Z"
   },
   {
    "duration": 0,
    "start_time": "2022-05-23T20:53:48.552Z"
   },
   {
    "duration": 0,
    "start_time": "2022-05-23T20:53:48.553Z"
   },
   {
    "duration": 0,
    "start_time": "2022-05-23T20:53:48.554Z"
   },
   {
    "duration": 0,
    "start_time": "2022-05-23T20:53:48.555Z"
   },
   {
    "duration": 0,
    "start_time": "2022-05-23T20:53:48.556Z"
   },
   {
    "duration": 0,
    "start_time": "2022-05-23T20:53:48.557Z"
   },
   {
    "duration": 0,
    "start_time": "2022-05-23T20:53:48.558Z"
   },
   {
    "duration": 0,
    "start_time": "2022-05-23T20:53:48.559Z"
   },
   {
    "duration": 26495,
    "start_time": "2022-05-23T20:54:19.041Z"
   },
   {
    "duration": 0,
    "start_time": "2022-05-23T20:54:45.537Z"
   },
   {
    "duration": 1093,
    "start_time": "2022-05-23T20:55:46.992Z"
   },
   {
    "duration": 1105,
    "start_time": "2022-05-23T20:55:48.087Z"
   },
   {
    "duration": 117,
    "start_time": "2022-05-23T20:55:49.193Z"
   },
   {
    "duration": 15,
    "start_time": "2022-05-23T20:55:49.312Z"
   },
   {
    "duration": 9,
    "start_time": "2022-05-23T20:55:49.330Z"
   },
   {
    "duration": 8,
    "start_time": "2022-05-23T20:55:49.341Z"
   },
   {
    "duration": 325,
    "start_time": "2022-05-23T20:55:49.351Z"
   },
   {
    "duration": 33,
    "start_time": "2022-05-23T20:55:49.678Z"
   },
   {
    "duration": 47,
    "start_time": "2022-05-23T20:55:49.724Z"
   },
   {
    "duration": 228,
    "start_time": "2022-05-23T20:55:49.773Z"
   },
   {
    "duration": 349,
    "start_time": "2022-05-23T20:55:50.003Z"
   },
   {
    "duration": 144,
    "start_time": "2022-05-23T20:55:50.354Z"
   },
   {
    "duration": 1704,
    "start_time": "2022-05-23T20:55:50.499Z"
   },
   {
    "duration": 44,
    "start_time": "2022-05-23T20:55:52.205Z"
   },
   {
    "duration": 493,
    "start_time": "2022-05-23T20:55:52.251Z"
   },
   {
    "duration": 135,
    "start_time": "2022-05-23T20:55:52.746Z"
   },
   {
    "duration": 2330,
    "start_time": "2022-05-23T20:55:52.883Z"
   },
   {
    "duration": 559,
    "start_time": "2022-05-23T20:55:55.214Z"
   },
   {
    "duration": 215,
    "start_time": "2022-05-23T20:55:55.774Z"
   },
   {
    "duration": 13,
    "start_time": "2022-05-23T20:55:55.991Z"
   },
   {
    "duration": 78,
    "start_time": "2022-05-23T20:55:56.005Z"
   },
   {
    "duration": 3,
    "start_time": "2022-05-23T20:55:56.085Z"
   },
   {
    "duration": 30943,
    "start_time": "2022-05-23T20:55:56.090Z"
   },
   {
    "duration": 4,
    "start_time": "2022-05-23T20:56:27.035Z"
   },
   {
    "duration": 30290,
    "start_time": "2022-05-23T20:56:27.041Z"
   },
   {
    "duration": 18911,
    "start_time": "2022-05-23T20:56:57.332Z"
   },
   {
    "duration": 19496,
    "start_time": "2022-05-23T20:57:16.245Z"
   },
   {
    "duration": 678557,
    "start_time": "2022-05-23T20:57:35.743Z"
   },
   {
    "duration": 4,
    "start_time": "2022-05-23T21:08:54.302Z"
   },
   {
    "duration": 58,
    "start_time": "2022-05-23T21:08:54.307Z"
   },
   {
    "duration": 4,
    "start_time": "2022-05-23T21:08:54.367Z"
   },
   {
    "duration": 124576,
    "start_time": "2022-05-23T21:08:54.373Z"
   },
   {
    "duration": 3,
    "start_time": "2022-05-23T21:10:58.952Z"
   },
   {
    "duration": 12,
    "start_time": "2022-05-23T21:10:58.956Z"
   },
   {
    "duration": 24,
    "start_time": "2022-05-23T21:10:58.970Z"
   },
   {
    "duration": 18,
    "start_time": "2022-05-23T21:10:58.996Z"
   },
   {
    "duration": 31743,
    "start_time": "2022-05-23T21:32:13.489Z"
   },
   {
    "duration": 6,
    "start_time": "2022-05-23T21:32:47.772Z"
   },
   {
    "duration": 27463,
    "start_time": "2022-05-23T21:33:21.968Z"
   },
   {
    "duration": 4,
    "start_time": "2022-05-23T21:44:36.122Z"
   },
   {
    "duration": 994,
    "start_time": "2022-05-23T21:46:18.354Z"
   },
   {
    "duration": 1135,
    "start_time": "2022-05-23T21:46:19.350Z"
   },
   {
    "duration": 120,
    "start_time": "2022-05-23T21:46:20.488Z"
   },
   {
    "duration": 23,
    "start_time": "2022-05-23T21:46:20.610Z"
   },
   {
    "duration": 10,
    "start_time": "2022-05-23T21:46:20.636Z"
   },
   {
    "duration": 14,
    "start_time": "2022-05-23T21:46:20.647Z"
   },
   {
    "duration": 318,
    "start_time": "2022-05-23T21:46:20.663Z"
   },
   {
    "duration": 43,
    "start_time": "2022-05-23T21:46:20.983Z"
   },
   {
    "duration": 47,
    "start_time": "2022-05-23T21:46:21.027Z"
   },
   {
    "duration": 217,
    "start_time": "2022-05-23T21:46:21.076Z"
   },
   {
    "duration": 331,
    "start_time": "2022-05-23T21:46:21.295Z"
   },
   {
    "duration": 154,
    "start_time": "2022-05-23T21:46:21.628Z"
   },
   {
    "duration": 1691,
    "start_time": "2022-05-23T21:46:21.784Z"
   },
   {
    "duration": 34,
    "start_time": "2022-05-23T21:46:23.478Z"
   },
   {
    "duration": 431,
    "start_time": "2022-05-23T21:46:23.523Z"
   },
   {
    "duration": 141,
    "start_time": "2022-05-23T21:46:23.956Z"
   },
   {
    "duration": 2443,
    "start_time": "2022-05-23T21:46:24.099Z"
   },
   {
    "duration": 568,
    "start_time": "2022-05-23T21:46:26.543Z"
   },
   {
    "duration": 202,
    "start_time": "2022-05-23T21:46:27.112Z"
   },
   {
    "duration": 17,
    "start_time": "2022-05-23T21:46:27.316Z"
   },
   {
    "duration": 52,
    "start_time": "2022-05-23T21:46:27.334Z"
   },
   {
    "duration": 3,
    "start_time": "2022-05-23T21:46:27.387Z"
   },
   {
    "duration": 25342,
    "start_time": "2022-05-23T21:46:27.391Z"
   },
   {
    "duration": 4,
    "start_time": "2022-05-23T21:46:52.735Z"
   },
   {
    "duration": 26188,
    "start_time": "2022-05-23T21:46:52.740Z"
   },
   {
    "duration": 18911,
    "start_time": "2022-05-23T21:47:18.930Z"
   },
   {
    "duration": 19467,
    "start_time": "2022-05-23T21:47:37.842Z"
   },
   {
    "duration": 666082,
    "start_time": "2022-05-23T21:47:57.310Z"
   },
   {
    "duration": 4,
    "start_time": "2022-05-23T21:59:03.394Z"
   },
   {
    "duration": 53,
    "start_time": "2022-05-23T21:59:03.400Z"
   },
   {
    "duration": 3,
    "start_time": "2022-05-23T21:59:03.455Z"
   },
   {
    "duration": 120283,
    "start_time": "2022-05-23T21:59:03.459Z"
   },
   {
    "duration": 3,
    "start_time": "2022-05-23T22:01:03.744Z"
   },
   {
    "duration": 8,
    "start_time": "2022-05-23T22:01:03.749Z"
   },
   {
    "duration": 19,
    "start_time": "2022-05-23T22:01:03.759Z"
   },
   {
    "duration": 8,
    "start_time": "2022-05-23T22:01:03.780Z"
   },
   {
    "duration": 127,
    "start_time": "2022-05-23T22:05:35.853Z"
   },
   {
    "duration": 5,
    "start_time": "2022-05-23T22:06:49.496Z"
   },
   {
    "duration": 14,
    "start_time": "2022-05-23T22:06:59.069Z"
   },
   {
    "duration": 190,
    "start_time": "2022-05-23T22:07:04.044Z"
   },
   {
    "duration": 1090,
    "start_time": "2022-05-24T07:10:46.382Z"
   },
   {
    "duration": 1256,
    "start_time": "2022-05-24T07:10:50.746Z"
   },
   {
    "duration": 1124,
    "start_time": "2022-05-24T16:03:40.558Z"
   },
   {
    "duration": 1579,
    "start_time": "2022-05-24T16:03:41.684Z"
   },
   {
    "duration": 112,
    "start_time": "2022-05-24T16:03:43.271Z"
   },
   {
    "duration": 11,
    "start_time": "2022-05-24T16:03:43.385Z"
   },
   {
    "duration": 11,
    "start_time": "2022-05-24T16:03:43.399Z"
   },
   {
    "duration": 9,
    "start_time": "2022-05-24T16:03:43.412Z"
   },
   {
    "duration": 382,
    "start_time": "2022-05-24T16:03:43.423Z"
   },
   {
    "duration": 30,
    "start_time": "2022-05-24T16:03:43.806Z"
   },
   {
    "duration": 58,
    "start_time": "2022-05-24T16:03:43.838Z"
   },
   {
    "duration": 234,
    "start_time": "2022-05-24T16:03:43.897Z"
   },
   {
    "duration": 394,
    "start_time": "2022-05-24T16:03:44.133Z"
   },
   {
    "duration": 178,
    "start_time": "2022-05-24T16:03:44.529Z"
   },
   {
    "duration": 2135,
    "start_time": "2022-05-24T16:03:44.709Z"
   },
   {
    "duration": 51,
    "start_time": "2022-05-24T16:03:46.848Z"
   },
   {
    "duration": 470,
    "start_time": "2022-05-24T16:03:46.901Z"
   },
   {
    "duration": 138,
    "start_time": "2022-05-24T16:03:47.373Z"
   },
   {
    "duration": 2431,
    "start_time": "2022-05-24T16:03:47.514Z"
   },
   {
    "duration": 628,
    "start_time": "2022-05-24T16:03:49.947Z"
   },
   {
    "duration": 246,
    "start_time": "2022-05-24T16:03:50.583Z"
   },
   {
    "duration": 14,
    "start_time": "2022-05-24T16:03:50.830Z"
   },
   {
    "duration": 68,
    "start_time": "2022-05-24T16:03:50.846Z"
   },
   {
    "duration": 2,
    "start_time": "2022-05-24T16:03:50.916Z"
   },
   {
    "duration": 63061,
    "start_time": "2022-05-24T16:03:50.920Z"
   },
   {
    "duration": 5,
    "start_time": "2022-05-24T16:04:53.983Z"
   },
   {
    "duration": 48904,
    "start_time": "2022-05-24T16:04:53.989Z"
   },
   {
    "duration": 19114,
    "start_time": "2022-05-24T16:05:42.894Z"
   },
   {
    "duration": 19946,
    "start_time": "2022-05-24T16:06:02.010Z"
   },
   {
    "duration": 711115,
    "start_time": "2022-05-24T16:06:21.957Z"
   },
   {
    "duration": 10,
    "start_time": "2022-05-24T16:18:13.074Z"
   },
   {
    "duration": 116,
    "start_time": "2022-05-24T16:18:13.086Z"
   },
   {
    "duration": 9,
    "start_time": "2022-05-24T16:18:13.205Z"
   },
   {
    "duration": 172911,
    "start_time": "2022-05-24T16:18:13.217Z"
   },
   {
    "duration": 2,
    "start_time": "2022-05-24T16:21:06.130Z"
   },
   {
    "duration": 9,
    "start_time": "2022-05-24T16:21:06.134Z"
   },
   {
    "duration": 17,
    "start_time": "2022-05-24T16:21:06.144Z"
   },
   {
    "duration": 269,
    "start_time": "2022-05-24T16:21:06.163Z"
   },
   {
    "duration": 294,
    "start_time": "2022-05-24T17:16:01.107Z"
   },
   {
    "duration": 328,
    "start_time": "2022-05-24T17:21:02.182Z"
   },
   {
    "duration": 212,
    "start_time": "2022-05-24T17:36:30.041Z"
   },
   {
    "duration": 73,
    "start_time": "2022-05-24T17:37:43.981Z"
   },
   {
    "duration": 278310,
    "start_time": "2022-05-24T17:39:45.866Z"
   },
   {
    "duration": 6,
    "start_time": "2022-05-24T17:44:52.932Z"
   },
   {
    "duration": 19,
    "start_time": "2022-05-24T17:44:57.107Z"
   },
   {
    "duration": 5,
    "start_time": "2022-05-24T17:47:00.624Z"
   },
   {
    "duration": 24,
    "start_time": "2022-05-24T17:47:33.100Z"
   },
   {
    "duration": 14,
    "start_time": "2022-05-24T17:48:20.894Z"
   },
   {
    "duration": 1309,
    "start_time": "2022-05-24T17:48:58.689Z"
   },
   {
    "duration": 2060,
    "start_time": "2022-05-24T17:49:00.010Z"
   },
   {
    "duration": 134,
    "start_time": "2022-05-24T17:49:02.071Z"
   },
   {
    "duration": 12,
    "start_time": "2022-05-24T17:49:02.208Z"
   },
   {
    "duration": 19,
    "start_time": "2022-05-24T17:49:02.222Z"
   },
   {
    "duration": 19,
    "start_time": "2022-05-24T17:49:02.243Z"
   },
   {
    "duration": 411,
    "start_time": "2022-05-24T17:49:02.264Z"
   },
   {
    "duration": 43,
    "start_time": "2022-05-24T17:49:02.679Z"
   },
   {
    "duration": 63,
    "start_time": "2022-05-24T17:49:02.724Z"
   },
   {
    "duration": 303,
    "start_time": "2022-05-24T17:49:02.794Z"
   },
   {
    "duration": 436,
    "start_time": "2022-05-24T17:49:03.099Z"
   },
   {
    "duration": 260,
    "start_time": "2022-05-24T17:49:03.537Z"
   },
   {
    "duration": 2014,
    "start_time": "2022-05-24T17:49:03.805Z"
   },
   {
    "duration": 53,
    "start_time": "2022-05-24T17:49:05.823Z"
   },
   {
    "duration": 543,
    "start_time": "2022-05-24T17:49:05.878Z"
   },
   {
    "duration": 146,
    "start_time": "2022-05-24T17:49:06.423Z"
   },
   {
    "duration": 2470,
    "start_time": "2022-05-24T17:49:06.571Z"
   },
   {
    "duration": 699,
    "start_time": "2022-05-24T17:49:09.043Z"
   },
   {
    "duration": 251,
    "start_time": "2022-05-24T17:49:09.743Z"
   },
   {
    "duration": 27,
    "start_time": "2022-05-24T17:49:10.001Z"
   },
   {
    "duration": 85,
    "start_time": "2022-05-24T17:49:10.031Z"
   },
   {
    "duration": 3,
    "start_time": "2022-05-24T17:49:10.121Z"
   },
   {
    "duration": 84072,
    "start_time": "2022-05-24T17:49:10.125Z"
   },
   {
    "duration": 5,
    "start_time": "2022-05-24T17:50:34.199Z"
   },
   {
    "duration": 89006,
    "start_time": "2022-05-24T17:50:34.206Z"
   },
   {
    "duration": 21182,
    "start_time": "2022-05-24T17:52:03.215Z"
   },
   {
    "duration": 21504,
    "start_time": "2022-05-24T17:52:24.404Z"
   },
   {
    "duration": 908082,
    "start_time": "2022-05-24T17:52:45.917Z"
   },
   {
    "duration": 18,
    "start_time": "2022-05-24T18:07:54.003Z"
   },
   {
    "duration": 125,
    "start_time": "2022-05-24T18:07:54.040Z"
   },
   {
    "duration": 40,
    "start_time": "2022-05-24T18:07:54.167Z"
   },
   {
    "duration": 216358,
    "start_time": "2022-05-24T18:07:54.215Z"
   },
   {
    "duration": 13,
    "start_time": "2022-05-24T18:11:30.583Z"
   },
   {
    "duration": 299817,
    "start_time": "2022-05-24T18:11:30.600Z"
   },
   {
    "duration": 22,
    "start_time": "2022-05-24T18:16:30.422Z"
   },
   {
    "duration": 91,
    "start_time": "2022-05-24T18:16:30.449Z"
   },
   {
    "duration": 113,
    "start_time": "2022-05-24T18:16:30.547Z"
   },
   {
    "duration": 500,
    "start_time": "2022-05-24T18:16:30.663Z"
   },
   {
    "duration": 168,
    "start_time": "2022-05-24T18:44:18.089Z"
   },
   {
    "duration": 2,
    "start_time": "2022-05-24T18:44:22.949Z"
   },
   {
    "duration": 197764,
    "start_time": "2022-05-24T18:44:24.531Z"
   },
   {
    "duration": 4,
    "start_time": "2022-05-24T18:47:51.334Z"
   },
   {
    "duration": 16,
    "start_time": "2022-05-24T18:47:54.402Z"
   },
   {
    "duration": 3,
    "start_time": "2022-05-24T18:49:02.136Z"
   },
   {
    "duration": 188314,
    "start_time": "2022-05-24T18:49:03.533Z"
   },
   {
    "duration": 15,
    "start_time": "2022-05-24T18:52:29.001Z"
   },
   {
    "duration": 10,
    "start_time": "2022-05-24T18:52:33.421Z"
   },
   {
    "duration": 259,
    "start_time": "2022-05-24T18:52:37.148Z"
   },
   {
    "duration": 246,
    "start_time": "2022-05-24T18:56:24.922Z"
   },
   {
    "duration": 387,
    "start_time": "2022-05-24T18:56:38.706Z"
   },
   {
    "duration": 251,
    "start_time": "2022-05-24T18:56:50.594Z"
   },
   {
    "duration": 5,
    "start_time": "2022-05-24T19:11:16.834Z"
   },
   {
    "duration": 7,
    "start_time": "2022-05-24T19:13:04.806Z"
   },
   {
    "duration": 5,
    "start_time": "2022-05-24T19:13:38.749Z"
   },
   {
    "duration": 6,
    "start_time": "2022-05-24T19:15:58.931Z"
   },
   {
    "duration": 5,
    "start_time": "2022-05-24T19:16:26.918Z"
   },
   {
    "duration": 4,
    "start_time": "2022-05-24T19:16:57.817Z"
   },
   {
    "duration": 429,
    "start_time": "2022-05-24T19:24:51.769Z"
   },
   {
    "duration": 371,
    "start_time": "2022-05-24T19:31:10.445Z"
   },
   {
    "duration": 261,
    "start_time": "2022-05-24T19:32:04.646Z"
   },
   {
    "duration": 329,
    "start_time": "2022-05-24T19:32:19.525Z"
   },
   {
    "duration": 286,
    "start_time": "2022-05-24T19:32:29.464Z"
   },
   {
    "duration": 13,
    "start_time": "2022-05-24T19:36:17.510Z"
   },
   {
    "duration": 1156,
    "start_time": "2022-05-24T19:44:19.891Z"
   },
   {
    "duration": 1673,
    "start_time": "2022-05-24T19:44:21.049Z"
   },
   {
    "duration": 106,
    "start_time": "2022-05-24T19:44:22.723Z"
   },
   {
    "duration": 11,
    "start_time": "2022-05-24T19:44:22.830Z"
   },
   {
    "duration": 10,
    "start_time": "2022-05-24T19:44:22.843Z"
   },
   {
    "duration": 34,
    "start_time": "2022-05-24T19:44:22.865Z"
   },
   {
    "duration": 643,
    "start_time": "2022-05-24T19:44:22.903Z"
   },
   {
    "duration": 74,
    "start_time": "2022-05-24T19:44:23.547Z"
   },
   {
    "duration": 44,
    "start_time": "2022-05-24T19:44:23.623Z"
   },
   {
    "duration": 271,
    "start_time": "2022-05-24T19:44:23.668Z"
   },
   {
    "duration": 396,
    "start_time": "2022-05-24T19:44:23.940Z"
   },
   {
    "duration": 193,
    "start_time": "2022-05-24T19:44:24.338Z"
   },
   {
    "duration": 1793,
    "start_time": "2022-05-24T19:44:24.532Z"
   },
   {
    "duration": 39,
    "start_time": "2022-05-24T19:44:26.328Z"
   },
   {
    "duration": 409,
    "start_time": "2022-05-24T19:44:26.368Z"
   },
   {
    "duration": 130,
    "start_time": "2022-05-24T19:44:26.780Z"
   },
   {
    "duration": 2332,
    "start_time": "2022-05-24T19:44:26.912Z"
   },
   {
    "duration": 666,
    "start_time": "2022-05-24T19:44:29.245Z"
   },
   {
    "duration": 233,
    "start_time": "2022-05-24T19:44:29.913Z"
   },
   {
    "duration": 30,
    "start_time": "2022-05-24T19:44:30.147Z"
   },
   {
    "duration": 56,
    "start_time": "2022-05-24T19:44:30.181Z"
   },
   {
    "duration": 2,
    "start_time": "2022-05-24T19:44:30.239Z"
   },
   {
    "duration": 84544,
    "start_time": "2022-05-24T19:44:30.242Z"
   },
   {
    "duration": 90308,
    "start_time": "2022-05-24T19:45:54.792Z"
   },
   {
    "duration": 20318,
    "start_time": "2022-05-24T19:47:25.105Z"
   },
   {
    "duration": 20788,
    "start_time": "2022-05-24T19:47:45.424Z"
   },
   {
    "duration": 725730,
    "start_time": "2022-05-24T19:48:06.213Z"
   },
   {
    "duration": 5,
    "start_time": "2022-05-24T20:00:11.944Z"
   },
   {
    "duration": 86,
    "start_time": "2022-05-24T20:00:11.951Z"
   },
   {
    "duration": 5,
    "start_time": "2022-05-24T20:00:12.038Z"
   },
   {
    "duration": 143168,
    "start_time": "2022-05-24T20:00:12.044Z"
   },
   {
    "duration": 3,
    "start_time": "2022-05-24T20:02:35.214Z"
   },
   {
    "duration": 121887,
    "start_time": "2022-05-24T20:02:35.218Z"
   },
   {
    "duration": 5,
    "start_time": "2022-05-24T20:04:37.106Z"
   },
   {
    "duration": 6,
    "start_time": "2022-05-24T20:04:37.113Z"
   },
   {
    "duration": 15,
    "start_time": "2022-05-24T20:04:37.120Z"
   },
   {
    "duration": 252,
    "start_time": "2022-05-24T20:04:37.137Z"
   },
   {
    "duration": 249,
    "start_time": "2022-05-24T20:04:37.395Z"
   },
   {
    "duration": 2,
    "start_time": "2022-05-24T20:04:37.646Z"
   },
   {
    "duration": 15754,
    "start_time": "2022-05-24T20:04:37.649Z"
   },
   {
    "duration": 0,
    "start_time": "2022-05-24T20:04:53.405Z"
   },
   {
    "duration": 0,
    "start_time": "2022-05-24T20:04:53.406Z"
   },
   {
    "duration": 0,
    "start_time": "2022-05-24T20:04:53.408Z"
   },
   {
    "duration": 0,
    "start_time": "2022-05-24T20:04:53.408Z"
   },
   {
    "duration": 0,
    "start_time": "2022-05-24T20:04:53.410Z"
   },
   {
    "duration": 0,
    "start_time": "2022-05-24T20:04:53.411Z"
   },
   {
    "duration": 172253,
    "start_time": "2022-05-24T20:15:26.899Z"
   },
   {
    "duration": 4,
    "start_time": "2022-05-24T20:18:58.787Z"
   },
   {
    "duration": 11,
    "start_time": "2022-05-24T20:19:01.417Z"
   },
   {
    "duration": 182,
    "start_time": "2022-05-24T20:19:13.830Z"
   },
   {
    "duration": 169,
    "start_time": "2022-05-24T20:19:21.611Z"
   },
   {
    "duration": 164,
    "start_time": "2022-05-24T20:19:27.791Z"
   },
   {
    "duration": 1247,
    "start_time": "2022-05-25T05:35:57.311Z"
   },
   {
    "duration": 3646,
    "start_time": "2022-05-25T05:35:58.560Z"
   },
   {
    "duration": 118,
    "start_time": "2022-05-25T05:36:02.208Z"
   },
   {
    "duration": 16,
    "start_time": "2022-05-25T05:36:02.328Z"
   },
   {
    "duration": 150,
    "start_time": "2022-05-25T05:36:02.346Z"
   },
   {
    "duration": 111,
    "start_time": "2022-05-25T05:36:02.499Z"
   },
   {
    "duration": 363,
    "start_time": "2022-05-25T05:36:02.612Z"
   },
   {
    "duration": 42,
    "start_time": "2022-05-25T05:36:02.977Z"
   },
   {
    "duration": 117,
    "start_time": "2022-05-25T05:36:03.020Z"
   },
   {
    "duration": 334,
    "start_time": "2022-05-25T05:36:03.138Z"
   },
   {
    "duration": 366,
    "start_time": "2022-05-25T05:36:03.473Z"
   },
   {
    "duration": 179,
    "start_time": "2022-05-25T05:36:03.841Z"
   },
   {
    "duration": 2003,
    "start_time": "2022-05-25T05:36:04.022Z"
   },
   {
    "duration": 41,
    "start_time": "2022-05-25T05:36:06.028Z"
   },
   {
    "duration": 437,
    "start_time": "2022-05-25T05:36:06.083Z"
   },
   {
    "duration": 137,
    "start_time": "2022-05-25T05:36:06.522Z"
   },
   {
    "duration": 3132,
    "start_time": "2022-05-25T05:36:06.661Z"
   },
   {
    "duration": 1311,
    "start_time": "2022-05-25T05:36:09.797Z"
   },
   {
    "duration": 439,
    "start_time": "2022-05-25T05:36:11.110Z"
   },
   {
    "duration": 53,
    "start_time": "2022-05-25T05:36:11.550Z"
   },
   {
    "duration": 60,
    "start_time": "2022-05-25T05:36:11.605Z"
   },
   {
    "duration": 22,
    "start_time": "2022-05-25T05:36:11.667Z"
   },
   {
    "duration": 68710,
    "start_time": "2022-05-25T05:36:11.691Z"
   },
   {
    "duration": 85605,
    "start_time": "2022-05-25T05:37:20.402Z"
   },
   {
    "duration": 33702,
    "start_time": "2022-05-25T05:38:46.009Z"
   },
   {
    "duration": 33182,
    "start_time": "2022-05-25T05:39:19.713Z"
   },
   {
    "duration": 1553427,
    "start_time": "2022-05-25T05:39:52.896Z"
   },
   {
    "duration": 6,
    "start_time": "2022-05-25T06:05:46.328Z"
   },
   {
    "duration": 171,
    "start_time": "2022-05-25T06:05:46.337Z"
   },
   {
    "duration": 10,
    "start_time": "2022-05-25T06:05:46.510Z"
   },
   {
    "duration": 358608,
    "start_time": "2022-05-25T06:05:46.523Z"
   },
   {
    "duration": 3,
    "start_time": "2022-05-25T06:11:45.134Z"
   },
   {
    "duration": 5868,
    "start_time": "2022-05-25T06:30:29.684Z"
   },
   {
    "duration": 8746,
    "start_time": "2022-05-25T06:30:35.554Z"
   },
   {
    "duration": 293,
    "start_time": "2022-05-25T06:30:44.307Z"
   },
   {
    "duration": 23,
    "start_time": "2022-05-25T06:30:44.603Z"
   },
   {
    "duration": 68,
    "start_time": "2022-05-25T06:30:44.628Z"
   },
   {
    "duration": 96,
    "start_time": "2022-05-25T06:30:44.698Z"
   },
   {
    "duration": 1039,
    "start_time": "2022-05-25T06:30:44.801Z"
   },
   {
    "duration": 107,
    "start_time": "2022-05-25T06:30:45.884Z"
   },
   {
    "duration": 139,
    "start_time": "2022-05-25T06:30:45.993Z"
   },
   {
    "duration": 596,
    "start_time": "2022-05-25T06:30:46.136Z"
   },
   {
    "duration": 1164,
    "start_time": "2022-05-25T06:30:46.739Z"
   },
   {
    "duration": 423,
    "start_time": "2022-05-25T06:30:47.916Z"
   },
   {
    "duration": 6250,
    "start_time": "2022-05-25T06:30:48.384Z"
   },
   {
    "duration": 125,
    "start_time": "2022-05-25T06:30:54.683Z"
   },
   {
    "duration": 1188,
    "start_time": "2022-05-25T06:30:54.814Z"
   },
   {
    "duration": 878,
    "start_time": "2022-05-25T06:30:56.012Z"
   },
   {
    "duration": 7749,
    "start_time": "2022-05-25T06:30:56.893Z"
   },
   {
    "duration": 716,
    "start_time": "2022-05-25T06:31:04.644Z"
   },
   {
    "duration": 278,
    "start_time": "2022-05-25T06:31:05.362Z"
   },
   {
    "duration": 14,
    "start_time": "2022-05-25T06:31:05.642Z"
   },
   {
    "duration": 90,
    "start_time": "2022-05-25T06:31:05.658Z"
   },
   {
    "duration": 2,
    "start_time": "2022-05-25T06:31:05.750Z"
   },
   {
    "duration": 87049,
    "start_time": "2022-05-25T06:31:05.754Z"
   },
   {
    "duration": 89635,
    "start_time": "2022-05-25T06:32:32.807Z"
   },
   {
    "duration": 21626,
    "start_time": "2022-05-25T06:34:02.449Z"
   },
   {
    "duration": 22170,
    "start_time": "2022-05-25T06:34:24.077Z"
   },
   {
    "duration": 797214,
    "start_time": "2022-05-25T06:34:46.248Z"
   },
   {
    "duration": 5,
    "start_time": "2022-05-25T06:48:03.466Z"
   },
   {
    "duration": 87,
    "start_time": "2022-05-25T06:48:03.472Z"
   },
   {
    "duration": 49,
    "start_time": "2022-05-25T06:48:03.561Z"
   },
   {
    "duration": 172122,
    "start_time": "2022-05-25T06:48:03.616Z"
   },
   {
    "duration": 5,
    "start_time": "2022-05-25T06:59:45.201Z"
   },
   {
    "duration": 162,
    "start_time": "2022-05-25T06:59:45.214Z"
   },
   {
    "duration": 0,
    "start_time": "2022-05-25T06:59:45.379Z"
   },
   {
    "duration": 0,
    "start_time": "2022-05-25T06:59:45.380Z"
   },
   {
    "duration": 0,
    "start_time": "2022-05-25T06:59:45.384Z"
   },
   {
    "duration": 0,
    "start_time": "2022-05-25T06:59:45.385Z"
   },
   {
    "duration": 0,
    "start_time": "2022-05-25T06:59:45.386Z"
   },
   {
    "duration": 0,
    "start_time": "2022-05-25T06:59:45.387Z"
   },
   {
    "duration": 0,
    "start_time": "2022-05-25T06:59:45.388Z"
   },
   {
    "duration": 0,
    "start_time": "2022-05-25T06:59:45.390Z"
   },
   {
    "duration": 0,
    "start_time": "2022-05-25T06:59:45.391Z"
   },
   {
    "duration": 0,
    "start_time": "2022-05-25T06:59:45.392Z"
   },
   {
    "duration": 3,
    "start_time": "2022-05-25T07:00:15.487Z"
   },
   {
    "duration": 31718,
    "start_time": "2022-05-25T07:00:15.493Z"
   },
   {
    "duration": 0,
    "start_time": "2022-05-25T07:00:47.212Z"
   },
   {
    "duration": 0,
    "start_time": "2022-05-25T07:00:47.214Z"
   },
   {
    "duration": 0,
    "start_time": "2022-05-25T07:00:47.215Z"
   },
   {
    "duration": 0,
    "start_time": "2022-05-25T07:00:47.216Z"
   },
   {
    "duration": 0,
    "start_time": "2022-05-25T07:00:47.217Z"
   },
   {
    "duration": 0,
    "start_time": "2022-05-25T07:00:47.219Z"
   },
   {
    "duration": 0,
    "start_time": "2022-05-25T07:00:47.220Z"
   },
   {
    "duration": 0,
    "start_time": "2022-05-25T07:00:47.221Z"
   },
   {
    "duration": 0,
    "start_time": "2022-05-25T07:00:47.222Z"
   },
   {
    "duration": 0,
    "start_time": "2022-05-25T07:00:47.223Z"
   },
   {
    "duration": 0,
    "start_time": "2022-05-25T07:00:47.224Z"
   },
   {
    "duration": 0,
    "start_time": "2022-05-25T07:00:47.225Z"
   },
   {
    "duration": 3,
    "start_time": "2022-05-25T07:00:56.026Z"
   },
   {
    "duration": 1590,
    "start_time": "2022-05-25T07:02:36.389Z"
   },
   {
    "duration": 4523,
    "start_time": "2022-05-25T07:02:37.981Z"
   },
   {
    "duration": 115,
    "start_time": "2022-05-25T07:02:42.508Z"
   },
   {
    "duration": 12,
    "start_time": "2022-05-25T07:02:42.625Z"
   },
   {
    "duration": 29,
    "start_time": "2022-05-25T07:02:42.641Z"
   },
   {
    "duration": 17,
    "start_time": "2022-05-25T07:02:42.672Z"
   },
   {
    "duration": 429,
    "start_time": "2022-05-25T07:02:42.695Z"
   },
   {
    "duration": 38,
    "start_time": "2022-05-25T07:02:43.126Z"
   },
   {
    "duration": 63,
    "start_time": "2022-05-25T07:02:43.166Z"
   },
   {
    "duration": 246,
    "start_time": "2022-05-25T07:02:43.230Z"
   },
   {
    "duration": 399,
    "start_time": "2022-05-25T07:02:43.477Z"
   },
   {
    "duration": 190,
    "start_time": "2022-05-25T07:02:43.878Z"
   },
   {
    "duration": 1919,
    "start_time": "2022-05-25T07:02:44.070Z"
   },
   {
    "duration": 38,
    "start_time": "2022-05-25T07:02:46.001Z"
   },
   {
    "duration": 502,
    "start_time": "2022-05-25T07:02:46.042Z"
   },
   {
    "duration": 150,
    "start_time": "2022-05-25T07:02:46.548Z"
   },
   {
    "duration": 2514,
    "start_time": "2022-05-25T07:02:46.704Z"
   },
   {
    "duration": 713,
    "start_time": "2022-05-25T07:02:49.223Z"
   },
   {
    "duration": 261,
    "start_time": "2022-05-25T07:02:49.941Z"
   },
   {
    "duration": 19,
    "start_time": "2022-05-25T07:02:50.204Z"
   },
   {
    "duration": 70,
    "start_time": "2022-05-25T07:02:50.225Z"
   },
   {
    "duration": 2,
    "start_time": "2022-05-25T07:02:50.297Z"
   },
   {
    "duration": 77995,
    "start_time": "2022-05-25T07:02:50.301Z"
   },
   {
    "duration": 79317,
    "start_time": "2022-05-25T07:04:08.307Z"
   },
   {
    "duration": 21347,
    "start_time": "2022-05-25T07:05:27.626Z"
   },
   {
    "duration": 21447,
    "start_time": "2022-05-25T07:05:48.975Z"
   },
   {
    "duration": 745761,
    "start_time": "2022-05-25T07:06:10.424Z"
   },
   {
    "duration": 12,
    "start_time": "2022-05-25T07:18:36.188Z"
   },
   {
    "duration": 100,
    "start_time": "2022-05-25T07:18:36.202Z"
   },
   {
    "duration": 23,
    "start_time": "2022-05-25T07:18:36.310Z"
   },
   {
    "duration": 155255,
    "start_time": "2022-05-25T07:18:36.335Z"
   },
   {
    "duration": 4,
    "start_time": "2022-05-25T07:21:11.595Z"
   },
   {
    "duration": 1525,
    "start_time": "2022-05-25T20:41:55.467Z"
   },
   {
    "duration": 4,
    "start_time": "2022-05-25T20:41:59.022Z"
   },
   {
    "duration": 3104,
    "start_time": "2022-05-25T20:42:07.605Z"
   },
   {
    "duration": 943,
    "start_time": "2022-05-25T20:42:13.827Z"
   },
   {
    "duration": 959,
    "start_time": "2022-05-25T20:42:35.005Z"
   },
   {
    "duration": 967,
    "start_time": "2022-05-25T20:49:50.295Z"
   },
   {
    "duration": 994,
    "start_time": "2022-05-25T20:49:53.795Z"
   },
   {
    "duration": 1045,
    "start_time": "2022-05-25T20:50:59.265Z"
   },
   {
    "duration": 25,
    "start_time": "2022-05-25T20:51:23.391Z"
   },
   {
    "duration": 24,
    "start_time": "2022-05-25T20:51:29.721Z"
   },
   {
    "duration": 150,
    "start_time": "2022-05-25T20:52:03.671Z"
   },
   {
    "duration": 10,
    "start_time": "2022-05-25T20:52:41.914Z"
   },
   {
    "duration": 55,
    "start_time": "2022-05-25T20:52:58.086Z"
   },
   {
    "duration": 1169,
    "start_time": "2022-05-25T20:53:03.557Z"
   },
   {
    "duration": 72,
    "start_time": "2022-05-25T20:53:07.604Z"
   },
   {
    "duration": 3,
    "start_time": "2022-05-25T20:54:12.434Z"
   },
   {
    "duration": 1046,
    "start_time": "2022-05-25T20:54:25.674Z"
   },
   {
    "duration": 1072,
    "start_time": "2022-05-25T20:54:29.427Z"
   },
   {
    "duration": 1014,
    "start_time": "2022-05-25T20:54:57.298Z"
   },
   {
    "duration": 5,
    "start_time": "2022-05-25T20:58:08.191Z"
   },
   {
    "duration": 1059,
    "start_time": "2022-05-25T20:58:48.408Z"
   },
   {
    "duration": 10,
    "start_time": "2022-05-25T20:59:06.132Z"
   },
   {
    "duration": 9,
    "start_time": "2022-05-25T20:59:49.655Z"
   },
   {
    "duration": 1050,
    "start_time": "2022-05-25T20:59:56.948Z"
   },
   {
    "duration": 10,
    "start_time": "2022-05-25T21:00:11.602Z"
   },
   {
    "duration": 1181,
    "start_time": "2022-05-25T21:00:33.649Z"
   },
   {
    "duration": 1088,
    "start_time": "2022-05-25T21:02:56.374Z"
   },
   {
    "duration": 913,
    "start_time": "2022-05-25T21:03:39.288Z"
   },
   {
    "duration": 42,
    "start_time": "2022-05-25T21:07:37.791Z"
   },
   {
    "duration": 995,
    "start_time": "2022-05-25T21:07:51.761Z"
   },
   {
    "duration": 42,
    "start_time": "2022-05-25T21:09:48.976Z"
   },
   {
    "duration": 997,
    "start_time": "2022-05-25T21:09:52.971Z"
   },
   {
    "duration": 1018,
    "start_time": "2022-05-25T21:10:11.550Z"
   },
   {
    "duration": 127,
    "start_time": "2022-05-25T21:11:33.875Z"
   },
   {
    "duration": 433,
    "start_time": "2022-05-25T21:20:18.906Z"
   },
   {
    "duration": 406,
    "start_time": "2022-05-25T21:20:28.001Z"
   },
   {
    "duration": 240,
    "start_time": "2022-05-25T21:21:47.139Z"
   },
   {
    "duration": 411,
    "start_time": "2022-05-25T21:22:03.816Z"
   },
   {
    "duration": 115,
    "start_time": "2022-05-25T21:24:20.426Z"
   },
   {
    "duration": 420,
    "start_time": "2022-05-25T21:24:39.705Z"
   },
   {
    "duration": 363,
    "start_time": "2022-05-25T21:24:48.612Z"
   },
   {
    "duration": 411,
    "start_time": "2022-05-25T21:25:02.197Z"
   },
   {
    "duration": 15,
    "start_time": "2022-05-25T21:25:33.282Z"
   },
   {
    "duration": 216,
    "start_time": "2022-05-25T21:29:51.947Z"
   },
   {
    "duration": 153,
    "start_time": "2022-05-25T21:30:02.798Z"
   },
   {
    "duration": 323,
    "start_time": "2022-05-25T21:30:12.221Z"
   },
   {
    "duration": 87,
    "start_time": "2022-05-25T21:30:39.164Z"
   },
   {
    "duration": 946,
    "start_time": "2022-05-25T21:30:46.863Z"
   },
   {
    "duration": 170,
    "start_time": "2022-05-25T21:31:10.588Z"
   },
   {
    "duration": 121,
    "start_time": "2022-05-25T21:31:22.174Z"
   },
   {
    "duration": 225,
    "start_time": "2022-05-25T21:31:51.791Z"
   },
   {
    "duration": 120,
    "start_time": "2022-05-25T21:32:01.317Z"
   },
   {
    "duration": 135,
    "start_time": "2022-05-25T21:32:12.889Z"
   },
   {
    "duration": 140,
    "start_time": "2022-05-25T21:32:18.065Z"
   },
   {
    "duration": 136,
    "start_time": "2022-05-25T21:34:12.075Z"
   },
   {
    "duration": 154,
    "start_time": "2022-05-25T21:34:25.926Z"
   },
   {
    "duration": 142,
    "start_time": "2022-05-25T21:34:35.846Z"
   },
   {
    "duration": 301,
    "start_time": "2022-05-25T21:38:31.193Z"
   },
   {
    "duration": 22,
    "start_time": "2022-05-25T21:38:47.860Z"
   },
   {
    "duration": 10,
    "start_time": "2022-05-25T21:39:04.231Z"
   },
   {
    "duration": 12,
    "start_time": "2022-05-25T21:39:21.343Z"
   },
   {
    "duration": 12,
    "start_time": "2022-05-25T21:39:32.347Z"
   },
   {
    "duration": 12,
    "start_time": "2022-05-25T21:41:25.022Z"
   },
   {
    "duration": 163,
    "start_time": "2022-05-25T21:42:30.882Z"
   },
   {
    "duration": 184,
    "start_time": "2022-05-25T21:42:41.509Z"
   },
   {
    "duration": 143,
    "start_time": "2022-05-25T21:42:53.644Z"
   },
   {
    "duration": 159,
    "start_time": "2022-05-25T21:43:03.248Z"
   },
   {
    "duration": 183,
    "start_time": "2022-05-25T21:43:12.760Z"
   },
   {
    "duration": 149,
    "start_time": "2022-05-25T21:43:22.019Z"
   },
   {
    "duration": 23,
    "start_time": "2022-05-25T21:45:11.969Z"
   },
   {
    "duration": 12,
    "start_time": "2022-05-25T21:45:38.455Z"
   },
   {
    "duration": 20,
    "start_time": "2022-05-25T21:46:09.067Z"
   },
   {
    "duration": 16,
    "start_time": "2022-05-25T21:47:49.906Z"
   },
   {
    "duration": 18,
    "start_time": "2022-05-25T21:47:58.529Z"
   },
   {
    "duration": 2,
    "start_time": "2022-05-25T21:50:02.952Z"
   },
   {
    "duration": 13,
    "start_time": "2022-05-25T21:55:42.342Z"
   },
   {
    "duration": 76,
    "start_time": "2022-05-25T21:56:15.285Z"
   },
   {
    "duration": 78,
    "start_time": "2022-05-25T21:57:02.553Z"
   },
   {
    "duration": 10,
    "start_time": "2022-05-25T21:57:31.424Z"
   },
   {
    "duration": 16,
    "start_time": "2022-05-25T21:57:45.520Z"
   },
   {
    "duration": 13,
    "start_time": "2022-05-25T21:58:34.590Z"
   },
   {
    "duration": 35,
    "start_time": "2022-05-25T21:59:05.311Z"
   },
   {
    "duration": 19,
    "start_time": "2022-05-25T21:59:29.786Z"
   },
   {
    "duration": 14,
    "start_time": "2022-05-25T22:00:17.459Z"
   },
   {
    "duration": 8,
    "start_time": "2022-05-25T22:00:35.262Z"
   },
   {
    "duration": 12,
    "start_time": "2022-05-25T22:01:40.304Z"
   },
   {
    "duration": 12,
    "start_time": "2022-05-25T22:01:56.735Z"
   },
   {
    "duration": 41,
    "start_time": "2022-05-25T22:02:46.952Z"
   },
   {
    "duration": 22,
    "start_time": "2022-05-25T22:03:18.211Z"
   },
   {
    "duration": 21,
    "start_time": "2022-05-25T22:04:43.317Z"
   },
   {
    "duration": 23,
    "start_time": "2022-05-25T22:06:16.289Z"
   },
   {
    "duration": 21,
    "start_time": "2022-05-25T22:06:52.035Z"
   },
   {
    "duration": 21,
    "start_time": "2022-05-25T22:07:29.095Z"
   },
   {
    "duration": 40,
    "start_time": "2022-05-25T22:07:44.491Z"
   },
   {
    "duration": 965,
    "start_time": "2022-05-25T22:07:46.343Z"
   },
   {
    "duration": 106,
    "start_time": "2022-05-25T22:07:51.434Z"
   },
   {
    "duration": 91,
    "start_time": "2022-05-25T22:07:54.802Z"
   },
   {
    "duration": 250,
    "start_time": "2022-05-25T22:07:58.119Z"
   },
   {
    "duration": 17,
    "start_time": "2022-05-25T22:08:01.919Z"
   },
   {
    "duration": 22,
    "start_time": "2022-05-25T22:08:03.208Z"
   },
   {
    "duration": 165,
    "start_time": "2022-05-25T22:08:03.898Z"
   },
   {
    "duration": 20,
    "start_time": "2022-05-25T22:08:30.702Z"
   },
   {
    "duration": 19,
    "start_time": "2022-05-25T22:09:08.316Z"
   },
   {
    "duration": 8,
    "start_time": "2022-05-25T22:09:30.035Z"
   },
   {
    "duration": 12,
    "start_time": "2022-05-25T22:09:50.314Z"
   },
   {
    "duration": 12,
    "start_time": "2022-05-25T22:10:03.208Z"
   },
   {
    "duration": 12,
    "start_time": "2022-05-25T22:10:06.552Z"
   },
   {
    "duration": 35,
    "start_time": "2022-05-25T22:10:12.801Z"
   },
   {
    "duration": 12,
    "start_time": "2022-05-25T22:10:25.660Z"
   },
   {
    "duration": 14,
    "start_time": "2022-05-25T22:10:35.201Z"
   },
   {
    "duration": 168,
    "start_time": "2022-05-25T22:11:05.337Z"
   },
   {
    "duration": 65,
    "start_time": "2022-05-25T22:11:23.707Z"
   },
   {
    "duration": 54,
    "start_time": "2022-05-25T22:11:48.261Z"
   },
   {
    "duration": 30,
    "start_time": "2022-05-25T22:11:54.458Z"
   },
   {
    "duration": 152,
    "start_time": "2022-05-25T22:12:25.478Z"
   },
   {
    "duration": 25,
    "start_time": "2022-05-25T22:12:51.334Z"
   },
   {
    "duration": 38,
    "start_time": "2022-05-25T22:13:08.996Z"
   },
   {
    "duration": 11,
    "start_time": "2022-05-25T22:14:32.722Z"
   },
   {
    "duration": 48,
    "start_time": "2022-05-25T22:15:18.999Z"
   },
   {
    "duration": 34,
    "start_time": "2022-05-25T22:15:35.296Z"
   },
   {
    "duration": 24,
    "start_time": "2022-05-25T22:15:50.392Z"
   },
   {
    "duration": 21,
    "start_time": "2022-05-25T22:16:20.909Z"
   },
   {
    "duration": 43,
    "start_time": "2022-05-25T22:16:28.867Z"
   },
   {
    "duration": 29,
    "start_time": "2022-05-25T22:16:32.955Z"
   },
   {
    "duration": 90,
    "start_time": "2022-05-25T22:17:50.169Z"
   },
   {
    "duration": 52,
    "start_time": "2022-05-25T22:19:36.963Z"
   },
   {
    "duration": 10,
    "start_time": "2022-05-25T22:19:43.233Z"
   },
   {
    "duration": 20,
    "start_time": "2022-05-25T22:20:04.899Z"
   },
   {
    "duration": 11,
    "start_time": "2022-05-25T22:22:38.832Z"
   },
   {
    "duration": 18,
    "start_time": "2022-05-25T22:23:13.665Z"
   },
   {
    "duration": 16,
    "start_time": "2022-05-25T22:23:55.419Z"
   },
   {
    "duration": 10,
    "start_time": "2022-05-25T22:24:08.099Z"
   },
   {
    "duration": 10,
    "start_time": "2022-05-25T22:24:52.553Z"
   },
   {
    "duration": 10,
    "start_time": "2022-05-25T22:25:11.700Z"
   },
   {
    "duration": 7,
    "start_time": "2022-05-25T22:25:51.296Z"
   },
   {
    "duration": 13,
    "start_time": "2022-05-25T22:25:58.410Z"
   },
   {
    "duration": 48,
    "start_time": "2022-05-25T22:26:20.807Z"
   },
   {
    "duration": 10,
    "start_time": "2022-05-25T22:27:54.265Z"
   },
   {
    "duration": 10,
    "start_time": "2022-05-25T22:28:27.909Z"
   },
   {
    "duration": 66,
    "start_time": "2022-05-25T22:28:52.036Z"
   },
   {
    "duration": 11,
    "start_time": "2022-05-25T22:29:05.708Z"
   },
   {
    "duration": 10,
    "start_time": "2022-05-25T22:37:41.361Z"
   },
   {
    "duration": 11,
    "start_time": "2022-05-25T22:38:34.439Z"
   },
   {
    "duration": 139,
    "start_time": "2022-05-25T22:38:35.386Z"
   },
   {
    "duration": 16,
    "start_time": "2022-05-25T22:38:35.602Z"
   },
   {
    "duration": 11,
    "start_time": "2022-05-25T22:38:49.294Z"
   },
   {
    "duration": 11,
    "start_time": "2022-05-25T22:39:05.894Z"
   },
   {
    "duration": 45,
    "start_time": "2022-05-25T22:39:44.151Z"
   },
   {
    "duration": 928,
    "start_time": "2022-05-25T22:39:44.643Z"
   },
   {
    "duration": 84,
    "start_time": "2022-05-25T22:39:46.513Z"
   },
   {
    "duration": 86,
    "start_time": "2022-05-25T22:39:47.234Z"
   },
   {
    "duration": 162,
    "start_time": "2022-05-25T22:39:49.466Z"
   },
   {
    "duration": 12,
    "start_time": "2022-05-25T22:39:53.436Z"
   },
   {
    "duration": 21,
    "start_time": "2022-05-25T22:39:58.171Z"
   },
   {
    "duration": 10,
    "start_time": "2022-05-25T22:40:30.982Z"
   },
   {
    "duration": 10,
    "start_time": "2022-05-25T22:40:38.639Z"
   },
   {
    "duration": 6,
    "start_time": "2022-05-25T22:40:56.250Z"
   },
   {
    "duration": 7,
    "start_time": "2022-05-25T22:41:06.054Z"
   },
   {
    "duration": 18,
    "start_time": "2022-05-25T22:41:28.930Z"
   },
   {
    "duration": 228,
    "start_time": "2022-05-25T22:42:37.621Z"
   },
   {
    "duration": 21,
    "start_time": "2022-05-25T22:42:42.802Z"
   },
   {
    "duration": 306,
    "start_time": "2022-05-25T22:44:17.280Z"
   },
   {
    "duration": 473,
    "start_time": "2022-05-25T22:44:54.607Z"
   },
   {
    "duration": 86,
    "start_time": "2022-05-25T22:45:30.934Z"
   },
   {
    "duration": 91,
    "start_time": "2022-05-25T22:45:52.084Z"
   },
   {
    "duration": 107,
    "start_time": "2022-05-25T22:46:04.678Z"
   },
   {
    "duration": 10,
    "start_time": "2022-05-25T22:48:24.184Z"
   },
   {
    "duration": 10,
    "start_time": "2022-05-25T22:48:30.114Z"
   },
   {
    "duration": 136,
    "start_time": "2022-05-25T22:48:40.265Z"
   },
   {
    "duration": 485,
    "start_time": "2022-05-25T22:50:00.446Z"
   },
   {
    "duration": 42,
    "start_time": "2022-05-25T22:50:17.506Z"
   },
   {
    "duration": 44,
    "start_time": "2022-05-25T22:50:46.391Z"
   },
   {
    "duration": 99,
    "start_time": "2022-05-25T22:50:55.722Z"
   },
   {
    "duration": 91,
    "start_time": "2022-05-25T22:51:10.284Z"
   },
   {
    "duration": 866,
    "start_time": "2022-05-25T22:51:24.959Z"
   },
   {
    "duration": 85,
    "start_time": "2022-05-25T22:51:25.829Z"
   },
   {
    "duration": 85,
    "start_time": "2022-05-25T22:51:26.256Z"
   },
   {
    "duration": 141,
    "start_time": "2022-05-25T22:51:26.849Z"
   },
   {
    "duration": 13,
    "start_time": "2022-05-25T22:51:27.059Z"
   },
   {
    "duration": 19,
    "start_time": "2022-05-25T22:51:28.406Z"
   },
   {
    "duration": 149,
    "start_time": "2022-05-25T22:51:29.799Z"
   },
   {
    "duration": 21,
    "start_time": "2022-05-25T22:51:32.286Z"
   },
   {
    "duration": 111,
    "start_time": "2022-05-25T22:51:35.531Z"
   },
   {
    "duration": 89,
    "start_time": "2022-05-25T22:51:41.023Z"
   },
   {
    "duration": 522,
    "start_time": "2022-05-25T22:53:30.800Z"
   },
   {
    "duration": 522,
    "start_time": "2022-05-25T22:53:53.816Z"
   },
   {
    "duration": 88,
    "start_time": "2022-05-25T22:54:03.931Z"
   },
   {
    "duration": 427,
    "start_time": "2022-05-25T22:54:24.385Z"
   },
   {
    "duration": 531,
    "start_time": "2022-05-25T22:54:39.896Z"
   },
   {
    "duration": 62,
    "start_time": "2022-05-25T22:54:53.584Z"
   },
   {
    "duration": 115,
    "start_time": "2022-05-25T22:55:01.993Z"
   },
   {
    "duration": 64,
    "start_time": "2022-05-25T22:55:29.951Z"
   },
   {
    "duration": 886,
    "start_time": "2022-05-25T22:56:16.608Z"
   },
   {
    "duration": 78,
    "start_time": "2022-05-25T22:56:17.656Z"
   },
   {
    "duration": 85,
    "start_time": "2022-05-25T22:56:18.134Z"
   },
   {
    "duration": 145,
    "start_time": "2022-05-25T22:56:19.413Z"
   },
   {
    "duration": 12,
    "start_time": "2022-05-25T22:56:21.150Z"
   },
   {
    "duration": 19,
    "start_time": "2022-05-25T22:56:24.162Z"
   },
   {
    "duration": 134,
    "start_time": "2022-05-25T22:56:28.084Z"
   },
   {
    "duration": 17,
    "start_time": "2022-05-25T22:56:31.970Z"
   },
   {
    "duration": 114,
    "start_time": "2022-05-25T22:56:34.689Z"
   },
   {
    "duration": 245,
    "start_time": "2022-05-25T22:57:25.007Z"
   },
   {
    "duration": 0,
    "start_time": "2022-05-25T22:58:29.513Z"
   },
   {
    "duration": 16,
    "start_time": "2022-05-25T22:58:38.158Z"
   },
   {
    "duration": 30202,
    "start_time": "2022-05-25T22:59:20.114Z"
   },
   {
    "duration": 30043,
    "start_time": "2022-05-25T23:00:11.362Z"
   },
   {
    "duration": 0,
    "start_time": "2022-05-25T23:00:41.406Z"
   },
   {
    "duration": 832,
    "start_time": "2022-05-25T23:00:47.380Z"
   },
   {
    "duration": 52,
    "start_time": "2022-05-26T05:01:47.716Z"
   },
   {
    "duration": 7,
    "start_time": "2022-05-26T05:03:14.109Z"
   },
   {
    "duration": 2091,
    "start_time": "2022-05-26T05:03:19.385Z"
   },
   {
    "duration": 94,
    "start_time": "2022-05-26T05:03:26.452Z"
   },
   {
    "duration": 1523,
    "start_time": "2022-05-26T05:03:47.631Z"
   },
   {
    "duration": 99,
    "start_time": "2022-05-26T05:03:59.132Z"
   },
   {
    "duration": 103,
    "start_time": "2022-05-26T05:04:06.786Z"
   },
   {
    "duration": 173,
    "start_time": "2022-05-26T05:04:10.805Z"
   },
   {
    "duration": 21,
    "start_time": "2022-05-26T05:04:11.682Z"
   },
   {
    "duration": 20,
    "start_time": "2022-05-26T05:04:13.272Z"
   },
   {
    "duration": 170,
    "start_time": "2022-05-26T05:04:14.184Z"
   },
   {
    "duration": 18,
    "start_time": "2022-05-26T05:04:15.034Z"
   },
   {
    "duration": 137,
    "start_time": "2022-05-26T05:04:16.848Z"
   },
   {
    "duration": 33370,
    "start_time": "2022-05-26T05:04:18.618Z"
   },
   {
    "duration": 0,
    "start_time": "2022-05-26T05:04:51.990Z"
   },
   {
    "duration": 0,
    "start_time": "2022-05-26T05:04:51.994Z"
   },
   {
    "duration": 0,
    "start_time": "2022-05-26T05:04:51.996Z"
   },
   {
    "duration": 71,
    "start_time": "2022-05-26T05:49:01.810Z"
   },
   {
    "duration": 38,
    "start_time": "2022-05-26T05:49:14.583Z"
   },
   {
    "duration": 111,
    "start_time": "2022-05-26T05:49:26.910Z"
   },
   {
    "duration": 20,
    "start_time": "2022-05-26T05:49:45.711Z"
   },
   {
    "duration": 138,
    "start_time": "2022-05-26T05:49:55.864Z"
   },
   {
    "duration": 358,
    "start_time": "2022-05-26T05:50:40.710Z"
   },
   {
    "duration": 406,
    "start_time": "2022-05-26T06:03:03.266Z"
   },
   {
    "duration": 218,
    "start_time": "2022-05-26T06:07:56.914Z"
   },
   {
    "duration": 3684,
    "start_time": "2022-05-26T06:08:31.519Z"
   },
   {
    "duration": 210,
    "start_time": "2022-05-26T06:08:54.568Z"
   },
   {
    "duration": 39,
    "start_time": "2022-05-26T06:08:55.996Z"
   },
   {
    "duration": 180,
    "start_time": "2022-05-26T06:08:56.858Z"
   },
   {
    "duration": 71,
    "start_time": "2022-05-26T06:08:58.179Z"
   },
   {
    "duration": 242,
    "start_time": "2022-05-26T06:09:01.087Z"
   },
   {
    "duration": 952,
    "start_time": "2022-05-26T06:09:54.830Z"
   },
   {
    "duration": 98,
    "start_time": "2022-05-26T06:09:57.587Z"
   },
   {
    "duration": 135,
    "start_time": "2022-05-26T06:09:58.901Z"
   },
   {
    "duration": 182,
    "start_time": "2022-05-26T06:10:00.765Z"
   },
   {
    "duration": 15,
    "start_time": "2022-05-26T06:10:01.666Z"
   },
   {
    "duration": 24,
    "start_time": "2022-05-26T06:10:03.219Z"
   },
   {
    "duration": 221,
    "start_time": "2022-05-26T06:10:04.136Z"
   },
   {
    "duration": 20,
    "start_time": "2022-05-26T06:10:05.338Z"
   },
   {
    "duration": 234,
    "start_time": "2022-05-26T06:10:07.414Z"
   },
   {
    "duration": 23,
    "start_time": "2022-05-26T06:10:11.497Z"
   },
   {
    "duration": 37,
    "start_time": "2022-05-26T06:12:13.682Z"
   },
   {
    "duration": 30,
    "start_time": "2022-05-26T06:12:40.111Z"
   },
   {
    "duration": 25,
    "start_time": "2022-05-26T06:12:55.484Z"
   },
   {
    "duration": 29,
    "start_time": "2022-05-26T06:16:30.037Z"
   },
   {
    "duration": 4,
    "start_time": "2022-05-26T06:17:36.550Z"
   },
   {
    "duration": 90,
    "start_time": "2022-05-26T06:17:38.866Z"
   },
   {
    "duration": 1182,
    "start_time": "2022-05-26T06:17:39.232Z"
   },
   {
    "duration": 118,
    "start_time": "2022-05-26T06:17:40.423Z"
   },
   {
    "duration": 124,
    "start_time": "2022-05-26T06:17:41.926Z"
   },
   {
    "duration": 189,
    "start_time": "2022-05-26T06:17:47.192Z"
   },
   {
    "duration": 24,
    "start_time": "2022-05-26T06:17:47.798Z"
   },
   {
    "duration": 36,
    "start_time": "2022-05-26T06:17:49.722Z"
   },
   {
    "duration": 203,
    "start_time": "2022-05-26T06:17:50.631Z"
   },
   {
    "duration": 22,
    "start_time": "2022-05-26T06:17:51.639Z"
   },
   {
    "duration": 143,
    "start_time": "2022-05-26T06:17:53.631Z"
   },
   {
    "duration": 38,
    "start_time": "2022-05-26T06:17:55.353Z"
   },
   {
    "duration": 251,
    "start_time": "2022-05-26T06:19:50.277Z"
   },
   {
    "duration": 29,
    "start_time": "2022-05-26T06:21:34.116Z"
   },
   {
    "duration": 9,
    "start_time": "2022-05-26T06:21:45.527Z"
   },
   {
    "duration": 102,
    "start_time": "2022-05-26T06:21:49.776Z"
   },
   {
    "duration": 1337,
    "start_time": "2022-05-26T06:21:50.458Z"
   },
   {
    "duration": 152,
    "start_time": "2022-05-26T06:21:55.416Z"
   },
   {
    "duration": 115,
    "start_time": "2022-05-26T06:21:57.312Z"
   },
   {
    "duration": 22,
    "start_time": "2022-05-26T06:22:01.252Z"
   },
   {
    "duration": 243,
    "start_time": "2022-05-26T06:22:07.663Z"
   },
   {
    "duration": 16,
    "start_time": "2022-05-26T06:22:25.741Z"
   },
   {
    "duration": 49,
    "start_time": "2022-05-26T06:22:27.767Z"
   },
   {
    "duration": 173,
    "start_time": "2022-05-26T06:22:40.015Z"
   },
   {
    "duration": 145,
    "start_time": "2022-05-26T06:22:55.733Z"
   },
   {
    "duration": 449,
    "start_time": "2022-05-26T06:23:05.113Z"
   },
   {
    "duration": 166,
    "start_time": "2022-05-26T06:23:22.716Z"
   },
   {
    "duration": 195,
    "start_time": "2022-05-26T06:23:30.058Z"
   },
   {
    "duration": 172,
    "start_time": "2022-05-26T06:23:40.150Z"
   },
   {
    "duration": 169,
    "start_time": "2022-05-26T06:23:49.858Z"
   },
   {
    "duration": 162,
    "start_time": "2022-05-26T06:24:04.568Z"
   },
   {
    "duration": 171,
    "start_time": "2022-05-26T06:24:15.467Z"
   },
   {
    "duration": 179,
    "start_time": "2022-05-26T06:24:25.364Z"
   },
   {
    "duration": 3,
    "start_time": "2022-05-26T06:28:29.833Z"
   },
   {
    "duration": 134,
    "start_time": "2022-05-26T06:28:58.746Z"
   },
   {
    "duration": 60,
    "start_time": "2022-05-26T06:31:10.580Z"
   },
   {
    "duration": 218,
    "start_time": "2022-05-26T06:33:53.638Z"
   },
   {
    "duration": 18,
    "start_time": "2022-05-26T06:38:07.894Z"
   },
   {
    "duration": 43,
    "start_time": "2022-05-26T06:38:21.224Z"
   },
   {
    "duration": 17,
    "start_time": "2022-05-26T06:40:01.188Z"
   },
   {
    "duration": 13,
    "start_time": "2022-05-26T06:40:39.765Z"
   },
   {
    "duration": 166,
    "start_time": "2022-05-26T06:41:01.433Z"
   },
   {
    "duration": 111,
    "start_time": "2022-05-26T06:41:13.408Z"
   },
   {
    "duration": 41,
    "start_time": "2022-05-26T06:41:21.831Z"
   },
   {
    "duration": 27,
    "start_time": "2022-05-26T06:41:26.717Z"
   },
   {
    "duration": 78,
    "start_time": "2022-05-26T06:41:34.559Z"
   },
   {
    "duration": 72,
    "start_time": "2022-05-26T06:41:52.741Z"
   },
   {
    "duration": 154,
    "start_time": "2022-05-26T06:42:00.255Z"
   },
   {
    "duration": 192,
    "start_time": "2022-05-26T06:42:58.084Z"
   },
   {
    "duration": 247,
    "start_time": "2022-05-26T06:43:30.632Z"
   },
   {
    "duration": 26,
    "start_time": "2022-05-26T06:45:19.756Z"
   },
   {
    "duration": 129,
    "start_time": "2022-05-26T06:45:27.273Z"
   },
   {
    "duration": 32,
    "start_time": "2022-05-26T06:45:57.238Z"
   },
   {
    "duration": 45,
    "start_time": "2022-05-26T06:46:10.325Z"
   },
   {
    "duration": 32,
    "start_time": "2022-05-26T06:46:34.736Z"
   },
   {
    "duration": 54,
    "start_time": "2022-05-26T06:47:22.415Z"
   },
   {
    "duration": 70,
    "start_time": "2022-05-26T06:48:00.519Z"
   },
   {
    "duration": 50,
    "start_time": "2022-05-26T06:48:21.580Z"
   },
   {
    "duration": 35,
    "start_time": "2022-05-26T06:48:27.785Z"
   },
   {
    "duration": 27,
    "start_time": "2022-05-26T06:49:44.351Z"
   },
   {
    "duration": 35,
    "start_time": "2022-05-26T06:51:18.483Z"
   },
   {
    "duration": 1495,
    "start_time": "2022-05-26T18:44:58.915Z"
   },
   {
    "duration": 43,
    "start_time": "2022-05-26T18:45:00.412Z"
   },
   {
    "duration": 3027,
    "start_time": "2022-05-26T18:45:00.457Z"
   },
   {
    "duration": 96,
    "start_time": "2022-05-26T18:45:03.485Z"
   },
   {
    "duration": 101,
    "start_time": "2022-05-26T18:45:03.583Z"
   },
   {
    "duration": 17,
    "start_time": "2022-05-26T18:45:03.686Z"
   },
   {
    "duration": 191,
    "start_time": "2022-05-26T18:45:03.705Z"
   },
   {
    "duration": 15,
    "start_time": "2022-05-26T18:45:03.898Z"
   },
   {
    "duration": 64,
    "start_time": "2022-05-26T18:45:03.915Z"
   },
   {
    "duration": 169,
    "start_time": "2022-05-26T18:45:03.981Z"
   },
   {
    "duration": 156,
    "start_time": "2022-05-26T18:45:04.152Z"
   },
   {
    "duration": 17,
    "start_time": "2022-05-26T18:45:04.309Z"
   },
   {
    "duration": 54,
    "start_time": "2022-05-26T18:45:04.328Z"
   },
   {
    "duration": 93,
    "start_time": "2022-05-26T18:45:04.385Z"
   },
   {
    "duration": 30,
    "start_time": "2022-05-26T18:45:04.480Z"
   },
   {
    "duration": 39,
    "start_time": "2022-05-26T18:45:04.512Z"
   },
   {
    "duration": 46,
    "start_time": "2022-05-26T18:45:04.553Z"
   },
   {
    "duration": 30,
    "start_time": "2022-05-26T18:45:04.601Z"
   },
   {
    "duration": 13,
    "start_time": "2022-05-26T18:45:04.633Z"
   },
   {
    "duration": 30,
    "start_time": "2022-05-26T18:45:04.648Z"
   },
   {
    "duration": 9,
    "start_time": "2022-05-26T18:45:04.680Z"
   },
   {
    "duration": 314,
    "start_time": "2022-05-26T18:45:04.691Z"
   },
   {
    "duration": 35,
    "start_time": "2022-05-26T18:45:05.007Z"
   },
   {
    "duration": 58,
    "start_time": "2022-05-26T18:45:05.044Z"
   },
   {
    "duration": 186,
    "start_time": "2022-05-26T18:45:05.104Z"
   },
   {
    "duration": 313,
    "start_time": "2022-05-26T18:45:05.292Z"
   },
   {
    "duration": 143,
    "start_time": "2022-05-26T18:45:05.606Z"
   },
   {
    "duration": 1429,
    "start_time": "2022-05-26T18:45:05.751Z"
   },
   {
    "duration": 32,
    "start_time": "2022-05-26T18:45:07.181Z"
   },
   {
    "duration": 385,
    "start_time": "2022-05-26T18:45:07.215Z"
   },
   {
    "duration": 135,
    "start_time": "2022-05-26T18:45:07.601Z"
   },
   {
    "duration": 1846,
    "start_time": "2022-05-26T18:45:07.738Z"
   },
   {
    "duration": 582,
    "start_time": "2022-05-26T18:45:09.586Z"
   },
   {
    "duration": 196,
    "start_time": "2022-05-26T18:45:10.170Z"
   },
   {
    "duration": 15,
    "start_time": "2022-05-26T18:45:10.368Z"
   },
   {
    "duration": 54,
    "start_time": "2022-05-26T18:45:10.384Z"
   },
   {
    "duration": 3,
    "start_time": "2022-05-26T18:45:10.439Z"
   },
   {
    "duration": 29247,
    "start_time": "2022-05-26T18:45:10.443Z"
   },
   {
    "duration": 29203,
    "start_time": "2022-05-26T18:45:39.691Z"
   },
   {
    "duration": 19398,
    "start_time": "2022-05-26T18:46:08.896Z"
   },
   {
    "duration": 19488,
    "start_time": "2022-05-26T18:46:28.297Z"
   },
   {
    "duration": 671332,
    "start_time": "2022-05-26T18:46:47.787Z"
   },
   {
    "duration": 4,
    "start_time": "2022-05-26T18:57:59.121Z"
   },
   {
    "duration": 80,
    "start_time": "2022-05-26T18:57:59.127Z"
   },
   {
    "duration": 3,
    "start_time": "2022-05-26T18:57:59.208Z"
   },
   {
    "duration": 116401,
    "start_time": "2022-05-26T18:57:59.213Z"
   },
   {
    "duration": 2,
    "start_time": "2022-05-26T18:59:55.616Z"
   },
   {
    "duration": 239762,
    "start_time": "2022-05-26T18:59:55.620Z"
   },
   {
    "duration": 6,
    "start_time": "2022-05-26T19:03:55.384Z"
   },
   {
    "duration": 9,
    "start_time": "2022-05-26T19:03:55.392Z"
   },
   {
    "duration": 23,
    "start_time": "2022-05-26T19:03:55.402Z"
   },
   {
    "duration": 234,
    "start_time": "2022-05-26T19:03:55.427Z"
   },
   {
    "duration": 254,
    "start_time": "2022-05-26T19:03:55.663Z"
   },
   {
    "duration": 6,
    "start_time": "2022-05-26T19:03:55.919Z"
   },
   {
    "duration": 164111,
    "start_time": "2022-05-26T19:03:55.927Z"
   },
   {
    "duration": 5,
    "start_time": "2022-05-26T19:06:40.040Z"
   },
   {
    "duration": 18,
    "start_time": "2022-05-26T19:06:40.047Z"
   },
   {
    "duration": 151,
    "start_time": "2022-05-26T19:06:40.067Z"
   },
   {
    "duration": 179,
    "start_time": "2022-05-26T19:06:40.220Z"
   },
   {
    "duration": 170,
    "start_time": "2022-05-26T19:06:40.401Z"
   },
   {
    "duration": 5,
    "start_time": "2022-05-26T19:06:40.575Z"
   },
   {
    "duration": 151,
    "start_time": "2022-05-26T19:06:40.738Z"
   },
   {
    "duration": 145,
    "start_time": "2022-05-26T19:08:02.900Z"
   },
   {
    "duration": 22,
    "start_time": "2022-05-26T19:08:57.473Z"
   },
   {
    "duration": 140,
    "start_time": "2022-05-26T19:08:58.945Z"
   },
   {
    "duration": 144,
    "start_time": "2022-05-26T19:09:10.083Z"
   },
   {
    "duration": 16,
    "start_time": "2022-05-26T19:09:28.790Z"
   },
   {
    "duration": 52,
    "start_time": "2022-05-26T19:09:50.243Z"
   },
   {
    "duration": 49,
    "start_time": "2022-05-26T19:10:34.898Z"
   },
   {
    "duration": 22,
    "start_time": "2022-05-26T19:10:55.903Z"
   },
   {
    "duration": 53,
    "start_time": "2022-05-26T19:11:07.663Z"
   },
   {
    "duration": 90,
    "start_time": "2022-05-26T19:11:38.881Z"
   },
   {
    "duration": 58,
    "start_time": "2022-05-26T19:21:31.990Z"
   },
   {
    "duration": 50,
    "start_time": "2022-05-26T19:28:16.228Z"
   },
   {
    "duration": 10,
    "start_time": "2022-05-26T19:28:52.092Z"
   },
   {
    "duration": 5,
    "start_time": "2022-05-26T19:29:37.067Z"
   },
   {
    "duration": 10,
    "start_time": "2022-05-26T19:29:47.734Z"
   },
   {
    "duration": 14,
    "start_time": "2022-05-26T19:29:54.548Z"
   },
   {
    "duration": 10,
    "start_time": "2022-05-26T19:29:59.191Z"
   },
   {
    "duration": 9,
    "start_time": "2022-05-26T19:30:03.824Z"
   },
   {
    "duration": 10,
    "start_time": "2022-05-26T19:30:08.005Z"
   },
   {
    "duration": 12,
    "start_time": "2022-05-26T19:30:15.795Z"
   },
   {
    "duration": 10,
    "start_time": "2022-05-26T19:32:29.456Z"
   },
   {
    "duration": 50,
    "start_time": "2022-05-26T19:32:44.133Z"
   },
   {
    "duration": 4,
    "start_time": "2022-05-26T19:33:01.311Z"
   },
   {
    "duration": 41,
    "start_time": "2022-05-26T19:33:03.824Z"
   },
   {
    "duration": 2792,
    "start_time": "2022-05-26T19:33:04.089Z"
   },
   {
    "duration": 93,
    "start_time": "2022-05-26T19:33:06.883Z"
   },
   {
    "duration": 96,
    "start_time": "2022-05-26T19:33:07.094Z"
   },
   {
    "duration": 18,
    "start_time": "2022-05-26T19:33:10.341Z"
   },
   {
    "duration": 157,
    "start_time": "2022-05-26T19:33:10.987Z"
   },
   {
    "duration": 13,
    "start_time": "2022-05-26T19:33:12.389Z"
   },
   {
    "duration": 35,
    "start_time": "2022-05-26T19:33:14.815Z"
   },
   {
    "duration": 151,
    "start_time": "2022-05-26T19:33:16.312Z"
   },
   {
    "duration": 138,
    "start_time": "2022-05-26T19:33:19.306Z"
   },
   {
    "duration": 17,
    "start_time": "2022-05-26T19:33:20.803Z"
   },
   {
    "duration": 48,
    "start_time": "2022-05-26T19:33:22.754Z"
   },
   {
    "duration": 143,
    "start_time": "2022-05-26T19:33:24.027Z"
   },
   {
    "duration": 89,
    "start_time": "2022-05-26T19:33:30.374Z"
   },
   {
    "duration": 31,
    "start_time": "2022-05-26T19:33:33.773Z"
   },
   {
    "duration": 33,
    "start_time": "2022-05-26T19:33:36.555Z"
   },
   {
    "duration": 33,
    "start_time": "2022-05-26T19:33:38.022Z"
   },
   {
    "duration": 20,
    "start_time": "2022-05-26T19:33:39.891Z"
   },
   {
    "duration": 13,
    "start_time": "2022-05-26T19:33:46.987Z"
   },
   {
    "duration": 82,
    "start_time": "2022-05-26T19:33:52.106Z"
   },
   {
    "duration": 34,
    "start_time": "2022-05-26T19:33:55.358Z"
   },
   {
    "duration": 48,
    "start_time": "2022-05-26T19:36:13.537Z"
   },
   {
    "duration": 36,
    "start_time": "2022-05-26T19:36:52.475Z"
   },
   {
    "duration": 45,
    "start_time": "2022-05-26T19:37:14.933Z"
   },
   {
    "duration": 25,
    "start_time": "2022-05-26T19:37:27.154Z"
   },
   {
    "duration": 23,
    "start_time": "2022-05-26T19:37:33.637Z"
   },
   {
    "duration": 9,
    "start_time": "2022-05-26T19:38:18.021Z"
   },
   {
    "duration": 42,
    "start_time": "2022-05-26T19:39:02.612Z"
   },
   {
    "duration": 53,
    "start_time": "2022-05-26T19:39:22.202Z"
   },
   {
    "duration": 28,
    "start_time": "2022-05-26T19:41:16.527Z"
   },
   {
    "duration": 28,
    "start_time": "2022-05-26T19:41:57.779Z"
   },
   {
    "duration": 29,
    "start_time": "2022-05-26T19:42:10.141Z"
   },
   {
    "duration": 40,
    "start_time": "2022-05-26T19:42:26.615Z"
   },
   {
    "duration": 27,
    "start_time": "2022-05-26T19:42:44.078Z"
   },
   {
    "duration": 43,
    "start_time": "2022-05-26T19:42:49.614Z"
   },
   {
    "duration": 27,
    "start_time": "2022-05-26T19:42:54.927Z"
   },
   {
    "duration": 62,
    "start_time": "2022-05-26T19:43:02.229Z"
   },
   {
    "duration": 61,
    "start_time": "2022-05-26T19:43:40.887Z"
   },
   {
    "duration": 26,
    "start_time": "2022-05-26T19:44:01.481Z"
   },
   {
    "duration": 62,
    "start_time": "2022-05-26T19:44:17.202Z"
   },
   {
    "duration": 4842,
    "start_time": "2022-05-26T19:44:52.246Z"
   },
   {
    "duration": 79,
    "start_time": "2022-05-26T19:45:13.026Z"
   },
   {
    "duration": 39,
    "start_time": "2022-05-26T19:46:46.504Z"
   },
   {
    "duration": 0,
    "start_time": "2022-05-26T19:49:07.776Z"
   },
   {
    "duration": 4794,
    "start_time": "2022-05-26T19:49:19.216Z"
   },
   {
    "duration": 546,
    "start_time": "2022-05-26T19:49:39.592Z"
   },
   {
    "duration": 4906,
    "start_time": "2022-05-26T19:49:52.882Z"
   },
   {
    "duration": 57,
    "start_time": "2022-05-26T19:50:25.791Z"
   },
   {
    "duration": 37,
    "start_time": "2022-05-26T19:52:52.521Z"
   },
   {
    "duration": 494,
    "start_time": "2022-05-26T19:52:59.605Z"
   },
   {
    "duration": 550,
    "start_time": "2022-05-26T19:53:33.656Z"
   },
   {
    "duration": 102,
    "start_time": "2022-05-26T19:53:52.752Z"
   },
   {
    "duration": 41,
    "start_time": "2022-05-26T19:53:57.294Z"
   },
   {
    "duration": 24,
    "start_time": "2022-05-26T19:54:01.054Z"
   },
   {
    "duration": 119999,
    "start_time": "2022-05-26T19:54:04.603Z"
   },
   {
    "duration": 7,
    "start_time": "2022-05-26T19:56:22.236Z"
   },
   {
    "duration": 182,
    "start_time": "2022-05-26T19:56:39.690Z"
   },
   {
    "duration": 78,
    "start_time": "2022-05-26T19:58:17.897Z"
   },
   {
    "duration": 484,
    "start_time": "2022-05-26T19:58:34.673Z"
   },
   {
    "duration": 74,
    "start_time": "2022-05-26T19:59:01.487Z"
   },
   {
    "duration": 156,
    "start_time": "2022-05-26T19:59:24.992Z"
   },
   {
    "duration": 89200,
    "start_time": "2022-05-26T20:01:02.214Z"
   },
   {
    "duration": 32,
    "start_time": "2022-05-26T20:03:35.234Z"
   },
   {
    "duration": 0,
    "start_time": "2022-05-26T20:04:58.330Z"
   },
   {
    "duration": 5,
    "start_time": "2022-05-26T20:05:30.410Z"
   },
   {
    "duration": 33,
    "start_time": "2022-05-26T20:05:52.001Z"
   },
   {
    "duration": 161,
    "start_time": "2022-05-26T20:07:28.368Z"
   },
   {
    "duration": 31,
    "start_time": "2022-05-26T20:09:04.570Z"
   },
   {
    "duration": 16,
    "start_time": "2022-05-26T20:12:29.983Z"
   },
   {
    "duration": 23,
    "start_time": "2022-05-26T20:12:30.087Z"
   },
   {
    "duration": 16,
    "start_time": "2022-05-26T20:12:37.092Z"
   },
   {
    "duration": 16,
    "start_time": "2022-05-26T20:14:07.120Z"
   },
   {
    "duration": 4,
    "start_time": "2022-05-26T20:14:26.040Z"
   },
   {
    "duration": 40,
    "start_time": "2022-05-26T20:14:29.486Z"
   },
   {
    "duration": 865,
    "start_time": "2022-05-26T20:14:33.572Z"
   },
   {
    "duration": 82,
    "start_time": "2022-05-26T20:14:40.894Z"
   },
   {
    "duration": 103,
    "start_time": "2022-05-26T20:14:42.314Z"
   },
   {
    "duration": 17,
    "start_time": "2022-05-26T20:14:44.855Z"
   },
   {
    "duration": 148,
    "start_time": "2022-05-26T20:14:45.330Z"
   },
   {
    "duration": 15,
    "start_time": "2022-05-26T20:14:45.868Z"
   },
   {
    "duration": 32,
    "start_time": "2022-05-26T20:14:46.969Z"
   },
   {
    "duration": 145,
    "start_time": "2022-05-26T20:14:47.587Z"
   },
   {
    "duration": 146,
    "start_time": "2022-05-26T20:14:48.943Z"
   },
   {
    "duration": 18,
    "start_time": "2022-05-26T20:14:49.601Z"
   },
   {
    "duration": 33,
    "start_time": "2022-05-26T20:14:51.022Z"
   },
   {
    "duration": 132,
    "start_time": "2022-05-26T20:14:51.732Z"
   },
   {
    "duration": 80,
    "start_time": "2022-05-26T20:14:55.528Z"
   },
   {
    "duration": 29,
    "start_time": "2022-05-26T20:14:57.429Z"
   },
   {
    "duration": 43,
    "start_time": "2022-05-26T20:15:01.519Z"
   },
   {
    "duration": 31,
    "start_time": "2022-05-26T20:15:02.333Z"
   },
   {
    "duration": 15,
    "start_time": "2022-05-26T20:15:03.148Z"
   },
   {
    "duration": 13,
    "start_time": "2022-05-26T20:15:05.478Z"
   },
   {
    "duration": 81,
    "start_time": "2022-05-26T20:15:06.853Z"
   },
   {
    "duration": 41,
    "start_time": "2022-05-26T20:15:15.381Z"
   },
   {
    "duration": 37,
    "start_time": "2022-05-26T20:15:20.296Z"
   },
   {
    "duration": 45,
    "start_time": "2022-05-26T20:16:45.348Z"
   },
   {
    "duration": 0,
    "start_time": "2022-05-26T20:16:45.397Z"
   },
   {
    "duration": 290,
    "start_time": "2022-05-26T20:18:25.290Z"
   },
   {
    "duration": 15,
    "start_time": "2022-05-26T20:19:01.733Z"
   },
   {
    "duration": 100,
    "start_time": "2022-05-26T20:20:26.938Z"
   },
   {
    "duration": 25,
    "start_time": "2022-05-26T20:20:58.864Z"
   },
   {
    "duration": 14,
    "start_time": "2022-05-26T20:24:18.463Z"
   },
   {
    "duration": 78,
    "start_time": "2022-05-26T20:25:23.344Z"
   },
   {
    "duration": 89,
    "start_time": "2022-05-26T20:25:56.372Z"
   },
   {
    "duration": 79,
    "start_time": "2022-05-26T20:26:10.850Z"
   },
   {
    "duration": 81,
    "start_time": "2022-05-26T20:26:25.346Z"
   },
   {
    "duration": 34,
    "start_time": "2022-05-26T20:27:04.385Z"
   },
   {
    "duration": 35,
    "start_time": "2022-05-26T20:27:29.689Z"
   },
   {
    "duration": 4,
    "start_time": "2022-05-26T20:27:56.419Z"
   },
   {
    "duration": 49,
    "start_time": "2022-05-26T20:27:57.652Z"
   },
   {
    "duration": 903,
    "start_time": "2022-05-26T20:27:57.841Z"
   },
   {
    "duration": 88,
    "start_time": "2022-05-26T20:27:58.746Z"
   },
   {
    "duration": 93,
    "start_time": "2022-05-26T20:27:58.835Z"
   },
   {
    "duration": 17,
    "start_time": "2022-05-26T20:28:00.115Z"
   },
   {
    "duration": 156,
    "start_time": "2022-05-26T20:28:00.802Z"
   },
   {
    "duration": 16,
    "start_time": "2022-05-26T20:28:01.030Z"
   },
   {
    "duration": 41,
    "start_time": "2022-05-26T20:28:01.443Z"
   },
   {
    "duration": 178,
    "start_time": "2022-05-26T20:28:01.675Z"
   },
   {
    "duration": 150,
    "start_time": "2022-05-26T20:28:02.295Z"
   },
   {
    "duration": 17,
    "start_time": "2022-05-26T20:28:02.574Z"
   },
   {
    "duration": 34,
    "start_time": "2022-05-26T20:28:03.038Z"
   },
   {
    "duration": 139,
    "start_time": "2022-05-26T20:28:03.712Z"
   },
   {
    "duration": 115,
    "start_time": "2022-05-26T20:28:07.355Z"
   },
   {
    "duration": 54,
    "start_time": "2022-05-26T20:28:09.367Z"
   },
   {
    "duration": 42,
    "start_time": "2022-05-26T20:28:12.508Z"
   },
   {
    "duration": 31,
    "start_time": "2022-05-26T20:28:13.765Z"
   },
   {
    "duration": 16,
    "start_time": "2022-05-26T20:28:14.696Z"
   },
   {
    "duration": 12,
    "start_time": "2022-05-26T20:28:27.094Z"
   },
   {
    "duration": 90,
    "start_time": "2022-05-26T20:28:30.435Z"
   },
   {
    "duration": 60,
    "start_time": "2022-05-26T20:28:35.353Z"
   },
   {
    "duration": 34,
    "start_time": "2022-05-26T20:28:38.505Z"
   },
   {
    "duration": 28,
    "start_time": "2022-05-26T20:28:43.047Z"
   },
   {
    "duration": 17,
    "start_time": "2022-05-26T20:29:10.911Z"
   },
   {
    "duration": 115,
    "start_time": "2022-05-26T20:31:51.144Z"
   },
   {
    "duration": 16,
    "start_time": "2022-05-26T20:32:11.602Z"
   },
   {
    "duration": 65,
    "start_time": "2022-05-26T20:32:14.479Z"
   },
   {
    "duration": 16,
    "start_time": "2022-05-26T20:32:16.750Z"
   },
   {
    "duration": 188,
    "start_time": "2022-05-26T20:33:35.785Z"
   },
   {
    "duration": 15,
    "start_time": "2022-05-26T20:33:38.894Z"
   },
   {
    "duration": 33,
    "start_time": "2022-05-26T20:33:49.003Z"
   },
   {
    "duration": 15,
    "start_time": "2022-05-26T20:33:51.307Z"
   },
   {
    "duration": 119,
    "start_time": "2022-05-26T20:34:12.430Z"
   },
   {
    "duration": 3,
    "start_time": "2022-05-26T20:34:43.944Z"
   },
   {
    "duration": 40,
    "start_time": "2022-05-26T20:34:47.165Z"
   },
   {
    "duration": 901,
    "start_time": "2022-05-26T20:34:47.846Z"
   },
   {
    "duration": 83,
    "start_time": "2022-05-26T20:34:49.946Z"
   },
   {
    "duration": 102,
    "start_time": "2022-05-26T20:34:52.895Z"
   },
   {
    "duration": 17,
    "start_time": "2022-05-26T20:34:55.344Z"
   },
   {
    "duration": 148,
    "start_time": "2022-05-26T20:34:55.913Z"
   },
   {
    "duration": 15,
    "start_time": "2022-05-26T20:34:56.540Z"
   },
   {
    "duration": 32,
    "start_time": "2022-05-26T20:34:57.865Z"
   },
   {
    "duration": 147,
    "start_time": "2022-05-26T20:34:58.710Z"
   },
   {
    "duration": 156,
    "start_time": "2022-05-26T20:35:00.178Z"
   },
   {
    "duration": 18,
    "start_time": "2022-05-26T20:35:00.759Z"
   },
   {
    "duration": 34,
    "start_time": "2022-05-26T20:35:02.639Z"
   },
   {
    "duration": 216,
    "start_time": "2022-05-26T20:35:03.368Z"
   },
   {
    "duration": 82,
    "start_time": "2022-05-26T20:35:07.907Z"
   },
   {
    "duration": 31,
    "start_time": "2022-05-26T20:35:13.369Z"
   },
   {
    "duration": 32,
    "start_time": "2022-05-26T20:35:15.602Z"
   },
   {
    "duration": 32,
    "start_time": "2022-05-26T20:35:16.270Z"
   },
   {
    "duration": 17,
    "start_time": "2022-05-26T20:35:17.374Z"
   },
   {
    "duration": 15,
    "start_time": "2022-05-26T20:35:26.696Z"
   },
   {
    "duration": 73,
    "start_time": "2022-05-26T20:35:35.071Z"
   },
   {
    "duration": 51,
    "start_time": "2022-05-26T20:35:39.779Z"
   },
   {
    "duration": 32,
    "start_time": "2022-05-26T20:35:45.042Z"
   },
   {
    "duration": 82,
    "start_time": "2022-05-26T20:35:46.542Z"
   },
   {
    "duration": 32,
    "start_time": "2022-05-26T20:37:25.322Z"
   },
   {
    "duration": 47,
    "start_time": "2022-05-26T20:38:13.736Z"
   },
   {
    "duration": 83,
    "start_time": "2022-05-26T20:38:28.321Z"
   },
   {
    "duration": 29,
    "start_time": "2022-05-26T20:39:07.125Z"
   },
   {
    "duration": 20,
    "start_time": "2022-05-26T20:39:55.913Z"
   },
   {
    "duration": 84,
    "start_time": "2022-05-26T20:40:05.843Z"
   },
   {
    "duration": 9,
    "start_time": "2022-05-26T20:40:30.116Z"
   },
   {
    "duration": 9,
    "start_time": "2022-05-26T20:40:30.740Z"
   },
   {
    "duration": 10,
    "start_time": "2022-05-26T20:40:31.281Z"
   },
   {
    "duration": 234,
    "start_time": "2022-05-26T20:40:33.141Z"
   },
   {
    "duration": 24,
    "start_time": "2022-05-26T20:40:37.120Z"
   },
   {
    "duration": 36,
    "start_time": "2022-05-26T20:40:39.143Z"
   },
   {
    "duration": 139,
    "start_time": "2022-05-26T20:40:45.353Z"
   },
   {
    "duration": 250,
    "start_time": "2022-05-26T20:40:51.920Z"
   },
   {
    "duration": 1323,
    "start_time": "2022-05-26T20:43:08.446Z"
   },
   {
    "duration": 41,
    "start_time": "2022-05-26T20:43:40.557Z"
   },
   {
    "duration": 13,
    "start_time": "2022-05-26T20:45:23.191Z"
   },
   {
    "duration": 122,
    "start_time": "2022-05-26T20:46:09.259Z"
   },
   {
    "duration": 21,
    "start_time": "2022-05-26T20:46:12.134Z"
   },
   {
    "duration": 120,
    "start_time": "2022-05-26T20:46:14.689Z"
   },
   {
    "duration": 214,
    "start_time": "2022-05-26T20:46:19.165Z"
   },
   {
    "duration": 15,
    "start_time": "2022-05-26T20:56:41.846Z"
   },
   {
    "duration": 83,
    "start_time": "2022-05-26T20:59:43.809Z"
   },
   {
    "duration": 37,
    "start_time": "2022-05-26T21:00:04.083Z"
   },
   {
    "duration": 609,
    "start_time": "2022-05-26T21:00:07.378Z"
   },
   {
    "duration": 183,
    "start_time": "2022-05-26T21:00:21.435Z"
   },
   {
    "duration": 53,
    "start_time": "2022-05-26T21:03:36.871Z"
   },
   {
    "duration": 43,
    "start_time": "2022-05-26T21:04:07.993Z"
   },
   {
    "duration": 40,
    "start_time": "2022-05-26T21:04:38.141Z"
   },
   {
    "duration": 4,
    "start_time": "2022-05-26T21:06:09.460Z"
   },
   {
    "duration": 17,
    "start_time": "2022-05-26T21:07:35.776Z"
   },
   {
    "duration": 4,
    "start_time": "2022-05-26T21:08:18.140Z"
   },
   {
    "duration": 40,
    "start_time": "2022-05-26T21:08:19.631Z"
   },
   {
    "duration": 863,
    "start_time": "2022-05-26T21:08:19.852Z"
   },
   {
    "duration": 85,
    "start_time": "2022-05-26T21:08:20.717Z"
   },
   {
    "duration": 81,
    "start_time": "2022-05-26T21:08:20.893Z"
   },
   {
    "duration": 16,
    "start_time": "2022-05-26T21:08:21.803Z"
   },
   {
    "duration": 158,
    "start_time": "2022-05-26T21:08:22.078Z"
   },
   {
    "duration": 13,
    "start_time": "2022-05-26T21:08:22.527Z"
   },
   {
    "duration": 32,
    "start_time": "2022-05-26T21:08:23.212Z"
   },
   {
    "duration": 146,
    "start_time": "2022-05-26T21:08:23.489Z"
   },
   {
    "duration": 141,
    "start_time": "2022-05-26T21:08:23.913Z"
   },
   {
    "duration": 17,
    "start_time": "2022-05-26T21:08:24.375Z"
   },
   {
    "duration": 33,
    "start_time": "2022-05-26T21:08:24.864Z"
   },
   {
    "duration": 288,
    "start_time": "2022-05-26T21:08:25.108Z"
   },
   {
    "duration": 83,
    "start_time": "2022-05-26T21:08:26.395Z"
   },
   {
    "duration": 30,
    "start_time": "2022-05-26T21:08:27.219Z"
   },
   {
    "duration": 32,
    "start_time": "2022-05-26T21:08:27.930Z"
   },
   {
    "duration": 32,
    "start_time": "2022-05-26T21:08:28.569Z"
   },
   {
    "duration": 15,
    "start_time": "2022-05-26T21:08:29.048Z"
   },
   {
    "duration": 11,
    "start_time": "2022-05-26T21:08:29.725Z"
   },
   {
    "duration": 44,
    "start_time": "2022-05-26T21:08:30.090Z"
   },
   {
    "duration": 49,
    "start_time": "2022-05-26T21:08:30.435Z"
   },
   {
    "duration": 30,
    "start_time": "2022-05-26T21:08:30.776Z"
   },
   {
    "duration": 19,
    "start_time": "2022-05-26T21:08:31.119Z"
   },
   {
    "duration": 89,
    "start_time": "2022-05-26T21:08:31.537Z"
   },
   {
    "duration": 8,
    "start_time": "2022-05-26T21:08:32.407Z"
   },
   {
    "duration": 9,
    "start_time": "2022-05-26T21:08:33.046Z"
   },
   {
    "duration": 9,
    "start_time": "2022-05-26T21:08:33.608Z"
   },
   {
    "duration": 35,
    "start_time": "2022-05-26T21:08:34.105Z"
   },
   {
    "duration": 133,
    "start_time": "2022-05-26T21:08:44.416Z"
   },
   {
    "duration": 23,
    "start_time": "2022-05-26T21:08:45.706Z"
   },
   {
    "duration": 143,
    "start_time": "2022-05-26T21:09:51.187Z"
   },
   {
    "duration": 218,
    "start_time": "2022-05-26T21:10:03.112Z"
   },
   {
    "duration": 1348,
    "start_time": "2022-05-26T21:10:10.607Z"
   },
   {
    "duration": 36,
    "start_time": "2022-05-26T21:10:13.868Z"
   },
   {
    "duration": 539,
    "start_time": "2022-05-26T21:10:17.302Z"
   },
   {
    "duration": 179,
    "start_time": "2022-05-26T21:10:24.169Z"
   },
   {
    "duration": 4,
    "start_time": "2022-05-26T21:10:27.481Z"
   },
   {
    "duration": 13,
    "start_time": "2022-05-26T21:10:29.457Z"
   },
   {
    "duration": 5,
    "start_time": "2022-05-26T21:11:12.305Z"
   },
   {
    "duration": 14,
    "start_time": "2022-05-26T21:11:27.069Z"
   },
   {
    "duration": 4,
    "start_time": "2022-05-26T21:12:07.303Z"
   },
   {
    "duration": 13,
    "start_time": "2022-05-26T21:13:18.639Z"
   },
   {
    "duration": 13,
    "start_time": "2022-05-26T21:13:33.243Z"
   },
   {
    "duration": 18,
    "start_time": "2022-05-26T21:13:41.396Z"
   },
   {
    "duration": 566,
    "start_time": "2022-05-26T21:14:03.304Z"
   },
   {
    "duration": 173,
    "start_time": "2022-05-26T21:14:11.058Z"
   },
   {
    "duration": 6,
    "start_time": "2022-05-26T21:14:13.745Z"
   },
   {
    "duration": 13,
    "start_time": "2022-05-26T21:14:15.044Z"
   },
   {
    "duration": 40,
    "start_time": "2022-05-26T21:15:30.523Z"
   },
   {
    "duration": 36,
    "start_time": "2022-05-26T21:15:55.449Z"
   },
   {
    "duration": 35,
    "start_time": "2022-05-26T21:16:13.723Z"
   },
   {
    "duration": 9,
    "start_time": "2022-05-26T21:20:19.524Z"
   },
   {
    "duration": 52,
    "start_time": "2022-05-26T21:20:53.102Z"
   },
   {
    "duration": 7,
    "start_time": "2022-05-26T21:21:02.482Z"
   },
   {
    "duration": 1312,
    "start_time": "2022-05-26T21:21:18.473Z"
   },
   {
    "duration": 39,
    "start_time": "2022-05-26T21:21:19.786Z"
   },
   {
    "duration": 3011,
    "start_time": "2022-05-26T21:21:19.952Z"
   },
   {
    "duration": 88,
    "start_time": "2022-05-26T21:21:22.965Z"
   },
   {
    "duration": 98,
    "start_time": "2022-05-26T21:21:23.055Z"
   },
   {
    "duration": 31,
    "start_time": "2022-05-26T21:21:23.155Z"
   },
   {
    "duration": 174,
    "start_time": "2022-05-26T21:21:23.188Z"
   },
   {
    "duration": 20,
    "start_time": "2022-05-26T21:21:23.363Z"
   },
   {
    "duration": 38,
    "start_time": "2022-05-26T21:21:23.384Z"
   },
   {
    "duration": 168,
    "start_time": "2022-05-26T21:21:23.424Z"
   },
   {
    "duration": 151,
    "start_time": "2022-05-26T21:21:23.593Z"
   },
   {
    "duration": 29,
    "start_time": "2022-05-26T21:21:23.746Z"
   },
   {
    "duration": 37,
    "start_time": "2022-05-26T21:21:23.776Z"
   },
   {
    "duration": 135,
    "start_time": "2022-05-26T21:21:23.892Z"
   },
   {
    "duration": 81,
    "start_time": "2022-05-26T21:21:24.788Z"
   },
   {
    "duration": 29,
    "start_time": "2022-05-26T21:21:25.249Z"
   },
   {
    "duration": 31,
    "start_time": "2022-05-26T21:21:25.759Z"
   },
   {
    "duration": 34,
    "start_time": "2022-05-26T21:21:26.204Z"
   },
   {
    "duration": 16,
    "start_time": "2022-05-26T21:21:26.475Z"
   },
   {
    "duration": 13,
    "start_time": "2022-05-26T21:21:26.985Z"
   },
   {
    "duration": 42,
    "start_time": "2022-05-26T21:21:27.246Z"
   },
   {
    "duration": 51,
    "start_time": "2022-05-26T21:21:27.960Z"
   },
   {
    "duration": 31,
    "start_time": "2022-05-26T21:21:28.251Z"
   },
   {
    "duration": 20,
    "start_time": "2022-05-26T21:21:28.448Z"
   },
   {
    "duration": 81,
    "start_time": "2022-05-26T21:21:28.683Z"
   },
   {
    "duration": 10,
    "start_time": "2022-05-26T21:21:29.628Z"
   },
   {
    "duration": 10,
    "start_time": "2022-05-26T21:21:30.221Z"
   },
   {
    "duration": 10,
    "start_time": "2022-05-26T21:21:30.455Z"
   },
   {
    "duration": 50,
    "start_time": "2022-05-26T21:21:30.696Z"
   },
   {
    "duration": 164,
    "start_time": "2022-05-26T21:21:31.405Z"
   },
   {
    "duration": 23,
    "start_time": "2022-05-26T21:21:32.055Z"
   },
   {
    "duration": 233,
    "start_time": "2022-05-26T21:21:33.160Z"
   },
   {
    "duration": 1273,
    "start_time": "2022-05-26T21:21:37.769Z"
   },
   {
    "duration": 42,
    "start_time": "2022-05-26T21:21:39.044Z"
   },
   {
    "duration": 568,
    "start_time": "2022-05-26T21:21:44.423Z"
   },
   {
    "duration": 173,
    "start_time": "2022-05-26T21:21:50.054Z"
   },
   {
    "duration": 4,
    "start_time": "2022-05-26T21:21:57.450Z"
   },
   {
    "duration": 33,
    "start_time": "2022-05-26T21:21:58.598Z"
   },
   {
    "duration": 71,
    "start_time": "2022-05-26T21:22:48.636Z"
   },
   {
    "duration": 107,
    "start_time": "2022-05-26T21:23:15.489Z"
   },
   {
    "duration": 1065,
    "start_time": "2022-05-26T21:24:11.879Z"
   },
   {
    "duration": 815,
    "start_time": "2022-05-26T21:24:59.591Z"
   },
   {
    "duration": 1344,
    "start_time": "2022-05-26T21:26:02.543Z"
   },
   {
    "duration": 40,
    "start_time": "2022-05-26T21:26:03.889Z"
   },
   {
    "duration": 2895,
    "start_time": "2022-05-26T21:26:03.931Z"
   },
   {
    "duration": 81,
    "start_time": "2022-05-26T21:26:06.829Z"
   },
   {
    "duration": 97,
    "start_time": "2022-05-26T21:26:06.912Z"
   },
   {
    "duration": 16,
    "start_time": "2022-05-26T21:26:07.010Z"
   },
   {
    "duration": 175,
    "start_time": "2022-05-26T21:26:07.027Z"
   },
   {
    "duration": 15,
    "start_time": "2022-05-26T21:26:07.204Z"
   },
   {
    "duration": 54,
    "start_time": "2022-05-26T21:26:07.221Z"
   },
   {
    "duration": 166,
    "start_time": "2022-05-26T21:26:07.277Z"
   },
   {
    "duration": 164,
    "start_time": "2022-05-26T21:26:07.444Z"
   },
   {
    "duration": 19,
    "start_time": "2022-05-26T21:26:07.610Z"
   },
   {
    "duration": 55,
    "start_time": "2022-05-26T21:26:07.631Z"
   },
   {
    "duration": 164,
    "start_time": "2022-05-26T21:26:07.687Z"
   },
   {
    "duration": 92,
    "start_time": "2022-05-26T21:26:08.948Z"
   },
   {
    "duration": 31,
    "start_time": "2022-05-26T21:26:09.943Z"
   },
   {
    "duration": 32,
    "start_time": "2022-05-26T21:26:10.600Z"
   },
   {
    "duration": 30,
    "start_time": "2022-05-26T21:26:10.953Z"
   },
   {
    "duration": 16,
    "start_time": "2022-05-26T21:26:11.294Z"
   },
   {
    "duration": 13,
    "start_time": "2022-05-26T21:26:12.116Z"
   },
   {
    "duration": 46,
    "start_time": "2022-05-26T21:26:12.516Z"
   },
   {
    "duration": 51,
    "start_time": "2022-05-26T21:26:13.192Z"
   },
   {
    "duration": 29,
    "start_time": "2022-05-26T21:26:13.994Z"
   },
   {
    "duration": 32,
    "start_time": "2022-05-26T21:26:14.601Z"
   },
   {
    "duration": 84,
    "start_time": "2022-05-26T21:26:15.232Z"
   },
   {
    "duration": 10,
    "start_time": "2022-05-26T21:26:15.924Z"
   },
   {
    "duration": 8,
    "start_time": "2022-05-26T21:26:16.306Z"
   },
   {
    "duration": 10,
    "start_time": "2022-05-26T21:26:16.725Z"
   },
   {
    "duration": 41,
    "start_time": "2022-05-26T21:26:17.094Z"
   },
   {
    "duration": 146,
    "start_time": "2022-05-26T21:26:18.497Z"
   },
   {
    "duration": 23,
    "start_time": "2022-05-26T21:26:19.521Z"
   },
   {
    "duration": 233,
    "start_time": "2022-05-26T21:26:20.966Z"
   },
   {
    "duration": 1301,
    "start_time": "2022-05-26T21:26:24.126Z"
   },
   {
    "duration": 35,
    "start_time": "2022-05-26T21:26:25.429Z"
   },
   {
    "duration": 550,
    "start_time": "2022-05-26T21:26:26.256Z"
   },
   {
    "duration": 173,
    "start_time": "2022-05-26T21:26:31.622Z"
   },
   {
    "duration": 4,
    "start_time": "2022-05-26T21:26:35.263Z"
   },
   {
    "duration": 34,
    "start_time": "2022-05-26T21:26:37.658Z"
   },
   {
    "duration": 1076,
    "start_time": "2022-05-26T21:26:42.204Z"
   },
   {
    "duration": 4,
    "start_time": "2022-05-26T21:33:07.047Z"
   },
   {
    "duration": 39,
    "start_time": "2022-05-26T21:33:08.057Z"
   },
   {
    "duration": 830,
    "start_time": "2022-05-26T21:33:08.261Z"
   },
   {
    "duration": 89,
    "start_time": "2022-05-26T21:33:09.093Z"
   },
   {
    "duration": 83,
    "start_time": "2022-05-26T21:33:09.228Z"
   },
   {
    "duration": 18,
    "start_time": "2022-05-26T21:33:10.033Z"
   },
   {
    "duration": 157,
    "start_time": "2022-05-26T21:33:10.258Z"
   },
   {
    "duration": 13,
    "start_time": "2022-05-26T21:33:10.453Z"
   },
   {
    "duration": 35,
    "start_time": "2022-05-26T21:33:10.859Z"
   },
   {
    "duration": 147,
    "start_time": "2022-05-26T21:33:11.074Z"
   },
   {
    "duration": 144,
    "start_time": "2022-05-26T21:33:11.476Z"
   },
   {
    "duration": 18,
    "start_time": "2022-05-26T21:33:11.696Z"
   },
   {
    "duration": 33,
    "start_time": "2022-05-26T21:33:12.151Z"
   },
   {
    "duration": 133,
    "start_time": "2022-05-26T21:33:12.362Z"
   },
   {
    "duration": 82,
    "start_time": "2022-05-26T21:33:13.291Z"
   },
   {
    "duration": 29,
    "start_time": "2022-05-26T21:33:14.057Z"
   },
   {
    "duration": 31,
    "start_time": "2022-05-26T21:33:14.468Z"
   },
   {
    "duration": 30,
    "start_time": "2022-05-26T21:33:14.704Z"
   },
   {
    "duration": 16,
    "start_time": "2022-05-26T21:33:14.963Z"
   },
   {
    "duration": 13,
    "start_time": "2022-05-26T21:33:15.407Z"
   },
   {
    "duration": 49,
    "start_time": "2022-05-26T21:33:15.624Z"
   },
   {
    "duration": 48,
    "start_time": "2022-05-26T21:33:15.851Z"
   },
   {
    "duration": 29,
    "start_time": "2022-05-26T21:33:16.057Z"
   },
   {
    "duration": 19,
    "start_time": "2022-05-26T21:33:16.292Z"
   },
   {
    "duration": 91,
    "start_time": "2022-05-26T21:33:16.523Z"
   },
   {
    "duration": 10,
    "start_time": "2022-05-26T21:33:17.020Z"
   },
   {
    "duration": 9,
    "start_time": "2022-05-26T21:33:17.257Z"
   },
   {
    "duration": 9,
    "start_time": "2022-05-26T21:33:17.513Z"
   },
   {
    "duration": 41,
    "start_time": "2022-05-26T21:33:17.754Z"
   },
   {
    "duration": 141,
    "start_time": "2022-05-26T21:33:18.721Z"
   },
   {
    "duration": 22,
    "start_time": "2022-05-26T21:33:19.464Z"
   },
   {
    "duration": 242,
    "start_time": "2022-05-26T21:33:20.434Z"
   },
   {
    "duration": 1531,
    "start_time": "2022-05-26T21:33:22.329Z"
   },
   {
    "duration": 43,
    "start_time": "2022-05-26T21:33:23.862Z"
   },
   {
    "duration": 553,
    "start_time": "2022-05-26T21:33:25.683Z"
   },
   {
    "duration": 178,
    "start_time": "2022-05-26T21:33:28.924Z"
   },
   {
    "duration": 4,
    "start_time": "2022-05-26T21:33:29.607Z"
   },
   {
    "duration": 33,
    "start_time": "2022-05-26T21:33:31.304Z"
   },
   {
    "duration": 4,
    "start_time": "2022-05-26T21:33:40.963Z"
   },
   {
    "duration": 101,
    "start_time": "2022-05-26T21:33:54.356Z"
   },
   {
    "duration": 53,
    "start_time": "2022-05-26T21:41:25.344Z"
   },
   {
    "duration": 4,
    "start_time": "2022-05-26T21:41:25.574Z"
   },
   {
    "duration": 7,
    "start_time": "2022-05-26T21:41:26.253Z"
   },
   {
    "duration": 7,
    "start_time": "2022-05-26T21:41:26.659Z"
   },
   {
    "duration": 6,
    "start_time": "2022-05-26T21:41:27.459Z"
   },
   {
    "duration": 6,
    "start_time": "2022-05-26T21:41:27.668Z"
   },
   {
    "duration": 6,
    "start_time": "2022-05-26T21:41:27.877Z"
   },
   {
    "duration": 7,
    "start_time": "2022-05-26T21:41:28.291Z"
   },
   {
    "duration": 7,
    "start_time": "2022-05-26T21:41:28.509Z"
   },
   {
    "duration": 8,
    "start_time": "2022-05-26T21:41:29.824Z"
   },
   {
    "duration": 6,
    "start_time": "2022-05-26T21:41:30.079Z"
   },
   {
    "duration": 1358,
    "start_time": "2022-05-26T21:42:10.363Z"
   },
   {
    "duration": 40,
    "start_time": "2022-05-26T21:42:12.961Z"
   },
   {
    "duration": 2895,
    "start_time": "2022-05-26T21:42:13.967Z"
   },
   {
    "duration": 79,
    "start_time": "2022-05-26T21:42:16.864Z"
   },
   {
    "duration": 92,
    "start_time": "2022-05-26T21:42:16.944Z"
   },
   {
    "duration": 16,
    "start_time": "2022-05-26T21:42:17.037Z"
   },
   {
    "duration": 185,
    "start_time": "2022-05-26T21:42:17.054Z"
   },
   {
    "duration": 14,
    "start_time": "2022-05-26T21:42:17.240Z"
   },
   {
    "duration": 51,
    "start_time": "2022-05-26T21:42:17.255Z"
   },
   {
    "duration": 150,
    "start_time": "2022-05-26T21:42:17.308Z"
   },
   {
    "duration": 138,
    "start_time": "2022-05-26T21:42:18.132Z"
   },
   {
    "duration": 17,
    "start_time": "2022-05-26T21:42:18.372Z"
   },
   {
    "duration": 35,
    "start_time": "2022-05-26T21:42:18.821Z"
   },
   {
    "duration": 135,
    "start_time": "2022-05-26T21:42:19.122Z"
   },
   {
    "duration": 89,
    "start_time": "2022-05-26T21:42:19.941Z"
   },
   {
    "duration": 29,
    "start_time": "2022-05-26T21:42:20.961Z"
   },
   {
    "duration": 39,
    "start_time": "2022-05-26T21:42:21.453Z"
   },
   {
    "duration": 31,
    "start_time": "2022-05-26T21:42:21.821Z"
   },
   {
    "duration": 15,
    "start_time": "2022-05-26T21:42:22.100Z"
   },
   {
    "duration": 19,
    "start_time": "2022-05-26T21:42:22.818Z"
   },
   {
    "duration": 45,
    "start_time": "2022-05-26T21:42:23.101Z"
   },
   {
    "duration": 64,
    "start_time": "2022-05-26T21:42:23.454Z"
   },
   {
    "duration": 30,
    "start_time": "2022-05-26T21:42:23.782Z"
   },
   {
    "duration": 24,
    "start_time": "2022-05-26T21:42:24.054Z"
   },
   {
    "duration": 81,
    "start_time": "2022-05-26T21:42:24.338Z"
   },
   {
    "duration": 11,
    "start_time": "2022-05-26T21:42:24.979Z"
   },
   {
    "duration": 16,
    "start_time": "2022-05-26T21:42:25.306Z"
   },
   {
    "duration": 15,
    "start_time": "2022-05-26T21:42:25.645Z"
   },
   {
    "duration": 47,
    "start_time": "2022-05-26T21:42:25.991Z"
   },
   {
    "duration": 163,
    "start_time": "2022-05-26T21:42:27.479Z"
   },
   {
    "duration": 23,
    "start_time": "2022-05-26T21:42:28.085Z"
   },
   {
    "duration": 292,
    "start_time": "2022-05-26T21:42:29.747Z"
   },
   {
    "duration": 1282,
    "start_time": "2022-05-26T21:42:31.151Z"
   },
   {
    "duration": 42,
    "start_time": "2022-05-26T21:42:32.435Z"
   },
   {
    "duration": 512,
    "start_time": "2022-05-26T21:42:32.945Z"
   },
   {
    "duration": 170,
    "start_time": "2022-05-26T21:42:34.403Z"
   },
   {
    "duration": 4,
    "start_time": "2022-05-26T21:42:34.690Z"
   },
   {
    "duration": 33,
    "start_time": "2022-05-26T21:42:36.771Z"
   },
   {
    "duration": 168,
    "start_time": "2022-05-26T21:42:40.781Z"
   },
   {
    "duration": 107,
    "start_time": "2022-05-26T21:42:52.215Z"
   },
   {
    "duration": 763,
    "start_time": "2022-05-26T21:43:38.614Z"
   },
   {
    "duration": 99,
    "start_time": "2022-05-26T21:44:29.721Z"
   },
   {
    "duration": 4,
    "start_time": "2022-05-26T21:44:30.903Z"
   },
   {
    "duration": 32,
    "start_time": "2022-05-26T21:44:33.050Z"
   },
   {
    "duration": 118,
    "start_time": "2022-05-26T21:45:06.750Z"
   },
   {
    "duration": 66,
    "start_time": "2022-05-26T21:46:25.970Z"
   },
   {
    "duration": 581,
    "start_time": "2022-05-26T21:46:32.629Z"
   },
   {
    "duration": 67,
    "start_time": "2022-05-26T21:47:00.775Z"
   },
   {
    "duration": 4,
    "start_time": "2022-05-26T21:47:48.883Z"
   },
   {
    "duration": 41,
    "start_time": "2022-05-26T21:47:49.890Z"
   },
   {
    "duration": 883,
    "start_time": "2022-05-26T21:47:50.086Z"
   },
   {
    "duration": 81,
    "start_time": "2022-05-26T21:47:50.971Z"
   },
   {
    "duration": 92,
    "start_time": "2022-05-26T21:47:51.054Z"
   },
   {
    "duration": 16,
    "start_time": "2022-05-26T21:47:51.849Z"
   },
   {
    "duration": 156,
    "start_time": "2022-05-26T21:47:52.055Z"
   },
   {
    "duration": 12,
    "start_time": "2022-05-26T21:47:52.271Z"
   },
   {
    "duration": 34,
    "start_time": "2022-05-26T21:47:53.007Z"
   },
   {
    "duration": 143,
    "start_time": "2022-05-26T21:47:53.233Z"
   },
   {
    "duration": 138,
    "start_time": "2022-05-26T21:47:53.683Z"
   },
   {
    "duration": 17,
    "start_time": "2022-05-26T21:47:53.900Z"
   },
   {
    "duration": 35,
    "start_time": "2022-05-26T21:47:54.616Z"
   },
   {
    "duration": 130,
    "start_time": "2022-05-26T21:47:54.956Z"
   },
   {
    "duration": 80,
    "start_time": "2022-05-26T21:47:57.317Z"
   },
   {
    "duration": 30,
    "start_time": "2022-05-26T21:47:58.733Z"
   },
   {
    "duration": 32,
    "start_time": "2022-05-26T21:47:59.797Z"
   },
   {
    "duration": 32,
    "start_time": "2022-05-26T21:48:00.375Z"
   },
   {
    "duration": 15,
    "start_time": "2022-05-26T21:48:01.045Z"
   },
   {
    "duration": 12,
    "start_time": "2022-05-26T21:48:02.457Z"
   },
   {
    "duration": 43,
    "start_time": "2022-05-26T21:48:03.135Z"
   },
   {
    "duration": 47,
    "start_time": "2022-05-26T21:48:04.640Z"
   },
   {
    "duration": 29,
    "start_time": "2022-05-26T21:48:05.696Z"
   },
   {
    "duration": 20,
    "start_time": "2022-05-26T21:48:06.461Z"
   },
   {
    "duration": 91,
    "start_time": "2022-05-26T21:48:07.968Z"
   },
   {
    "duration": 10,
    "start_time": "2022-05-26T21:48:09.734Z"
   },
   {
    "duration": 9,
    "start_time": "2022-05-26T21:48:10.538Z"
   },
   {
    "duration": 9,
    "start_time": "2022-05-26T21:48:11.275Z"
   },
   {
    "duration": 44,
    "start_time": "2022-05-26T21:48:14.116Z"
   },
   {
    "duration": 145,
    "start_time": "2022-05-26T21:48:18.897Z"
   },
   {
    "duration": 28,
    "start_time": "2022-05-26T21:48:19.843Z"
   },
   {
    "duration": 242,
    "start_time": "2022-05-26T21:48:25.168Z"
   },
   {
    "duration": 1465,
    "start_time": "2022-05-26T21:48:28.992Z"
   },
   {
    "duration": 41,
    "start_time": "2022-05-26T21:48:58.689Z"
   },
   {
    "duration": 4,
    "start_time": "2022-05-26T21:49:33.427Z"
   },
   {
    "duration": 38,
    "start_time": "2022-05-26T21:49:34.353Z"
   },
   {
    "duration": 852,
    "start_time": "2022-05-26T21:49:34.536Z"
   },
   {
    "duration": 86,
    "start_time": "2022-05-26T21:49:35.389Z"
   },
   {
    "duration": 83,
    "start_time": "2022-05-26T21:49:35.530Z"
   },
   {
    "duration": 17,
    "start_time": "2022-05-26T21:49:36.789Z"
   },
   {
    "duration": 150,
    "start_time": "2022-05-26T21:49:37.075Z"
   },
   {
    "duration": 12,
    "start_time": "2022-05-26T21:49:37.452Z"
   },
   {
    "duration": 32,
    "start_time": "2022-05-26T21:49:38.391Z"
   },
   {
    "duration": 143,
    "start_time": "2022-05-26T21:49:38.984Z"
   },
   {
    "duration": 150,
    "start_time": "2022-05-26T21:49:40.280Z"
   },
   {
    "duration": 18,
    "start_time": "2022-05-26T21:49:40.548Z"
   },
   {
    "duration": 33,
    "start_time": "2022-05-26T21:49:41.027Z"
   },
   {
    "duration": 132,
    "start_time": "2022-05-26T21:49:41.296Z"
   },
   {
    "duration": 87,
    "start_time": "2022-05-26T21:49:42.659Z"
   },
   {
    "duration": 28,
    "start_time": "2022-05-26T21:49:44.671Z"
   },
   {
    "duration": 30,
    "start_time": "2022-05-26T21:49:46.566Z"
   },
   {
    "duration": 29,
    "start_time": "2022-05-26T21:49:47.163Z"
   },
   {
    "duration": 15,
    "start_time": "2022-05-26T21:49:48.115Z"
   },
   {
    "duration": 13,
    "start_time": "2022-05-26T21:49:48.725Z"
   },
   {
    "duration": 46,
    "start_time": "2022-05-26T21:49:48.944Z"
   },
   {
    "duration": 47,
    "start_time": "2022-05-26T21:49:49.153Z"
   },
   {
    "duration": 33,
    "start_time": "2022-05-26T21:49:49.357Z"
   },
   {
    "duration": 19,
    "start_time": "2022-05-26T21:49:49.570Z"
   },
   {
    "duration": 86,
    "start_time": "2022-05-26T21:49:49.777Z"
   },
   {
    "duration": 11,
    "start_time": "2022-05-26T21:49:50.238Z"
   },
   {
    "duration": 9,
    "start_time": "2022-05-26T21:49:50.485Z"
   },
   {
    "duration": 11,
    "start_time": "2022-05-26T21:49:51.085Z"
   },
   {
    "duration": 38,
    "start_time": "2022-05-26T21:49:51.397Z"
   },
   {
    "duration": 136,
    "start_time": "2022-05-26T21:49:53.849Z"
   },
   {
    "duration": 23,
    "start_time": "2022-05-26T21:49:55.066Z"
   },
   {
    "duration": 230,
    "start_time": "2022-05-26T21:49:57.315Z"
   },
   {
    "duration": 1323,
    "start_time": "2022-05-26T21:50:06.666Z"
   },
   {
    "duration": 51,
    "start_time": "2022-05-26T21:50:11.990Z"
   },
   {
    "duration": 42,
    "start_time": "2022-05-26T21:50:36.630Z"
   },
   {
    "duration": 44,
    "start_time": "2022-05-26T21:50:50.411Z"
   },
   {
    "duration": 565,
    "start_time": "2022-05-26T21:51:06.471Z"
   },
   {
    "duration": 188,
    "start_time": "2022-05-26T21:51:21.854Z"
   },
   {
    "duration": 4,
    "start_time": "2022-05-26T21:51:28.272Z"
   },
   {
    "duration": 34,
    "start_time": "2022-05-26T21:51:29.120Z"
   },
   {
    "duration": 170,
    "start_time": "2022-05-26T21:51:30.390Z"
   },
   {
    "duration": 267,
    "start_time": "2022-05-26T21:52:24.303Z"
   },
   {
    "duration": 100,
    "start_time": "2022-05-26T21:53:17.071Z"
   },
   {
    "duration": 259,
    "start_time": "2022-05-26T21:54:21.053Z"
   },
   {
    "duration": 4,
    "start_time": "2022-05-26T21:54:37.383Z"
   },
   {
    "duration": 28,
    "start_time": "2022-05-26T21:54:57.405Z"
   },
   {
    "duration": 811,
    "start_time": "2022-05-26T21:55:38.206Z"
   },
   {
    "duration": 266,
    "start_time": "2022-05-26T21:58:59.605Z"
   },
   {
    "duration": 15,
    "start_time": "2022-05-26T21:59:01.520Z"
   },
   {
    "duration": 5,
    "start_time": "2022-05-26T22:01:38.076Z"
   },
   {
    "duration": 533,
    "start_time": "2022-05-26T22:04:32.229Z"
   },
   {
    "duration": 10,
    "start_time": "2022-05-26T22:07:14.936Z"
   },
   {
    "duration": 54,
    "start_time": "2022-05-26T22:08:27.602Z"
   },
   {
    "duration": 24,
    "start_time": "2022-05-26T22:11:53.939Z"
   },
   {
    "duration": 56,
    "start_time": "2022-05-26T22:11:54.897Z"
   },
   {
    "duration": 4,
    "start_time": "2022-05-26T22:19:56.734Z"
   },
   {
    "duration": 20,
    "start_time": "2022-05-26T22:31:47.956Z"
   },
   {
    "duration": 4,
    "start_time": "2022-05-26T22:33:33.133Z"
   },
   {
    "duration": 99232,
    "start_time": "2022-05-26T22:33:38.169Z"
   },
   {
    "duration": 3,
    "start_time": "2022-05-26T22:35:26.420Z"
   },
   {
    "duration": 3,
    "start_time": "2022-05-26T22:36:38.321Z"
   },
   {
    "duration": 17,
    "start_time": "2022-05-26T22:36:40.761Z"
   },
   {
    "duration": 13631,
    "start_time": "2022-05-26T22:37:12.051Z"
   },
   {
    "duration": 13145,
    "start_time": "2022-05-26T22:39:23.818Z"
   },
   {
    "duration": 13383,
    "start_time": "2022-05-26T22:39:48.313Z"
   },
   {
    "duration": 15,
    "start_time": "2022-05-26T22:46:30.721Z"
   },
   {
    "duration": 4,
    "start_time": "2022-05-26T22:50:36.564Z"
   },
   {
    "duration": 13239,
    "start_time": "2022-05-26T22:50:59.176Z"
   },
   {
    "duration": 11,
    "start_time": "2022-05-26T22:51:51.130Z"
   },
   {
    "duration": 13190,
    "start_time": "2022-05-26T22:52:29.676Z"
   },
   {
    "duration": 13108,
    "start_time": "2022-05-26T22:57:47.708Z"
   },
   {
    "duration": 5199,
    "start_time": "2022-05-27T17:17:02.637Z"
   },
   {
    "duration": 115,
    "start_time": "2022-05-27T17:17:07.840Z"
   },
   {
    "duration": 11297,
    "start_time": "2022-05-27T17:17:07.960Z"
   },
   {
    "duration": 519,
    "start_time": "2022-05-27T17:17:19.328Z"
   },
   {
    "duration": 401,
    "start_time": "2022-05-27T17:17:19.854Z"
   },
   {
    "duration": 173,
    "start_time": "2022-05-27T17:17:20.257Z"
   },
   {
    "duration": 1199,
    "start_time": "2022-05-27T17:17:20.435Z"
   },
   {
    "duration": 20,
    "start_time": "2022-05-27T17:17:21.636Z"
   },
   {
    "duration": 375,
    "start_time": "2022-05-27T17:17:21.660Z"
   },
   {
    "duration": 974,
    "start_time": "2022-05-27T17:17:22.059Z"
   },
   {
    "duration": 796,
    "start_time": "2022-05-27T17:17:23.037Z"
   },
   {
    "duration": 99,
    "start_time": "2022-05-27T17:17:23.840Z"
   },
   {
    "duration": 304,
    "start_time": "2022-05-27T17:17:23.945Z"
   },
   {
    "duration": 774,
    "start_time": "2022-05-27T17:17:24.256Z"
   },
   {
    "duration": 799,
    "start_time": "2022-05-27T17:17:25.033Z"
   },
   {
    "duration": 300,
    "start_time": "2022-05-27T17:17:25.840Z"
   },
   {
    "duration": 507,
    "start_time": "2022-05-27T17:17:26.143Z"
   },
   {
    "duration": 206,
    "start_time": "2022-05-27T17:17:26.652Z"
   },
   {
    "duration": 201,
    "start_time": "2022-05-27T17:17:26.929Z"
   },
   {
    "duration": 215,
    "start_time": "2022-05-27T17:17:27.135Z"
   },
   {
    "duration": 308,
    "start_time": "2022-05-27T17:17:27.351Z"
   },
   {
    "duration": 497,
    "start_time": "2022-05-27T17:17:27.729Z"
   },
   {
    "duration": 209,
    "start_time": "2022-05-27T17:17:28.232Z"
   },
   {
    "duration": 111,
    "start_time": "2022-05-27T17:17:28.445Z"
   },
   {
    "duration": 819,
    "start_time": "2022-05-27T17:17:28.630Z"
   },
   {
    "duration": 91,
    "start_time": "2022-05-27T17:17:29.451Z"
   },
   {
    "duration": 95,
    "start_time": "2022-05-27T17:17:29.544Z"
   },
   {
    "duration": 192,
    "start_time": "2022-05-27T17:17:29.648Z"
   },
   {
    "duration": 608,
    "start_time": "2022-05-27T17:17:29.853Z"
   },
   {
    "duration": 989,
    "start_time": "2022-05-27T17:17:30.463Z"
   },
   {
    "duration": 99,
    "start_time": "2022-05-27T17:17:31.458Z"
   },
   {
    "duration": 2476,
    "start_time": "2022-05-27T17:17:31.562Z"
   },
   {
    "duration": 6496,
    "start_time": "2022-05-27T17:17:34.047Z"
   },
   {
    "duration": 297,
    "start_time": "2022-05-27T17:17:40.548Z"
   },
   {
    "duration": 4109,
    "start_time": "2022-05-27T17:17:40.851Z"
   },
   {
    "duration": 3528,
    "start_time": "2022-05-27T17:17:45.032Z"
   },
   {
    "duration": 1690,
    "start_time": "2022-05-27T17:17:48.562Z"
   },
   {
    "duration": 79,
    "start_time": "2022-05-27T17:17:50.256Z"
   },
   {
    "duration": 494,
    "start_time": "2022-05-27T17:17:50.337Z"
   },
   {
    "duration": 3623,
    "start_time": "2022-05-27T17:17:50.836Z"
   },
   {
    "duration": 383,
    "start_time": "2022-05-27T17:17:54.461Z"
   },
   {
    "duration": 818,
    "start_time": "2022-05-27T17:17:54.850Z"
   },
   {
    "duration": 13,
    "start_time": "2022-05-27T17:17:55.670Z"
   },
   {
    "duration": 82,
    "start_time": "2022-05-27T17:17:55.684Z"
   },
   {
    "duration": 23,
    "start_time": "2022-05-27T17:17:55.768Z"
   },
   {
    "duration": 141,
    "start_time": "2022-05-27T17:17:55.792Z"
   },
   {
    "duration": 8,
    "start_time": "2022-05-27T17:17:55.934Z"
   },
   {
    "duration": 1512,
    "start_time": "2022-05-27T17:19:06.225Z"
   },
   {
    "duration": 86,
    "start_time": "2022-05-27T17:19:07.739Z"
   },
   {
    "duration": 1456,
    "start_time": "2022-05-27T17:19:07.828Z"
   },
   {
    "duration": 96,
    "start_time": "2022-05-27T17:19:09.286Z"
   },
   {
    "duration": 101,
    "start_time": "2022-05-27T17:19:09.384Z"
   },
   {
    "duration": 17,
    "start_time": "2022-05-27T17:19:09.487Z"
   },
   {
    "duration": 216,
    "start_time": "2022-05-27T17:19:09.506Z"
   },
   {
    "duration": 22,
    "start_time": "2022-05-27T17:19:09.723Z"
   },
   {
    "duration": 46,
    "start_time": "2022-05-27T17:19:09.748Z"
   },
   {
    "duration": 181,
    "start_time": "2022-05-27T17:19:09.796Z"
   },
   {
    "duration": 180,
    "start_time": "2022-05-27T17:19:09.979Z"
   },
   {
    "duration": 17,
    "start_time": "2022-05-27T17:19:10.161Z"
   },
   {
    "duration": 66,
    "start_time": "2022-05-27T17:19:10.180Z"
   },
   {
    "duration": 156,
    "start_time": "2022-05-27T17:19:10.247Z"
   },
   {
    "duration": 113,
    "start_time": "2022-05-27T17:19:10.404Z"
   },
   {
    "duration": 46,
    "start_time": "2022-05-27T17:19:10.519Z"
   },
   {
    "duration": 42,
    "start_time": "2022-05-27T17:19:10.566Z"
   },
   {
    "duration": 56,
    "start_time": "2022-05-27T17:19:10.610Z"
   },
   {
    "duration": 24,
    "start_time": "2022-05-27T17:19:10.668Z"
   },
   {
    "duration": 47,
    "start_time": "2022-05-27T17:19:10.694Z"
   },
   {
    "duration": 48,
    "start_time": "2022-05-27T17:19:10.743Z"
   },
   {
    "duration": 77,
    "start_time": "2022-05-27T17:19:10.793Z"
   },
   {
    "duration": 30,
    "start_time": "2022-05-27T17:19:10.872Z"
   },
   {
    "duration": 42,
    "start_time": "2022-05-27T17:19:10.903Z"
   },
   {
    "duration": 97,
    "start_time": "2022-05-27T17:19:10.947Z"
   },
   {
    "duration": 10,
    "start_time": "2022-05-27T17:19:11.046Z"
   },
   {
    "duration": 14,
    "start_time": "2022-05-27T17:19:11.058Z"
   },
   {
    "duration": 14,
    "start_time": "2022-05-27T17:19:11.077Z"
   },
   {
    "duration": 82,
    "start_time": "2022-05-27T17:19:11.093Z"
   },
   {
    "duration": 207,
    "start_time": "2022-05-27T17:19:11.177Z"
   },
   {
    "duration": 23,
    "start_time": "2022-05-27T17:19:11.386Z"
   },
   {
    "duration": 326,
    "start_time": "2022-05-27T17:19:11.411Z"
   },
   {
    "duration": 1430,
    "start_time": "2022-05-27T17:19:11.739Z"
   },
   {
    "duration": 71,
    "start_time": "2022-05-27T17:19:13.171Z"
   },
   {
    "duration": 613,
    "start_time": "2022-05-27T17:19:13.245Z"
   },
   {
    "duration": 197,
    "start_time": "2022-05-27T17:19:13.860Z"
   },
   {
    "duration": 338,
    "start_time": "2022-05-27T17:19:14.059Z"
   },
   {
    "duration": 4,
    "start_time": "2022-05-27T17:19:14.399Z"
   },
   {
    "duration": 47,
    "start_time": "2022-05-27T17:19:14.405Z"
   },
   {
    "duration": 1533,
    "start_time": "2022-05-27T17:19:14.454Z"
   },
   {
    "duration": 319,
    "start_time": "2022-05-27T17:19:15.988Z"
   },
   {
    "duration": 704,
    "start_time": "2022-05-27T17:19:16.309Z"
   },
   {
    "duration": 20,
    "start_time": "2022-05-27T17:19:17.014Z"
   },
   {
    "duration": 47,
    "start_time": "2022-05-27T17:19:17.036Z"
   },
   {
    "duration": 20,
    "start_time": "2022-05-27T17:19:17.085Z"
   },
   {
    "duration": 84,
    "start_time": "2022-05-27T17:19:17.107Z"
   },
   {
    "duration": 2,
    "start_time": "2022-05-27T17:19:17.193Z"
   },
   {
    "duration": 71,
    "start_time": "2022-05-27T17:19:42.941Z"
   },
   {
    "duration": 101,
    "start_time": "2022-05-27T19:15:55.532Z"
   },
   {
    "duration": 76,
    "start_time": "2022-05-27T19:34:32.849Z"
   },
   {
    "duration": 8,
    "start_time": "2022-05-27T19:34:42.132Z"
   },
   {
    "duration": 1412,
    "start_time": "2022-05-27T19:34:48.963Z"
   },
   {
    "duration": 77,
    "start_time": "2022-05-27T19:34:50.377Z"
   },
   {
    "duration": 1422,
    "start_time": "2022-05-27T19:34:50.456Z"
   },
   {
    "duration": 90,
    "start_time": "2022-05-27T19:34:51.880Z"
   },
   {
    "duration": 102,
    "start_time": "2022-05-27T19:34:51.972Z"
   },
   {
    "duration": 19,
    "start_time": "2022-05-27T19:34:52.075Z"
   },
   {
    "duration": 242,
    "start_time": "2022-05-27T19:34:52.096Z"
   },
   {
    "duration": 15,
    "start_time": "2022-05-27T19:34:52.339Z"
   },
   {
    "duration": 71,
    "start_time": "2022-05-27T19:34:52.356Z"
   },
   {
    "duration": 180,
    "start_time": "2022-05-27T19:34:52.430Z"
   },
   {
    "duration": 164,
    "start_time": "2022-05-27T19:34:52.612Z"
   },
   {
    "duration": 21,
    "start_time": "2022-05-27T19:34:52.778Z"
   },
   {
    "duration": 64,
    "start_time": "2022-05-27T19:34:52.801Z"
   },
   {
    "duration": 157,
    "start_time": "2022-05-27T19:34:52.867Z"
   },
   {
    "duration": 101,
    "start_time": "2022-05-27T19:34:53.027Z"
   },
   {
    "duration": 42,
    "start_time": "2022-05-27T19:34:53.129Z"
   },
   {
    "duration": 38,
    "start_time": "2022-05-27T19:34:53.173Z"
   },
   {
    "duration": 55,
    "start_time": "2022-05-27T19:34:53.228Z"
   },
   {
    "duration": 25,
    "start_time": "2022-05-27T19:34:53.285Z"
   },
   {
    "duration": 26,
    "start_time": "2022-05-27T19:34:53.312Z"
   },
   {
    "duration": 64,
    "start_time": "2022-05-27T19:34:53.340Z"
   },
   {
    "duration": 73,
    "start_time": "2022-05-27T19:34:53.426Z"
   },
   {
    "duration": 53,
    "start_time": "2022-05-27T19:34:53.500Z"
   },
   {
    "duration": 40,
    "start_time": "2022-05-27T19:34:53.555Z"
   },
   {
    "duration": 92,
    "start_time": "2022-05-27T19:34:53.598Z"
   },
   {
    "duration": 11,
    "start_time": "2022-05-27T19:34:53.692Z"
   },
   {
    "duration": 9,
    "start_time": "2022-05-27T19:34:53.704Z"
   },
   {
    "duration": 9,
    "start_time": "2022-05-27T19:34:53.731Z"
   },
   {
    "duration": 48,
    "start_time": "2022-05-27T19:34:53.742Z"
   },
   {
    "duration": 199,
    "start_time": "2022-05-27T19:34:53.792Z"
   },
   {
    "duration": 34,
    "start_time": "2022-05-27T19:34:53.993Z"
   },
   {
    "duration": 273,
    "start_time": "2022-05-27T19:34:54.029Z"
   },
   {
    "duration": 1435,
    "start_time": "2022-05-27T19:34:54.303Z"
   },
   {
    "duration": 62,
    "start_time": "2022-05-27T19:34:55.739Z"
   },
   {
    "duration": 681,
    "start_time": "2022-05-27T19:34:55.802Z"
   },
   {
    "duration": 203,
    "start_time": "2022-05-27T19:34:56.486Z"
   },
   {
    "duration": 378,
    "start_time": "2022-05-27T19:34:56.691Z"
   },
   {
    "duration": 57,
    "start_time": "2022-05-27T19:34:57.071Z"
   },
   {
    "duration": 41,
    "start_time": "2022-05-27T19:34:57.130Z"
   },
   {
    "duration": 2076,
    "start_time": "2022-05-27T19:34:57.172Z"
   },
   {
    "duration": 309,
    "start_time": "2022-05-27T19:34:59.250Z"
   },
   {
    "duration": 1287,
    "start_time": "2022-05-27T19:34:59.560Z"
   },
   {
    "duration": 12,
    "start_time": "2022-05-27T19:35:00.848Z"
   },
   {
    "duration": 174,
    "start_time": "2022-05-27T19:35:00.861Z"
   },
   {
    "duration": 26,
    "start_time": "2022-05-27T19:35:01.037Z"
   },
   {
    "duration": 199,
    "start_time": "2022-05-27T19:35:01.065Z"
   },
   {
    "duration": 2,
    "start_time": "2022-05-27T19:35:01.266Z"
   },
   {
    "duration": 59,
    "start_time": "2022-05-27T19:35:59.400Z"
   },
   {
    "duration": 1417,
    "start_time": "2022-05-27T19:45:32.968Z"
   },
   {
    "duration": 74,
    "start_time": "2022-05-27T19:45:34.387Z"
   },
   {
    "duration": 1202,
    "start_time": "2022-05-27T19:45:34.462Z"
   },
   {
    "duration": 86,
    "start_time": "2022-05-27T19:45:35.666Z"
   },
   {
    "duration": 97,
    "start_time": "2022-05-27T19:45:35.754Z"
   },
   {
    "duration": 16,
    "start_time": "2022-05-27T19:45:35.852Z"
   },
   {
    "duration": 171,
    "start_time": "2022-05-27T19:45:35.869Z"
   },
   {
    "duration": 13,
    "start_time": "2022-05-27T19:45:36.042Z"
   },
   {
    "duration": 35,
    "start_time": "2022-05-27T19:45:36.056Z"
   },
   {
    "duration": 198,
    "start_time": "2022-05-27T19:45:36.094Z"
   },
   {
    "duration": 178,
    "start_time": "2022-05-27T19:45:36.294Z"
   },
   {
    "duration": 16,
    "start_time": "2022-05-27T19:45:36.474Z"
   },
   {
    "duration": 46,
    "start_time": "2022-05-27T19:45:36.492Z"
   },
   {
    "duration": 142,
    "start_time": "2022-05-27T19:45:36.539Z"
   },
   {
    "duration": 87,
    "start_time": "2022-05-27T19:45:36.683Z"
   },
   {
    "duration": 28,
    "start_time": "2022-05-27T19:45:36.772Z"
   },
   {
    "duration": 42,
    "start_time": "2022-05-27T19:45:36.802Z"
   },
   {
    "duration": 31,
    "start_time": "2022-05-27T19:45:36.846Z"
   },
   {
    "duration": 19,
    "start_time": "2022-05-27T19:45:36.878Z"
   },
   {
    "duration": 13,
    "start_time": "2022-05-27T19:45:36.899Z"
   },
   {
    "duration": 44,
    "start_time": "2022-05-27T19:45:36.927Z"
   },
   {
    "duration": 62,
    "start_time": "2022-05-27T19:45:36.972Z"
   },
   {
    "duration": 29,
    "start_time": "2022-05-27T19:45:37.035Z"
   },
   {
    "duration": 22,
    "start_time": "2022-05-27T19:45:37.066Z"
   },
   {
    "duration": 93,
    "start_time": "2022-05-27T19:45:37.089Z"
   },
   {
    "duration": 9,
    "start_time": "2022-05-27T19:45:37.184Z"
   },
   {
    "duration": 10,
    "start_time": "2022-05-27T19:45:37.194Z"
   },
   {
    "duration": 21,
    "start_time": "2022-05-27T19:45:37.207Z"
   },
   {
    "duration": 44,
    "start_time": "2022-05-27T19:45:37.230Z"
   },
   {
    "duration": 173,
    "start_time": "2022-05-27T19:45:37.276Z"
   },
   {
    "duration": 22,
    "start_time": "2022-05-27T19:45:37.451Z"
   },
   {
    "duration": 248,
    "start_time": "2022-05-27T19:45:37.475Z"
   },
   {
    "duration": 1222,
    "start_time": "2022-05-27T19:45:37.724Z"
   },
   {
    "duration": 44,
    "start_time": "2022-05-27T19:45:38.947Z"
   },
   {
    "duration": 517,
    "start_time": "2022-05-27T19:45:38.992Z"
   },
   {
    "duration": 173,
    "start_time": "2022-05-27T19:45:39.511Z"
   },
   {
    "duration": 268,
    "start_time": "2022-05-27T19:45:39.686Z"
   },
   {
    "duration": 4,
    "start_time": "2022-05-27T19:45:39.955Z"
   },
   {
    "duration": 36,
    "start_time": "2022-05-27T19:45:39.960Z"
   },
   {
    "duration": 810,
    "start_time": "2022-05-27T19:45:39.997Z"
   },
   {
    "duration": 280,
    "start_time": "2022-05-27T19:45:40.808Z"
   },
   {
    "duration": 531,
    "start_time": "2022-05-27T19:45:41.090Z"
   },
   {
    "duration": 11,
    "start_time": "2022-05-27T19:45:41.623Z"
   },
   {
    "duration": 48,
    "start_time": "2022-05-27T19:45:41.635Z"
   },
   {
    "duration": 19,
    "start_time": "2022-05-27T19:45:41.685Z"
   },
   {
    "duration": 82,
    "start_time": "2022-05-27T19:45:41.706Z"
   },
   {
    "duration": 2,
    "start_time": "2022-05-27T19:45:41.790Z"
   },
   {
    "duration": 1341,
    "start_time": "2022-05-27T19:45:57.621Z"
   },
   {
    "duration": 76,
    "start_time": "2022-05-27T19:45:58.964Z"
   },
   {
    "duration": 1160,
    "start_time": "2022-05-27T19:45:59.042Z"
   },
   {
    "duration": 86,
    "start_time": "2022-05-27T19:46:00.203Z"
   },
   {
    "duration": 95,
    "start_time": "2022-05-27T19:46:00.290Z"
   },
   {
    "duration": 15,
    "start_time": "2022-05-27T19:46:00.386Z"
   },
   {
    "duration": 182,
    "start_time": "2022-05-27T19:46:00.402Z"
   },
   {
    "duration": 13,
    "start_time": "2022-05-27T19:46:00.585Z"
   },
   {
    "duration": 65,
    "start_time": "2022-05-27T19:46:00.600Z"
   },
   {
    "duration": 149,
    "start_time": "2022-05-27T19:46:00.668Z"
   },
   {
    "duration": 147,
    "start_time": "2022-05-27T19:46:00.819Z"
   },
   {
    "duration": 16,
    "start_time": "2022-05-27T19:46:00.968Z"
   },
   {
    "duration": 50,
    "start_time": "2022-05-27T19:46:00.986Z"
   },
   {
    "duration": 147,
    "start_time": "2022-05-27T19:46:01.037Z"
   },
   {
    "duration": 91,
    "start_time": "2022-05-27T19:46:01.186Z"
   },
   {
    "duration": 34,
    "start_time": "2022-05-27T19:46:01.279Z"
   },
   {
    "duration": 35,
    "start_time": "2022-05-27T19:46:01.327Z"
   },
   {
    "duration": 40,
    "start_time": "2022-05-27T19:46:01.364Z"
   },
   {
    "duration": 41,
    "start_time": "2022-05-27T19:46:01.406Z"
   },
   {
    "duration": 35,
    "start_time": "2022-05-27T19:46:01.449Z"
   },
   {
    "duration": 75,
    "start_time": "2022-05-27T19:46:01.486Z"
   },
   {
    "duration": 60,
    "start_time": "2022-05-27T19:46:01.562Z"
   },
   {
    "duration": 29,
    "start_time": "2022-05-27T19:46:01.624Z"
   },
   {
    "duration": 47,
    "start_time": "2022-05-27T19:46:01.655Z"
   },
   {
    "duration": 117,
    "start_time": "2022-05-27T19:46:01.704Z"
   },
   {
    "duration": 9,
    "start_time": "2022-05-27T19:46:01.823Z"
   },
   {
    "duration": 35,
    "start_time": "2022-05-27T19:46:01.834Z"
   },
   {
    "duration": 49,
    "start_time": "2022-05-27T19:46:01.873Z"
   },
   {
    "duration": 92,
    "start_time": "2022-05-27T19:46:01.924Z"
   },
   {
    "duration": 189,
    "start_time": "2022-05-27T19:46:02.018Z"
   },
   {
    "duration": 24,
    "start_time": "2022-05-27T19:46:02.209Z"
   },
   {
    "duration": 250,
    "start_time": "2022-05-27T19:46:02.235Z"
   },
   {
    "duration": 1276,
    "start_time": "2022-05-27T19:46:02.486Z"
   },
   {
    "duration": 47,
    "start_time": "2022-05-27T19:46:03.764Z"
   },
   {
    "duration": 543,
    "start_time": "2022-05-27T19:46:03.813Z"
   },
   {
    "duration": 180,
    "start_time": "2022-05-27T19:46:04.358Z"
   },
   {
    "duration": 276,
    "start_time": "2022-05-27T19:46:04.540Z"
   },
   {
    "duration": 10,
    "start_time": "2022-05-27T19:46:04.818Z"
   },
   {
    "duration": 44,
    "start_time": "2022-05-27T19:46:04.829Z"
   },
   {
    "duration": 815,
    "start_time": "2022-05-27T19:46:04.875Z"
   },
   {
    "duration": 275,
    "start_time": "2022-05-27T19:46:05.692Z"
   },
   {
    "duration": 605,
    "start_time": "2022-05-27T19:46:05.968Z"
   },
   {
    "duration": 11,
    "start_time": "2022-05-27T19:46:06.575Z"
   },
   {
    "duration": 61,
    "start_time": "2022-05-27T19:46:06.587Z"
   },
   {
    "duration": 19,
    "start_time": "2022-05-27T19:46:06.649Z"
   },
   {
    "duration": 77,
    "start_time": "2022-05-27T19:46:06.669Z"
   },
   {
    "duration": 2,
    "start_time": "2022-05-27T19:46:06.748Z"
   },
   {
    "duration": 1672,
    "start_time": "2022-05-27T20:59:31.390Z"
   },
   {
    "duration": 40,
    "start_time": "2022-05-27T20:59:35.408Z"
   },
   {
    "duration": 3369,
    "start_time": "2022-05-27T20:59:37.542Z"
   },
   {
    "duration": 86,
    "start_time": "2022-05-27T20:59:40.913Z"
   },
   {
    "duration": 94,
    "start_time": "2022-05-27T20:59:41.001Z"
   },
   {
    "duration": 16,
    "start_time": "2022-05-27T20:59:46.603Z"
   },
   {
    "duration": 154,
    "start_time": "2022-05-27T20:59:46.807Z"
   },
   {
    "duration": 13,
    "start_time": "2022-05-27T20:59:47.047Z"
   },
   {
    "duration": 35,
    "start_time": "2022-05-27T20:59:47.475Z"
   },
   {
    "duration": 163,
    "start_time": "2022-05-27T20:59:47.679Z"
   },
   {
    "duration": 130,
    "start_time": "2022-05-27T20:59:48.083Z"
   },
   {
    "duration": 18,
    "start_time": "2022-05-27T20:59:48.315Z"
   },
   {
    "duration": 36,
    "start_time": "2022-05-27T20:59:48.757Z"
   },
   {
    "duration": 132,
    "start_time": "2022-05-27T20:59:48.984Z"
   },
   {
    "duration": 88,
    "start_time": "2022-05-27T20:59:50.552Z"
   },
   {
    "duration": 34,
    "start_time": "2022-05-27T20:59:51.098Z"
   },
   {
    "duration": 45,
    "start_time": "2022-05-27T20:59:51.587Z"
   },
   {
    "duration": 28,
    "start_time": "2022-05-27T20:59:51.809Z"
   },
   {
    "duration": 14,
    "start_time": "2022-05-27T20:59:52.029Z"
   },
   {
    "duration": 13,
    "start_time": "2022-05-27T20:59:52.475Z"
   },
   {
    "duration": 47,
    "start_time": "2022-05-27T20:59:52.686Z"
   },
   {
    "duration": 54,
    "start_time": "2022-05-27T20:59:52.895Z"
   },
   {
    "duration": 33,
    "start_time": "2022-05-27T20:59:53.131Z"
   },
   {
    "duration": 20,
    "start_time": "2022-05-27T20:59:53.365Z"
   },
   {
    "duration": 88,
    "start_time": "2022-05-27T20:59:53.635Z"
   },
   {
    "duration": 10,
    "start_time": "2022-05-27T20:59:54.163Z"
   },
   {
    "duration": 9,
    "start_time": "2022-05-27T20:59:54.414Z"
   },
   {
    "duration": 9,
    "start_time": "2022-05-27T20:59:54.666Z"
   },
   {
    "duration": 39,
    "start_time": "2022-05-27T20:59:54.954Z"
   },
   {
    "duration": 155,
    "start_time": "2022-05-27T20:59:55.799Z"
   },
   {
    "duration": 23,
    "start_time": "2022-05-27T20:59:56.384Z"
   },
   {
    "duration": 232,
    "start_time": "2022-05-27T20:59:58.071Z"
   },
   {
    "duration": 1252,
    "start_time": "2022-05-27T20:59:59.717Z"
   },
   {
    "duration": 48,
    "start_time": "2022-05-27T21:00:00.971Z"
   },
   {
    "duration": 773,
    "start_time": "2022-05-27T21:00:01.431Z"
   },
   {
    "duration": 179,
    "start_time": "2022-05-27T21:00:03.629Z"
   },
   {
    "duration": 264,
    "start_time": "2022-05-27T21:00:04.043Z"
   },
   {
    "duration": 4,
    "start_time": "2022-05-27T21:00:04.655Z"
   },
   {
    "duration": 32,
    "start_time": "2022-05-27T21:00:05.912Z"
   },
   {
    "duration": 819,
    "start_time": "2022-05-27T21:00:06.613Z"
   },
   {
    "duration": 268,
    "start_time": "2022-05-27T21:00:09.444Z"
   },
   {
    "duration": 532,
    "start_time": "2022-05-27T21:00:10.443Z"
   },
   {
    "duration": 11,
    "start_time": "2022-05-27T21:00:11.043Z"
   },
   {
    "duration": 49,
    "start_time": "2022-05-27T21:00:11.611Z"
   },
   {
    "duration": 19,
    "start_time": "2022-05-27T21:00:12.699Z"
   },
   {
    "duration": 72,
    "start_time": "2022-05-27T21:00:13.811Z"
   },
   {
    "duration": 2,
    "start_time": "2022-05-27T21:00:21.041Z"
   },
   {
    "duration": 4,
    "start_time": "2022-05-27T21:03:52.037Z"
   },
   {
    "duration": 117,
    "start_time": "2022-05-27T21:16:06.816Z"
   },
   {
    "duration": 10,
    "start_time": "2022-05-27T21:19:21.832Z"
   },
   {
    "duration": 21,
    "start_time": "2022-05-27T21:19:28.180Z"
   },
   {
    "duration": 15,
    "start_time": "2022-05-27T21:22:10.882Z"
   },
   {
    "duration": 110,
    "start_time": "2022-05-27T21:23:48.025Z"
   },
   {
    "duration": 10,
    "start_time": "2022-05-27T21:25:49.692Z"
   },
   {
    "duration": 37,
    "start_time": "2022-05-27T21:25:51.213Z"
   },
   {
    "duration": 17,
    "start_time": "2022-05-27T21:25:52.103Z"
   },
   {
    "duration": 61,
    "start_time": "2022-05-27T21:26:49.526Z"
   },
   {
    "duration": 2,
    "start_time": "2022-05-27T21:27:37.751Z"
   },
   {
    "duration": 14,
    "start_time": "2022-05-27T21:27:39.764Z"
   },
   {
    "duration": 14,
    "start_time": "2022-05-27T21:30:06.696Z"
   },
   {
    "duration": 9,
    "start_time": "2022-05-27T21:31:37.495Z"
   },
   {
    "duration": 2036,
    "start_time": "2022-05-27T21:32:01.782Z"
   },
   {
    "duration": 14,
    "start_time": "2022-05-27T21:32:41.917Z"
   },
   {
    "duration": 1635,
    "start_time": "2022-05-27T21:33:43.012Z"
   },
   {
    "duration": 129,
    "start_time": "2022-05-27T21:35:21.239Z"
   },
   {
    "duration": 6,
    "start_time": "2022-05-27T21:36:23.186Z"
   },
   {
    "duration": 832,
    "start_time": "2022-05-27T21:37:14.459Z"
   },
   {
    "duration": 1028,
    "start_time": "2022-05-27T21:38:23.743Z"
   },
   {
    "duration": 450,
    "start_time": "2022-05-27T21:38:54.065Z"
   },
   {
    "duration": 84982,
    "start_time": "2022-05-27T21:39:03.479Z"
   },
   {
    "duration": 5,
    "start_time": "2022-05-27T21:42:11.260Z"
   },
   {
    "duration": 37685,
    "start_time": "2022-05-27T21:42:36.893Z"
   },
   {
    "duration": 40327,
    "start_time": "2022-05-27T21:43:55.754Z"
   },
   {
    "duration": 34841,
    "start_time": "2022-05-27T21:48:06.135Z"
   },
   {
    "duration": 94700,
    "start_time": "2022-05-27T21:49:10.271Z"
   },
   {
    "duration": 76013,
    "start_time": "2022-05-27T21:54:17.355Z"
   },
   {
    "duration": 73309,
    "start_time": "2022-05-27T21:57:32.253Z"
   },
   {
    "duration": 5,
    "start_time": "2022-05-27T22:02:48.311Z"
   },
   {
    "duration": 47,
    "start_time": "2022-05-27T22:17:08.021Z"
   },
   {
    "duration": 13,
    "start_time": "2022-05-27T22:17:57.543Z"
   },
   {
    "duration": 9,
    "start_time": "2022-05-27T22:19:11.940Z"
   },
   {
    "duration": 10,
    "start_time": "2022-05-27T22:19:40.363Z"
   },
   {
    "duration": 14,
    "start_time": "2022-05-27T22:20:22.845Z"
   },
   {
    "duration": 4,
    "start_time": "2022-05-27T22:20:33.652Z"
   },
   {
    "duration": 13,
    "start_time": "2022-05-27T22:20:39.271Z"
   },
   {
    "duration": 13,
    "start_time": "2022-05-27T22:20:57.771Z"
   },
   {
    "duration": 20,
    "start_time": "2022-05-27T22:21:13.376Z"
   },
   {
    "duration": 10,
    "start_time": "2022-05-27T22:21:33.434Z"
   },
   {
    "duration": 5,
    "start_time": "2022-05-27T22:23:45.674Z"
   },
   {
    "duration": 29,
    "start_time": "2022-05-27T22:25:03.827Z"
   },
   {
    "duration": 1418,
    "start_time": "2022-05-28T09:30:24.415Z"
   },
   {
    "duration": 40,
    "start_time": "2022-05-28T09:30:25.835Z"
   },
   {
    "duration": 2740,
    "start_time": "2022-05-28T09:30:25.877Z"
   },
   {
    "duration": 96,
    "start_time": "2022-05-28T09:30:28.619Z"
   },
   {
    "duration": 101,
    "start_time": "2022-05-28T09:30:28.716Z"
   },
   {
    "duration": 16,
    "start_time": "2022-05-28T09:30:28.818Z"
   },
   {
    "duration": 192,
    "start_time": "2022-05-28T09:30:28.835Z"
   },
   {
    "duration": 13,
    "start_time": "2022-05-28T09:30:29.029Z"
   },
   {
    "duration": 52,
    "start_time": "2022-05-28T09:30:29.044Z"
   },
   {
    "duration": 167,
    "start_time": "2022-05-28T09:30:29.097Z"
   },
   {
    "duration": 155,
    "start_time": "2022-05-28T09:30:29.265Z"
   },
   {
    "duration": 16,
    "start_time": "2022-05-28T09:30:29.422Z"
   },
   {
    "duration": 38,
    "start_time": "2022-05-28T09:30:30.233Z"
   },
   {
    "duration": 149,
    "start_time": "2022-05-28T09:30:30.480Z"
   },
   {
    "duration": 97,
    "start_time": "2022-05-28T09:30:31.970Z"
   },
   {
    "duration": 31,
    "start_time": "2022-05-28T09:30:32.670Z"
   },
   {
    "duration": 32,
    "start_time": "2022-05-28T09:30:33.398Z"
   },
   {
    "duration": 31,
    "start_time": "2022-05-28T09:30:33.721Z"
   },
   {
    "duration": 16,
    "start_time": "2022-05-28T09:30:34.049Z"
   },
   {
    "duration": 13,
    "start_time": "2022-05-28T09:30:34.730Z"
   },
   {
    "duration": 45,
    "start_time": "2022-05-28T09:30:35.141Z"
   },
   {
    "duration": 53,
    "start_time": "2022-05-28T09:30:35.562Z"
   },
   {
    "duration": 29,
    "start_time": "2022-05-28T09:30:36.092Z"
   },
   {
    "duration": 20,
    "start_time": "2022-05-28T09:30:36.670Z"
   },
   {
    "duration": 113,
    "start_time": "2022-05-28T09:30:37.293Z"
   },
   {
    "duration": 9,
    "start_time": "2022-05-28T09:30:38.390Z"
   },
   {
    "duration": 9,
    "start_time": "2022-05-28T09:30:39.002Z"
   },
   {
    "duration": 10,
    "start_time": "2022-05-28T09:30:39.795Z"
   },
   {
    "duration": 39,
    "start_time": "2022-05-28T09:30:40.257Z"
   },
   {
    "duration": 161,
    "start_time": "2022-05-28T09:30:41.956Z"
   },
   {
    "duration": 30,
    "start_time": "2022-05-28T09:30:43.151Z"
   },
   {
    "duration": 229,
    "start_time": "2022-05-28T09:30:44.839Z"
   },
   {
    "duration": 1261,
    "start_time": "2022-05-28T09:30:48.175Z"
   },
   {
    "duration": 44,
    "start_time": "2022-05-28T09:30:49.438Z"
   },
   {
    "duration": 535,
    "start_time": "2022-05-28T09:30:52.189Z"
   },
   {
    "duration": 174,
    "start_time": "2022-05-28T09:30:55.192Z"
   },
   {
    "duration": 292,
    "start_time": "2022-05-28T09:30:55.784Z"
   },
   {
    "duration": 5,
    "start_time": "2022-05-28T09:30:56.356Z"
   },
   {
    "duration": 30,
    "start_time": "2022-05-28T09:30:56.922Z"
   },
   {
    "duration": 864,
    "start_time": "2022-05-28T09:30:57.517Z"
   },
   {
    "duration": 1046,
    "start_time": "2022-05-28T09:30:58.383Z"
   },
   {
    "duration": 278,
    "start_time": "2022-05-28T09:30:59.725Z"
   },
   {
    "duration": 110,
    "start_time": "2022-05-28T09:31:00.262Z"
   },
   {
    "duration": 571,
    "start_time": "2022-05-28T09:31:01.261Z"
   },
   {
    "duration": 12,
    "start_time": "2022-05-28T09:31:01.834Z"
   },
   {
    "duration": 46,
    "start_time": "2022-05-28T09:31:02.346Z"
   },
   {
    "duration": 22,
    "start_time": "2022-05-28T09:31:02.912Z"
   },
   {
    "duration": 18,
    "start_time": "2022-05-28T09:31:03.964Z"
   },
   {
    "duration": 67,
    "start_time": "2022-05-28T09:31:04.453Z"
   },
   {
    "duration": 63,
    "start_time": "2022-05-28T09:31:04.963Z"
   },
   {
    "duration": 3,
    "start_time": "2022-05-28T09:31:09.645Z"
   },
   {
    "duration": 112011,
    "start_time": "2022-05-28T09:31:11.290Z"
   },
   {
    "duration": 37408,
    "start_time": "2022-05-28T09:33:03.304Z"
   },
   {
    "duration": 50,
    "start_time": "2022-05-28T09:33:40.714Z"
   },
   {
    "duration": 0,
    "start_time": "2022-05-28T09:33:40.765Z"
   },
   {
    "duration": 110,
    "start_time": "2022-05-28T09:34:22.753Z"
   },
   {
    "duration": 4,
    "start_time": "2022-05-28T09:37:38.862Z"
   },
   {
    "duration": 11,
    "start_time": "2022-05-28T09:37:43.425Z"
   },
   {
    "duration": 100,
    "start_time": "2022-05-28T09:50:59.998Z"
   },
   {
    "duration": 45939,
    "start_time": "2022-05-28T09:51:06.063Z"
   },
   {
    "duration": 62276,
    "start_time": "2022-05-28T09:53:04.719Z"
   },
   {
    "duration": 199157,
    "start_time": "2022-05-28T09:54:16.443Z"
   },
   {
    "duration": 66196,
    "start_time": "2022-05-28T09:58:29.104Z"
   },
   {
    "duration": 5,
    "start_time": "2022-05-28T09:59:35.302Z"
   },
   {
    "duration": 3,
    "start_time": "2022-05-28T09:59:46.565Z"
   },
   {
    "duration": 74776,
    "start_time": "2022-05-28T09:59:49.339Z"
   },
   {
    "duration": 3,
    "start_time": "2022-05-28T10:02:02.622Z"
   },
   {
    "duration": 13,
    "start_time": "2022-05-28T10:09:07.235Z"
   },
   {
    "duration": 121684,
    "start_time": "2022-05-28T10:09:42.312Z"
   },
   {
    "duration": 27835,
    "start_time": "2022-05-28T10:15:11.963Z"
   },
   {
    "duration": 227855,
    "start_time": "2022-05-28T10:18:13.454Z"
   },
   {
    "duration": 26977,
    "start_time": "2022-05-28T10:23:50.534Z"
   },
   {
    "duration": 11,
    "start_time": "2022-05-28T10:24:56.217Z"
   },
   {
    "duration": 64570,
    "start_time": "2022-05-28T10:26:27.139Z"
   },
   {
    "duration": 3,
    "start_time": "2022-05-28T10:27:39.004Z"
   },
   {
    "duration": 310,
    "start_time": "2022-05-28T10:29:48.864Z"
   },
   {
    "duration": 120,
    "start_time": "2022-05-28T10:30:39.144Z"
   },
   {
    "duration": 283197,
    "start_time": "2022-05-28T10:31:27.999Z"
   },
   {
    "duration": 60979,
    "start_time": "2022-05-28T10:36:19.040Z"
   },
   {
    "duration": 3,
    "start_time": "2022-05-28T10:38:31.090Z"
   },
   {
    "duration": 13,
    "start_time": "2022-05-28T10:43:49.327Z"
   },
   {
    "duration": 135172,
    "start_time": "2022-05-28T10:43:58.354Z"
   },
   {
    "duration": 4,
    "start_time": "2022-05-28T10:48:41.728Z"
   },
   {
    "duration": 10,
    "start_time": "2022-05-28T11:00:05.756Z"
   },
   {
    "duration": 33,
    "start_time": "2022-05-28T11:00:13.048Z"
   },
   {
    "duration": 10,
    "start_time": "2022-05-28T11:00:21.541Z"
   },
   {
    "duration": 10,
    "start_time": "2022-05-28T11:00:45.654Z"
   },
   {
    "duration": 10,
    "start_time": "2022-05-28T11:02:41.550Z"
   },
   {
    "duration": 14,
    "start_time": "2022-05-28T11:03:21.493Z"
   },
   {
    "duration": 27,
    "start_time": "2022-05-28T11:03:30.211Z"
   },
   {
    "duration": 27,
    "start_time": "2022-05-28T11:04:13.419Z"
   },
   {
    "duration": 537,
    "start_time": "2022-05-28T11:09:50.133Z"
   },
   {
    "duration": 10,
    "start_time": "2022-05-28T11:18:15.755Z"
   },
   {
    "duration": 518,
    "start_time": "2022-05-28T11:20:58.456Z"
   },
   {
    "duration": 11,
    "start_time": "2022-05-28T11:21:50.247Z"
   },
   {
    "duration": 69,
    "start_time": "2022-05-28T11:47:10.393Z"
   },
   {
    "duration": 1502,
    "start_time": "2022-05-28T11:49:30.523Z"
   },
   {
    "duration": 43,
    "start_time": "2022-05-28T11:49:32.027Z"
   },
   {
    "duration": 3474,
    "start_time": "2022-05-28T11:49:32.072Z"
   },
   {
    "duration": 124,
    "start_time": "2022-05-28T11:49:35.548Z"
   },
   {
    "duration": 112,
    "start_time": "2022-05-28T11:49:35.675Z"
   },
   {
    "duration": 24,
    "start_time": "2022-05-28T11:49:35.795Z"
   },
   {
    "duration": 215,
    "start_time": "2022-05-28T11:49:35.821Z"
   },
   {
    "duration": 14,
    "start_time": "2022-05-28T11:49:36.037Z"
   },
   {
    "duration": 63,
    "start_time": "2022-05-28T11:49:36.052Z"
   },
   {
    "duration": 202,
    "start_time": "2022-05-28T11:49:36.122Z"
   },
   {
    "duration": 165,
    "start_time": "2022-05-28T11:49:36.325Z"
   },
   {
    "duration": 28,
    "start_time": "2022-05-28T11:49:36.500Z"
   },
   {
    "duration": 42,
    "start_time": "2022-05-28T11:49:36.530Z"
   },
   {
    "duration": 176,
    "start_time": "2022-05-28T11:49:36.574Z"
   },
   {
    "duration": 112,
    "start_time": "2022-05-28T11:49:36.752Z"
   },
   {
    "duration": 51,
    "start_time": "2022-05-28T11:49:36.865Z"
   },
   {
    "duration": 53,
    "start_time": "2022-05-28T11:49:36.918Z"
   },
   {
    "duration": 36,
    "start_time": "2022-05-28T11:49:36.972Z"
   },
   {
    "duration": 41,
    "start_time": "2022-05-28T11:49:37.010Z"
   },
   {
    "duration": 20,
    "start_time": "2022-05-28T11:49:37.053Z"
   },
   {
    "duration": 54,
    "start_time": "2022-05-28T11:49:37.074Z"
   },
   {
    "duration": 55,
    "start_time": "2022-05-28T11:49:37.130Z"
   },
   {
    "duration": 58,
    "start_time": "2022-05-28T11:49:37.194Z"
   },
   {
    "duration": 27,
    "start_time": "2022-05-28T11:49:37.254Z"
   },
   {
    "duration": 143,
    "start_time": "2022-05-28T11:49:37.283Z"
   },
   {
    "duration": 11,
    "start_time": "2022-05-28T11:49:37.433Z"
   },
   {
    "duration": 21,
    "start_time": "2022-05-28T11:49:37.446Z"
   },
   {
    "duration": 15,
    "start_time": "2022-05-28T11:49:37.469Z"
   },
   {
    "duration": 58,
    "start_time": "2022-05-28T11:49:37.487Z"
   },
   {
    "duration": 208,
    "start_time": "2022-05-28T11:49:37.547Z"
   },
   {
    "duration": 23,
    "start_time": "2022-05-28T11:49:37.756Z"
   },
   {
    "duration": 294,
    "start_time": "2022-05-28T11:49:37.781Z"
   },
   {
    "duration": 1475,
    "start_time": "2022-05-28T11:49:38.076Z"
   },
   {
    "duration": 59,
    "start_time": "2022-05-28T11:49:39.552Z"
   },
   {
    "duration": 646,
    "start_time": "2022-05-28T11:49:39.613Z"
   },
   {
    "duration": 182,
    "start_time": "2022-05-28T11:49:40.261Z"
   },
   {
    "duration": 331,
    "start_time": "2022-05-28T11:49:40.444Z"
   },
   {
    "duration": 4,
    "start_time": "2022-05-28T11:49:40.777Z"
   },
   {
    "duration": 47,
    "start_time": "2022-05-28T11:49:40.782Z"
   },
   {
    "duration": 918,
    "start_time": "2022-05-28T11:49:40.830Z"
   },
   {
    "duration": 1071,
    "start_time": "2022-05-28T11:49:41.753Z"
   },
   {
    "duration": 294,
    "start_time": "2022-05-28T11:49:42.825Z"
   },
   {
    "duration": 120,
    "start_time": "2022-05-28T11:49:43.121Z"
   },
   {
    "duration": 635,
    "start_time": "2022-05-28T11:49:43.242Z"
   },
   {
    "duration": 27,
    "start_time": "2022-05-28T11:49:43.878Z"
   },
   {
    "duration": 79,
    "start_time": "2022-05-28T11:49:43.907Z"
   },
   {
    "duration": 36,
    "start_time": "2022-05-28T11:49:43.988Z"
   },
   {
    "duration": 24,
    "start_time": "2022-05-28T11:49:44.025Z"
   },
   {
    "duration": 82,
    "start_time": "2022-05-28T11:49:44.051Z"
   },
   {
    "duration": 87,
    "start_time": "2022-05-28T11:49:44.135Z"
   },
   {
    "duration": 2,
    "start_time": "2022-05-28T11:49:44.224Z"
   },
   {
    "duration": 294869,
    "start_time": "2022-05-28T11:49:44.230Z"
   },
   {
    "duration": 83116,
    "start_time": "2022-05-28T11:54:39.103Z"
   },
   {
    "duration": 133095,
    "start_time": "2022-05-28T11:56:02.221Z"
   },
   {
    "duration": 3,
    "start_time": "2022-05-28T11:58:15.319Z"
   },
   {
    "duration": 298990,
    "start_time": "2022-05-28T11:58:15.324Z"
   },
   {
    "duration": 67002,
    "start_time": "2022-05-28T12:03:14.318Z"
   },
   {
    "duration": 6,
    "start_time": "2022-05-28T12:04:21.394Z"
   },
   {
    "duration": 80110,
    "start_time": "2022-05-28T12:04:21.402Z"
   },
   {
    "duration": 2854,
    "start_time": "2022-05-28T12:05:41.514Z"
   },
   {
    "duration": 1662,
    "start_time": "2022-05-28T12:05:44.370Z"
   },
   {
    "duration": 4,
    "start_time": "2022-05-28T12:05:46.034Z"
   },
   {
    "duration": 0,
    "start_time": "2022-05-28T12:05:46.040Z"
   },
   {
    "duration": 0,
    "start_time": "2022-05-28T12:05:46.042Z"
   },
   {
    "duration": 0,
    "start_time": "2022-05-28T12:05:46.044Z"
   },
   {
    "duration": 1,
    "start_time": "2022-05-28T12:05:46.045Z"
   },
   {
    "duration": 0,
    "start_time": "2022-05-28T12:05:46.047Z"
   },
   {
    "duration": 0,
    "start_time": "2022-05-28T12:05:46.049Z"
   },
   {
    "duration": 0,
    "start_time": "2022-05-28T12:05:46.050Z"
   },
   {
    "duration": 0,
    "start_time": "2022-05-28T12:05:46.051Z"
   },
   {
    "duration": 0,
    "start_time": "2022-05-28T12:05:46.053Z"
   },
   {
    "duration": 3,
    "start_time": "2022-05-28T12:06:42.389Z"
   },
   {
    "duration": 4,
    "start_time": "2022-05-28T12:08:37.232Z"
   },
   {
    "duration": 1315,
    "start_time": "2022-05-28T12:08:38.020Z"
   },
   {
    "duration": 765,
    "start_time": "2022-05-28T12:08:45.659Z"
   },
   {
    "duration": 4,
    "start_time": "2022-05-28T12:09:06.127Z"
   },
   {
    "duration": 302635,
    "start_time": "2022-05-28T12:09:51.592Z"
   },
   {
    "duration": 8300,
    "start_time": "2022-05-28T12:14:58.728Z"
   },
   {
    "duration": 2354,
    "start_time": "2022-05-28T12:15:12.156Z"
   },
   {
    "duration": 4,
    "start_time": "2022-05-28T12:15:18.994Z"
   },
   {
    "duration": 1355,
    "start_time": "2022-05-28T12:15:21.217Z"
   },
   {
    "duration": 1281,
    "start_time": "2022-05-28T12:15:34.188Z"
   },
   {
    "duration": 857,
    "start_time": "2022-05-28T12:15:39.379Z"
   },
   {
    "duration": 3,
    "start_time": "2022-05-28T12:15:56.381Z"
   },
   {
    "duration": 6,
    "start_time": "2022-05-28T12:15:57.183Z"
   },
   {
    "duration": 7,
    "start_time": "2022-05-28T12:17:03.209Z"
   },
   {
    "duration": 4,
    "start_time": "2022-05-28T12:17:41.986Z"
   },
   {
    "duration": 7,
    "start_time": "2022-05-28T12:18:20.099Z"
   },
   {
    "duration": 4,
    "start_time": "2022-05-28T12:18:32.385Z"
   },
   {
    "duration": 3,
    "start_time": "2022-05-28T12:19:29.300Z"
   },
   {
    "duration": 3,
    "start_time": "2022-05-28T12:19:56.156Z"
   },
   {
    "duration": 3,
    "start_time": "2022-05-28T12:20:11.387Z"
   },
   {
    "duration": 3,
    "start_time": "2022-05-28T12:20:20.430Z"
   },
   {
    "duration": 5,
    "start_time": "2022-05-28T12:20:22.898Z"
   },
   {
    "duration": 4,
    "start_time": "2022-05-28T12:20:28.833Z"
   },
   {
    "duration": 4,
    "start_time": "2022-05-28T12:20:31.440Z"
   },
   {
    "duration": 3,
    "start_time": "2022-05-28T12:20:43.732Z"
   },
   {
    "duration": 4,
    "start_time": "2022-05-28T12:20:48.938Z"
   },
   {
    "duration": 4,
    "start_time": "2022-05-28T12:20:53.478Z"
   },
   {
    "duration": 4,
    "start_time": "2022-05-28T12:20:58.481Z"
   },
   {
    "duration": 4,
    "start_time": "2022-05-28T12:21:02.718Z"
   },
   {
    "duration": 5,
    "start_time": "2022-05-28T12:21:07.610Z"
   },
   {
    "duration": 3,
    "start_time": "2022-05-28T12:21:11.569Z"
   },
   {
    "duration": 4,
    "start_time": "2022-05-28T12:21:13.414Z"
   },
   {
    "duration": 3,
    "start_time": "2022-05-28T12:21:50.437Z"
   },
   {
    "duration": 268753,
    "start_time": "2022-05-28T12:21:57.862Z"
   },
   {
    "duration": 55497,
    "start_time": "2022-05-28T12:26:26.626Z"
   },
   {
    "duration": 11,
    "start_time": "2022-05-28T12:27:22.196Z"
   },
   {
    "duration": 122917,
    "start_time": "2022-05-28T12:27:22.216Z"
   },
   {
    "duration": 9,
    "start_time": "2022-05-28T12:29:25.194Z"
   },
   {
    "duration": 70201,
    "start_time": "2022-05-28T12:29:25.206Z"
   },
   {
    "duration": 65128,
    "start_time": "2022-05-28T12:30:35.413Z"
   },
   {
    "duration": 4,
    "start_time": "2022-05-28T12:31:40.545Z"
   },
   {
    "duration": 142657,
    "start_time": "2022-05-28T12:31:40.551Z"
   },
   {
    "duration": 13,
    "start_time": "2022-05-28T12:34:03.231Z"
   },
   {
    "duration": 10131,
    "start_time": "2022-05-28T12:34:03.245Z"
   },
   {
    "duration": 2380,
    "start_time": "2022-05-28T12:34:13.377Z"
   },
   {
    "duration": 5,
    "start_time": "2022-05-28T12:34:15.759Z"
   },
   {
    "duration": 5380,
    "start_time": "2022-05-28T12:34:15.766Z"
   },
   {
    "duration": 1229,
    "start_time": "2022-05-28T12:34:21.148Z"
   },
   {
    "duration": 4,
    "start_time": "2022-05-28T12:34:22.379Z"
   },
   {
    "duration": 50,
    "start_time": "2022-05-28T12:34:22.395Z"
   },
   {
    "duration": 1022,
    "start_time": "2022-05-28T13:07:09.444Z"
   },
   {
    "duration": 194787,
    "start_time": "2022-05-28T13:07:37.865Z"
   },
   {
    "duration": 1468908,
    "start_time": "2022-05-28T13:10:54.513Z"
   },
   {
    "duration": 0,
    "start_time": "2022-05-28T13:35:23.441Z"
   },
   {
    "duration": 0,
    "start_time": "2022-05-28T13:35:23.443Z"
   },
   {
    "duration": 0,
    "start_time": "2022-05-28T13:35:23.444Z"
   },
   {
    "duration": 0,
    "start_time": "2022-05-28T13:35:23.445Z"
   },
   {
    "duration": 0,
    "start_time": "2022-05-28T13:35:23.446Z"
   },
   {
    "duration": 0,
    "start_time": "2022-05-28T13:35:23.447Z"
   },
   {
    "duration": 0,
    "start_time": "2022-05-28T13:35:23.449Z"
   },
   {
    "duration": 1498987,
    "start_time": "2022-05-28T13:45:25.969Z"
   },
   {
    "duration": 0,
    "start_time": "2022-05-28T14:10:24.958Z"
   },
   {
    "duration": 0,
    "start_time": "2022-05-28T14:10:24.959Z"
   },
   {
    "duration": 1582,
    "start_time": "2022-05-28T14:10:36.074Z"
   },
   {
    "duration": 56,
    "start_time": "2022-05-28T14:10:37.657Z"
   },
   {
    "duration": 3162,
    "start_time": "2022-05-28T14:10:37.715Z"
   },
   {
    "duration": 117,
    "start_time": "2022-05-28T14:10:40.880Z"
   },
   {
    "duration": 121,
    "start_time": "2022-05-28T14:10:41.000Z"
   },
   {
    "duration": 18,
    "start_time": "2022-05-28T14:10:41.125Z"
   },
   {
    "duration": 208,
    "start_time": "2022-05-28T14:10:41.146Z"
   },
   {
    "duration": 14,
    "start_time": "2022-05-28T14:10:41.356Z"
   },
   {
    "duration": 59,
    "start_time": "2022-05-28T14:10:41.371Z"
   },
   {
    "duration": 182,
    "start_time": "2022-05-28T14:10:41.432Z"
   },
   {
    "duration": 157,
    "start_time": "2022-05-28T14:10:41.616Z"
   },
   {
    "duration": 35,
    "start_time": "2022-05-28T14:10:41.775Z"
   },
   {
    "duration": 39,
    "start_time": "2022-05-28T14:10:41.812Z"
   },
   {
    "duration": 171,
    "start_time": "2022-05-28T14:10:41.853Z"
   },
   {
    "duration": 118,
    "start_time": "2022-05-28T14:10:42.025Z"
   },
   {
    "duration": 36,
    "start_time": "2022-05-28T14:10:42.145Z"
   },
   {
    "duration": 52,
    "start_time": "2022-05-28T14:10:42.194Z"
   },
   {
    "duration": 35,
    "start_time": "2022-05-28T14:10:42.248Z"
   },
   {
    "duration": 32,
    "start_time": "2022-05-28T14:10:42.285Z"
   },
   {
    "duration": 16,
    "start_time": "2022-05-28T14:10:42.319Z"
   },
   {
    "duration": 75,
    "start_time": "2022-05-28T14:10:42.337Z"
   },
   {
    "duration": 58,
    "start_time": "2022-05-28T14:10:42.414Z"
   },
   {
    "duration": 45,
    "start_time": "2022-05-28T14:10:42.474Z"
   },
   {
    "duration": 30,
    "start_time": "2022-05-28T14:10:42.521Z"
   },
   {
    "duration": 117,
    "start_time": "2022-05-28T14:10:42.553Z"
   },
   {
    "duration": 10,
    "start_time": "2022-05-28T14:10:42.672Z"
   },
   {
    "duration": 16,
    "start_time": "2022-05-28T14:10:42.696Z"
   },
   {
    "duration": 10,
    "start_time": "2022-05-28T14:10:42.716Z"
   },
   {
    "duration": 41,
    "start_time": "2022-05-28T14:10:42.728Z"
   },
   {
    "duration": 197,
    "start_time": "2022-05-28T14:10:42.771Z"
   },
   {
    "duration": 36,
    "start_time": "2022-05-28T14:10:42.970Z"
   },
   {
    "duration": 273,
    "start_time": "2022-05-28T14:10:43.008Z"
   },
   {
    "duration": 1550,
    "start_time": "2022-05-28T14:10:43.283Z"
   },
   {
    "duration": 49,
    "start_time": "2022-05-28T14:10:44.835Z"
   },
   {
    "duration": 653,
    "start_time": "2022-05-28T14:10:44.895Z"
   },
   {
    "duration": 192,
    "start_time": "2022-05-28T14:10:45.550Z"
   },
   {
    "duration": 331,
    "start_time": "2022-05-28T14:10:45.744Z"
   },
   {
    "duration": 4,
    "start_time": "2022-05-28T14:10:46.077Z"
   },
   {
    "duration": 52,
    "start_time": "2022-05-28T14:10:46.083Z"
   },
   {
    "duration": 894,
    "start_time": "2022-05-28T14:10:46.136Z"
   },
   {
    "duration": 1829,
    "start_time": "2022-05-28T14:10:47.032Z"
   },
   {
    "duration": 300,
    "start_time": "2022-05-28T14:10:48.863Z"
   },
   {
    "duration": 116,
    "start_time": "2022-05-28T14:10:49.165Z"
   },
   {
    "duration": 631,
    "start_time": "2022-05-28T14:10:49.282Z"
   },
   {
    "duration": 11,
    "start_time": "2022-05-28T14:10:49.915Z"
   },
   {
    "duration": 54,
    "start_time": "2022-05-28T14:10:49.928Z"
   },
   {
    "duration": 33,
    "start_time": "2022-05-28T14:10:49.984Z"
   },
   {
    "duration": 20,
    "start_time": "2022-05-28T14:10:50.018Z"
   },
   {
    "duration": 96,
    "start_time": "2022-05-28T14:10:50.040Z"
   },
   {
    "duration": 87,
    "start_time": "2022-05-28T14:10:50.138Z"
   },
   {
    "duration": 3,
    "start_time": "2022-05-28T14:10:50.226Z"
   },
   {
    "duration": 52979,
    "start_time": "2022-05-28T14:10:50.232Z"
   },
   {
    "duration": 46594,
    "start_time": "2022-05-28T14:11:43.213Z"
   },
   {
    "duration": 6,
    "start_time": "2022-05-28T14:12:29.812Z"
   },
   {
    "duration": 73386,
    "start_time": "2022-05-28T14:12:29.820Z"
   },
   {
    "duration": 4,
    "start_time": "2022-05-28T14:13:43.211Z"
   },
   {
    "duration": 55697,
    "start_time": "2022-05-28T14:13:43.217Z"
   },
   {
    "duration": 51698,
    "start_time": "2022-05-28T14:14:39.001Z"
   },
   {
    "duration": 10,
    "start_time": "2022-05-28T14:15:30.701Z"
   },
   {
    "duration": 89597,
    "start_time": "2022-05-28T14:15:30.719Z"
   },
   {
    "duration": 73,
    "start_time": "2022-05-28T14:17:00.323Z"
   },
   {
    "duration": 9732,
    "start_time": "2022-05-28T14:17:00.400Z"
   },
   {
    "duration": 2304,
    "start_time": "2022-05-28T14:17:10.134Z"
   },
   {
    "duration": 4,
    "start_time": "2022-05-28T14:17:12.440Z"
   },
   {
    "duration": 4397,
    "start_time": "2022-05-28T14:17:12.447Z"
   },
   {
    "duration": 1358,
    "start_time": "2022-05-28T14:17:16.846Z"
   },
   {
    "duration": 8,
    "start_time": "2022-05-28T14:17:18.211Z"
   },
   {
    "duration": 36,
    "start_time": "2022-05-28T14:17:18.223Z"
   },
   {
    "duration": 1809547,
    "start_time": "2022-05-28T14:17:18.262Z"
   },
   {
    "duration": 8415075,
    "start_time": "2022-05-28T14:47:27.810Z"
   },
   {
    "duration": 413189,
    "start_time": "2022-05-28T17:07:42.887Z"
   },
   {
    "duration": 4,
    "start_time": "2022-05-28T17:14:36.079Z"
   },
   {
    "duration": 86,
    "start_time": "2022-05-28T17:14:36.084Z"
   },
   {
    "duration": 3,
    "start_time": "2022-05-28T17:14:36.172Z"
   },
   {
    "duration": 218201,
    "start_time": "2022-05-28T17:14:36.177Z"
   },
   {
    "duration": 3,
    "start_time": "2022-05-28T17:18:14.380Z"
   },
   {
    "duration": 119742,
    "start_time": "2022-05-28T17:18:14.384Z"
   },
   {
    "duration": 4,
    "start_time": "2022-05-28T17:20:14.128Z"
   },
   {
    "duration": 185,
    "start_time": "2022-05-28T17:20:14.133Z"
   },
   {
    "duration": 0,
    "start_time": "2022-05-28T17:20:14.321Z"
   },
   {
    "duration": 0,
    "start_time": "2022-05-28T17:20:14.322Z"
   },
   {
    "duration": 0,
    "start_time": "2022-05-28T17:20:14.323Z"
   },
   {
    "duration": 0,
    "start_time": "2022-05-28T17:20:14.324Z"
   },
   {
    "duration": 0,
    "start_time": "2022-05-28T17:20:14.325Z"
   },
   {
    "duration": 0,
    "start_time": "2022-05-28T17:20:14.326Z"
   },
   {
    "duration": 0,
    "start_time": "2022-05-28T17:20:14.327Z"
   },
   {
    "duration": 0,
    "start_time": "2022-05-28T17:20:14.328Z"
   },
   {
    "duration": 0,
    "start_time": "2022-05-28T17:20:14.330Z"
   },
   {
    "duration": 0,
    "start_time": "2022-05-28T17:20:14.331Z"
   },
   {
    "duration": 0,
    "start_time": "2022-05-28T17:20:14.332Z"
   },
   {
    "duration": 0,
    "start_time": "2022-05-28T17:20:14.333Z"
   },
   {
    "duration": 14,
    "start_time": "2022-05-28T18:56:48.038Z"
   },
   {
    "duration": 283,
    "start_time": "2022-05-28T18:56:51.888Z"
   },
   {
    "duration": 352,
    "start_time": "2022-05-28T18:57:17.185Z"
   },
   {
    "duration": 272,
    "start_time": "2022-05-28T18:57:52.280Z"
   },
   {
    "duration": 1331,
    "start_time": "2022-05-28T22:52:23.127Z"
   },
   {
    "duration": 41,
    "start_time": "2022-05-28T22:52:24.460Z"
   },
   {
    "duration": 2963,
    "start_time": "2022-05-28T22:52:24.503Z"
   },
   {
    "duration": 93,
    "start_time": "2022-05-28T22:52:27.469Z"
   },
   {
    "duration": 120,
    "start_time": "2022-05-28T22:52:27.564Z"
   },
   {
    "duration": 19,
    "start_time": "2022-05-28T22:52:27.685Z"
   },
   {
    "duration": 203,
    "start_time": "2022-05-28T22:52:27.706Z"
   },
   {
    "duration": 15,
    "start_time": "2022-05-28T22:52:27.910Z"
   },
   {
    "duration": 40,
    "start_time": "2022-05-28T22:52:27.926Z"
   },
   {
    "duration": 186,
    "start_time": "2022-05-28T22:52:27.969Z"
   },
   {
    "duration": 172,
    "start_time": "2022-05-28T22:52:28.156Z"
   },
   {
    "duration": 19,
    "start_time": "2022-05-28T22:52:28.329Z"
   },
   {
    "duration": 72,
    "start_time": "2022-05-28T22:52:28.349Z"
   },
   {
    "duration": 172,
    "start_time": "2022-05-28T22:52:28.423Z"
   },
   {
    "duration": 104,
    "start_time": "2022-05-28T22:52:28.598Z"
   },
   {
    "duration": 33,
    "start_time": "2022-05-28T22:52:28.703Z"
   },
   {
    "duration": 35,
    "start_time": "2022-05-28T22:52:28.738Z"
   },
   {
    "duration": 47,
    "start_time": "2022-05-28T22:52:28.775Z"
   },
   {
    "duration": 19,
    "start_time": "2022-05-28T22:52:28.824Z"
   },
   {
    "duration": 23,
    "start_time": "2022-05-28T22:52:28.845Z"
   },
   {
    "duration": 90,
    "start_time": "2022-05-28T22:52:28.870Z"
   },
   {
    "duration": 89,
    "start_time": "2022-05-28T22:52:28.962Z"
   },
   {
    "duration": 30,
    "start_time": "2022-05-28T22:52:29.053Z"
   },
   {
    "duration": 21,
    "start_time": "2022-05-28T22:52:29.095Z"
   },
   {
    "duration": 103,
    "start_time": "2022-05-28T22:52:29.118Z"
   },
   {
    "duration": 11,
    "start_time": "2022-05-28T22:52:29.229Z"
   },
   {
    "duration": 13,
    "start_time": "2022-05-28T22:52:29.242Z"
   },
   {
    "duration": 11,
    "start_time": "2022-05-28T22:52:29.260Z"
   },
   {
    "duration": 50,
    "start_time": "2022-05-28T22:52:29.294Z"
   },
   {
    "duration": 173,
    "start_time": "2022-05-28T22:52:29.346Z"
   },
   {
    "duration": 23,
    "start_time": "2022-05-28T22:52:29.520Z"
   },
   {
    "duration": 267,
    "start_time": "2022-05-28T22:52:29.544Z"
   },
   {
    "duration": 1403,
    "start_time": "2022-05-28T22:52:29.813Z"
   },
   {
    "duration": 54,
    "start_time": "2022-05-28T22:52:31.218Z"
   },
   {
    "duration": 708,
    "start_time": "2022-05-28T22:52:31.274Z"
   },
   {
    "duration": 185,
    "start_time": "2022-05-28T22:52:31.984Z"
   },
   {
    "duration": 297,
    "start_time": "2022-05-28T22:52:32.171Z"
   },
   {
    "duration": 4,
    "start_time": "2022-05-28T22:52:32.470Z"
   },
   {
    "duration": 45,
    "start_time": "2022-05-28T22:52:32.475Z"
   },
   {
    "duration": 861,
    "start_time": "2022-05-28T22:52:32.521Z"
   },
   {
    "duration": 1042,
    "start_time": "2022-05-28T22:52:33.384Z"
   },
   {
    "duration": 283,
    "start_time": "2022-05-28T22:52:34.427Z"
   },
   {
    "duration": 121,
    "start_time": "2022-05-28T22:52:34.712Z"
   },
   {
    "duration": 596,
    "start_time": "2022-05-28T22:52:34.835Z"
   },
   {
    "duration": 10,
    "start_time": "2022-05-28T22:52:35.433Z"
   },
   {
    "duration": 69,
    "start_time": "2022-05-28T22:52:35.445Z"
   },
   {
    "duration": 21,
    "start_time": "2022-05-28T22:52:35.515Z"
   },
   {
    "duration": 25,
    "start_time": "2022-05-28T22:52:35.538Z"
   },
   {
    "duration": 96,
    "start_time": "2022-05-28T22:52:35.566Z"
   },
   {
    "duration": 75,
    "start_time": "2022-05-28T22:52:35.664Z"
   },
   {
    "duration": 3,
    "start_time": "2022-05-28T22:52:35.741Z"
   },
   {
    "duration": 23456,
    "start_time": "2022-05-28T22:52:35.746Z"
   },
   {
    "duration": 23005,
    "start_time": "2022-05-28T22:52:59.204Z"
   },
   {
    "duration": 4,
    "start_time": "2022-05-28T22:53:22.295Z"
   },
   {
    "duration": 37195,
    "start_time": "2022-05-28T22:53:22.300Z"
   },
   {
    "duration": 4,
    "start_time": "2022-05-28T22:53:59.497Z"
   },
   {
    "duration": 25394,
    "start_time": "2022-05-28T22:53:59.502Z"
   },
   {
    "duration": 24898,
    "start_time": "2022-05-28T22:54:24.899Z"
   },
   {
    "duration": 5,
    "start_time": "2022-05-28T22:54:49.799Z"
   },
   {
    "duration": 38390,
    "start_time": "2022-05-28T22:54:49.806Z"
   },
   {
    "duration": 7,
    "start_time": "2022-05-28T22:55:28.200Z"
   },
   {
    "duration": 8223,
    "start_time": "2022-05-28T22:55:28.216Z"
   },
   {
    "duration": 2051,
    "start_time": "2022-05-28T22:55:36.441Z"
   },
   {
    "duration": 3,
    "start_time": "2022-05-28T22:55:38.495Z"
   },
   {
    "duration": 4036,
    "start_time": "2022-05-28T22:55:38.500Z"
   },
   {
    "duration": 989,
    "start_time": "2022-05-28T22:55:42.538Z"
   },
   {
    "duration": 3,
    "start_time": "2022-05-28T22:55:43.529Z"
   },
   {
    "duration": 10,
    "start_time": "2022-05-28T22:55:43.534Z"
   },
   {
    "duration": 1676953,
    "start_time": "2022-05-28T22:55:43.546Z"
   },
   {
    "duration": 7517750,
    "start_time": "2022-05-28T23:23:40.501Z"
   },
   {
    "duration": 375785,
    "start_time": "2022-05-29T01:28:58.253Z"
   },
   {
    "duration": 4,
    "start_time": "2022-05-29T01:35:14.040Z"
   },
   {
    "duration": 78,
    "start_time": "2022-05-29T01:35:14.046Z"
   },
   {
    "duration": 2,
    "start_time": "2022-05-29T01:35:14.126Z"
   },
   {
    "duration": 187863,
    "start_time": "2022-05-29T01:35:14.130Z"
   },
   {
    "duration": 3,
    "start_time": "2022-05-29T01:38:21.995Z"
   },
   {
    "duration": 120,
    "start_time": "2022-05-29T01:38:22.000Z"
   },
   {
    "duration": 0,
    "start_time": "2022-05-29T01:38:22.122Z"
   },
   {
    "duration": 0,
    "start_time": "2022-05-29T01:38:22.123Z"
   },
   {
    "duration": 0,
    "start_time": "2022-05-29T01:38:22.124Z"
   },
   {
    "duration": 0,
    "start_time": "2022-05-29T01:38:22.125Z"
   },
   {
    "duration": 0,
    "start_time": "2022-05-29T01:38:22.125Z"
   },
   {
    "duration": 0,
    "start_time": "2022-05-29T01:38:22.126Z"
   },
   {
    "duration": 0,
    "start_time": "2022-05-29T01:38:22.127Z"
   },
   {
    "duration": 0,
    "start_time": "2022-05-29T01:38:22.129Z"
   },
   {
    "duration": 0,
    "start_time": "2022-05-29T01:38:22.130Z"
   },
   {
    "duration": 0,
    "start_time": "2022-05-29T01:38:22.130Z"
   },
   {
    "duration": 0,
    "start_time": "2022-05-29T01:38:22.132Z"
   },
   {
    "duration": 0,
    "start_time": "2022-05-29T01:38:22.133Z"
   },
   {
    "duration": 0,
    "start_time": "2022-05-29T01:38:22.134Z"
   },
   {
    "duration": 10,
    "start_time": "2022-05-29T07:18:04.322Z"
   },
   {
    "duration": 11,
    "start_time": "2022-05-29T07:18:21.285Z"
   },
   {
    "duration": 1929,
    "start_time": "2022-05-29T07:18:33.467Z"
   },
   {
    "duration": 2703,
    "start_time": "2022-05-29T07:18:54.707Z"
   },
   {
    "duration": 5,
    "start_time": "2022-05-29T07:20:24.602Z"
   },
   {
    "duration": 17,
    "start_time": "2022-05-29T07:20:37.824Z"
   },
   {
    "duration": 5,
    "start_time": "2022-05-29T07:20:52.620Z"
   },
   {
    "duration": 3,
    "start_time": "2022-05-29T07:21:06.436Z"
   },
   {
    "duration": 2697,
    "start_time": "2022-05-29T07:21:10.908Z"
   },
   {
    "duration": 5,
    "start_time": "2022-05-29T07:21:16.494Z"
   },
   {
    "duration": 15,
    "start_time": "2022-05-29T07:21:21.776Z"
   },
   {
    "duration": 3,
    "start_time": "2022-05-29T07:21:47.803Z"
   },
   {
    "duration": 3,
    "start_time": "2022-05-29T07:21:58.516Z"
   },
   {
    "duration": 4,
    "start_time": "2022-05-29T07:22:09.592Z"
   },
   {
    "duration": 18,
    "start_time": "2022-05-29T07:22:18.735Z"
   },
   {
    "duration": 1354,
    "start_time": "2022-05-29T07:24:13.808Z"
   },
   {
    "duration": 37,
    "start_time": "2022-05-29T07:24:15.165Z"
   },
   {
    "duration": 936,
    "start_time": "2022-05-29T07:24:15.204Z"
   },
   {
    "duration": 94,
    "start_time": "2022-05-29T07:24:16.141Z"
   },
   {
    "duration": 102,
    "start_time": "2022-05-29T07:24:16.237Z"
   },
   {
    "duration": 17,
    "start_time": "2022-05-29T07:24:16.340Z"
   },
   {
    "duration": 183,
    "start_time": "2022-05-29T07:24:16.359Z"
   },
   {
    "duration": 15,
    "start_time": "2022-05-29T07:24:16.544Z"
   },
   {
    "duration": 59,
    "start_time": "2022-05-29T07:24:16.561Z"
   },
   {
    "duration": 161,
    "start_time": "2022-05-29T07:24:16.622Z"
   },
   {
    "duration": 154,
    "start_time": "2022-05-29T07:24:16.785Z"
   },
   {
    "duration": 18,
    "start_time": "2022-05-29T07:24:16.941Z"
   },
   {
    "duration": 50,
    "start_time": "2022-05-29T07:24:16.961Z"
   },
   {
    "duration": 146,
    "start_time": "2022-05-29T07:24:17.014Z"
   },
   {
    "duration": 102,
    "start_time": "2022-05-29T07:24:17.162Z"
   },
   {
    "duration": 32,
    "start_time": "2022-05-29T07:24:17.265Z"
   },
   {
    "duration": 32,
    "start_time": "2022-05-29T07:24:17.299Z"
   },
   {
    "duration": 30,
    "start_time": "2022-05-29T07:24:17.333Z"
   },
   {
    "duration": 34,
    "start_time": "2022-05-29T07:24:17.365Z"
   },
   {
    "duration": 12,
    "start_time": "2022-05-29T07:24:17.401Z"
   },
   {
    "duration": 43,
    "start_time": "2022-05-29T07:24:17.414Z"
   },
   {
    "duration": 66,
    "start_time": "2022-05-29T07:24:17.459Z"
   },
   {
    "duration": 30,
    "start_time": "2022-05-29T07:24:17.527Z"
   },
   {
    "duration": 21,
    "start_time": "2022-05-29T07:24:17.558Z"
   },
   {
    "duration": 92,
    "start_time": "2022-05-29T07:24:17.580Z"
   },
   {
    "duration": 8,
    "start_time": "2022-05-29T07:24:17.674Z"
   },
   {
    "duration": 9,
    "start_time": "2022-05-29T07:24:17.694Z"
   },
   {
    "duration": 8,
    "start_time": "2022-05-29T07:24:17.704Z"
   },
   {
    "duration": 47,
    "start_time": "2022-05-29T07:24:17.713Z"
   },
   {
    "duration": 177,
    "start_time": "2022-05-29T07:24:17.762Z"
   },
   {
    "duration": 24,
    "start_time": "2022-05-29T07:24:17.940Z"
   },
   {
    "duration": 257,
    "start_time": "2022-05-29T07:24:17.965Z"
   },
   {
    "duration": 1293,
    "start_time": "2022-05-29T07:24:18.224Z"
   },
   {
    "duration": 45,
    "start_time": "2022-05-29T07:24:19.519Z"
   },
   {
    "duration": 544,
    "start_time": "2022-05-29T07:24:19.565Z"
   },
   {
    "duration": 181,
    "start_time": "2022-05-29T07:24:20.110Z"
   },
   {
    "duration": 269,
    "start_time": "2022-05-29T07:24:20.292Z"
   },
   {
    "duration": 4,
    "start_time": "2022-05-29T07:24:20.562Z"
   },
   {
    "duration": 41,
    "start_time": "2022-05-29T07:24:20.568Z"
   },
   {
    "duration": 840,
    "start_time": "2022-05-29T07:24:20.610Z"
   },
   {
    "duration": 1019,
    "start_time": "2022-05-29T07:24:21.454Z"
   },
   {
    "duration": 275,
    "start_time": "2022-05-29T07:24:22.474Z"
   },
   {
    "duration": 114,
    "start_time": "2022-05-29T07:24:22.751Z"
   },
   {
    "duration": 555,
    "start_time": "2022-05-29T07:24:22.866Z"
   },
   {
    "duration": 9,
    "start_time": "2022-05-29T07:24:23.422Z"
   },
   {
    "duration": 47,
    "start_time": "2022-05-29T07:24:23.432Z"
   },
   {
    "duration": 28,
    "start_time": "2022-05-29T07:24:23.480Z"
   },
   {
    "duration": 20,
    "start_time": "2022-05-29T07:24:23.509Z"
   },
   {
    "duration": 87,
    "start_time": "2022-05-29T07:24:23.530Z"
   },
   {
    "duration": 62,
    "start_time": "2022-05-29T07:24:23.618Z"
   },
   {
    "duration": 13,
    "start_time": "2022-05-29T07:24:23.682Z"
   },
   {
    "duration": 16800,
    "start_time": "2022-05-29T07:24:23.696Z"
   },
   {
    "duration": 16802,
    "start_time": "2022-05-29T07:24:40.497Z"
   },
   {
    "duration": 3,
    "start_time": "2022-05-29T07:24:57.301Z"
   },
   {
    "duration": 35402,
    "start_time": "2022-05-29T07:24:57.395Z"
   },
   {
    "duration": 3,
    "start_time": "2022-05-29T07:25:32.800Z"
   },
   {
    "duration": 70309,
    "start_time": "2022-05-29T07:25:32.895Z"
   },
   {
    "duration": 17600,
    "start_time": "2022-05-29T07:26:43.296Z"
   },
   {
    "duration": 4,
    "start_time": "2022-05-29T07:27:00.898Z"
   },
   {
    "duration": 34290,
    "start_time": "2022-05-29T07:27:00.904Z"
   },
   {
    "duration": 4,
    "start_time": "2022-05-29T07:27:35.196Z"
   },
   {
    "duration": 7542,
    "start_time": "2022-05-29T07:27:35.201Z"
   },
   {
    "duration": 1777,
    "start_time": "2022-05-29T07:27:42.745Z"
   },
   {
    "duration": 2,
    "start_time": "2022-05-29T07:27:44.524Z"
   },
   {
    "duration": 3659,
    "start_time": "2022-05-29T07:27:44.528Z"
   },
   {
    "duration": 872,
    "start_time": "2022-05-29T07:27:48.189Z"
   },
   {
    "duration": 3,
    "start_time": "2022-05-29T07:27:49.063Z"
   },
   {
    "duration": 6,
    "start_time": "2022-05-29T07:27:49.067Z"
   },
   {
    "duration": 1017293,
    "start_time": "2022-05-29T07:27:49.074Z"
   },
   {
    "duration": 0,
    "start_time": "2022-05-29T07:44:46.369Z"
   },
   {
    "duration": 1,
    "start_time": "2022-05-29T07:44:46.369Z"
   },
   {
    "duration": 0,
    "start_time": "2022-05-29T07:44:46.371Z"
   },
   {
    "duration": 0,
    "start_time": "2022-05-29T07:44:46.372Z"
   },
   {
    "duration": 0,
    "start_time": "2022-05-29T07:44:46.373Z"
   },
   {
    "duration": 0,
    "start_time": "2022-05-29T07:44:46.374Z"
   },
   {
    "duration": 0,
    "start_time": "2022-05-29T07:44:46.375Z"
   },
   {
    "duration": 0,
    "start_time": "2022-05-29T07:44:46.376Z"
   },
   {
    "duration": 0,
    "start_time": "2022-05-29T07:44:46.376Z"
   },
   {
    "duration": 0,
    "start_time": "2022-05-29T07:44:46.378Z"
   },
   {
    "duration": 0,
    "start_time": "2022-05-29T07:44:46.378Z"
   },
   {
    "duration": 0,
    "start_time": "2022-05-29T07:44:46.395Z"
   },
   {
    "duration": 0,
    "start_time": "2022-05-29T07:44:46.396Z"
   },
   {
    "duration": 0,
    "start_time": "2022-05-29T07:44:46.397Z"
   },
   {
    "duration": 0,
    "start_time": "2022-05-29T07:44:46.398Z"
   },
   {
    "duration": 0,
    "start_time": "2022-05-29T07:44:46.399Z"
   },
   {
    "duration": 0,
    "start_time": "2022-05-29T07:44:46.400Z"
   },
   {
    "duration": 0,
    "start_time": "2022-05-29T07:44:46.401Z"
   },
   {
    "duration": 0,
    "start_time": "2022-05-29T07:44:46.402Z"
   },
   {
    "duration": 0,
    "start_time": "2022-05-29T07:44:46.403Z"
   },
   {
    "duration": 0,
    "start_time": "2022-05-29T07:44:46.404Z"
   },
   {
    "duration": 0,
    "start_time": "2022-05-29T07:44:46.409Z"
   },
   {
    "duration": 534,
    "start_time": "2022-05-29T07:45:24.037Z"
   },
   {
    "duration": 562,
    "start_time": "2022-05-29T07:45:36.351Z"
   },
   {
    "duration": 445,
    "start_time": "2022-05-29T07:45:44.250Z"
   },
   {
    "duration": 512,
    "start_time": "2022-05-29T07:46:01.176Z"
   },
   {
    "duration": 39,
    "start_time": "2022-05-29T07:46:09.224Z"
   },
   {
    "duration": 929,
    "start_time": "2022-05-29T07:46:09.792Z"
   },
   {
    "duration": 79,
    "start_time": "2022-05-29T07:46:14.581Z"
   },
   {
    "duration": 6,
    "start_time": "2022-05-29T07:46:18.111Z"
   },
   {
    "duration": 678,
    "start_time": "2022-05-29T07:46:29.951Z"
   },
   {
    "duration": 11,
    "start_time": "2022-05-29T07:46:42.947Z"
   },
   {
    "duration": 10,
    "start_time": "2022-05-29T07:46:50.269Z"
   },
   {
    "duration": 650,
    "start_time": "2022-05-29T07:47:03.721Z"
   },
   {
    "duration": 533,
    "start_time": "2022-05-29T07:48:12.102Z"
   },
   {
    "duration": 645,
    "start_time": "2022-05-29T07:48:29.397Z"
   },
   {
    "duration": 16,
    "start_time": "2022-05-29T07:49:38.337Z"
   },
   {
    "duration": 32,
    "start_time": "2022-05-29T07:50:33.337Z"
   },
   {
    "duration": 153,
    "start_time": "2022-05-29T07:50:47.129Z"
   },
   {
    "duration": 26,
    "start_time": "2022-05-29T07:52:13.568Z"
   },
   {
    "duration": 773,
    "start_time": "2022-05-29T07:53:07.641Z"
   },
   {
    "duration": 730,
    "start_time": "2022-05-29T07:53:42.568Z"
   },
   {
    "duration": 909,
    "start_time": "2022-05-29T07:55:39.491Z"
   },
   {
    "duration": 63,
    "start_time": "2022-05-29T07:55:54.919Z"
   },
   {
    "duration": 750,
    "start_time": "2022-05-29T07:56:06.458Z"
   },
   {
    "duration": 208,
    "start_time": "2022-05-29T07:56:14.288Z"
   },
   {
    "duration": 782,
    "start_time": "2022-05-29T07:56:29.093Z"
   },
   {
    "duration": 205,
    "start_time": "2022-05-29T07:57:08.060Z"
   },
   {
    "duration": 319,
    "start_time": "2022-05-29T07:57:13.139Z"
   },
   {
    "duration": 4,
    "start_time": "2022-05-29T07:57:17.658Z"
   },
   {
    "duration": 70,
    "start_time": "2022-05-29T07:57:25.092Z"
   },
   {
    "duration": 5,
    "start_time": "2022-05-29T07:57:45.368Z"
   },
   {
    "duration": 50,
    "start_time": "2022-05-29T07:57:47.015Z"
   },
   {
    "duration": 4,
    "start_time": "2022-05-29T07:58:58.387Z"
   },
   {
    "duration": 40,
    "start_time": "2022-05-29T07:58:59.392Z"
   },
   {
    "duration": 855,
    "start_time": "2022-05-29T07:58:59.576Z"
   },
   {
    "duration": 90,
    "start_time": "2022-05-29T07:59:00.433Z"
   },
   {
    "duration": 672,
    "start_time": "2022-05-29T07:59:00.524Z"
   },
   {
    "duration": 97,
    "start_time": "2022-05-29T07:59:01.198Z"
   },
   {
    "duration": 17,
    "start_time": "2022-05-29T07:59:01.475Z"
   },
   {
    "duration": 154,
    "start_time": "2022-05-29T07:59:01.666Z"
   },
   {
    "duration": 16,
    "start_time": "2022-05-29T07:59:01.869Z"
   },
   {
    "duration": 33,
    "start_time": "2022-05-29T07:59:02.581Z"
   },
   {
    "duration": 147,
    "start_time": "2022-05-29T07:59:02.616Z"
   },
   {
    "duration": 139,
    "start_time": "2022-05-29T07:59:02.920Z"
   },
   {
    "duration": 17,
    "start_time": "2022-05-29T07:59:03.140Z"
   },
   {
    "duration": 33,
    "start_time": "2022-05-29T07:59:03.556Z"
   },
   {
    "duration": 130,
    "start_time": "2022-05-29T07:59:03.762Z"
   },
   {
    "duration": 82,
    "start_time": "2022-05-29T07:59:05.070Z"
   },
   {
    "duration": 29,
    "start_time": "2022-05-29T07:59:05.546Z"
   },
   {
    "duration": 31,
    "start_time": "2022-05-29T07:59:06.016Z"
   },
   {
    "duration": 31,
    "start_time": "2022-05-29T07:59:06.228Z"
   },
   {
    "duration": 15,
    "start_time": "2022-05-29T07:59:06.449Z"
   },
   {
    "duration": 13,
    "start_time": "2022-05-29T07:59:06.876Z"
   },
   {
    "duration": 44,
    "start_time": "2022-05-29T07:59:07.165Z"
   },
   {
    "duration": 47,
    "start_time": "2022-05-29T07:59:07.432Z"
   },
   {
    "duration": 29,
    "start_time": "2022-05-29T07:59:07.676Z"
   },
   {
    "duration": 19,
    "start_time": "2022-05-29T07:59:07.931Z"
   },
   {
    "duration": 80,
    "start_time": "2022-05-29T07:59:08.231Z"
   },
   {
    "duration": 10,
    "start_time": "2022-05-29T07:59:08.964Z"
   },
   {
    "duration": 9,
    "start_time": "2022-05-29T07:59:09.291Z"
   },
   {
    "duration": 8,
    "start_time": "2022-05-29T07:59:09.550Z"
   },
   {
    "duration": 41,
    "start_time": "2022-05-29T07:59:09.865Z"
   },
   {
    "duration": 135,
    "start_time": "2022-05-29T07:59:10.982Z"
   },
   {
    "duration": 23,
    "start_time": "2022-05-29T07:59:11.825Z"
   },
   {
    "duration": 238,
    "start_time": "2022-05-29T07:59:12.858Z"
   },
   {
    "duration": 1330,
    "start_time": "2022-05-29T07:59:16.378Z"
   },
   {
    "duration": 46,
    "start_time": "2022-05-29T07:59:17.709Z"
   },
   {
    "duration": 668,
    "start_time": "2022-05-29T07:59:19.174Z"
   },
   {
    "duration": 175,
    "start_time": "2022-05-29T07:59:22.720Z"
   },
   {
    "duration": 251,
    "start_time": "2022-05-29T07:59:24.375Z"
   },
   {
    "duration": 5,
    "start_time": "2022-05-29T07:59:25.355Z"
   },
   {
    "duration": 28,
    "start_time": "2022-05-29T07:59:27.839Z"
   },
   {
    "duration": 781,
    "start_time": "2022-05-29T07:59:41.112Z"
   },
   {
    "duration": 1010,
    "start_time": "2022-05-29T07:59:52.259Z"
   },
   {
    "duration": 826,
    "start_time": "2022-05-29T08:00:10.481Z"
   },
   {
    "duration": 783,
    "start_time": "2022-05-29T08:00:26.119Z"
   },
   {
    "duration": 1333,
    "start_time": "2022-05-29T08:02:50.690Z"
   },
   {
    "duration": 38,
    "start_time": "2022-05-29T08:02:52.024Z"
   },
   {
    "duration": 2794,
    "start_time": "2022-05-29T08:02:52.064Z"
   },
   {
    "duration": 90,
    "start_time": "2022-05-29T08:02:54.861Z"
   },
   {
    "duration": 469,
    "start_time": "2022-05-29T08:02:54.953Z"
   },
   {
    "duration": 115,
    "start_time": "2022-05-29T08:02:55.424Z"
   },
   {
    "duration": 16,
    "start_time": "2022-05-29T08:02:55.542Z"
   },
   {
    "duration": 166,
    "start_time": "2022-05-29T08:02:57.629Z"
   },
   {
    "duration": 18,
    "start_time": "2022-05-29T08:02:59.059Z"
   },
   {
    "duration": 122,
    "start_time": "2022-05-29T08:03:00.699Z"
   },
   {
    "duration": 149,
    "start_time": "2022-05-29T08:03:02.425Z"
   },
   {
    "duration": 142,
    "start_time": "2022-05-29T08:03:04.141Z"
   },
   {
    "duration": 18,
    "start_time": "2022-05-29T08:03:05.879Z"
   },
   {
    "duration": 38,
    "start_time": "2022-05-29T08:03:06.999Z"
   },
   {
    "duration": 138,
    "start_time": "2022-05-29T08:03:07.469Z"
   },
   {
    "duration": 80,
    "start_time": "2022-05-29T08:03:10.643Z"
   },
   {
    "duration": 29,
    "start_time": "2022-05-29T08:03:11.875Z"
   },
   {
    "duration": 31,
    "start_time": "2022-05-29T08:03:12.668Z"
   },
   {
    "duration": 30,
    "start_time": "2022-05-29T08:03:13.117Z"
   },
   {
    "duration": 16,
    "start_time": "2022-05-29T08:03:13.593Z"
   },
   {
    "duration": 12,
    "start_time": "2022-05-29T08:03:14.277Z"
   },
   {
    "duration": 45,
    "start_time": "2022-05-29T08:03:14.645Z"
   },
   {
    "duration": 50,
    "start_time": "2022-05-29T08:03:15.033Z"
   },
   {
    "duration": 32,
    "start_time": "2022-05-29T08:03:15.481Z"
   },
   {
    "duration": 20,
    "start_time": "2022-05-29T08:03:15.890Z"
   },
   {
    "duration": 88,
    "start_time": "2022-05-29T08:03:16.562Z"
   },
   {
    "duration": 11,
    "start_time": "2022-05-29T08:03:17.745Z"
   },
   {
    "duration": 10,
    "start_time": "2022-05-29T08:03:18.370Z"
   },
   {
    "duration": 10,
    "start_time": "2022-05-29T08:03:19.119Z"
   },
   {
    "duration": 43,
    "start_time": "2022-05-29T08:03:20.226Z"
   },
   {
    "duration": 147,
    "start_time": "2022-05-29T08:03:22.356Z"
   },
   {
    "duration": 25,
    "start_time": "2022-05-29T08:03:23.629Z"
   },
   {
    "duration": 235,
    "start_time": "2022-05-29T08:03:25.118Z"
   },
   {
    "duration": 1284,
    "start_time": "2022-05-29T08:03:29.044Z"
   },
   {
    "duration": 48,
    "start_time": "2022-05-29T08:03:30.330Z"
   },
   {
    "duration": 665,
    "start_time": "2022-05-29T08:03:32.923Z"
   },
   {
    "duration": 174,
    "start_time": "2022-05-29T08:03:40.867Z"
   },
   {
    "duration": 262,
    "start_time": "2022-05-29T08:03:41.559Z"
   },
   {
    "duration": 4,
    "start_time": "2022-05-29T08:03:44.204Z"
   },
   {
    "duration": 31,
    "start_time": "2022-05-29T08:03:45.564Z"
   },
   {
    "duration": 157,
    "start_time": "2022-05-29T08:03:47.517Z"
   },
   {
    "duration": 134,
    "start_time": "2022-05-29T08:03:53.242Z"
   },
   {
    "duration": 954,
    "start_time": "2022-05-29T08:04:16.319Z"
   },
   {
    "duration": 249,
    "start_time": "2022-05-29T08:04:31.165Z"
   },
   {
    "duration": 286,
    "start_time": "2022-05-29T08:04:40.421Z"
   },
   {
    "duration": 271,
    "start_time": "2022-05-29T08:05:00.145Z"
   },
   {
    "duration": 109,
    "start_time": "2022-05-29T08:05:01.473Z"
   },
   {
    "duration": 539,
    "start_time": "2022-05-29T08:05:03.161Z"
   },
   {
    "duration": 9,
    "start_time": "2022-05-29T08:05:03.702Z"
   },
   {
    "duration": 47,
    "start_time": "2022-05-29T08:05:04.421Z"
   },
   {
    "duration": 18,
    "start_time": "2022-05-29T08:05:05.228Z"
   },
   {
    "duration": 20,
    "start_time": "2022-05-29T08:05:06.419Z"
   },
   {
    "duration": 69,
    "start_time": "2022-05-29T08:05:07.125Z"
   },
   {
    "duration": 62,
    "start_time": "2022-05-29T08:05:08.049Z"
   },
   {
    "duration": 3,
    "start_time": "2022-05-29T08:05:12.217Z"
   },
   {
    "duration": 113,
    "start_time": "2022-05-29T08:05:13.865Z"
   },
   {
    "duration": 166,
    "start_time": "2022-05-29T08:05:14.187Z"
   },
   {
    "duration": 4,
    "start_time": "2022-05-29T08:07:04.765Z"
   },
   {
    "duration": 86,
    "start_time": "2022-05-29T08:08:06.834Z"
   },
   {
    "duration": 342,
    "start_time": "2022-05-29T08:09:15.765Z"
   },
   {
    "duration": 286,
    "start_time": "2022-05-29T08:09:25.917Z"
   },
   {
    "duration": 3,
    "start_time": "2022-05-29T08:09:41.188Z"
   },
   {
    "duration": 3,
    "start_time": "2022-05-29T08:10:07.626Z"
   },
   {
    "duration": 265,
    "start_time": "2022-05-29T08:10:08.519Z"
   },
   {
    "duration": 105,
    "start_time": "2022-05-29T08:10:09.021Z"
   },
   {
    "duration": 544,
    "start_time": "2022-05-29T08:10:12.218Z"
   },
   {
    "duration": 10,
    "start_time": "2022-05-29T08:10:12.830Z"
   },
   {
    "duration": 35,
    "start_time": "2022-05-29T08:10:14.062Z"
   },
   {
    "duration": 17,
    "start_time": "2022-05-29T08:10:20.062Z"
   },
   {
    "duration": 16,
    "start_time": "2022-05-29T08:10:24.691Z"
   },
   {
    "duration": 58,
    "start_time": "2022-05-29T08:10:25.892Z"
   },
   {
    "duration": 62,
    "start_time": "2022-05-29T08:10:26.721Z"
   },
   {
    "duration": 3,
    "start_time": "2022-05-29T08:10:31.890Z"
   },
   {
    "duration": 17163,
    "start_time": "2022-05-29T08:10:36.034Z"
   },
   {
    "duration": 17529,
    "start_time": "2022-05-29T08:12:42.374Z"
   },
   {
    "duration": 3,
    "start_time": "2022-05-29T08:13:03.953Z"
   },
   {
    "duration": 35583,
    "start_time": "2022-05-29T08:13:08.217Z"
   },
   {
    "duration": 4,
    "start_time": "2022-05-29T08:13:43.802Z"
   },
   {
    "duration": 68205,
    "start_time": "2022-05-29T08:13:43.896Z"
   },
   {
    "duration": 17506,
    "start_time": "2022-05-29T08:14:52.197Z"
   },
   {
    "duration": 4,
    "start_time": "2022-05-29T08:15:09.794Z"
   },
   {
    "duration": 35195,
    "start_time": "2022-05-29T08:15:09.800Z"
   },
   {
    "duration": 3,
    "start_time": "2022-05-29T08:15:44.997Z"
   },
   {
    "duration": 7541,
    "start_time": "2022-05-29T08:15:45.002Z"
   },
   {
    "duration": 1852,
    "start_time": "2022-05-29T08:15:52.545Z"
   },
   {
    "duration": 3,
    "start_time": "2022-05-29T08:15:54.400Z"
   },
   {
    "duration": 3713,
    "start_time": "2022-05-29T08:15:54.404Z"
   },
   {
    "duration": 909,
    "start_time": "2022-05-29T08:15:58.119Z"
   },
   {
    "duration": 3,
    "start_time": "2022-05-29T08:15:59.029Z"
   },
   {
    "duration": 7,
    "start_time": "2022-05-29T08:15:59.033Z"
   },
   {
    "duration": 1311300,
    "start_time": "2022-05-29T08:15:59.041Z"
   },
   {
    "duration": 0,
    "start_time": "2022-05-29T08:37:50.343Z"
   },
   {
    "duration": 0,
    "start_time": "2022-05-29T08:37:50.344Z"
   },
   {
    "duration": 0,
    "start_time": "2022-05-29T08:37:50.345Z"
   },
   {
    "duration": 0,
    "start_time": "2022-05-29T08:37:50.346Z"
   },
   {
    "duration": 0,
    "start_time": "2022-05-29T08:37:50.347Z"
   },
   {
    "duration": 0,
    "start_time": "2022-05-29T08:37:50.349Z"
   },
   {
    "duration": 0,
    "start_time": "2022-05-29T08:37:50.350Z"
   },
   {
    "duration": 0,
    "start_time": "2022-05-29T08:37:50.351Z"
   },
   {
    "duration": 0,
    "start_time": "2022-05-29T08:37:50.352Z"
   },
   {
    "duration": 0,
    "start_time": "2022-05-29T08:37:50.353Z"
   },
   {
    "duration": 0,
    "start_time": "2022-05-29T08:37:50.354Z"
   },
   {
    "duration": 1260,
    "start_time": "2022-05-29T08:37:58.762Z"
   },
   {
    "duration": 40,
    "start_time": "2022-05-29T08:38:00.023Z"
   },
   {
    "duration": 948,
    "start_time": "2022-05-29T08:38:00.064Z"
   },
   {
    "duration": 95,
    "start_time": "2022-05-29T08:38:01.013Z"
   },
   {
    "duration": 442,
    "start_time": "2022-05-29T08:38:01.110Z"
   },
   {
    "duration": 98,
    "start_time": "2022-05-29T08:38:01.554Z"
   },
   {
    "duration": 15,
    "start_time": "2022-05-29T08:38:01.654Z"
   },
   {
    "duration": 194,
    "start_time": "2022-05-29T08:38:01.671Z"
   },
   {
    "duration": 18,
    "start_time": "2022-05-29T08:38:01.866Z"
   },
   {
    "duration": 119,
    "start_time": "2022-05-29T08:38:01.895Z"
   },
   {
    "duration": 151,
    "start_time": "2022-05-29T08:38:02.015Z"
   },
   {
    "duration": 149,
    "start_time": "2022-05-29T08:38:02.168Z"
   },
   {
    "duration": 18,
    "start_time": "2022-05-29T08:38:02.319Z"
   },
   {
    "duration": 38,
    "start_time": "2022-05-29T08:38:02.339Z"
   },
   {
    "duration": 145,
    "start_time": "2022-05-29T08:38:02.394Z"
   },
   {
    "duration": 87,
    "start_time": "2022-05-29T08:38:02.540Z"
   },
   {
    "duration": 30,
    "start_time": "2022-05-29T08:38:02.629Z"
   },
   {
    "duration": 43,
    "start_time": "2022-05-29T08:38:02.661Z"
   },
   {
    "duration": 29,
    "start_time": "2022-05-29T08:38:02.706Z"
   },
   {
    "duration": 17,
    "start_time": "2022-05-29T08:38:02.737Z"
   },
   {
    "duration": 12,
    "start_time": "2022-05-29T08:38:02.756Z"
   },
   {
    "duration": 62,
    "start_time": "2022-05-29T08:38:02.770Z"
   },
   {
    "duration": 68,
    "start_time": "2022-05-29T08:38:02.834Z"
   },
   {
    "duration": 29,
    "start_time": "2022-05-29T08:38:02.903Z"
   },
   {
    "duration": 23,
    "start_time": "2022-05-29T08:38:02.934Z"
   },
   {
    "duration": 95,
    "start_time": "2022-05-29T08:38:02.958Z"
   },
   {
    "duration": 10,
    "start_time": "2022-05-29T08:38:03.054Z"
   },
   {
    "duration": 8,
    "start_time": "2022-05-29T08:38:03.066Z"
   },
   {
    "duration": 23,
    "start_time": "2022-05-29T08:38:03.075Z"
   },
   {
    "duration": 44,
    "start_time": "2022-05-29T08:38:03.099Z"
   },
   {
    "duration": 170,
    "start_time": "2022-05-29T08:38:03.144Z"
   },
   {
    "duration": 24,
    "start_time": "2022-05-29T08:38:03.315Z"
   },
   {
    "duration": 242,
    "start_time": "2022-05-29T08:38:03.340Z"
   },
   {
    "duration": 1271,
    "start_time": "2022-05-29T08:38:03.584Z"
   },
   {
    "duration": 54,
    "start_time": "2022-05-29T08:38:04.856Z"
   },
   {
    "duration": 660,
    "start_time": "2022-05-29T08:38:04.912Z"
   },
   {
    "duration": 178,
    "start_time": "2022-05-29T08:38:05.574Z"
   },
   {
    "duration": 275,
    "start_time": "2022-05-29T08:38:05.754Z"
   },
   {
    "duration": 3,
    "start_time": "2022-05-29T08:38:06.030Z"
   },
   {
    "duration": 32,
    "start_time": "2022-05-29T08:38:06.035Z"
   },
   {
    "duration": 294,
    "start_time": "2022-05-29T08:38:06.071Z"
   },
   {
    "duration": 4,
    "start_time": "2022-05-29T08:38:06.366Z"
   },
   {
    "duration": 273,
    "start_time": "2022-05-29T08:38:06.371Z"
   },
   {
    "duration": 113,
    "start_time": "2022-05-29T08:38:06.646Z"
   },
   {
    "duration": 557,
    "start_time": "2022-05-29T08:38:06.761Z"
   },
   {
    "duration": 9,
    "start_time": "2022-05-29T08:38:07.319Z"
   },
   {
    "duration": 51,
    "start_time": "2022-05-29T08:38:07.330Z"
   },
   {
    "duration": 23,
    "start_time": "2022-05-29T08:38:07.383Z"
   },
   {
    "duration": 19,
    "start_time": "2022-05-29T08:38:07.408Z"
   },
   {
    "duration": 85,
    "start_time": "2022-05-29T08:38:07.429Z"
   },
   {
    "duration": 62,
    "start_time": "2022-05-29T08:38:07.516Z"
   },
   {
    "duration": 16,
    "start_time": "2022-05-29T08:38:07.579Z"
   },
   {
    "duration": 18005,
    "start_time": "2022-05-29T08:38:07.596Z"
   },
   {
    "duration": 17692,
    "start_time": "2022-05-29T08:38:25.604Z"
   },
   {
    "duration": 4,
    "start_time": "2022-05-29T08:38:43.298Z"
   },
   {
    "duration": 35193,
    "start_time": "2022-05-29T08:38:43.304Z"
   },
   {
    "duration": 3,
    "start_time": "2022-05-29T08:39:18.499Z"
   },
   {
    "duration": 71301,
    "start_time": "2022-05-29T08:39:18.503Z"
   },
   {
    "duration": 17989,
    "start_time": "2022-05-29T08:40:29.806Z"
   },
   {
    "duration": 4,
    "start_time": "2022-05-29T08:40:47.798Z"
   },
   {
    "duration": 35899,
    "start_time": "2022-05-29T08:40:47.804Z"
   },
   {
    "duration": 3,
    "start_time": "2022-05-29T08:41:23.796Z"
   },
   {
    "duration": 7713,
    "start_time": "2022-05-29T08:41:23.801Z"
   },
   {
    "duration": 1864,
    "start_time": "2022-05-29T08:41:31.517Z"
   },
   {
    "duration": 3,
    "start_time": "2022-05-29T08:41:33.383Z"
   },
   {
    "duration": 3752,
    "start_time": "2022-05-29T08:41:33.394Z"
   },
   {
    "duration": 33,
    "start_time": "2022-05-29T08:41:37.147Z"
   },
   {
    "duration": 0,
    "start_time": "2022-05-29T08:41:37.182Z"
   },
   {
    "duration": 0,
    "start_time": "2022-05-29T08:41:37.183Z"
   },
   {
    "duration": 0,
    "start_time": "2022-05-29T08:41:37.184Z"
   },
   {
    "duration": 0,
    "start_time": "2022-05-29T08:41:37.185Z"
   },
   {
    "duration": 0,
    "start_time": "2022-05-29T08:41:37.186Z"
   },
   {
    "duration": 0,
    "start_time": "2022-05-29T08:41:37.187Z"
   },
   {
    "duration": 0,
    "start_time": "2022-05-29T08:41:37.188Z"
   },
   {
    "duration": 0,
    "start_time": "2022-05-29T08:41:37.189Z"
   },
   {
    "duration": 0,
    "start_time": "2022-05-29T08:41:37.190Z"
   },
   {
    "duration": 0,
    "start_time": "2022-05-29T08:41:37.191Z"
   },
   {
    "duration": 0,
    "start_time": "2022-05-29T08:41:37.192Z"
   },
   {
    "duration": 0,
    "start_time": "2022-05-29T08:41:37.194Z"
   },
   {
    "duration": 0,
    "start_time": "2022-05-29T08:41:37.195Z"
   },
   {
    "duration": 0,
    "start_time": "2022-05-29T08:41:37.196Z"
   },
   {
    "duration": 0,
    "start_time": "2022-05-29T08:41:37.197Z"
   },
   {
    "duration": 0,
    "start_time": "2022-05-29T08:41:37.197Z"
   },
   {
    "duration": 0,
    "start_time": "2022-05-29T08:41:37.198Z"
   },
   {
    "duration": 0,
    "start_time": "2022-05-29T08:41:37.199Z"
   },
   {
    "duration": 0,
    "start_time": "2022-05-29T08:41:37.200Z"
   },
   {
    "duration": 0,
    "start_time": "2022-05-29T08:41:37.201Z"
   },
   {
    "duration": 0,
    "start_time": "2022-05-29T08:41:37.202Z"
   },
   {
    "duration": 0,
    "start_time": "2022-05-29T08:41:37.203Z"
   },
   {
    "duration": 0,
    "start_time": "2022-05-29T08:41:37.212Z"
   },
   {
    "duration": 0,
    "start_time": "2022-05-29T08:41:37.213Z"
   },
   {
    "duration": 858,
    "start_time": "2022-05-29T08:43:07.982Z"
   },
   {
    "duration": 4,
    "start_time": "2022-05-29T08:43:10.036Z"
   },
   {
    "duration": 3,
    "start_time": "2022-05-29T08:43:11.278Z"
   },
   {
    "duration": 1618438,
    "start_time": "2022-05-29T08:43:16.062Z"
   },
   {
    "duration": 0,
    "start_time": "2022-05-29T12:12:45.986Z"
   },
   {
    "duration": 0,
    "start_time": "2022-05-29T12:12:45.987Z"
   },
   {
    "duration": 0,
    "start_time": "2022-05-29T12:12:45.996Z"
   },
   {
    "duration": 0,
    "start_time": "2022-05-29T12:12:45.997Z"
   },
   {
    "duration": 0,
    "start_time": "2022-05-29T12:12:45.998Z"
   },
   {
    "duration": 0,
    "start_time": "2022-05-29T12:12:45.998Z"
   },
   {
    "duration": 0,
    "start_time": "2022-05-29T12:12:45.999Z"
   },
   {
    "duration": 0,
    "start_time": "2022-05-29T12:12:46.003Z"
   },
   {
    "duration": 0,
    "start_time": "2022-05-29T12:12:46.004Z"
   },
   {
    "duration": 0,
    "start_time": "2022-05-29T12:12:46.005Z"
   },
   {
    "duration": 0,
    "start_time": "2022-05-29T12:12:46.006Z"
   },
   {
    "duration": 0,
    "start_time": "2022-05-29T12:12:46.012Z"
   },
   {
    "duration": 0,
    "start_time": "2022-05-29T12:12:46.013Z"
   },
   {
    "duration": 0,
    "start_time": "2022-05-29T12:12:46.015Z"
   },
   {
    "duration": 0,
    "start_time": "2022-05-29T12:12:46.016Z"
   },
   {
    "duration": 0,
    "start_time": "2022-05-29T12:12:46.018Z"
   },
   {
    "duration": 0,
    "start_time": "2022-05-29T12:12:46.019Z"
   },
   {
    "duration": 0,
    "start_time": "2022-05-29T12:12:46.019Z"
   },
   {
    "duration": 0,
    "start_time": "2022-05-29T12:12:46.021Z"
   },
   {
    "duration": 0,
    "start_time": "2022-05-29T12:12:46.023Z"
   },
   {
    "duration": 0,
    "start_time": "2022-05-29T12:12:46.026Z"
   },
   {
    "duration": 1507,
    "start_time": "2022-05-29T12:12:53.564Z"
   },
   {
    "duration": 75,
    "start_time": "2022-05-29T12:12:55.073Z"
   },
   {
    "duration": 1331,
    "start_time": "2022-05-29T12:12:55.150Z"
   },
   {
    "duration": 140,
    "start_time": "2022-05-29T12:12:56.483Z"
   },
   {
    "duration": 637,
    "start_time": "2022-05-29T12:12:56.629Z"
   },
   {
    "duration": 168,
    "start_time": "2022-05-29T12:12:57.268Z"
   },
   {
    "duration": 20,
    "start_time": "2022-05-29T12:12:57.451Z"
   },
   {
    "duration": 270,
    "start_time": "2022-05-29T12:12:57.473Z"
   },
   {
    "duration": 18,
    "start_time": "2022-05-29T12:12:57.745Z"
   },
   {
    "duration": 168,
    "start_time": "2022-05-29T12:12:57.765Z"
   },
   {
    "duration": 205,
    "start_time": "2022-05-29T12:12:57.935Z"
   },
   {
    "duration": 212,
    "start_time": "2022-05-29T12:12:58.141Z"
   },
   {
    "duration": 18,
    "start_time": "2022-05-29T12:12:58.355Z"
   },
   {
    "duration": 67,
    "start_time": "2022-05-29T12:12:58.377Z"
   },
   {
    "duration": 206,
    "start_time": "2022-05-29T12:12:58.445Z"
   },
   {
    "duration": 123,
    "start_time": "2022-05-29T12:12:58.652Z"
   },
   {
    "duration": 61,
    "start_time": "2022-05-29T12:12:58.777Z"
   },
   {
    "duration": 46,
    "start_time": "2022-05-29T12:12:58.840Z"
   },
   {
    "duration": 58,
    "start_time": "2022-05-29T12:12:58.887Z"
   },
   {
    "duration": 25,
    "start_time": "2022-05-29T12:12:58.947Z"
   },
   {
    "duration": 32,
    "start_time": "2022-05-29T12:12:58.974Z"
   },
   {
    "duration": 78,
    "start_time": "2022-05-29T12:12:59.007Z"
   },
   {
    "duration": 83,
    "start_time": "2022-05-29T12:12:59.086Z"
   },
   {
    "duration": 59,
    "start_time": "2022-05-29T12:12:59.170Z"
   },
   {
    "duration": 58,
    "start_time": "2022-05-29T12:12:59.231Z"
   },
   {
    "duration": 162,
    "start_time": "2022-05-29T12:12:59.292Z"
   },
   {
    "duration": 11,
    "start_time": "2022-05-29T12:12:59.455Z"
   },
   {
    "duration": 12,
    "start_time": "2022-05-29T12:12:59.468Z"
   },
   {
    "duration": 18,
    "start_time": "2022-05-29T12:12:59.482Z"
   },
   {
    "duration": 77,
    "start_time": "2022-05-29T12:12:59.502Z"
   },
   {
    "duration": 225,
    "start_time": "2022-05-29T12:12:59.581Z"
   },
   {
    "duration": 37,
    "start_time": "2022-05-29T12:12:59.808Z"
   },
   {
    "duration": 326,
    "start_time": "2022-05-29T12:12:59.847Z"
   },
   {
    "duration": 1825,
    "start_time": "2022-05-29T12:13:00.175Z"
   },
   {
    "duration": 60,
    "start_time": "2022-05-29T12:13:02.007Z"
   },
   {
    "duration": 907,
    "start_time": "2022-05-29T12:13:02.069Z"
   },
   {
    "duration": 197,
    "start_time": "2022-05-29T12:13:02.978Z"
   },
   {
    "duration": 325,
    "start_time": "2022-05-29T12:13:03.177Z"
   },
   {
    "duration": 7,
    "start_time": "2022-05-29T12:13:03.504Z"
   },
   {
    "duration": 64,
    "start_time": "2022-05-29T12:13:03.513Z"
   },
   {
    "duration": 401,
    "start_time": "2022-05-29T12:13:03.582Z"
   },
   {
    "duration": 4,
    "start_time": "2022-05-29T12:13:03.985Z"
   },
   {
    "duration": 412,
    "start_time": "2022-05-29T12:13:03.990Z"
   },
   {
    "duration": 155,
    "start_time": "2022-05-29T12:13:04.406Z"
   },
   {
    "duration": 907,
    "start_time": "2022-05-29T12:13:04.563Z"
   },
   {
    "duration": 11,
    "start_time": "2022-05-29T12:13:05.472Z"
   },
   {
    "duration": 101,
    "start_time": "2022-05-29T12:13:05.486Z"
   },
   {
    "duration": 83,
    "start_time": "2022-05-29T12:13:05.591Z"
   },
   {
    "duration": 28,
    "start_time": "2022-05-29T12:13:05.676Z"
   },
   {
    "duration": 106,
    "start_time": "2022-05-29T12:13:05.711Z"
   },
   {
    "duration": 96,
    "start_time": "2022-05-29T12:13:05.822Z"
   },
   {
    "duration": 3,
    "start_time": "2022-05-29T12:13:05.920Z"
   },
   {
    "duration": 51081,
    "start_time": "2022-05-29T12:13:05.925Z"
   },
   {
    "duration": 49001,
    "start_time": "2022-05-29T12:13:57.013Z"
   },
   {
    "duration": 6,
    "start_time": "2022-05-29T12:14:46.018Z"
   },
   {
    "duration": 95685,
    "start_time": "2022-05-29T12:14:46.028Z"
   },
   {
    "duration": 13,
    "start_time": "2022-05-29T12:16:21.728Z"
   },
   {
    "duration": 200060,
    "start_time": "2022-05-29T12:16:21.747Z"
   },
   {
    "duration": 56089,
    "start_time": "2022-05-29T12:19:41.809Z"
   },
   {
    "duration": 14,
    "start_time": "2022-05-29T12:20:37.907Z"
   },
   {
    "duration": 125332,
    "start_time": "2022-05-29T12:20:37.922Z"
   },
   {
    "duration": 35,
    "start_time": "2022-05-29T12:22:43.260Z"
   },
   {
    "duration": 11546,
    "start_time": "2022-05-29T12:22:43.297Z"
   },
   {
    "duration": 2721,
    "start_time": "2022-05-29T12:22:54.845Z"
   },
   {
    "duration": 5,
    "start_time": "2022-05-29T12:22:57.568Z"
   },
   {
    "duration": 5965,
    "start_time": "2022-05-29T12:22:57.574Z"
   },
   {
    "duration": 1613,
    "start_time": "2022-05-29T12:23:03.541Z"
   },
   {
    "duration": 4,
    "start_time": "2022-05-29T12:23:05.156Z"
   },
   {
    "duration": 7,
    "start_time": "2022-05-29T12:23:05.162Z"
   },
   {
    "duration": 2088523,
    "start_time": "2022-05-29T12:23:05.171Z"
   },
   {
    "duration": 1347,
    "start_time": "2022-05-29T13:51:40.966Z"
   },
   {
    "duration": 38,
    "start_time": "2022-05-29T13:51:42.315Z"
   },
   {
    "duration": 1008,
    "start_time": "2022-05-29T13:51:42.354Z"
   },
   {
    "duration": 103,
    "start_time": "2022-05-29T13:51:43.364Z"
   },
   {
    "duration": 483,
    "start_time": "2022-05-29T13:51:43.469Z"
   },
   {
    "duration": 107,
    "start_time": "2022-05-29T13:51:43.954Z"
   },
   {
    "duration": 16,
    "start_time": "2022-05-29T13:51:44.063Z"
   },
   {
    "duration": 200,
    "start_time": "2022-05-29T13:51:44.081Z"
   },
   {
    "duration": 27,
    "start_time": "2022-05-29T13:51:44.282Z"
   },
   {
    "duration": 121,
    "start_time": "2022-05-29T13:51:44.311Z"
   },
   {
    "duration": 172,
    "start_time": "2022-05-29T13:51:44.434Z"
   },
   {
    "duration": 163,
    "start_time": "2022-05-29T13:51:44.608Z"
   },
   {
    "duration": 31,
    "start_time": "2022-05-29T13:51:44.772Z"
   },
   {
    "duration": 37,
    "start_time": "2022-05-29T13:51:44.807Z"
   },
   {
    "duration": 173,
    "start_time": "2022-05-29T13:51:44.846Z"
   },
   {
    "duration": 102,
    "start_time": "2022-05-29T13:51:45.021Z"
   },
   {
    "duration": 31,
    "start_time": "2022-05-29T13:51:45.125Z"
   },
   {
    "duration": 55,
    "start_time": "2022-05-29T13:51:45.157Z"
   },
   {
    "duration": 31,
    "start_time": "2022-05-29T13:51:45.214Z"
   },
   {
    "duration": 20,
    "start_time": "2022-05-29T13:51:45.247Z"
   },
   {
    "duration": 24,
    "start_time": "2022-05-29T13:51:45.269Z"
   },
   {
    "duration": 58,
    "start_time": "2022-05-29T13:51:45.294Z"
   },
   {
    "duration": 68,
    "start_time": "2022-05-29T13:51:45.354Z"
   },
   {
    "duration": 36,
    "start_time": "2022-05-29T13:51:45.424Z"
   },
   {
    "duration": 37,
    "start_time": "2022-05-29T13:51:45.462Z"
   },
   {
    "duration": 107,
    "start_time": "2022-05-29T13:51:45.501Z"
   },
   {
    "duration": 11,
    "start_time": "2022-05-29T13:51:45.609Z"
   },
   {
    "duration": 8,
    "start_time": "2022-05-29T13:51:45.621Z"
   },
   {
    "duration": 8,
    "start_time": "2022-05-29T13:51:45.631Z"
   },
   {
    "duration": 70,
    "start_time": "2022-05-29T13:51:45.640Z"
   },
   {
    "duration": 168,
    "start_time": "2022-05-29T13:51:45.712Z"
   },
   {
    "duration": 38,
    "start_time": "2022-05-29T13:51:45.882Z"
   },
   {
    "duration": 258,
    "start_time": "2022-05-29T13:51:45.921Z"
   },
   {
    "duration": 1498,
    "start_time": "2022-05-29T13:51:46.181Z"
   },
   {
    "duration": 57,
    "start_time": "2022-05-29T13:51:47.681Z"
   },
   {
    "duration": 688,
    "start_time": "2022-05-29T13:51:47.739Z"
   },
   {
    "duration": 183,
    "start_time": "2022-05-29T13:51:48.428Z"
   },
   {
    "duration": 291,
    "start_time": "2022-05-29T13:51:48.613Z"
   },
   {
    "duration": 4,
    "start_time": "2022-05-29T13:51:48.907Z"
   },
   {
    "duration": 42,
    "start_time": "2022-05-29T13:51:48.912Z"
   },
   {
    "duration": 293,
    "start_time": "2022-05-29T13:51:48.958Z"
   },
   {
    "duration": 5,
    "start_time": "2022-05-29T13:51:49.252Z"
   },
   {
    "duration": 119,
    "start_time": "2022-05-29T13:51:49.258Z"
   },
   {
    "duration": 287,
    "start_time": "2022-05-29T13:51:49.379Z"
   },
   {
    "duration": 123,
    "start_time": "2022-05-29T13:51:49.668Z"
   },
   {
    "duration": 619,
    "start_time": "2022-05-29T13:51:49.793Z"
   },
   {
    "duration": 9,
    "start_time": "2022-05-29T13:51:50.414Z"
   },
   {
    "duration": 56,
    "start_time": "2022-05-29T13:51:50.424Z"
   },
   {
    "duration": 32,
    "start_time": "2022-05-29T13:51:50.481Z"
   },
   {
    "duration": 74,
    "start_time": "2022-05-29T13:51:50.515Z"
   },
   {
    "duration": 8,
    "start_time": "2022-05-29T13:51:50.595Z"
   },
   {
    "duration": 42005,
    "start_time": "2022-05-29T13:51:50.607Z"
   },
   {
    "duration": 28081,
    "start_time": "2022-05-29T13:52:32.615Z"
   },
   {
    "duration": 12,
    "start_time": "2022-05-29T13:53:00.702Z"
   },
   {
    "duration": 69207,
    "start_time": "2022-05-29T13:53:00.720Z"
   },
   {
    "duration": 8,
    "start_time": "2022-05-29T13:54:09.996Z"
   },
   {
    "duration": 113014,
    "start_time": "2022-05-29T13:54:10.010Z"
   },
   {
    "duration": 27493,
    "start_time": "2022-05-29T13:56:03.025Z"
   },
   {
    "duration": 4,
    "start_time": "2022-05-29T13:56:30.520Z"
   },
   {
    "duration": 65301,
    "start_time": "2022-05-29T13:56:30.599Z"
   },
   {
    "duration": 9,
    "start_time": "2022-05-29T13:57:35.922Z"
   },
   {
    "duration": 10048,
    "start_time": "2022-05-29T13:57:35.994Z"
   },
   {
    "duration": 2621,
    "start_time": "2022-05-29T13:57:46.044Z"
   },
   {
    "duration": 3,
    "start_time": "2022-05-29T13:57:48.667Z"
   },
   {
    "duration": 4961,
    "start_time": "2022-05-29T13:57:48.671Z"
   },
   {
    "duration": 1122,
    "start_time": "2022-05-29T13:57:53.633Z"
   },
   {
    "duration": 3,
    "start_time": "2022-05-29T13:57:54.757Z"
   },
   {
    "duration": 8,
    "start_time": "2022-05-29T13:57:54.762Z"
   },
   {
    "duration": 1957188,
    "start_time": "2022-05-29T13:57:54.771Z"
   },
   {
    "duration": 303755,
    "start_time": "2022-05-29T14:30:31.961Z"
   },
   {
    "duration": 0,
    "start_time": "2022-05-29T14:35:35.719Z"
   },
   {
    "duration": 0,
    "start_time": "2022-05-29T14:35:35.722Z"
   },
   {
    "duration": 0,
    "start_time": "2022-05-29T14:35:35.724Z"
   },
   {
    "duration": 0,
    "start_time": "2022-05-29T14:35:35.726Z"
   },
   {
    "duration": 0,
    "start_time": "2022-05-29T14:35:35.727Z"
   },
   {
    "duration": 0,
    "start_time": "2022-05-29T14:35:35.729Z"
   },
   {
    "duration": 0,
    "start_time": "2022-05-29T14:35:35.731Z"
   },
   {
    "duration": 0,
    "start_time": "2022-05-29T14:35:35.732Z"
   },
   {
    "duration": 0,
    "start_time": "2022-05-29T14:35:35.734Z"
   },
   {
    "duration": 0,
    "start_time": "2022-05-29T14:35:35.735Z"
   },
   {
    "duration": 0,
    "start_time": "2022-05-29T14:35:35.736Z"
   },
   {
    "duration": 0,
    "start_time": "2022-05-29T14:35:35.737Z"
   },
   {
    "duration": 0,
    "start_time": "2022-05-29T14:35:35.739Z"
   },
   {
    "duration": 0,
    "start_time": "2022-05-29T14:35:35.741Z"
   },
   {
    "duration": 0,
    "start_time": "2022-05-29T14:35:35.742Z"
   },
   {
    "duration": 0,
    "start_time": "2022-05-29T14:35:35.743Z"
   },
   {
    "duration": 0,
    "start_time": "2022-05-29T14:35:35.744Z"
   },
   {
    "duration": 0,
    "start_time": "2022-05-29T14:35:35.746Z"
   },
   {
    "duration": 0,
    "start_time": "2022-05-29T14:35:35.747Z"
   },
   {
    "duration": 0,
    "start_time": "2022-05-29T14:35:35.748Z"
   },
   {
    "duration": 1448,
    "start_time": "2022-05-29T14:35:48.487Z"
   },
   {
    "duration": 38,
    "start_time": "2022-05-29T14:35:49.937Z"
   },
   {
    "duration": 1069,
    "start_time": "2022-05-29T14:35:49.976Z"
   },
   {
    "duration": 109,
    "start_time": "2022-05-29T14:35:51.047Z"
   },
   {
    "duration": 493,
    "start_time": "2022-05-29T14:35:51.158Z"
   },
   {
    "duration": 120,
    "start_time": "2022-05-29T14:35:51.653Z"
   },
   {
    "duration": 27,
    "start_time": "2022-05-29T14:35:51.774Z"
   },
   {
    "duration": 201,
    "start_time": "2022-05-29T14:35:51.809Z"
   },
   {
    "duration": 19,
    "start_time": "2022-05-29T14:35:52.015Z"
   },
   {
    "duration": 123,
    "start_time": "2022-05-29T14:35:52.036Z"
   },
   {
    "duration": 199,
    "start_time": "2022-05-29T14:35:52.161Z"
   },
   {
    "duration": 171,
    "start_time": "2022-05-29T14:35:52.362Z"
   },
   {
    "duration": 20,
    "start_time": "2022-05-29T14:35:52.535Z"
   },
   {
    "duration": 60,
    "start_time": "2022-05-29T14:35:52.558Z"
   },
   {
    "duration": 179,
    "start_time": "2022-05-29T14:35:52.621Z"
   },
   {
    "duration": 101,
    "start_time": "2022-05-29T14:35:52.806Z"
   },
   {
    "duration": 34,
    "start_time": "2022-05-29T14:35:52.912Z"
   },
   {
    "duration": 68,
    "start_time": "2022-05-29T14:35:52.948Z"
   },
   {
    "duration": 36,
    "start_time": "2022-05-29T14:35:53.017Z"
   },
   {
    "duration": 26,
    "start_time": "2022-05-29T14:35:53.055Z"
   },
   {
    "duration": 45,
    "start_time": "2022-05-29T14:35:53.082Z"
   },
   {
    "duration": 85,
    "start_time": "2022-05-29T14:35:53.129Z"
   },
   {
    "duration": 68,
    "start_time": "2022-05-29T14:35:53.216Z"
   },
   {
    "duration": 41,
    "start_time": "2022-05-29T14:35:53.286Z"
   },
   {
    "duration": 23,
    "start_time": "2022-05-29T14:35:53.329Z"
   },
   {
    "duration": 126,
    "start_time": "2022-05-29T14:35:53.354Z"
   },
   {
    "duration": 20,
    "start_time": "2022-05-29T14:35:53.481Z"
   },
   {
    "duration": 17,
    "start_time": "2022-05-29T14:35:53.503Z"
   },
   {
    "duration": 21,
    "start_time": "2022-05-29T14:35:53.522Z"
   },
   {
    "duration": 47,
    "start_time": "2022-05-29T14:35:53.544Z"
   },
   {
    "duration": 193,
    "start_time": "2022-05-29T14:35:53.599Z"
   },
   {
    "duration": 30,
    "start_time": "2022-05-29T14:35:53.795Z"
   },
   {
    "duration": 298,
    "start_time": "2022-05-29T14:35:53.827Z"
   },
   {
    "duration": 1700,
    "start_time": "2022-05-29T14:35:54.127Z"
   },
   {
    "duration": 49,
    "start_time": "2022-05-29T14:35:55.829Z"
   },
   {
    "duration": 768,
    "start_time": "2022-05-29T14:35:55.880Z"
   },
   {
    "duration": 181,
    "start_time": "2022-05-29T14:35:56.650Z"
   },
   {
    "duration": 308,
    "start_time": "2022-05-29T14:35:56.832Z"
   },
   {
    "duration": 4,
    "start_time": "2022-05-29T14:35:57.141Z"
   },
   {
    "duration": 50,
    "start_time": "2022-05-29T14:35:57.147Z"
   },
   {
    "duration": 382,
    "start_time": "2022-05-29T14:35:57.202Z"
   },
   {
    "duration": 13,
    "start_time": "2022-05-29T14:35:57.586Z"
   },
   {
    "duration": 117,
    "start_time": "2022-05-29T14:35:57.605Z"
   },
   {
    "duration": 327,
    "start_time": "2022-05-29T14:35:57.724Z"
   },
   {
    "duration": 128,
    "start_time": "2022-05-29T14:35:58.053Z"
   },
   {
    "duration": 702,
    "start_time": "2022-05-29T14:35:58.183Z"
   },
   {
    "duration": 20,
    "start_time": "2022-05-29T14:35:58.887Z"
   },
   {
    "duration": 61,
    "start_time": "2022-05-29T14:35:58.908Z"
   },
   {
    "duration": 31,
    "start_time": "2022-05-29T14:35:58.971Z"
   },
   {
    "duration": 78,
    "start_time": "2022-05-29T14:35:59.007Z"
   },
   {
    "duration": 2,
    "start_time": "2022-05-29T14:35:59.087Z"
   },
   {
    "duration": 47910,
    "start_time": "2022-05-29T14:35:59.091Z"
   },
   {
    "duration": 43515,
    "start_time": "2022-05-29T14:36:47.004Z"
   },
   {
    "duration": 78,
    "start_time": "2022-05-29T14:37:30.520Z"
   },
   {
    "duration": 85104,
    "start_time": "2022-05-29T14:37:30.601Z"
   },
   {
    "duration": 6,
    "start_time": "2022-05-29T14:38:55.714Z"
   },
   {
    "duration": 127603,
    "start_time": "2022-05-29T14:38:55.796Z"
   },
   {
    "duration": 28505,
    "start_time": "2022-05-29T14:41:03.402Z"
   },
   {
    "duration": 88,
    "start_time": "2022-05-29T14:41:31.908Z"
   },
   {
    "duration": 67401,
    "start_time": "2022-05-29T14:41:31.998Z"
   },
   {
    "duration": 4,
    "start_time": "2022-05-29T14:42:39.402Z"
   },
   {
    "duration": 9960,
    "start_time": "2022-05-29T14:42:39.408Z"
   },
   {
    "duration": 2335,
    "start_time": "2022-05-29T14:42:49.370Z"
   },
   {
    "duration": 4,
    "start_time": "2022-05-29T14:42:51.713Z"
   },
   {
    "duration": 4660,
    "start_time": "2022-05-29T14:42:51.719Z"
   },
   {
    "duration": 1158,
    "start_time": "2022-05-29T14:42:56.381Z"
   },
   {
    "duration": 4,
    "start_time": "2022-05-29T14:42:57.541Z"
   },
   {
    "duration": 11,
    "start_time": "2022-05-29T14:42:57.547Z"
   },
   {
    "duration": 1973618,
    "start_time": "2022-05-29T14:42:57.561Z"
   },
   {
    "duration": 1481614,
    "start_time": "2022-05-29T15:15:51.180Z"
   },
   {
    "duration": 317762,
    "start_time": "2022-05-29T15:40:32.795Z"
   },
   {
    "duration": 4,
    "start_time": "2022-05-29T15:45:50.559Z"
   },
   {
    "duration": 85,
    "start_time": "2022-05-29T15:45:50.566Z"
   },
   {
    "duration": 6,
    "start_time": "2022-05-29T15:45:50.653Z"
   },
   {
    "duration": 206597,
    "start_time": "2022-05-29T15:45:50.660Z"
   },
   {
    "duration": 3,
    "start_time": "2022-05-29T15:49:17.259Z"
   },
   {
    "duration": 134365,
    "start_time": "2022-05-29T15:49:17.263Z"
   },
   {
    "duration": 4,
    "start_time": "2022-05-29T15:51:31.629Z"
   },
   {
    "duration": 70,
    "start_time": "2022-05-29T15:51:31.635Z"
   },
   {
    "duration": 260,
    "start_time": "2022-05-29T15:51:31.707Z"
   },
   {
    "duration": 273,
    "start_time": "2022-05-29T15:51:31.969Z"
   },
   {
    "duration": 2,
    "start_time": "2022-05-29T15:51:32.244Z"
   },
   {
    "duration": 5,
    "start_time": "2022-05-29T15:51:32.248Z"
   },
   {
    "duration": 6,
    "start_time": "2022-05-29T15:51:32.255Z"
   },
   {
    "duration": 8,
    "start_time": "2022-05-29T15:51:32.262Z"
   },
   {
    "duration": 159,
    "start_time": "2022-05-29T15:51:32.272Z"
   },
   {
    "duration": 0,
    "start_time": "2022-05-29T15:51:32.434Z"
   },
   {
    "duration": 0,
    "start_time": "2022-05-29T15:51:32.435Z"
   },
   {
    "duration": 0,
    "start_time": "2022-05-29T15:51:32.436Z"
   },
   {
    "duration": 0,
    "start_time": "2022-05-29T15:51:32.437Z"
   },
   {
    "duration": 16,
    "start_time": "2022-05-29T16:50:09.936Z"
   },
   {
    "duration": 16,
    "start_time": "2022-05-29T16:51:16.773Z"
   },
   {
    "duration": 13,
    "start_time": "2022-05-29T16:51:20.317Z"
   },
   {
    "duration": 450,
    "start_time": "2022-05-29T16:51:43.332Z"
   },
   {
    "duration": 27,
    "start_time": "2022-05-29T16:52:28.860Z"
   },
   {
    "duration": 7,
    "start_time": "2022-05-29T16:53:56.202Z"
   },
   {
    "duration": 13,
    "start_time": "2022-05-29T16:54:35.176Z"
   },
   {
    "duration": 7,
    "start_time": "2022-05-29T16:54:47.808Z"
   },
   {
    "duration": 6,
    "start_time": "2022-05-29T16:56:49.468Z"
   },
   {
    "duration": 17,
    "start_time": "2022-05-29T16:57:32.585Z"
   },
   {
    "duration": 11,
    "start_time": "2022-05-29T16:57:49.750Z"
   },
   {
    "duration": 18,
    "start_time": "2022-05-29T16:58:00.508Z"
   },
   {
    "duration": 5,
    "start_time": "2022-05-29T17:00:42.835Z"
   },
   {
    "duration": 5,
    "start_time": "2022-05-29T17:02:08.638Z"
   },
   {
    "duration": 5,
    "start_time": "2022-05-29T17:02:27.932Z"
   },
   {
    "duration": 6,
    "start_time": "2022-05-29T17:02:31.455Z"
   },
   {
    "duration": 19,
    "start_time": "2022-05-29T17:02:57.316Z"
   },
   {
    "duration": 233,
    "start_time": "2022-05-29T17:03:01.357Z"
   },
   {
    "duration": 12,
    "start_time": "2022-05-29T17:03:49.402Z"
   },
   {
    "duration": 5,
    "start_time": "2022-05-29T17:04:06.704Z"
   },
   {
    "duration": 6,
    "start_time": "2022-05-29T17:04:20.226Z"
   },
   {
    "duration": 19,
    "start_time": "2022-05-29T17:05:19.891Z"
   },
   {
    "duration": 209,
    "start_time": "2022-05-29T17:05:23.166Z"
   },
   {
    "duration": 234,
    "start_time": "2022-05-29T17:08:50.652Z"
   },
   {
    "duration": 6,
    "start_time": "2022-05-29T17:19:25.716Z"
   },
   {
    "duration": 3,
    "start_time": "2022-05-29T17:19:40.953Z"
   },
   {
    "duration": 2,
    "start_time": "2022-05-29T17:19:49.611Z"
   },
   {
    "duration": 5,
    "start_time": "2022-05-29T17:20:59.079Z"
   },
   {
    "duration": 3,
    "start_time": "2022-05-29T17:21:12.725Z"
   },
   {
    "duration": 6,
    "start_time": "2022-05-29T17:21:37.155Z"
   },
   {
    "duration": 5,
    "start_time": "2022-05-29T17:22:29.255Z"
   },
   {
    "duration": 3,
    "start_time": "2022-05-29T17:27:25.459Z"
   },
   {
    "duration": 98978,
    "start_time": "2022-05-29T17:27:26.509Z"
   },
   {
    "duration": 14,
    "start_time": "2022-05-29T17:29:05.489Z"
   },
   {
    "duration": 18,
    "start_time": "2022-05-29T17:29:23.703Z"
   },
   {
    "duration": 13,
    "start_time": "2022-05-29T17:29:34.908Z"
   },
   {
    "duration": 172,
    "start_time": "2022-05-29T17:29:38.534Z"
   },
   {
    "duration": 3,
    "start_time": "2022-05-29T17:31:47.862Z"
   },
   {
    "duration": 11,
    "start_time": "2022-05-29T17:31:50.798Z"
   },
   {
    "duration": 2,
    "start_time": "2022-05-29T17:31:53.068Z"
   },
   {
    "duration": 479800,
    "start_time": "2022-05-29T17:31:53.806Z"
   },
   {
    "duration": 0,
    "start_time": "2022-05-29T17:39:53.609Z"
   },
   {
    "duration": 0,
    "start_time": "2022-05-29T17:39:53.609Z"
   },
   {
    "duration": 0,
    "start_time": "2022-05-29T17:39:53.611Z"
   },
   {
    "duration": 6,
    "start_time": "2022-05-29T17:40:03.909Z"
   },
   {
    "duration": 10,
    "start_time": "2022-05-29T17:40:06.859Z"
   },
   {
    "duration": 185,
    "start_time": "2022-05-29T17:40:10.203Z"
   },
   {
    "duration": 168,
    "start_time": "2022-05-29T17:42:41.586Z"
   },
   {
    "duration": 4917,
    "start_time": "2022-05-29T17:50:27.664Z"
   },
   {
    "duration": 1419,
    "start_time": "2022-05-29T18:00:19.631Z"
   },
   {
    "duration": 37,
    "start_time": "2022-05-29T18:00:21.053Z"
   },
   {
    "duration": 1092,
    "start_time": "2022-05-29T18:00:21.093Z"
   },
   {
    "duration": 152,
    "start_time": "2022-05-29T18:00:22.187Z"
   },
   {
    "duration": 521,
    "start_time": "2022-05-29T18:00:22.341Z"
   },
   {
    "duration": 111,
    "start_time": "2022-05-29T18:00:22.864Z"
   },
   {
    "duration": 36,
    "start_time": "2022-05-29T18:00:22.977Z"
   },
   {
    "duration": 202,
    "start_time": "2022-05-29T18:00:23.016Z"
   },
   {
    "duration": 18,
    "start_time": "2022-05-29T18:00:23.220Z"
   },
   {
    "duration": 142,
    "start_time": "2022-05-29T18:00:23.240Z"
   },
   {
    "duration": 180,
    "start_time": "2022-05-29T18:00:23.384Z"
   },
   {
    "duration": 186,
    "start_time": "2022-05-29T18:00:23.566Z"
   },
   {
    "duration": 18,
    "start_time": "2022-05-29T18:00:23.754Z"
   },
   {
    "duration": 48,
    "start_time": "2022-05-29T18:00:23.775Z"
   },
   {
    "duration": 189,
    "start_time": "2022-05-29T18:00:23.824Z"
   },
   {
    "duration": 116,
    "start_time": "2022-05-29T18:00:24.016Z"
   },
   {
    "duration": 31,
    "start_time": "2022-05-29T18:00:24.133Z"
   },
   {
    "duration": 55,
    "start_time": "2022-05-29T18:00:24.166Z"
   },
   {
    "duration": 41,
    "start_time": "2022-05-29T18:00:24.224Z"
   },
   {
    "duration": 48,
    "start_time": "2022-05-29T18:00:24.267Z"
   },
   {
    "duration": 15,
    "start_time": "2022-05-29T18:00:24.316Z"
   },
   {
    "duration": 66,
    "start_time": "2022-05-29T18:00:24.333Z"
   },
   {
    "duration": 61,
    "start_time": "2022-05-29T18:00:24.406Z"
   },
   {
    "duration": 50,
    "start_time": "2022-05-29T18:00:24.469Z"
   },
   {
    "duration": 34,
    "start_time": "2022-05-29T18:00:24.521Z"
   },
   {
    "duration": 115,
    "start_time": "2022-05-29T18:00:24.558Z"
   },
   {
    "duration": 23,
    "start_time": "2022-05-29T18:00:24.675Z"
   },
   {
    "duration": 10,
    "start_time": "2022-05-29T18:00:24.703Z"
   },
   {
    "duration": 13,
    "start_time": "2022-05-29T18:00:24.715Z"
   },
   {
    "duration": 48,
    "start_time": "2022-05-29T18:00:24.730Z"
   },
   {
    "duration": 199,
    "start_time": "2022-05-29T18:00:24.780Z"
   },
   {
    "duration": 44,
    "start_time": "2022-05-29T18:00:24.981Z"
   },
   {
    "duration": 268,
    "start_time": "2022-05-29T18:00:25.027Z"
   },
   {
    "duration": 1629,
    "start_time": "2022-05-29T18:00:25.297Z"
   },
   {
    "duration": 50,
    "start_time": "2022-05-29T18:00:26.927Z"
   },
   {
    "duration": 838,
    "start_time": "2022-05-29T18:00:26.978Z"
   },
   {
    "duration": 186,
    "start_time": "2022-05-29T18:00:27.818Z"
   },
   {
    "duration": 301,
    "start_time": "2022-05-29T18:00:28.006Z"
   },
   {
    "duration": 4,
    "start_time": "2022-05-29T18:00:28.313Z"
   },
   {
    "duration": 34,
    "start_time": "2022-05-29T18:00:28.319Z"
   },
   {
    "duration": 301,
    "start_time": "2022-05-29T18:00:28.359Z"
   },
   {
    "duration": 3,
    "start_time": "2022-05-29T18:00:28.662Z"
   },
   {
    "duration": 99,
    "start_time": "2022-05-29T18:00:28.667Z"
   },
   {
    "duration": 303,
    "start_time": "2022-05-29T18:00:28.768Z"
   },
   {
    "duration": 138,
    "start_time": "2022-05-29T18:00:29.072Z"
   },
   {
    "duration": 614,
    "start_time": "2022-05-29T18:00:29.213Z"
   },
   {
    "duration": 10,
    "start_time": "2022-05-29T18:00:29.828Z"
   },
   {
    "duration": 67,
    "start_time": "2022-05-29T18:00:29.839Z"
   },
   {
    "duration": 23,
    "start_time": "2022-05-29T18:00:29.912Z"
   },
   {
    "duration": 107,
    "start_time": "2022-05-29T18:00:29.937Z"
   },
   {
    "duration": 2,
    "start_time": "2022-05-29T18:00:30.046Z"
   },
   {
    "duration": 47648,
    "start_time": "2022-05-29T18:00:30.050Z"
   },
   {
    "duration": 39713,
    "start_time": "2022-05-29T18:01:17.700Z"
   },
   {
    "duration": 75,
    "start_time": "2022-05-29T18:01:57.420Z"
   },
   {
    "duration": 74011,
    "start_time": "2022-05-29T18:01:57.497Z"
   },
   {
    "duration": 90,
    "start_time": "2022-05-29T18:03:11.510Z"
   },
   {
    "duration": 177301,
    "start_time": "2022-05-29T18:03:11.604Z"
   },
   {
    "duration": 43698,
    "start_time": "2022-05-29T18:06:08.911Z"
   },
   {
    "duration": 81,
    "start_time": "2022-05-29T18:06:52.616Z"
   },
   {
    "duration": 73001,
    "start_time": "2022-05-29T18:06:52.703Z"
   },
   {
    "duration": 4,
    "start_time": "2022-05-29T18:08:05.710Z"
   },
   {
    "duration": 8225,
    "start_time": "2022-05-29T18:08:05.715Z"
   },
   {
    "duration": 2071,
    "start_time": "2022-05-29T18:08:13.941Z"
   },
   {
    "duration": 3,
    "start_time": "2022-05-29T18:08:16.014Z"
   },
   {
    "duration": 4195,
    "start_time": "2022-05-29T18:08:16.018Z"
   },
   {
    "duration": 981,
    "start_time": "2022-05-29T18:08:20.220Z"
   },
   {
    "duration": 7,
    "start_time": "2022-05-29T18:08:21.203Z"
   },
   {
    "duration": 10,
    "start_time": "2022-05-29T18:08:21.212Z"
   },
   {
    "duration": 1803120,
    "start_time": "2022-05-29T18:08:21.223Z"
   },
   {
    "duration": 342647,
    "start_time": "2022-05-29T19:01:10.545Z"
   },
   {
    "duration": 5,
    "start_time": "2022-05-29T19:06:53.199Z"
   },
   {
    "duration": 98,
    "start_time": "2022-05-29T19:06:53.206Z"
   },
   {
    "duration": 11,
    "start_time": "2022-05-29T19:06:53.306Z"
   },
   {
    "duration": 217298,
    "start_time": "2022-05-29T19:06:53.325Z"
   },
   {
    "duration": 3,
    "start_time": "2022-05-29T19:10:30.625Z"
   },
   {
    "duration": 65176,
    "start_time": "2022-05-29T19:10:30.630Z"
   },
   {
    "duration": 8,
    "start_time": "2022-05-29T19:11:35.808Z"
   },
   {
    "duration": 24,
    "start_time": "2022-05-29T19:11:35.818Z"
   },
   {
    "duration": 9,
    "start_time": "2022-05-29T19:11:35.843Z"
   },
   {
    "duration": 8,
    "start_time": "2022-05-29T19:11:35.854Z"
   },
   {
    "duration": 8,
    "start_time": "2022-05-29T19:11:35.863Z"
   },
   {
    "duration": 14,
    "start_time": "2022-05-29T19:11:35.872Z"
   },
   {
    "duration": 139,
    "start_time": "2022-05-29T19:11:35.888Z"
   },
   {
    "duration": 0,
    "start_time": "2022-05-29T19:11:36.028Z"
   },
   {
    "duration": 0,
    "start_time": "2022-05-29T19:11:36.030Z"
   },
   {
    "duration": 0,
    "start_time": "2022-05-29T19:11:36.031Z"
   },
   {
    "duration": 0,
    "start_time": "2022-05-29T19:11:36.032Z"
   },
   {
    "duration": 0,
    "start_time": "2022-05-29T19:11:36.033Z"
   },
   {
    "duration": 0,
    "start_time": "2022-05-29T19:11:36.034Z"
   },
   {
    "duration": 0,
    "start_time": "2022-05-29T19:11:36.035Z"
   },
   {
    "duration": 0,
    "start_time": "2022-05-29T19:11:36.036Z"
   },
   {
    "duration": 0,
    "start_time": "2022-05-29T19:11:36.037Z"
   },
   {
    "duration": 0,
    "start_time": "2022-05-29T19:11:36.038Z"
   },
   {
    "duration": 0,
    "start_time": "2022-05-29T19:11:36.039Z"
   },
   {
    "duration": 0,
    "start_time": "2022-05-29T19:11:36.040Z"
   },
   {
    "duration": 107162,
    "start_time": "2022-05-29T19:11:43.368Z"
   },
   {
    "duration": 243,
    "start_time": "2022-05-29T19:13:30.812Z"
   },
   {
    "duration": 5,
    "start_time": "2022-05-29T19:14:01.524Z"
   },
   {
    "duration": 6,
    "start_time": "2022-05-29T19:14:05.936Z"
   },
   {
    "duration": 6,
    "start_time": "2022-05-29T19:14:06.855Z"
   },
   {
    "duration": 5,
    "start_time": "2022-05-29T19:14:08.678Z"
   },
   {
    "duration": 7,
    "start_time": "2022-05-29T19:14:09.598Z"
   },
   {
    "duration": 17,
    "start_time": "2022-05-29T19:14:11.889Z"
   },
   {
    "duration": 243,
    "start_time": "2022-05-29T19:14:13.421Z"
   },
   {
    "duration": 4,
    "start_time": "2022-05-29T19:14:26.563Z"
   },
   {
    "duration": 279,
    "start_time": "2022-05-29T19:14:28.886Z"
   },
   {
    "duration": 2,
    "start_time": "2022-05-29T19:15:59.281Z"
   },
   {
    "duration": 12,
    "start_time": "2022-05-29T19:15:59.690Z"
   },
   {
    "duration": 3,
    "start_time": "2022-05-29T19:16:01.221Z"
   },
   {
    "duration": 6,
    "start_time": "2022-05-29T19:17:57.477Z"
   },
   {
    "duration": 112961,
    "start_time": "2022-05-29T19:17:57.485Z"
   },
   {
    "duration": 206058,
    "start_time": "2022-05-29T19:19:50.448Z"
   },
   {
    "duration": 20,
    "start_time": "2022-05-29T19:23:16.526Z"
   },
   {
    "duration": 211,
    "start_time": "2022-05-29T19:23:16.547Z"
   },
   {
    "duration": 199,
    "start_time": "2022-05-29T19:23:16.760Z"
   },
   {
    "duration": 5946,
    "start_time": "2022-05-29T19:23:16.961Z"
   },
   {
    "duration": 1635,
    "start_time": "2022-05-29T19:34:59.721Z"
   },
   {
    "duration": 45,
    "start_time": "2022-05-29T19:35:01.359Z"
   },
   {
    "duration": 1361,
    "start_time": "2022-05-29T19:35:01.406Z"
   },
   {
    "duration": 134,
    "start_time": "2022-05-29T19:35:02.769Z"
   },
   {
    "duration": 573,
    "start_time": "2022-05-29T19:35:02.915Z"
   },
   {
    "duration": 141,
    "start_time": "2022-05-29T19:35:03.490Z"
   },
   {
    "duration": 19,
    "start_time": "2022-05-29T19:35:03.640Z"
   },
   {
    "duration": 217,
    "start_time": "2022-05-29T19:35:03.661Z"
   },
   {
    "duration": 27,
    "start_time": "2022-05-29T19:35:03.880Z"
   },
   {
    "duration": 146,
    "start_time": "2022-05-29T19:35:03.909Z"
   },
   {
    "duration": 216,
    "start_time": "2022-05-29T19:35:04.057Z"
   },
   {
    "duration": 196,
    "start_time": "2022-05-29T19:35:04.274Z"
   },
   {
    "duration": 20,
    "start_time": "2022-05-29T19:35:04.472Z"
   },
   {
    "duration": 59,
    "start_time": "2022-05-29T19:35:04.503Z"
   },
   {
    "duration": 198,
    "start_time": "2022-05-29T19:35:04.563Z"
   },
   {
    "duration": 117,
    "start_time": "2022-05-29T19:35:04.763Z"
   },
   {
    "duration": 60,
    "start_time": "2022-05-29T19:35:04.882Z"
   },
   {
    "duration": 38,
    "start_time": "2022-05-29T19:35:04.945Z"
   },
   {
    "duration": 64,
    "start_time": "2022-05-29T19:35:04.985Z"
   },
   {
    "duration": 20,
    "start_time": "2022-05-29T19:35:05.050Z"
   },
   {
    "duration": 14,
    "start_time": "2022-05-29T19:35:05.072Z"
   },
   {
    "duration": 76,
    "start_time": "2022-05-29T19:35:05.095Z"
   },
   {
    "duration": 96,
    "start_time": "2022-05-29T19:35:05.174Z"
   },
   {
    "duration": 50,
    "start_time": "2022-05-29T19:35:05.273Z"
   },
   {
    "duration": 37,
    "start_time": "2022-05-29T19:35:05.325Z"
   },
   {
    "duration": 134,
    "start_time": "2022-05-29T19:35:05.364Z"
   },
   {
    "duration": 17,
    "start_time": "2022-05-29T19:35:05.500Z"
   },
   {
    "duration": 54,
    "start_time": "2022-05-29T19:35:05.520Z"
   },
   {
    "duration": 22,
    "start_time": "2022-05-29T19:35:05.576Z"
   },
   {
    "duration": 90,
    "start_time": "2022-05-29T19:35:05.600Z"
   },
   {
    "duration": 260,
    "start_time": "2022-05-29T19:35:05.692Z"
   },
   {
    "duration": 25,
    "start_time": "2022-05-29T19:35:05.954Z"
   },
   {
    "duration": 402,
    "start_time": "2022-05-29T19:35:05.981Z"
   },
   {
    "duration": 1805,
    "start_time": "2022-05-29T19:35:06.385Z"
   },
   {
    "duration": 62,
    "start_time": "2022-05-29T19:35:08.194Z"
   },
   {
    "duration": 831,
    "start_time": "2022-05-29T19:35:08.259Z"
   },
   {
    "duration": 185,
    "start_time": "2022-05-29T19:35:09.096Z"
   },
   {
    "duration": 353,
    "start_time": "2022-05-29T19:35:09.283Z"
   },
   {
    "duration": 5,
    "start_time": "2022-05-29T19:35:09.642Z"
   },
   {
    "duration": 35,
    "start_time": "2022-05-29T19:35:09.649Z"
   },
   {
    "duration": 373,
    "start_time": "2022-05-29T19:35:09.699Z"
   },
   {
    "duration": 5,
    "start_time": "2022-05-29T19:35:10.073Z"
   },
   {
    "duration": 110,
    "start_time": "2022-05-29T19:35:10.079Z"
   },
   {
    "duration": 375,
    "start_time": "2022-05-29T19:35:10.197Z"
   },
   {
    "duration": 148,
    "start_time": "2022-05-29T19:35:10.573Z"
   },
   {
    "duration": 719,
    "start_time": "2022-05-29T19:35:10.723Z"
   },
   {
    "duration": 13,
    "start_time": "2022-05-29T19:35:11.443Z"
   },
   {
    "duration": 69,
    "start_time": "2022-05-29T19:35:11.458Z"
   },
   {
    "duration": 40,
    "start_time": "2022-05-29T19:35:11.529Z"
   },
   {
    "duration": 89,
    "start_time": "2022-05-29T19:35:11.571Z"
   },
   {
    "duration": 3,
    "start_time": "2022-05-29T19:35:11.661Z"
   },
   {
    "duration": 35857,
    "start_time": "2022-05-29T19:35:11.665Z"
   },
   {
    "duration": 32982,
    "start_time": "2022-05-29T19:35:47.527Z"
   },
   {
    "duration": 74,
    "start_time": "2022-05-29T19:36:20.521Z"
   },
   {
    "duration": 71220,
    "start_time": "2022-05-29T19:36:20.597Z"
   },
   {
    "duration": 7,
    "start_time": "2022-05-29T19:37:31.894Z"
   },
   {
    "duration": 154106,
    "start_time": "2022-05-29T19:37:31.903Z"
   },
   {
    "duration": 48385,
    "start_time": "2022-05-29T19:40:06.012Z"
   },
   {
    "duration": 10,
    "start_time": "2022-05-29T19:40:54.400Z"
   },
   {
    "duration": 101092,
    "start_time": "2022-05-29T19:40:54.413Z"
   },
   {
    "duration": 4,
    "start_time": "2022-05-29T19:42:35.535Z"
   },
   {
    "duration": 11966,
    "start_time": "2022-05-29T19:42:35.541Z"
   },
   {
    "duration": 2644,
    "start_time": "2022-05-29T19:42:47.510Z"
   },
   {
    "duration": 7,
    "start_time": "2022-05-29T19:42:50.157Z"
   },
   {
    "duration": 5122,
    "start_time": "2022-05-29T19:42:50.167Z"
   },
   {
    "duration": 1285,
    "start_time": "2022-05-29T19:42:55.291Z"
   },
   {
    "duration": 3,
    "start_time": "2022-05-29T19:42:56.578Z"
   },
   {
    "duration": 19,
    "start_time": "2022-05-29T19:42:56.583Z"
   },
   {
    "duration": 1976937,
    "start_time": "2022-05-29T19:42:56.604Z"
   },
   {
    "duration": 1529168,
    "start_time": "2022-05-29T20:15:53.542Z"
   },
   {
    "duration": 351635,
    "start_time": "2022-05-29T20:41:22.715Z"
   },
   {
    "duration": 4,
    "start_time": "2022-05-29T20:47:14.352Z"
   },
   {
    "duration": 105,
    "start_time": "2022-05-29T20:47:14.358Z"
   },
   {
    "duration": 2,
    "start_time": "2022-05-29T20:47:14.465Z"
   },
   {
    "duration": 238300,
    "start_time": "2022-05-29T20:47:14.468Z"
   },
   {
    "duration": 3,
    "start_time": "2022-05-29T20:51:12.770Z"
   },
   {
    "duration": 144562,
    "start_time": "2022-05-29T20:51:12.774Z"
   },
   {
    "duration": 391194,
    "start_time": "2022-05-29T20:53:37.340Z"
   },
   {
    "duration": 11,
    "start_time": "2022-05-29T21:00:08.538Z"
   },
   {
    "duration": 12,
    "start_time": "2022-05-29T21:00:08.550Z"
   },
   {
    "duration": 12,
    "start_time": "2022-05-29T21:00:08.563Z"
   },
   {
    "duration": 7,
    "start_time": "2022-05-29T21:00:08.595Z"
   },
   {
    "duration": 49,
    "start_time": "2022-05-29T21:00:08.603Z"
   },
   {
    "duration": 16,
    "start_time": "2022-05-29T21:00:08.654Z"
   },
   {
    "duration": 266,
    "start_time": "2022-05-29T21:00:08.672Z"
   },
   {
    "duration": 5,
    "start_time": "2022-05-29T21:00:08.943Z"
   },
   {
    "duration": 288,
    "start_time": "2022-05-29T21:00:08.949Z"
   },
   {
    "duration": 5,
    "start_time": "2022-05-29T21:00:09.239Z"
   },
   {
    "duration": 14,
    "start_time": "2022-05-29T21:00:09.246Z"
   },
   {
    "duration": 4,
    "start_time": "2022-05-29T21:00:09.262Z"
   },
   {
    "duration": 105295,
    "start_time": "2022-05-29T21:00:09.268Z"
   },
   {
    "duration": 4,
    "start_time": "2022-05-29T21:01:54.564Z"
   },
   {
    "duration": 41,
    "start_time": "2022-05-29T21:01:54.570Z"
   },
   {
    "duration": 161,
    "start_time": "2022-05-29T21:01:54.614Z"
   },
   {
    "duration": 181,
    "start_time": "2022-05-29T21:01:54.777Z"
   },
   {
    "duration": 5039,
    "start_time": "2022-05-29T21:01:54.960Z"
   },
   {
    "duration": 107234,
    "start_time": "2022-05-29T21:11:09.836Z"
   },
   {
    "duration": 4,
    "start_time": "2022-05-29T21:15:01.449Z"
   },
   {
    "duration": 12,
    "start_time": "2022-05-29T21:15:05.080Z"
   },
   {
    "duration": 189,
    "start_time": "2022-05-29T21:15:05.739Z"
   },
   {
    "duration": 193,
    "start_time": "2022-05-29T21:15:12.138Z"
   },
   {
    "duration": 5586,
    "start_time": "2022-05-29T21:16:08.293Z"
   },
   {
    "duration": 4424,
    "start_time": "2022-05-29T21:21:21.489Z"
   },
   {
    "duration": 1141,
    "start_time": "2022-05-30T19:54:12.539Z"
   },
   {
    "duration": 1308,
    "start_time": "2022-05-30T20:37:32.158Z"
   },
   {
    "duration": 91,
    "start_time": "2022-05-30T20:37:33.468Z"
   },
   {
    "duration": 1123,
    "start_time": "2022-05-30T20:37:33.561Z"
   },
   {
    "duration": 123,
    "start_time": "2022-05-30T20:37:34.687Z"
   },
   {
    "duration": 560,
    "start_time": "2022-05-30T20:37:34.812Z"
   },
   {
    "duration": 120,
    "start_time": "2022-05-30T20:37:35.375Z"
   },
   {
    "duration": 41,
    "start_time": "2022-05-30T20:37:35.498Z"
   },
   {
    "duration": 281,
    "start_time": "2022-05-30T20:37:35.542Z"
   },
   {
    "duration": 25,
    "start_time": "2022-05-30T20:37:35.825Z"
   },
   {
    "duration": 145,
    "start_time": "2022-05-30T20:37:35.852Z"
   },
   {
    "duration": 264,
    "start_time": "2022-05-30T20:37:35.999Z"
   },
   {
    "duration": 219,
    "start_time": "2022-05-30T20:37:36.266Z"
   },
   {
    "duration": 19,
    "start_time": "2022-05-30T20:37:36.487Z"
   },
   {
    "duration": 71,
    "start_time": "2022-05-30T20:37:36.509Z"
   },
   {
    "duration": 242,
    "start_time": "2022-05-30T20:37:36.582Z"
   },
   {
    "duration": 114,
    "start_time": "2022-05-30T20:37:36.833Z"
   },
   {
    "duration": 33,
    "start_time": "2022-05-30T20:37:36.949Z"
   },
   {
    "duration": 67,
    "start_time": "2022-05-30T20:37:36.984Z"
   },
   {
    "duration": 57,
    "start_time": "2022-05-30T20:37:37.054Z"
   },
   {
    "duration": 46,
    "start_time": "2022-05-30T20:37:37.116Z"
   },
   {
    "duration": 33,
    "start_time": "2022-05-30T20:37:37.164Z"
   },
   {
    "duration": 71,
    "start_time": "2022-05-30T20:37:37.199Z"
   },
   {
    "duration": 108,
    "start_time": "2022-05-30T20:37:37.272Z"
   },
   {
    "duration": 66,
    "start_time": "2022-05-30T20:37:37.382Z"
   },
   {
    "duration": 37,
    "start_time": "2022-05-30T20:37:37.451Z"
   },
   {
    "duration": 176,
    "start_time": "2022-05-30T20:37:37.490Z"
   },
   {
    "duration": 11,
    "start_time": "2022-05-30T20:37:37.668Z"
   },
   {
    "duration": 22,
    "start_time": "2022-05-30T20:37:37.682Z"
   },
   {
    "duration": 35,
    "start_time": "2022-05-30T20:37:37.706Z"
   },
   {
    "duration": 59,
    "start_time": "2022-05-30T20:37:37.743Z"
   },
   {
    "duration": 208,
    "start_time": "2022-05-30T20:37:37.805Z"
   },
   {
    "duration": 41,
    "start_time": "2022-05-30T20:37:38.017Z"
   },
   {
    "duration": 314,
    "start_time": "2022-05-30T20:37:38.062Z"
   },
   {
    "duration": 1604,
    "start_time": "2022-05-30T20:37:38.379Z"
   },
   {
    "duration": 71,
    "start_time": "2022-05-30T20:37:39.985Z"
   },
   {
    "duration": 773,
    "start_time": "2022-05-30T20:37:40.060Z"
   },
   {
    "duration": 179,
    "start_time": "2022-05-30T20:37:40.834Z"
   },
   {
    "duration": 304,
    "start_time": "2022-05-30T20:37:41.014Z"
   },
   {
    "duration": 11,
    "start_time": "2022-05-30T20:37:41.320Z"
   },
   {
    "duration": 49,
    "start_time": "2022-05-30T20:37:41.333Z"
   },
   {
    "duration": 422,
    "start_time": "2022-05-30T20:37:41.384Z"
   },
   {
    "duration": 10,
    "start_time": "2022-05-30T20:37:41.808Z"
   },
   {
    "duration": 172,
    "start_time": "2022-05-30T20:37:41.826Z"
   },
   {
    "duration": 300,
    "start_time": "2022-05-30T20:37:42.000Z"
   },
   {
    "duration": 148,
    "start_time": "2022-05-30T20:37:42.302Z"
   },
   {
    "duration": 713,
    "start_time": "2022-05-30T20:37:42.451Z"
   },
   {
    "duration": 11,
    "start_time": "2022-05-30T20:37:43.165Z"
   },
   {
    "duration": 81,
    "start_time": "2022-05-30T20:37:43.178Z"
   },
   {
    "duration": 22,
    "start_time": "2022-05-30T20:37:43.261Z"
   },
   {
    "duration": 100,
    "start_time": "2022-05-30T20:37:43.285Z"
   },
   {
    "duration": 6,
    "start_time": "2022-05-30T20:37:43.386Z"
   },
   {
    "duration": 50045,
    "start_time": "2022-05-30T20:37:43.394Z"
   },
   {
    "duration": 37295,
    "start_time": "2022-05-30T20:38:33.441Z"
   },
   {
    "duration": 6,
    "start_time": "2022-05-30T20:39:10.743Z"
   },
   {
    "duration": 110407,
    "start_time": "2022-05-30T20:39:10.752Z"
   },
   {
    "duration": 5,
    "start_time": "2022-05-30T20:41:01.172Z"
   },
   {
    "duration": 195568,
    "start_time": "2022-05-30T20:41:01.180Z"
   },
   {
    "duration": 46391,
    "start_time": "2022-05-30T20:44:16.750Z"
   },
   {
    "duration": 83,
    "start_time": "2022-05-30T20:45:03.145Z"
   },
   {
    "duration": 101430,
    "start_time": "2022-05-30T20:45:03.230Z"
   },
   {
    "duration": 7,
    "start_time": "2022-05-30T20:46:44.730Z"
   },
   {
    "duration": 8538,
    "start_time": "2022-05-30T20:46:44.746Z"
   },
   {
    "duration": 2005,
    "start_time": "2022-05-30T20:46:53.286Z"
   },
   {
    "duration": 3,
    "start_time": "2022-05-30T20:46:55.293Z"
   },
   {
    "duration": 4141,
    "start_time": "2022-05-30T20:46:55.297Z"
   },
   {
    "duration": 1056,
    "start_time": "2022-05-30T20:46:59.442Z"
   },
   {
    "duration": 3,
    "start_time": "2022-05-30T20:47:00.500Z"
   },
   {
    "duration": 15,
    "start_time": "2022-05-30T20:47:00.506Z"
   },
   {
    "duration": 492113,
    "start_time": "2022-05-30T20:47:00.530Z"
   },
   {
    "duration": 1344724,
    "start_time": "2022-05-30T20:55:12.646Z"
   },
   {
    "duration": 211243,
    "start_time": "2022-05-30T21:17:37.371Z"
   },
   {
    "duration": 11,
    "start_time": "2022-05-30T21:21:08.616Z"
   },
   {
    "duration": 86,
    "start_time": "2022-05-30T21:21:08.632Z"
   },
   {
    "duration": 3,
    "start_time": "2022-05-30T21:21:08.720Z"
   },
   {
    "duration": 196149,
    "start_time": "2022-05-30T21:21:08.731Z"
   },
   {
    "duration": 3,
    "start_time": "2022-05-30T21:24:24.881Z"
   },
   {
    "duration": 21266,
    "start_time": "2022-05-30T21:24:24.886Z"
   },
   {
    "duration": 6073,
    "start_time": "2022-05-30T21:24:46.154Z"
   },
   {
    "duration": 4,
    "start_time": "2022-05-30T21:24:52.229Z"
   },
   {
    "duration": 13,
    "start_time": "2022-05-30T21:24:52.235Z"
   },
   {
    "duration": 14,
    "start_time": "2022-05-30T21:24:52.249Z"
   },
   {
    "duration": 10,
    "start_time": "2022-05-30T21:24:52.265Z"
   },
   {
    "duration": 9,
    "start_time": "2022-05-30T21:24:52.277Z"
   },
   {
    "duration": 22,
    "start_time": "2022-05-30T21:24:52.287Z"
   },
   {
    "duration": 224,
    "start_time": "2022-05-30T21:24:52.311Z"
   },
   {
    "duration": 4,
    "start_time": "2022-05-30T21:24:52.536Z"
   },
   {
    "duration": 242,
    "start_time": "2022-05-30T21:24:52.541Z"
   },
   {
    "duration": 3,
    "start_time": "2022-05-30T21:24:52.785Z"
   },
   {
    "duration": 22,
    "start_time": "2022-05-30T21:24:52.789Z"
   },
   {
    "duration": 14,
    "start_time": "2022-05-30T21:24:52.812Z"
   },
   {
    "duration": 67383,
    "start_time": "2022-05-30T21:24:52.828Z"
   },
   {
    "duration": 4,
    "start_time": "2022-05-30T21:26:00.213Z"
   },
   {
    "duration": 21,
    "start_time": "2022-05-30T21:26:00.218Z"
   },
   {
    "duration": 157,
    "start_time": "2022-05-30T21:26:00.241Z"
   },
   {
    "duration": 164,
    "start_time": "2022-05-30T21:26:00.399Z"
   },
   {
    "duration": 4912,
    "start_time": "2022-05-30T21:26:00.565Z"
   },
   {
    "duration": 4036,
    "start_time": "2022-05-30T21:26:05.479Z"
   }
  ],
  "kernelspec": {
   "display_name": "Python 3",
   "language": "python",
   "name": "python3"
  },
  "language_info": {
   "codemirror_mode": {
    "name": "ipython",
    "version": 3
   },
   "file_extension": ".py",
   "mimetype": "text/x-python",
   "name": "python",
   "nbconvert_exporter": "python",
   "pygments_lexer": "ipython3",
   "version": "3.8.8"
  },
  "toc": {
   "base_numbering": 1,
   "nav_menu": {},
   "number_sections": true,
   "sideBar": true,
   "skip_h1_title": true,
   "title_cell": "Table of Contents",
   "title_sidebar": "Contents",
   "toc_cell": false,
   "toc_position": {
    "height": "calc(100% - 180px)",
    "left": "10px",
    "top": "150px",
    "width": "366.4px"
   },
   "toc_section_display": true,
   "toc_window_display": true
  }
 },
 "nbformat": 4,
 "nbformat_minor": 2
}
